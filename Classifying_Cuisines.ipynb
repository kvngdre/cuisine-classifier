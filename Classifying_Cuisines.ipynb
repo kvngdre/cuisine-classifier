{
  "nbformat": 4,
  "nbformat_minor": 0,
  "metadata": {
    "kernelspec": {
      "display_name": "Python 3",
      "language": "python",
      "name": "python3"
    },
    "language_info": {
      "codemirror_mode": {
        "name": "ipython",
        "version": 3
      },
      "file_extension": ".py",
      "mimetype": "text/x-python",
      "name": "python",
      "nbconvert_exporter": "python",
      "pygments_lexer": "ipython3",
      "version": "3.8.5"
    },
    "colab": {
      "name": "Classifying_Cuisines.ipynb",
      "provenance": [],
      "collapsed_sections": []
    }
  },
  "cells": [
    {
      "cell_type": "code",
      "metadata": {
        "id": "WTNgsnvXQu08"
      },
      "source": [
        "import pandas as pd\n",
        "import matplotlib.pyplot as plt\n",
        "import requests\n",
        "from bs4 import BeautifulSoup\n",
        "import plotly.express as px\n",
        "from matplotlib.pyplot import figure\n",
        "import numpy as np"
      ],
      "execution_count": null,
      "outputs": []
    },
    {
      "cell_type": "code",
      "metadata": {
        "id": "qoRvl5VFQu1F"
      },
      "source": [
        "recipes_df = pd.read_csv('https://tinyurl.com/2n9aspp8')"
      ],
      "execution_count": null,
      "outputs": []
    },
    {
      "cell_type": "markdown",
      "metadata": {
        "id": "Wv1Y-QtxbO07"
      },
      "source": [
        "**Pre** **Processing** **the** **data**"
      ]
    },
    {
      "cell_type": "code",
      "metadata": {
        "id": "54f1172a"
      },
      "source": [
        "# Regularize the cuisines to be the \n",
        "recipes_df.Country.replace({'Vietnam': 'Vietnamese', 'India': 'Indian', 'Spanish_Portuguese': 'Portuguese',\n",
        "           'Portugal': 'Portuguese', 'France': 'French', 'Thailand': 'Thai', 'Thailand': 'Thai',\n",
        "           'Scandinavia': 'Scandinavian', 'Mexico': 'Mexican','mexico': 'Mexican', 'China': 'Chinese', 'Germany': 'German',\n",
        "           'Japan': 'Japanese', 'English_Scottish': 'Scottish', 'Asia': 'Asian', 'east_asian': 'East_Asian', \n",
        "            'Canada': 'Canadian', 'Turkey': 'Turkish', 'Bangladesh': 'Bangladeshi', 'Italy': 'Italian', \n",
        "            'Israel': 'Israeli', 'Korea': 'Korean', 'Iran': 'Iranian', \"Eastern-Europe\": \"Eastern_Europe\", \n",
        "            \"UK-and-Ireland\": \"UK_Ireland\", 'Spain': 'Spanish', 'Netherlands': 'Dutch', 'Philippines': 'Filipino',\n",
        "            'Indonesia': 'Indonesian', 'Switzerland': 'Swiss', 'Lebanon': 'Lebanese', 'Malaysia': 'Malaysian',\n",
        "            'Austria': 'Austrian', 'East-african': 'African', 'West-african': 'African', 'South-african': 'African', \n",
        "            'North-african': 'African', 'Middleeastern':'Middle-Eastern', 'Middle-eastern': 'Middle-Eastern',\n",
        "            'Easterneuropean_russian': 'Eastern_european', 'Eastern_europe': 'Eastern_european'}, inplace=True)\n"
      ],
      "execution_count": null,
      "outputs": []
    },
    {
      "cell_type": "code",
      "metadata": {
        "id": "62dE1zTQbm9H"
      },
      "source": [
        "recipes_df.Country = recipes_df.Country.str.capitalize()"
      ],
      "execution_count": null,
      "outputs": []
    },
    {
      "cell_type": "code",
      "metadata": {
        "id": "umYgKRq7bnJ2"
      },
      "source": [
        "recipes_df.columns = recipes_df.columns.str.capitalize()"
      ],
      "execution_count": null,
      "outputs": []
    },
    {
      "cell_type": "code",
      "metadata": {
        "id": "5na9i6DDbnRR"
      },
      "source": [
        "recipes_df.rename(columns={'Country':'Cuisine'}, inplace=True)"
      ],
      "execution_count": null,
      "outputs": []
    },
    {
      "cell_type": "code",
      "metadata": {
        "colab": {
          "base_uri": "https://localhost:8080/"
        },
        "id": "H6xz5O89lYN2",
        "outputId": "721c2144-4b50-4e02-d640-61f6a66c2d12"
      },
      "source": [
        "recipes_df.shape"
      ],
      "execution_count": null,
      "outputs": [
        {
          "output_type": "execute_result",
          "data": {
            "text/plain": [
              "(57691, 384)"
            ]
          },
          "metadata": {},
          "execution_count": 7
        }
      ]
    },
    {
      "cell_type": "code",
      "metadata": {
        "id": "S_-0mbfmbnfo"
      },
      "source": [
        "# To get and drop all receipes with count less than 50\n",
        "recipes_counts = recipes_df['Cuisine'].value_counts()  \n",
        "cuisines_indices = recipes_counts > 50\n",
        "\n",
        "cuisines_to_keep = list(np.array(recipes_counts.index.values)[np.array(cuisines_indices)])\n",
        "\n",
        "new_recipes = recipes_df.loc[recipes_df['Cuisine'].isin(cuisines_to_keep)]  # Dataframe of recipes with count more than 50"
      ],
      "execution_count": null,
      "outputs": []
    },
    {
      "cell_type": "code",
      "metadata": {
        "colab": {
          "base_uri": "https://localhost:8080/"
        },
        "id": "BmvWxUYwbntY",
        "outputId": "abc3e848-c9b2-4f59-95c4-fcb4707097d0"
      },
      "source": [
        "new_recipes.Cuisine.value_counts()"
      ],
      "execution_count": null,
      "outputs": [
        {
          "output_type": "execute_result",
          "data": {
            "text/plain": [
              "American                 40150\n",
              "Italian                   3250\n",
              "Mexican                   2390\n",
              "French                    1264\n",
              "Asian                     1193\n",
              "East_asian                 951\n",
              "Korean                     799\n",
              "Canadian                   774\n",
              "Indian                     598\n",
              "Western                    450\n",
              "Chinese                    442\n",
              "Eastern_european           381\n",
              "Southern_soulfood          346\n",
              "Portuguese                 341\n",
              "Japanese                   320\n",
              "Jewish                     320\n",
              "German                     289\n",
              "Mediterranean              289\n",
              "Thai                       289\n",
              "Uk_ireland                 282\n",
              "Scandinavian               250\n",
              "Middle-eastern             248\n",
              "Central_southamerican      241\n",
              "Greek                      225\n",
              "African                    215\n",
              "Scottish                   204\n",
              "Caribbean                  183\n",
              "Cajun_creole               146\n",
              "Moroccan                   137\n",
              "Southwestern               108\n",
              "South-america              103\n",
              "Vietnamese                  95\n",
              "Irish                       86\n",
              "Spanish                     75\n",
              "Name: Cuisine, dtype: int64"
            ]
          },
          "metadata": {},
          "execution_count": 9
        }
      ]
    },
    {
      "cell_type": "code",
      "metadata": {
        "colab": {
          "base_uri": "https://localhost:8080/"
        },
        "id": "Z9WYVCDfeEEX",
        "outputId": "5e31e70c-d64f-48bb-cec3-dc9615a6d227"
      },
      "source": [
        "# Checking for null values\n",
        "\n",
        "new_recipes.isna().sum().sort_values(ascending=False)"
      ],
      "execution_count": null,
      "outputs": [
        {
          "output_type": "execute_result",
          "data": {
            "text/plain": [
              "Zucchini           0\n",
              "Yogurt             0\n",
              "Egg_noodle         0\n",
              "Elderberry         0\n",
              "Emmental_cheese    0\n",
              "                  ..\n",
              "Pimento            0\n",
              "Pineapple          0\n",
              "Pistachio          0\n",
              "Plum               0\n",
              "Cuisine            0\n",
              "Length: 384, dtype: int64"
            ]
          },
          "metadata": {},
          "execution_count": 10
        }
      ]
    },
    {
      "cell_type": "code",
      "metadata": {
        "colab": {
          "base_uri": "https://localhost:8080/"
        },
        "id": "j27-_F3eeENI",
        "outputId": "e2892f9e-8c2d-4b2d-a967-057faf78b85e"
      },
      "source": [
        "# Encoding the categorial variables\n",
        "\n",
        "new_recipes.replace(to_replace=\"Yes\", value=1, inplace=True)\n",
        "new_recipes.replace(to_replace=\"No\", value=0, inplace=True)"
      ],
      "execution_count": null,
      "outputs": [
        {
          "output_type": "stream",
          "name": "stderr",
          "text": [
            "/usr/local/lib/python3.7/dist-packages/pandas/core/frame.py:4389: SettingWithCopyWarning: \n",
            "A value is trying to be set on a copy of a slice from a DataFrame\n",
            "\n",
            "See the caveats in the documentation: https://pandas.pydata.org/pandas-docs/stable/user_guide/indexing.html#returning-a-view-versus-a-copy\n",
            "  method=method,\n"
          ]
        }
      ]
    },
    {
      "cell_type": "code",
      "metadata": {
        "colab": {
          "base_uri": "https://localhost:8080/",
          "height": 221
        },
        "id": "grvHJ2s4eEV2",
        "outputId": "4a60ab90-939e-4272-f535-a8a0571ec3ce"
      },
      "source": [
        "# To get the top ingredients.\n",
        "\n",
        "ingrid = new_recipes.iloc[:, 1:].sum(axis=0)\n",
        "print(ingrid.sort_values(ascending=False, inplace=True))\n",
        "ing = pd.DataFrame(ingrid).reset_index()\n",
        "ing = ing.rename(columns=({'index': 'Ingredient', 0: 'Count'}))\n",
        "ing.head()"
      ],
      "execution_count": null,
      "outputs": [
        {
          "output_type": "stream",
          "name": "stdout",
          "text": [
            "None\n"
          ]
        },
        {
          "output_type": "execute_result",
          "data": {
            "text/html": [
              "<div>\n",
              "<style scoped>\n",
              "    .dataframe tbody tr th:only-of-type {\n",
              "        vertical-align: middle;\n",
              "    }\n",
              "\n",
              "    .dataframe tbody tr th {\n",
              "        vertical-align: top;\n",
              "    }\n",
              "\n",
              "    .dataframe thead th {\n",
              "        text-align: right;\n",
              "    }\n",
              "</style>\n",
              "<table border=\"1\" class=\"dataframe\">\n",
              "  <thead>\n",
              "    <tr style=\"text-align: right;\">\n",
              "      <th></th>\n",
              "      <th>Ingredient</th>\n",
              "      <th>Count</th>\n",
              "    </tr>\n",
              "  </thead>\n",
              "  <tbody>\n",
              "    <tr>\n",
              "      <th>0</th>\n",
              "      <td>Egg</td>\n",
              "      <td>21029</td>\n",
              "    </tr>\n",
              "    <tr>\n",
              "      <th>1</th>\n",
              "      <td>Wheat</td>\n",
              "      <td>20784</td>\n",
              "    </tr>\n",
              "    <tr>\n",
              "      <th>2</th>\n",
              "      <td>Butter</td>\n",
              "      <td>20723</td>\n",
              "    </tr>\n",
              "    <tr>\n",
              "      <th>3</th>\n",
              "      <td>Onion</td>\n",
              "      <td>18105</td>\n",
              "    </tr>\n",
              "    <tr>\n",
              "      <th>4</th>\n",
              "      <td>Garlic</td>\n",
              "      <td>17363</td>\n",
              "    </tr>\n",
              "  </tbody>\n",
              "</table>\n",
              "</div>"
            ],
            "text/plain": [
              "  Ingredient  Count\n",
              "0        Egg  21029\n",
              "1      Wheat  20784\n",
              "2     Butter  20723\n",
              "3      Onion  18105\n",
              "4     Garlic  17363"
            ]
          },
          "metadata": {},
          "execution_count": 12
        }
      ]
    },
    {
      "cell_type": "code",
      "metadata": {
        "colab": {
          "base_uri": "https://localhost:8080/",
          "height": 439
        },
        "id": "Mblx64S7eErR",
        "outputId": "32e19bbe-4a19-422f-ade5-91917c8cbaf8"
      },
      "source": [
        "# How much does each ingredient contribute to a cuisine\n",
        "# For Africans, Almond represents 12.09%\n",
        "\n",
        "cuisines = new_recipes.groupby('Cuisine').mean().head(10)\n",
        "cuisines * 100"
      ],
      "execution_count": null,
      "outputs": [
        {
          "output_type": "execute_result",
          "data": {
            "text/html": [
              "<div>\n",
              "<style scoped>\n",
              "    .dataframe tbody tr th:only-of-type {\n",
              "        vertical-align: middle;\n",
              "    }\n",
              "\n",
              "    .dataframe tbody tr th {\n",
              "        vertical-align: top;\n",
              "    }\n",
              "\n",
              "    .dataframe thead th {\n",
              "        text-align: right;\n",
              "    }\n",
              "</style>\n",
              "<table border=\"1\" class=\"dataframe\">\n",
              "  <thead>\n",
              "    <tr style=\"text-align: right;\">\n",
              "      <th></th>\n",
              "      <th>Almond</th>\n",
              "      <th>Angelica</th>\n",
              "      <th>Anise</th>\n",
              "      <th>Anise_seed</th>\n",
              "      <th>Apple</th>\n",
              "      <th>Apple_brandy</th>\n",
              "      <th>Apricot</th>\n",
              "      <th>Armagnac</th>\n",
              "      <th>Artemisia</th>\n",
              "      <th>Artichoke</th>\n",
              "      <th>Asparagus</th>\n",
              "      <th>Avocado</th>\n",
              "      <th>Bacon</th>\n",
              "      <th>Baked_potato</th>\n",
              "      <th>Balm</th>\n",
              "      <th>Banana</th>\n",
              "      <th>Barley</th>\n",
              "      <th>Bartlett_pear</th>\n",
              "      <th>Basil</th>\n",
              "      <th>Bay</th>\n",
              "      <th>Bean</th>\n",
              "      <th>Beech</th>\n",
              "      <th>Beef</th>\n",
              "      <th>Beef_broth</th>\n",
              "      <th>Beef_liver</th>\n",
              "      <th>Beer</th>\n",
              "      <th>Beet</th>\n",
              "      <th>Bell_pepper</th>\n",
              "      <th>Bergamot</th>\n",
              "      <th>Berry</th>\n",
              "      <th>Bitter_orange</th>\n",
              "      <th>Black_bean</th>\n",
              "      <th>Black_currant</th>\n",
              "      <th>Black_mustard_seed_oil</th>\n",
              "      <th>Black_pepper</th>\n",
              "      <th>Black_raspberry</th>\n",
              "      <th>Black_sesame_seed</th>\n",
              "      <th>Black_tea</th>\n",
              "      <th>Blackberry</th>\n",
              "      <th>Blackberry_brandy</th>\n",
              "      <th>...</th>\n",
              "      <th>Sunflower_oil</th>\n",
              "      <th>Sweet_potato</th>\n",
              "      <th>Swiss_cheese</th>\n",
              "      <th>Tabasco_pepper</th>\n",
              "      <th>Tamarind</th>\n",
              "      <th>Tangerine</th>\n",
              "      <th>Tarragon</th>\n",
              "      <th>Tea</th>\n",
              "      <th>Tequila</th>\n",
              "      <th>Thai_pepper</th>\n",
              "      <th>Thyme</th>\n",
              "      <th>Tomato</th>\n",
              "      <th>Tomato_juice</th>\n",
              "      <th>Truffle</th>\n",
              "      <th>Tuna</th>\n",
              "      <th>Turkey</th>\n",
              "      <th>Turmeric</th>\n",
              "      <th>Turnip</th>\n",
              "      <th>Vanilla</th>\n",
              "      <th>Veal</th>\n",
              "      <th>Vegetable</th>\n",
              "      <th>Vegetable_oil</th>\n",
              "      <th>Vinegar</th>\n",
              "      <th>Violet</th>\n",
              "      <th>Walnut</th>\n",
              "      <th>Wasabi</th>\n",
              "      <th>Watercress</th>\n",
              "      <th>Watermelon</th>\n",
              "      <th>Wheat</th>\n",
              "      <th>Wheat_bread</th>\n",
              "      <th>Whiskey</th>\n",
              "      <th>White_bread</th>\n",
              "      <th>White_wine</th>\n",
              "      <th>Whole_grain_wheat_flour</th>\n",
              "      <th>Wine</th>\n",
              "      <th>Wood</th>\n",
              "      <th>Yam</th>\n",
              "      <th>Yeast</th>\n",
              "      <th>Yogurt</th>\n",
              "      <th>Zucchini</th>\n",
              "    </tr>\n",
              "    <tr>\n",
              "      <th>Cuisine</th>\n",
              "      <th></th>\n",
              "      <th></th>\n",
              "      <th></th>\n",
              "      <th></th>\n",
              "      <th></th>\n",
              "      <th></th>\n",
              "      <th></th>\n",
              "      <th></th>\n",
              "      <th></th>\n",
              "      <th></th>\n",
              "      <th></th>\n",
              "      <th></th>\n",
              "      <th></th>\n",
              "      <th></th>\n",
              "      <th></th>\n",
              "      <th></th>\n",
              "      <th></th>\n",
              "      <th></th>\n",
              "      <th></th>\n",
              "      <th></th>\n",
              "      <th></th>\n",
              "      <th></th>\n",
              "      <th></th>\n",
              "      <th></th>\n",
              "      <th></th>\n",
              "      <th></th>\n",
              "      <th></th>\n",
              "      <th></th>\n",
              "      <th></th>\n",
              "      <th></th>\n",
              "      <th></th>\n",
              "      <th></th>\n",
              "      <th></th>\n",
              "      <th></th>\n",
              "      <th></th>\n",
              "      <th></th>\n",
              "      <th></th>\n",
              "      <th></th>\n",
              "      <th></th>\n",
              "      <th></th>\n",
              "      <th></th>\n",
              "      <th></th>\n",
              "      <th></th>\n",
              "      <th></th>\n",
              "      <th></th>\n",
              "      <th></th>\n",
              "      <th></th>\n",
              "      <th></th>\n",
              "      <th></th>\n",
              "      <th></th>\n",
              "      <th></th>\n",
              "      <th></th>\n",
              "      <th></th>\n",
              "      <th></th>\n",
              "      <th></th>\n",
              "      <th></th>\n",
              "      <th></th>\n",
              "      <th></th>\n",
              "      <th></th>\n",
              "      <th></th>\n",
              "      <th></th>\n",
              "      <th></th>\n",
              "      <th></th>\n",
              "      <th></th>\n",
              "      <th></th>\n",
              "      <th></th>\n",
              "      <th></th>\n",
              "      <th></th>\n",
              "      <th></th>\n",
              "      <th></th>\n",
              "      <th></th>\n",
              "      <th></th>\n",
              "      <th></th>\n",
              "      <th></th>\n",
              "      <th></th>\n",
              "      <th></th>\n",
              "      <th></th>\n",
              "      <th></th>\n",
              "      <th></th>\n",
              "      <th></th>\n",
              "      <th></th>\n",
              "    </tr>\n",
              "  </thead>\n",
              "  <tbody>\n",
              "    <tr>\n",
              "      <th>African</th>\n",
              "      <td>12.093023</td>\n",
              "      <td>0.000000</td>\n",
              "      <td>0.465116</td>\n",
              "      <td>0.000000</td>\n",
              "      <td>2.325581</td>\n",
              "      <td>0.000000</td>\n",
              "      <td>7.441860</td>\n",
              "      <td>0.000000</td>\n",
              "      <td>0.000000</td>\n",
              "      <td>0.000000</td>\n",
              "      <td>0.000000</td>\n",
              "      <td>0.465116</td>\n",
              "      <td>0.465116</td>\n",
              "      <td>0.000000</td>\n",
              "      <td>0.000000</td>\n",
              "      <td>1.395349</td>\n",
              "      <td>0.930233</td>\n",
              "      <td>0.000000</td>\n",
              "      <td>0.930233</td>\n",
              "      <td>5.581395</td>\n",
              "      <td>3.255814</td>\n",
              "      <td>0.0</td>\n",
              "      <td>8.837209</td>\n",
              "      <td>1.860465</td>\n",
              "      <td>0.000000</td>\n",
              "      <td>0.000000</td>\n",
              "      <td>0.465116</td>\n",
              "      <td>27.441860</td>\n",
              "      <td>0.000000</td>\n",
              "      <td>0.000000</td>\n",
              "      <td>0.000000</td>\n",
              "      <td>0.465116</td>\n",
              "      <td>0.000000</td>\n",
              "      <td>0.000000</td>\n",
              "      <td>28.837209</td>\n",
              "      <td>0.000000</td>\n",
              "      <td>0.00000</td>\n",
              "      <td>0.000000</td>\n",
              "      <td>0.000000</td>\n",
              "      <td>0.000000</td>\n",
              "      <td>...</td>\n",
              "      <td>0.465116</td>\n",
              "      <td>4.186047</td>\n",
              "      <td>0.000000</td>\n",
              "      <td>0.465116</td>\n",
              "      <td>1.395349</td>\n",
              "      <td>0.000000</td>\n",
              "      <td>0.000000</td>\n",
              "      <td>0.000000</td>\n",
              "      <td>0.000000</td>\n",
              "      <td>0.465116</td>\n",
              "      <td>4.651163</td>\n",
              "      <td>31.162791</td>\n",
              "      <td>0.000000</td>\n",
              "      <td>0.000000</td>\n",
              "      <td>0.930233</td>\n",
              "      <td>0.465116</td>\n",
              "      <td>17.674419</td>\n",
              "      <td>2.790698</td>\n",
              "      <td>3.720930</td>\n",
              "      <td>0.000000</td>\n",
              "      <td>4.651163</td>\n",
              "      <td>21.860465</td>\n",
              "      <td>8.372093</td>\n",
              "      <td>0.000000</td>\n",
              "      <td>2.790698</td>\n",
              "      <td>0.000000</td>\n",
              "      <td>0.000000</td>\n",
              "      <td>0.000000</td>\n",
              "      <td>26.511628</td>\n",
              "      <td>0.465116</td>\n",
              "      <td>0.000000</td>\n",
              "      <td>0.930233</td>\n",
              "      <td>2.325581</td>\n",
              "      <td>0.930233</td>\n",
              "      <td>0.930233</td>\n",
              "      <td>0.000000</td>\n",
              "      <td>0.465116</td>\n",
              "      <td>2.325581</td>\n",
              "      <td>1.860465</td>\n",
              "      <td>6.046512</td>\n",
              "    </tr>\n",
              "    <tr>\n",
              "      <th>American</th>\n",
              "      <td>4.059776</td>\n",
              "      <td>0.002491</td>\n",
              "      <td>0.301370</td>\n",
              "      <td>0.057285</td>\n",
              "      <td>5.205479</td>\n",
              "      <td>0.062267</td>\n",
              "      <td>1.130760</td>\n",
              "      <td>0.009963</td>\n",
              "      <td>0.000000</td>\n",
              "      <td>0.635118</td>\n",
              "      <td>0.752179</td>\n",
              "      <td>0.732254</td>\n",
              "      <td>4.122042</td>\n",
              "      <td>0.019925</td>\n",
              "      <td>0.007472</td>\n",
              "      <td>2.159402</td>\n",
              "      <td>0.388543</td>\n",
              "      <td>0.042341</td>\n",
              "      <td>5.865504</td>\n",
              "      <td>2.069738</td>\n",
              "      <td>2.876712</td>\n",
              "      <td>0.0</td>\n",
              "      <td>7.511831</td>\n",
              "      <td>0.998755</td>\n",
              "      <td>0.017435</td>\n",
              "      <td>0.542964</td>\n",
              "      <td>0.368618</td>\n",
              "      <td>8.784558</td>\n",
              "      <td>0.014944</td>\n",
              "      <td>0.383562</td>\n",
              "      <td>0.124533</td>\n",
              "      <td>0.513076</td>\n",
              "      <td>0.019925</td>\n",
              "      <td>0.004981</td>\n",
              "      <td>14.762142</td>\n",
              "      <td>0.019925</td>\n",
              "      <td>0.00000</td>\n",
              "      <td>0.057285</td>\n",
              "      <td>0.346202</td>\n",
              "      <td>0.007472</td>\n",
              "      <td>...</td>\n",
              "      <td>0.002491</td>\n",
              "      <td>1.018680</td>\n",
              "      <td>1.123288</td>\n",
              "      <td>1.835616</td>\n",
              "      <td>3.377335</td>\n",
              "      <td>0.052304</td>\n",
              "      <td>0.869240</td>\n",
              "      <td>0.179328</td>\n",
              "      <td>0.176837</td>\n",
              "      <td>0.064757</td>\n",
              "      <td>5.232877</td>\n",
              "      <td>13.867995</td>\n",
              "      <td>0.321295</td>\n",
              "      <td>0.059776</td>\n",
              "      <td>0.779577</td>\n",
              "      <td>1.775841</td>\n",
              "      <td>1.466999</td>\n",
              "      <td>0.251557</td>\n",
              "      <td>19.706102</td>\n",
              "      <td>0.169365</td>\n",
              "      <td>1.930262</td>\n",
              "      <td>18.739726</td>\n",
              "      <td>13.549191</td>\n",
              "      <td>0.009963</td>\n",
              "      <td>5.995019</td>\n",
              "      <td>0.109589</td>\n",
              "      <td>0.209215</td>\n",
              "      <td>0.216687</td>\n",
              "      <td>39.840598</td>\n",
              "      <td>0.156912</td>\n",
              "      <td>0.296389</td>\n",
              "      <td>0.687422</td>\n",
              "      <td>3.080946</td>\n",
              "      <td>1.481943</td>\n",
              "      <td>1.100872</td>\n",
              "      <td>0.067248</td>\n",
              "      <td>0.144458</td>\n",
              "      <td>6.821918</td>\n",
              "      <td>1.691158</td>\n",
              "      <td>1.863014</td>\n",
              "    </tr>\n",
              "    <tr>\n",
              "      <th>Asian</th>\n",
              "      <td>0.754401</td>\n",
              "      <td>0.000000</td>\n",
              "      <td>0.083822</td>\n",
              "      <td>0.251467</td>\n",
              "      <td>1.257334</td>\n",
              "      <td>0.000000</td>\n",
              "      <td>0.502934</td>\n",
              "      <td>0.000000</td>\n",
              "      <td>0.000000</td>\n",
              "      <td>0.000000</td>\n",
              "      <td>1.927913</td>\n",
              "      <td>1.089690</td>\n",
              "      <td>1.341157</td>\n",
              "      <td>0.000000</td>\n",
              "      <td>0.000000</td>\n",
              "      <td>0.670578</td>\n",
              "      <td>2.933780</td>\n",
              "      <td>0.000000</td>\n",
              "      <td>5.532272</td>\n",
              "      <td>1.173512</td>\n",
              "      <td>8.382230</td>\n",
              "      <td>0.0</td>\n",
              "      <td>10.393965</td>\n",
              "      <td>1.257334</td>\n",
              "      <td>0.000000</td>\n",
              "      <td>0.419111</td>\n",
              "      <td>0.083822</td>\n",
              "      <td>13.327745</td>\n",
              "      <td>0.000000</td>\n",
              "      <td>0.083822</td>\n",
              "      <td>0.167645</td>\n",
              "      <td>1.760268</td>\n",
              "      <td>0.000000</td>\n",
              "      <td>0.167645</td>\n",
              "      <td>11.818944</td>\n",
              "      <td>0.000000</td>\n",
              "      <td>0.00000</td>\n",
              "      <td>0.586756</td>\n",
              "      <td>0.083822</td>\n",
              "      <td>0.000000</td>\n",
              "      <td>...</td>\n",
              "      <td>0.000000</td>\n",
              "      <td>1.089690</td>\n",
              "      <td>0.083822</td>\n",
              "      <td>1.005868</td>\n",
              "      <td>1.592624</td>\n",
              "      <td>0.670578</td>\n",
              "      <td>0.167645</td>\n",
              "      <td>0.670578</td>\n",
              "      <td>0.000000</td>\n",
              "      <td>4.191115</td>\n",
              "      <td>0.419111</td>\n",
              "      <td>5.783738</td>\n",
              "      <td>0.000000</td>\n",
              "      <td>0.000000</td>\n",
              "      <td>1.676446</td>\n",
              "      <td>0.670578</td>\n",
              "      <td>8.046940</td>\n",
              "      <td>0.419111</td>\n",
              "      <td>1.257334</td>\n",
              "      <td>0.083822</td>\n",
              "      <td>3.772003</td>\n",
              "      <td>36.043588</td>\n",
              "      <td>33.696563</td>\n",
              "      <td>0.000000</td>\n",
              "      <td>0.419111</td>\n",
              "      <td>2.682313</td>\n",
              "      <td>1.508801</td>\n",
              "      <td>0.167645</td>\n",
              "      <td>9.555742</td>\n",
              "      <td>0.083822</td>\n",
              "      <td>0.083822</td>\n",
              "      <td>0.167645</td>\n",
              "      <td>3.855826</td>\n",
              "      <td>0.167645</td>\n",
              "      <td>12.489522</td>\n",
              "      <td>0.000000</td>\n",
              "      <td>0.167645</td>\n",
              "      <td>0.419111</td>\n",
              "      <td>1.089690</td>\n",
              "      <td>1.173512</td>\n",
              "    </tr>\n",
              "    <tr>\n",
              "      <th>Cajun_creole</th>\n",
              "      <td>0.000000</td>\n",
              "      <td>0.000000</td>\n",
              "      <td>0.000000</td>\n",
              "      <td>0.000000</td>\n",
              "      <td>0.684932</td>\n",
              "      <td>0.000000</td>\n",
              "      <td>0.000000</td>\n",
              "      <td>0.000000</td>\n",
              "      <td>0.000000</td>\n",
              "      <td>0.000000</td>\n",
              "      <td>0.000000</td>\n",
              "      <td>0.684932</td>\n",
              "      <td>2.054795</td>\n",
              "      <td>0.000000</td>\n",
              "      <td>0.000000</td>\n",
              "      <td>0.684932</td>\n",
              "      <td>0.000000</td>\n",
              "      <td>0.000000</td>\n",
              "      <td>2.739726</td>\n",
              "      <td>23.287671</td>\n",
              "      <td>0.684932</td>\n",
              "      <td>0.0</td>\n",
              "      <td>14.383562</td>\n",
              "      <td>2.739726</td>\n",
              "      <td>0.000000</td>\n",
              "      <td>0.000000</td>\n",
              "      <td>1.369863</td>\n",
              "      <td>34.246575</td>\n",
              "      <td>0.000000</td>\n",
              "      <td>0.000000</td>\n",
              "      <td>0.000000</td>\n",
              "      <td>0.000000</td>\n",
              "      <td>0.000000</td>\n",
              "      <td>0.000000</td>\n",
              "      <td>32.876712</td>\n",
              "      <td>0.000000</td>\n",
              "      <td>0.00000</td>\n",
              "      <td>0.000000</td>\n",
              "      <td>0.000000</td>\n",
              "      <td>0.000000</td>\n",
              "      <td>...</td>\n",
              "      <td>0.000000</td>\n",
              "      <td>1.369863</td>\n",
              "      <td>0.000000</td>\n",
              "      <td>13.698630</td>\n",
              "      <td>7.534247</td>\n",
              "      <td>0.000000</td>\n",
              "      <td>1.369863</td>\n",
              "      <td>0.000000</td>\n",
              "      <td>0.000000</td>\n",
              "      <td>0.000000</td>\n",
              "      <td>32.876712</td>\n",
              "      <td>31.506849</td>\n",
              "      <td>0.000000</td>\n",
              "      <td>0.000000</td>\n",
              "      <td>0.684932</td>\n",
              "      <td>3.424658</td>\n",
              "      <td>0.000000</td>\n",
              "      <td>1.369863</td>\n",
              "      <td>4.109589</td>\n",
              "      <td>1.369863</td>\n",
              "      <td>2.739726</td>\n",
              "      <td>34.246575</td>\n",
              "      <td>21.917808</td>\n",
              "      <td>0.000000</td>\n",
              "      <td>0.000000</td>\n",
              "      <td>0.000000</td>\n",
              "      <td>2.054795</td>\n",
              "      <td>0.000000</td>\n",
              "      <td>30.821918</td>\n",
              "      <td>0.000000</td>\n",
              "      <td>0.000000</td>\n",
              "      <td>0.684932</td>\n",
              "      <td>8.219178</td>\n",
              "      <td>0.000000</td>\n",
              "      <td>19.178082</td>\n",
              "      <td>0.000000</td>\n",
              "      <td>0.684932</td>\n",
              "      <td>3.424658</td>\n",
              "      <td>0.684932</td>\n",
              "      <td>0.000000</td>\n",
              "    </tr>\n",
              "    <tr>\n",
              "      <th>Canadian</th>\n",
              "      <td>3.617571</td>\n",
              "      <td>0.000000</td>\n",
              "      <td>0.000000</td>\n",
              "      <td>0.000000</td>\n",
              "      <td>3.617571</td>\n",
              "      <td>0.000000</td>\n",
              "      <td>0.258398</td>\n",
              "      <td>0.000000</td>\n",
              "      <td>0.000000</td>\n",
              "      <td>0.129199</td>\n",
              "      <td>0.775194</td>\n",
              "      <td>0.904393</td>\n",
              "      <td>3.229974</td>\n",
              "      <td>0.000000</td>\n",
              "      <td>0.000000</td>\n",
              "      <td>2.067183</td>\n",
              "      <td>0.775194</td>\n",
              "      <td>0.000000</td>\n",
              "      <td>6.072351</td>\n",
              "      <td>2.842377</td>\n",
              "      <td>1.937984</td>\n",
              "      <td>0.0</td>\n",
              "      <td>8.656331</td>\n",
              "      <td>0.904393</td>\n",
              "      <td>0.000000</td>\n",
              "      <td>1.033592</td>\n",
              "      <td>0.258398</td>\n",
              "      <td>10.077519</td>\n",
              "      <td>0.000000</td>\n",
              "      <td>0.387597</td>\n",
              "      <td>0.129199</td>\n",
              "      <td>0.775194</td>\n",
              "      <td>0.000000</td>\n",
              "      <td>0.129199</td>\n",
              "      <td>20.930233</td>\n",
              "      <td>0.000000</td>\n",
              "      <td>0.00000</td>\n",
              "      <td>0.129199</td>\n",
              "      <td>0.258398</td>\n",
              "      <td>0.000000</td>\n",
              "      <td>...</td>\n",
              "      <td>0.000000</td>\n",
              "      <td>0.645995</td>\n",
              "      <td>0.904393</td>\n",
              "      <td>3.100775</td>\n",
              "      <td>4.651163</td>\n",
              "      <td>0.000000</td>\n",
              "      <td>0.516796</td>\n",
              "      <td>0.645995</td>\n",
              "      <td>0.000000</td>\n",
              "      <td>0.387597</td>\n",
              "      <td>6.201550</td>\n",
              "      <td>17.054264</td>\n",
              "      <td>0.387597</td>\n",
              "      <td>0.000000</td>\n",
              "      <td>0.516796</td>\n",
              "      <td>0.645995</td>\n",
              "      <td>3.875969</td>\n",
              "      <td>0.645995</td>\n",
              "      <td>17.829457</td>\n",
              "      <td>0.258398</td>\n",
              "      <td>2.067183</td>\n",
              "      <td>18.733850</td>\n",
              "      <td>15.633075</td>\n",
              "      <td>0.000000</td>\n",
              "      <td>4.134367</td>\n",
              "      <td>0.000000</td>\n",
              "      <td>0.129199</td>\n",
              "      <td>0.000000</td>\n",
              "      <td>39.534884</td>\n",
              "      <td>0.516796</td>\n",
              "      <td>0.258398</td>\n",
              "      <td>0.387597</td>\n",
              "      <td>2.971576</td>\n",
              "      <td>2.067183</td>\n",
              "      <td>0.387597</td>\n",
              "      <td>0.000000</td>\n",
              "      <td>0.129199</td>\n",
              "      <td>6.718346</td>\n",
              "      <td>1.937984</td>\n",
              "      <td>1.162791</td>\n",
              "    </tr>\n",
              "    <tr>\n",
              "      <th>Caribbean</th>\n",
              "      <td>1.639344</td>\n",
              "      <td>0.000000</td>\n",
              "      <td>1.092896</td>\n",
              "      <td>0.000000</td>\n",
              "      <td>1.092896</td>\n",
              "      <td>0.000000</td>\n",
              "      <td>0.000000</td>\n",
              "      <td>0.000000</td>\n",
              "      <td>0.000000</td>\n",
              "      <td>0.000000</td>\n",
              "      <td>0.000000</td>\n",
              "      <td>2.732240</td>\n",
              "      <td>4.918033</td>\n",
              "      <td>0.000000</td>\n",
              "      <td>0.000000</td>\n",
              "      <td>6.010929</td>\n",
              "      <td>0.000000</td>\n",
              "      <td>0.000000</td>\n",
              "      <td>2.185792</td>\n",
              "      <td>5.464481</td>\n",
              "      <td>5.464481</td>\n",
              "      <td>0.0</td>\n",
              "      <td>10.928962</td>\n",
              "      <td>1.639344</td>\n",
              "      <td>0.000000</td>\n",
              "      <td>2.732240</td>\n",
              "      <td>0.000000</td>\n",
              "      <td>21.857923</td>\n",
              "      <td>0.000000</td>\n",
              "      <td>0.000000</td>\n",
              "      <td>0.546448</td>\n",
              "      <td>5.464481</td>\n",
              "      <td>0.000000</td>\n",
              "      <td>0.000000</td>\n",
              "      <td>31.147541</td>\n",
              "      <td>0.000000</td>\n",
              "      <td>0.00000</td>\n",
              "      <td>0.000000</td>\n",
              "      <td>0.000000</td>\n",
              "      <td>0.000000</td>\n",
              "      <td>...</td>\n",
              "      <td>0.000000</td>\n",
              "      <td>2.185792</td>\n",
              "      <td>1.092896</td>\n",
              "      <td>2.732240</td>\n",
              "      <td>2.732240</td>\n",
              "      <td>0.000000</td>\n",
              "      <td>0.000000</td>\n",
              "      <td>0.000000</td>\n",
              "      <td>0.000000</td>\n",
              "      <td>0.000000</td>\n",
              "      <td>13.114754</td>\n",
              "      <td>30.054645</td>\n",
              "      <td>0.000000</td>\n",
              "      <td>0.000000</td>\n",
              "      <td>0.546448</td>\n",
              "      <td>1.639344</td>\n",
              "      <td>5.464481</td>\n",
              "      <td>0.546448</td>\n",
              "      <td>7.103825</td>\n",
              "      <td>0.000000</td>\n",
              "      <td>1.092896</td>\n",
              "      <td>31.147541</td>\n",
              "      <td>18.579235</td>\n",
              "      <td>0.000000</td>\n",
              "      <td>0.546448</td>\n",
              "      <td>0.000000</td>\n",
              "      <td>0.000000</td>\n",
              "      <td>0.000000</td>\n",
              "      <td>14.754098</td>\n",
              "      <td>0.000000</td>\n",
              "      <td>0.000000</td>\n",
              "      <td>0.000000</td>\n",
              "      <td>6.010929</td>\n",
              "      <td>0.546448</td>\n",
              "      <td>0.000000</td>\n",
              "      <td>0.000000</td>\n",
              "      <td>0.000000</td>\n",
              "      <td>2.732240</td>\n",
              "      <td>1.092896</td>\n",
              "      <td>1.639344</td>\n",
              "    </tr>\n",
              "    <tr>\n",
              "      <th>Central_southamerican</th>\n",
              "      <td>5.394191</td>\n",
              "      <td>0.000000</td>\n",
              "      <td>0.000000</td>\n",
              "      <td>2.074689</td>\n",
              "      <td>0.000000</td>\n",
              "      <td>0.000000</td>\n",
              "      <td>0.000000</td>\n",
              "      <td>0.000000</td>\n",
              "      <td>0.000000</td>\n",
              "      <td>0.000000</td>\n",
              "      <td>0.000000</td>\n",
              "      <td>13.278008</td>\n",
              "      <td>2.904564</td>\n",
              "      <td>0.000000</td>\n",
              "      <td>0.000000</td>\n",
              "      <td>1.659751</td>\n",
              "      <td>0.000000</td>\n",
              "      <td>0.000000</td>\n",
              "      <td>0.414938</td>\n",
              "      <td>5.809129</td>\n",
              "      <td>4.564315</td>\n",
              "      <td>0.0</td>\n",
              "      <td>10.788382</td>\n",
              "      <td>0.414938</td>\n",
              "      <td>0.000000</td>\n",
              "      <td>0.829876</td>\n",
              "      <td>0.000000</td>\n",
              "      <td>16.597510</td>\n",
              "      <td>0.000000</td>\n",
              "      <td>0.000000</td>\n",
              "      <td>0.829876</td>\n",
              "      <td>4.149378</td>\n",
              "      <td>0.000000</td>\n",
              "      <td>0.000000</td>\n",
              "      <td>17.842324</td>\n",
              "      <td>0.000000</td>\n",
              "      <td>0.00000</td>\n",
              "      <td>0.000000</td>\n",
              "      <td>0.000000</td>\n",
              "      <td>0.000000</td>\n",
              "      <td>...</td>\n",
              "      <td>0.000000</td>\n",
              "      <td>0.414938</td>\n",
              "      <td>0.000000</td>\n",
              "      <td>0.414938</td>\n",
              "      <td>2.074689</td>\n",
              "      <td>0.414938</td>\n",
              "      <td>0.000000</td>\n",
              "      <td>0.000000</td>\n",
              "      <td>0.829876</td>\n",
              "      <td>0.000000</td>\n",
              "      <td>1.659751</td>\n",
              "      <td>41.493776</td>\n",
              "      <td>0.000000</td>\n",
              "      <td>0.000000</td>\n",
              "      <td>0.829876</td>\n",
              "      <td>0.829876</td>\n",
              "      <td>0.829876</td>\n",
              "      <td>0.000000</td>\n",
              "      <td>7.468880</td>\n",
              "      <td>0.414938</td>\n",
              "      <td>1.659751</td>\n",
              "      <td>20.746888</td>\n",
              "      <td>17.012448</td>\n",
              "      <td>0.000000</td>\n",
              "      <td>0.414938</td>\n",
              "      <td>0.000000</td>\n",
              "      <td>0.414938</td>\n",
              "      <td>0.414938</td>\n",
              "      <td>19.502075</td>\n",
              "      <td>0.000000</td>\n",
              "      <td>0.000000</td>\n",
              "      <td>0.414938</td>\n",
              "      <td>2.074689</td>\n",
              "      <td>0.000000</td>\n",
              "      <td>0.829876</td>\n",
              "      <td>0.000000</td>\n",
              "      <td>0.000000</td>\n",
              "      <td>2.904564</td>\n",
              "      <td>0.414938</td>\n",
              "      <td>1.659751</td>\n",
              "    </tr>\n",
              "    <tr>\n",
              "      <th>Chinese</th>\n",
              "      <td>2.488688</td>\n",
              "      <td>0.000000</td>\n",
              "      <td>0.000000</td>\n",
              "      <td>0.904977</td>\n",
              "      <td>0.452489</td>\n",
              "      <td>0.000000</td>\n",
              "      <td>0.678733</td>\n",
              "      <td>0.000000</td>\n",
              "      <td>0.000000</td>\n",
              "      <td>0.000000</td>\n",
              "      <td>0.904977</td>\n",
              "      <td>0.000000</td>\n",
              "      <td>2.036199</td>\n",
              "      <td>0.000000</td>\n",
              "      <td>0.000000</td>\n",
              "      <td>0.678733</td>\n",
              "      <td>0.452489</td>\n",
              "      <td>0.000000</td>\n",
              "      <td>0.452489</td>\n",
              "      <td>0.000000</td>\n",
              "      <td>10.859729</td>\n",
              "      <td>0.0</td>\n",
              "      <td>9.954751</td>\n",
              "      <td>6.334842</td>\n",
              "      <td>0.000000</td>\n",
              "      <td>0.000000</td>\n",
              "      <td>0.000000</td>\n",
              "      <td>12.217195</td>\n",
              "      <td>0.000000</td>\n",
              "      <td>0.000000</td>\n",
              "      <td>0.226244</td>\n",
              "      <td>4.977376</td>\n",
              "      <td>0.000000</td>\n",
              "      <td>0.000000</td>\n",
              "      <td>22.850679</td>\n",
              "      <td>0.000000</td>\n",
              "      <td>0.00000</td>\n",
              "      <td>0.678733</td>\n",
              "      <td>0.000000</td>\n",
              "      <td>0.000000</td>\n",
              "      <td>...</td>\n",
              "      <td>0.000000</td>\n",
              "      <td>0.452489</td>\n",
              "      <td>0.000000</td>\n",
              "      <td>0.904977</td>\n",
              "      <td>0.678733</td>\n",
              "      <td>1.131222</td>\n",
              "      <td>0.226244</td>\n",
              "      <td>0.226244</td>\n",
              "      <td>0.000000</td>\n",
              "      <td>2.262443</td>\n",
              "      <td>0.000000</td>\n",
              "      <td>6.108597</td>\n",
              "      <td>0.000000</td>\n",
              "      <td>0.000000</td>\n",
              "      <td>0.226244</td>\n",
              "      <td>0.452489</td>\n",
              "      <td>0.904977</td>\n",
              "      <td>1.357466</td>\n",
              "      <td>0.904977</td>\n",
              "      <td>0.000000</td>\n",
              "      <td>9.728507</td>\n",
              "      <td>37.556561</td>\n",
              "      <td>28.506787</td>\n",
              "      <td>0.000000</td>\n",
              "      <td>1.357466</td>\n",
              "      <td>0.000000</td>\n",
              "      <td>0.452489</td>\n",
              "      <td>0.000000</td>\n",
              "      <td>16.968326</td>\n",
              "      <td>0.000000</td>\n",
              "      <td>0.000000</td>\n",
              "      <td>0.000000</td>\n",
              "      <td>2.941176</td>\n",
              "      <td>0.226244</td>\n",
              "      <td>18.325792</td>\n",
              "      <td>0.000000</td>\n",
              "      <td>0.000000</td>\n",
              "      <td>1.583710</td>\n",
              "      <td>0.226244</td>\n",
              "      <td>0.000000</td>\n",
              "    </tr>\n",
              "    <tr>\n",
              "      <th>East_asian</th>\n",
              "      <td>0.736067</td>\n",
              "      <td>0.000000</td>\n",
              "      <td>0.000000</td>\n",
              "      <td>0.000000</td>\n",
              "      <td>0.841220</td>\n",
              "      <td>0.000000</td>\n",
              "      <td>0.000000</td>\n",
              "      <td>0.000000</td>\n",
              "      <td>0.630915</td>\n",
              "      <td>0.000000</td>\n",
              "      <td>0.000000</td>\n",
              "      <td>0.525762</td>\n",
              "      <td>0.630915</td>\n",
              "      <td>0.000000</td>\n",
              "      <td>0.000000</td>\n",
              "      <td>0.105152</td>\n",
              "      <td>0.000000</td>\n",
              "      <td>0.000000</td>\n",
              "      <td>0.210305</td>\n",
              "      <td>0.420610</td>\n",
              "      <td>2.208202</td>\n",
              "      <td>0.0</td>\n",
              "      <td>20.399579</td>\n",
              "      <td>7.045216</td>\n",
              "      <td>0.105152</td>\n",
              "      <td>0.000000</td>\n",
              "      <td>0.315457</td>\n",
              "      <td>7.570978</td>\n",
              "      <td>0.000000</td>\n",
              "      <td>0.000000</td>\n",
              "      <td>0.000000</td>\n",
              "      <td>0.315457</td>\n",
              "      <td>0.000000</td>\n",
              "      <td>0.000000</td>\n",
              "      <td>35.856993</td>\n",
              "      <td>0.000000</td>\n",
              "      <td>1.26183</td>\n",
              "      <td>0.000000</td>\n",
              "      <td>0.000000</td>\n",
              "      <td>0.000000</td>\n",
              "      <td>...</td>\n",
              "      <td>0.000000</td>\n",
              "      <td>1.156677</td>\n",
              "      <td>0.000000</td>\n",
              "      <td>0.210305</td>\n",
              "      <td>0.315457</td>\n",
              "      <td>0.315457</td>\n",
              "      <td>0.000000</td>\n",
              "      <td>0.000000</td>\n",
              "      <td>0.000000</td>\n",
              "      <td>0.000000</td>\n",
              "      <td>0.105152</td>\n",
              "      <td>3.470032</td>\n",
              "      <td>0.000000</td>\n",
              "      <td>0.000000</td>\n",
              "      <td>1.682440</td>\n",
              "      <td>0.000000</td>\n",
              "      <td>0.630915</td>\n",
              "      <td>0.000000</td>\n",
              "      <td>0.105152</td>\n",
              "      <td>0.105152</td>\n",
              "      <td>24.710831</td>\n",
              "      <td>28.601472</td>\n",
              "      <td>18.506835</td>\n",
              "      <td>0.000000</td>\n",
              "      <td>0.736067</td>\n",
              "      <td>1.997897</td>\n",
              "      <td>0.000000</td>\n",
              "      <td>0.210305</td>\n",
              "      <td>18.191377</td>\n",
              "      <td>0.000000</td>\n",
              "      <td>0.000000</td>\n",
              "      <td>0.000000</td>\n",
              "      <td>0.630915</td>\n",
              "      <td>0.000000</td>\n",
              "      <td>0.000000</td>\n",
              "      <td>0.000000</td>\n",
              "      <td>0.000000</td>\n",
              "      <td>1.787592</td>\n",
              "      <td>0.000000</td>\n",
              "      <td>0.000000</td>\n",
              "    </tr>\n",
              "    <tr>\n",
              "      <th>Eastern_european</th>\n",
              "      <td>3.937008</td>\n",
              "      <td>0.000000</td>\n",
              "      <td>0.524934</td>\n",
              "      <td>0.000000</td>\n",
              "      <td>4.724409</td>\n",
              "      <td>0.000000</td>\n",
              "      <td>4.724409</td>\n",
              "      <td>0.000000</td>\n",
              "      <td>0.000000</td>\n",
              "      <td>0.000000</td>\n",
              "      <td>0.262467</td>\n",
              "      <td>0.000000</td>\n",
              "      <td>7.611549</td>\n",
              "      <td>0.000000</td>\n",
              "      <td>0.000000</td>\n",
              "      <td>0.524934</td>\n",
              "      <td>0.262467</td>\n",
              "      <td>0.000000</td>\n",
              "      <td>1.312336</td>\n",
              "      <td>4.724409</td>\n",
              "      <td>0.787402</td>\n",
              "      <td>0.0</td>\n",
              "      <td>12.860892</td>\n",
              "      <td>5.249344</td>\n",
              "      <td>0.000000</td>\n",
              "      <td>0.262467</td>\n",
              "      <td>5.774278</td>\n",
              "      <td>13.123360</td>\n",
              "      <td>0.000000</td>\n",
              "      <td>0.000000</td>\n",
              "      <td>0.000000</td>\n",
              "      <td>0.000000</td>\n",
              "      <td>0.262467</td>\n",
              "      <td>0.000000</td>\n",
              "      <td>23.097113</td>\n",
              "      <td>0.000000</td>\n",
              "      <td>0.00000</td>\n",
              "      <td>0.262467</td>\n",
              "      <td>0.262467</td>\n",
              "      <td>0.000000</td>\n",
              "      <td>...</td>\n",
              "      <td>0.000000</td>\n",
              "      <td>0.524934</td>\n",
              "      <td>1.312336</td>\n",
              "      <td>1.312336</td>\n",
              "      <td>2.624672</td>\n",
              "      <td>0.000000</td>\n",
              "      <td>0.262467</td>\n",
              "      <td>0.262467</td>\n",
              "      <td>0.000000</td>\n",
              "      <td>0.000000</td>\n",
              "      <td>3.149606</td>\n",
              "      <td>16.535433</td>\n",
              "      <td>0.787402</td>\n",
              "      <td>0.000000</td>\n",
              "      <td>0.000000</td>\n",
              "      <td>0.524934</td>\n",
              "      <td>0.000000</td>\n",
              "      <td>0.787402</td>\n",
              "      <td>14.698163</td>\n",
              "      <td>1.312336</td>\n",
              "      <td>2.362205</td>\n",
              "      <td>21.522310</td>\n",
              "      <td>13.123360</td>\n",
              "      <td>0.262467</td>\n",
              "      <td>5.511811</td>\n",
              "      <td>0.000000</td>\n",
              "      <td>0.262467</td>\n",
              "      <td>0.000000</td>\n",
              "      <td>51.706037</td>\n",
              "      <td>0.262467</td>\n",
              "      <td>1.049869</td>\n",
              "      <td>1.312336</td>\n",
              "      <td>4.199475</td>\n",
              "      <td>0.262467</td>\n",
              "      <td>0.262467</td>\n",
              "      <td>0.000000</td>\n",
              "      <td>0.000000</td>\n",
              "      <td>12.598425</td>\n",
              "      <td>1.574803</td>\n",
              "      <td>0.262467</td>\n",
              "    </tr>\n",
              "  </tbody>\n",
              "</table>\n",
              "<p>10 rows × 383 columns</p>\n",
              "</div>"
            ],
            "text/plain": [
              "                          Almond  Angelica  ...    Yogurt  Zucchini\n",
              "Cuisine                                     ...                    \n",
              "African                12.093023  0.000000  ...  1.860465  6.046512\n",
              "American                4.059776  0.002491  ...  1.691158  1.863014\n",
              "Asian                   0.754401  0.000000  ...  1.089690  1.173512\n",
              "Cajun_creole            0.000000  0.000000  ...  0.684932  0.000000\n",
              "Canadian                3.617571  0.000000  ...  1.937984  1.162791\n",
              "Caribbean               1.639344  0.000000  ...  1.092896  1.639344\n",
              "Central_southamerican   5.394191  0.000000  ...  0.414938  1.659751\n",
              "Chinese                 2.488688  0.000000  ...  0.226244  0.000000\n",
              "East_asian              0.736067  0.000000  ...  0.000000  0.000000\n",
              "Eastern_european        3.937008  0.000000  ...  1.574803  0.262467\n",
              "\n",
              "[10 rows x 383 columns]"
            ]
          },
          "metadata": {},
          "execution_count": 13
        }
      ]
    },
    {
      "cell_type": "code",
      "metadata": {
        "colab": {
          "base_uri": "https://localhost:8080/"
        },
        "id": "HR_dhlZ2e6B4",
        "outputId": "bd0444f5-7752-415b-a95b-46f37a00e2b2"
      },
      "source": [
        "# Getting the top 4 ingridents in each cuisine\n",
        "def top_4_ingredients(row):\n",
        "    print(row.name.upper())\n",
        "    row_sorted = row.sort_values(ascending=False) * 100\n",
        "    top_ingredients = list(row_sorted.index.values)[0:4]\n",
        "    row_sorted = list(row_sorted)[0:4]\n",
        "\n",
        "    for ind, ingredient in enumerate(top_ingredients):\n",
        "        print(\"%s (%d%%)\" % (ingredient, row_sorted[ind]), end=' ')\n",
        "    print(\"\\n\")\n",
        "\n",
        "# apply function to cuisines dataframe\n",
        "cuisines.apply(top_4_ingredients, axis=1)"
      ],
      "execution_count": null,
      "outputs": [
        {
          "output_type": "stream",
          "name": "stdout",
          "text": [
            "AFRICAN\n",
            "Onion (56%) Garlic (45%) Olive_oil (44%) Cumin (42%) \n",
            "\n",
            "AMERICAN\n",
            "Butter (41%) Egg (40%) Wheat (39%) Onion (29%) \n",
            "\n",
            "ASIAN\n",
            "Soy_sauce (49%) Ginger (48%) Garlic (47%) Rice (41%) \n",
            "\n",
            "CAJUN_CREOLE\n",
            "Onion (69%) Cayenne (56%) Garlic (48%) Butter (36%) \n",
            "\n",
            "CANADIAN\n",
            "Wheat (39%) Butter (38%) Egg (35%) Onion (34%) \n",
            "\n",
            "CARIBBEAN\n",
            "Onion (51%) Garlic (50%) Vegetable_oil (31%) Black_pepper (31%) \n",
            "\n",
            "CENTRAL_SOUTHAMERICAN\n",
            "Garlic (56%) Onion (54%) Cayenne (51%) Tomato (41%) \n",
            "\n",
            "CHINESE\n",
            "Soy_sauce (68%) Ginger (53%) Garlic (52%) Scallion (48%) \n",
            "\n",
            "EAST_ASIAN\n",
            "Garlic (55%) Soy_sauce (50%) Scallion (49%) Cayenne (47%) \n",
            "\n",
            "EASTERN_EUROPEAN\n",
            "Butter (52%) Wheat (51%) Egg (51%) Onion (42%) \n",
            "\n"
          ]
        },
        {
          "output_type": "execute_result",
          "data": {
            "text/plain": [
              "Cuisine\n",
              "African                  None\n",
              "American                 None\n",
              "Asian                    None\n",
              "Cajun_creole             None\n",
              "Canadian                 None\n",
              "Caribbean                None\n",
              "Central_southamerican    None\n",
              "Chinese                  None\n",
              "East_asian               None\n",
              "Eastern_european         None\n",
              "dtype: object"
            ]
          },
          "metadata": {},
          "execution_count": 14
        }
      ]
    },
    {
      "cell_type": "code",
      "metadata": {
        "colab": {
          "base_uri": "https://localhost:8080/"
        },
        "id": "E_L6R0cFe6Oi",
        "outputId": "b7e00859-7b61-4bd6-8c82-238238e71264"
      },
      "source": [
        "#Dropping a few of the american cuisines due to their number\n",
        "\n",
        "new_recipes.Cuisine.value_counts()[:5]"
      ],
      "execution_count": null,
      "outputs": [
        {
          "output_type": "execute_result",
          "data": {
            "text/plain": [
              "American    40150\n",
              "Italian      3250\n",
              "Mexican      2390\n",
              "French       1264\n",
              "Asian        1193\n",
              "Name: Cuisine, dtype: int64"
            ]
          },
          "metadata": {},
          "execution_count": 15
        }
      ]
    },
    {
      "cell_type": "code",
      "metadata": {
        "colab": {
          "base_uri": "https://localhost:8080/"
        },
        "id": "mpwqx6JSlN2-",
        "outputId": "b32d5343-3654-4ab5-b48d-0d2f7d266d49"
      },
      "source": [
        "new_recipes.shape"
      ],
      "execution_count": null,
      "outputs": [
        {
          "output_type": "execute_result",
          "data": {
            "text/plain": [
              "(57434, 384)"
            ]
          },
          "metadata": {},
          "execution_count": 16
        }
      ]
    },
    {
      "cell_type": "code",
      "metadata": {
        "colab": {
          "base_uri": "https://localhost:8080/"
        },
        "id": "hcdOa39xe6nk",
        "outputId": "085614a6-cd1e-461f-cf6d-bf7ffbf1478c"
      },
      "source": [
        "# Getting the indices for all receipes that are American\n",
        "\n",
        "\n",
        "American_idx = new_recipes[new_recipes.Cuisine == 'American'].index\n",
        "print(len(American_idx)) # Getting the index of the rows with American \n",
        "\n",
        "to_keep = pd.Series(American_idx).sample(n=3_250, random_state=2)  # Taking a random saple of 3,250\n",
        "\n",
        "to_drop = set(American_idx) - set(to_keep)\n",
        "to_drop = list(to_drop) # Get a list of the indices to drop"
      ],
      "execution_count": null,
      "outputs": [
        {
          "output_type": "stream",
          "name": "stdout",
          "text": [
            "40150\n"
          ]
        }
      ]
    },
    {
      "cell_type": "code",
      "metadata": {
        "colab": {
          "base_uri": "https://localhost:8080/"
        },
        "id": "2kUEC67Gmu0y",
        "outputId": "08b13a52-9fe8-4f09-997c-036c9319d34b"
      },
      "source": [
        "new_recipes.drop(to_drop, inplace=True) # Dropping the indices"
      ],
      "execution_count": null,
      "outputs": [
        {
          "output_type": "stream",
          "name": "stderr",
          "text": [
            "/usr/local/lib/python3.7/dist-packages/pandas/core/frame.py:4174: SettingWithCopyWarning: \n",
            "A value is trying to be set on a copy of a slice from a DataFrame\n",
            "\n",
            "See the caveats in the documentation: https://pandas.pydata.org/pandas-docs/stable/user_guide/indexing.html#returning-a-view-versus-a-copy\n",
            "  errors=errors,\n"
          ]
        }
      ]
    },
    {
      "cell_type": "code",
      "metadata": {
        "id": "GHY-aZ9emu-I"
      },
      "source": [
        "new_recipes.reset_index(drop=True, inplace=True)  # Restting the index\n"
      ],
      "execution_count": null,
      "outputs": []
    },
    {
      "cell_type": "code",
      "metadata": {
        "colab": {
          "base_uri": "https://localhost:8080/"
        },
        "id": "zKBe3DuohhlX",
        "outputId": "fd25db47-7f7e-4b9d-8726-b039cbce0871"
      },
      "source": [
        "new_recipes.shape"
      ],
      "execution_count": null,
      "outputs": [
        {
          "output_type": "execute_result",
          "data": {
            "text/plain": [
              "(20534, 384)"
            ]
          },
          "metadata": {},
          "execution_count": 20
        }
      ]
    },
    {
      "cell_type": "code",
      "metadata": {
        "colab": {
          "base_uri": "https://localhost:8080/"
        },
        "id": "O2wV0lI3ftix",
        "outputId": "97204998-ebd3-4f54-ad9b-65e1878c6a2a"
      },
      "source": [
        "# Checking for any redundant columns and dropping it\n",
        "\n",
        "to_drop2 = []\n",
        "\n",
        "for i in new_recipes.columns[1:]:\n",
        "    if new_recipes[i].sum() == 0:\n",
        "        to_drop2.append(i)\n",
        "\n",
        "print('Ingredients with no reprsentation in any recipe(s) is :', to_drop2)\n",
        "\n",
        "new_recipes.drop(to_drop2, axis=1, inplace=True)"
      ],
      "execution_count": null,
      "outputs": [
        {
          "output_type": "stream",
          "name": "stdout",
          "text": [
            "Ingredients with no reprsentation in any recipe(s) is : ['Angelica', 'Balm', 'Carnation', 'Durian', 'Geranium', 'Laurel', 'Lilac_flower_oil', 'Mate', 'Muscat_grape', 'Pelargonium', 'Roasted_hazelnut', 'Roasted_nut', 'Roasted_pecan', 'Smoked_fish', 'Soybean_oil']\n"
          ]
        },
        {
          "output_type": "stream",
          "name": "stderr",
          "text": [
            "/usr/local/lib/python3.7/dist-packages/pandas/core/frame.py:4174: SettingWithCopyWarning: \n",
            "A value is trying to be set on a copy of a slice from a DataFrame\n",
            "\n",
            "See the caveats in the documentation: https://pandas.pydata.org/pandas-docs/stable/user_guide/indexing.html#returning-a-view-versus-a-copy\n",
            "  errors=errors,\n"
          ]
        }
      ]
    },
    {
      "cell_type": "markdown",
      "metadata": {
        "id": "OzWg_duTQu1G"
      },
      "source": [
        "#### Code to group the ingredients into categaries. "
      ]
    },
    {
      "cell_type": "markdown",
      "metadata": {
        "id": "dj0RgJqUbXUp"
      },
      "source": [
        "**The EDA bit**\n"
      ]
    },
    {
      "cell_type": "markdown",
      "metadata": {
        "id": "KMPFGA6tQu1N"
      },
      "source": [
        "# Skip to **[here](#import-the-resultant-dataframe)** to import the resultant dataframe"
      ]
    },
    {
      "cell_type": "code",
      "metadata": {
        "id": "BeuoUOanQu1R"
      },
      "source": [
        "# web scraping to find out the category of each ingredient\n",
        "ingr_cat = []\n",
        "headers = {'User-Agent':'Mozilla/5.0 (Windows NT 10.0; Win64; x64) AppleWebKit/537.36 (KHTML, like Gecko) Chrome/74.0.3729.157 Safari/537.36'}\n",
        "for ingr in ingrS:\n",
        "    url = 'https://www.google.com/search?q={}'.format(ingr)\n",
        "    r = requests.get(url, headers = headers)\n",
        "    soup = BeautifulSoup(r.text)\n",
        "    try:\n",
        "        cat = soup.find('div', {'class':'wwUB2c PZPZlf'}).text\n",
        "        ingr_cat.append([ingr, cat])\n",
        "    except AttributeError:\n",
        "        ingr_cat.append([ingr, 'none'])\n",
        "ingr_catDF = pd.DataFrame(ingr_cat, columns=['ingredient', 'category'])"
      ],
      "execution_count": null,
      "outputs": []
    },
    {
      "cell_type": "code",
      "metadata": {
        "id": "hKCXvPSjQu1T"
      },
      "source": [
        "# clean 'Food' category\n",
        "ingr_catDF.loc[254, 'category'],ingr_catDF.loc[255, 'category'], ingr_catDF.loc[52, 'category'], ingr_catDF.loc[98, 'category'], \\\n",
        "ingr_catDF.loc[9, 'category'],ingr_catDF.loc[20, 'category'],ingr_catDF.loc[24, 'category'],ingr_catDF.loc[46, 'category'],\\\n",
        "ingr_catDF.loc[71, 'category'],ingr_catDF.loc[94, 'category'],ingr_catDF.loc[101, 'category'],ingr_catDF.loc[116, 'category'],\\\n",
        "ingr_catDF.loc[119, 'category'], ingr_catDF.loc[136, 'category'], ingr_catDF.loc[207, 'category'], ingr_catDF.loc[222, 'category'],\\\n",
        "ingr_catDF.loc[259, 'category'], ingr_catDF.loc[320, 'category'], ingr_catDF.loc[325, 'category'], ingr_catDF.loc[329, 'category'],\\\n",
        "ingr_catDF.loc[333, 'category'], ingr_catDF.loc[337, 'category'],ingr_catDF.loc[356, 'category'], ingr_catDF.loc[363, 'category'],\\\n",
        "ingr_catDF.loc[376, 'category'], ingr_catDF.loc[381, 'category']\\\n",
        "=\\\n",
        "'Plant', 'Edible oil', 'Dairy product','Beverage','Vegetable','Legume', 'Meat','Grain','Grain','Fruit','Condiment',\\\n",
        "'Plant','Animal produce', 'Condiment','Meat','Fruit','Fruit','Animal','Fish','Dairy product','Plant','Grain','Fungus',\\\n",
        "'Vegetable','Grain','Dairy product'"
      ],
      "execution_count": null,
      "outputs": []
    },
    {
      "cell_type": "code",
      "metadata": {
        "id": "nBP3n9bnQu1V"
      },
      "source": [
        "ingr_catDF.category.replace({'Technology company':'Fruit',\n",
        "                             'Software company':'Fruit',\n",
        "                             '2011 ‧ Family/Comedy ‧ 1h 35m':'Plant',\n",
        "                            '2021 ‧ Drama ‧ 1 season': 'Animal',\n",
        "                            '2021 ‧ Drama/Crime ‧ 2h 21m': 'Fruit',\n",
        "                            '2021 ‧ Horror/Fantasy ‧ 1h 46m': 'Meat',\n",
        "                            'Alcoholic beverages':'Alcohol',\n",
        "                            'Alcoholic beverage': 'Alcohol',\n",
        "                            'Alcoholic drink':'Alcohol',\n",
        "                            'American singer-songwriter': 'Alcohol',\n",
        "                            'Birds':'Meat',\n",
        "                            'Color':'Plant',\n",
        "                            'Cheese':'Dairy product',\n",
        "                            'Direct bank':'Fruit',\n",
        "                            'Distilled liquor type':'Alcohol',\n",
        "                            'Distilled spirit type': 'Alcohol',\n",
        "                            'Fish as food' :'Fish',\n",
        "                            'Flesh':'Fruit',\n",
        "                            'Cereal grain':'Grain',\n",
        "                            'Grains':'Grain',\n",
        "                            'Grape':'Fruit',\n",
        "                            'Grape variety':'Fruit',\n",
        "                            'Herb':'Plant',\n",
        "                            'Infusion':'Beverage',\n",
        "                            'North America':'Dairy product',\n",
        "                            'Personal financial management company': 'Plant',\n",
        "                            'Pork':'Meat',\n",
        "                            'Pseudocereal':'Plant',\n",
        "                            'Roe':'Spread',\n",
        "                            'Squash': 'Fruit',\n",
        "                            'Summer squash':'Fruit',\n",
        "                            'Video game developer':'Fruit',\n",
        "                            'Video game series':'Fish',\n",
        "                            'Website':'Plant',\n",
        "                            'Algae':'Plant',\n",
        "                            'Sweetener': 'Condiment',\n",
        "                            'Sausage':'Meat',\n",
        "                            'Smoked fish':'Fish',\n",
        "                            'Pasta':'Grain',\n",
        "                            'Breakfast cereal':'Grain',\n",
        "                            'Animal fat':'Animal produce'}, inplace =True)"
      ],
      "execution_count": null,
      "outputs": []
    },
    {
      "cell_type": "code",
      "metadata": {
        "id": "v2D8NGanQu1Y"
      },
      "source": [
        "# clean 'none' category\n",
        "ingr_catDF.loc[3, 'category'],ingr_catDF.loc[5, 'category'], ingr_catDF.loc[7, 'category'], ingr_catDF.loc[12, 'category'],\\\n",
        "ingr_catDF.loc[14, 'category'], ingr_catDF.loc[19, 'category'], ingr_catDF.loc[33, 'category'], ingr_catDF.loc[36, 'category'],\\\n",
        "ingr_catDF.loc[37, 'category'], ingr_catDF.loc[39, 'category'], ingr_catDF.loc[40, 'category'], ingr_catDF.loc[42, 'category'],\\\n",
        "ingr_catDF.loc[51, 'category'], ingr_catDF.loc[54, 'category'], ingr_catDF.loc[57, 'category'], ingr_catDF.loc[59, 'category'],\\\n",
        "ingr_catDF.loc[62, 'category'], ingr_catDF.loc[68, 'category'], ingr_catDF.loc[70, 'category'], ingr_catDF.loc[73, 'category'],\\\n",
        "ingr_catDF.loc[75, 'category'], ingr_catDF.loc[78, 'category'], ingr_catDF.loc[82, 'category'], ingr_catDF.loc[91, 'category'],\\\n",
        "ingr_catDF.loc[95, 'category'],ingr_catDF.loc[103, 'category'], ingr_catDF.loc[106, 'category'], ingr_catDF.loc[110, 'category'],\\\n",
        "ingr_catDF.loc[113, 'category'], ingr_catDF.loc[115, 'category'], ingr_catDF.loc[122, 'category'], ingr_catDF.loc[129, 'category'],\\\n",
        "ingr_catDF.loc[130, 'category'], ingr_catDF.loc[132, 'category'],ingr_catDF.loc[133, 'category'],ingr_catDF.loc[140, 'category'],\\\n",
        "ingr_catDF.loc[142, 'category'], ingr_catDF.loc[143, 'category'],ingr_catDF.loc[146, 'category'], ingr_catDF.loc[147, 'category'],\\\n",
        "ingr_catDF.loc[158, 'category'],ingr_catDF.loc[159, 'category'], ingr_catDF.loc[161, 'category'], ingr_catDF.loc[162, 'category'],\\\n",
        "ingr_catDF.loc[167, 'category'], ingr_catDF.loc[175, 'category'], ingr_catDF.loc[184, 'category'], ingr_catDF.loc[185, 'category'],\\\n",
        "ingr_catDF.loc[187, 'category'], ingr_catDF.loc[188, 'category'], ingr_catDF.loc[191, 'category'], ingr_catDF.loc[197, 'category'],\\\n",
        "ingr_catDF.loc[200, 'category'], ingr_catDF.loc[201, 'category'], ingr_catDF.loc[203, 'category'], ingr_catDF.loc[210, 'category'],\\\n",
        "ingr_catDF.loc[213, 'category'], ingr_catDF.loc[214, 'category'], ingr_catDF.loc[221, 'category'], ingr_catDF.loc[225, 'category'],\\\n",
        "ingr_catDF.loc[229, 'category'], ingr_catDF.loc[232, 'category'], ingr_catDF.loc[234, 'category'], ingr_catDF.loc[236, 'category'],\\\n",
        "ingr_catDF.loc[243, 'category'], ingr_catDF.loc[248, 'category'], ingr_catDF.loc[250, 'category'], ingr_catDF.loc[257, 'category'],\\\n",
        "ingr_catDF.loc[261, 'category'], ingr_catDF.loc[264, 'category'], ingr_catDF.loc[265, 'category'], ingr_catDF.loc[266, 'category'],\\\n",
        "ingr_catDF.loc[278, 'category'], ingr_catDF.loc[279, 'category'], ingr_catDF.loc[280, 'category'], ingr_catDF.loc[281, 'category'],\\\n",
        "ingr_catDF.loc[282, 'category'], ingr_catDF.loc[285, 'category'], ingr_catDF.loc[287, 'category'], ingr_catDF.loc[288, 'category'],\\\n",
        "ingr_catDF.loc[289, 'category'], ingr_catDF.loc[290, 'category'], ingr_catDF.loc[291, 'category'], ingr_catDF.loc[292, 'category'],\\\n",
        "ingr_catDF.loc[293, 'category'], ingr_catDF.loc[294, 'category'], ingr_catDF.loc[295, 'category'], ingr_catDF.loc[304, 'category'],\\\n",
        "ingr_catDF.loc[307, 'category'], ingr_catDF.loc[309, 'category'], ingr_catDF.loc[313, 'category'], ingr_catDF.loc[315, 'category'],\\\n",
        "ingr_catDF.loc[314, 'category'], ingr_catDF.loc[317, 'category'], ingr_catDF.loc[319, 'category'], ingr_catDF.loc[321, 'category'],\\\n",
        "ingr_catDF.loc[327, 'category'], ingr_catDF.loc[332, 'category'], ingr_catDF.loc[339, 'category'], ingr_catDF.loc[340, 'category'],\\\n",
        "ingr_catDF.loc[343, 'category'], ingr_catDF.loc[354, 'category'], ingr_catDF.loc[334, 'category'], ingr_catDF.loc[355, 'category'],\\\n",
        "ingr_catDF.loc[358, 'category'], ingr_catDF.loc[361, 'category'], ingr_catDF.loc[362, 'category'], ingr_catDF.loc[364, 'category'],\\\n",
        "ingr_catDF.loc[375, 'category'], ingr_catDF.loc[286, 'category'], ingr_catDF.loc[372, 'category'], ingr_catDF.loc[374, 'category'],\\\n",
        "ingr_catDF.loc[301, 'category'], ingr_catDF.loc[371, 'category'], ingr_catDF.loc[253, 'category'], ingr_catDF.loc[34, 'category'],\\\n",
        "ingr_catDF.loc[27, 'category']\\\n",
        "=\\\n",
        "'Plant', 'Alcohol', 'Alcohol', 'Meat', 'Plant', 'Plant', 'Edible oil', 'Plant', 'Beverage','Alcohol','Dairy product', 'Edible oil',\\\n",
        "'Spread', 'Alcohol', 'Condiment', 'Spice', 'Fruit', 'Spice', 'Edible oil', 'Alcohol', 'Dairy product', 'Alcohol', 'Animal produce',\\\n",
        "'Fruit', 'Fruit', 'Grain', 'Dairy product', 'Dairy product', 'Meat', 'Fruit', 'Dairy product', 'Fish','Plant', 'Fruit', 'Spice',\\\n",
        "'Dairy product', 'Alcohol', 'Fruit', 'Beverage', 'Dairy product', 'Alcohol', 'Fruit', 'Beverage', 'Fruit','Legume', 'Plant',\\\n",
        "'Edible oil', 'Legume', 'Fruit', 'Edible oil', 'Animal produce','Spice', 'Fruit', 'Fruit', 'Condiment', 'Dairy product', 'Legume',\\\n",
        "'Dairy product', 'Vegetable', 'Grain', 'Edible oil', 'Plant', 'Fruit', 'Alcohol', 'Fruit', 'Edible oil', 'Alcohol', 'Spice', 'Grain',\\\n",
        "'Animal produce', 'Meat', 'Alcohol', 'Meat', 'Plant', 'Legume', 'Legume', 'Alcohol', 'Plant', 'Fruit', 'Meat', 'Fruit', 'Legume',\\\n",
        "'Plant', 'Meat', 'Plant', 'Dairy product', 'Plant', 'Plant', 'Animal produce', 'Vegetable', 'Plant', 'Plant', 'Plant', 'Plant',\\\n",
        "'Dairy product', 'Alcohol', 'Meat', 'Edible oil', 'Spread', 'Fruit', 'Edible oil', 'Fruit', 'Plant', 'Fruit', 'Meat', 'Spice', 'Meat',\\\n",
        "'Edible oil', 'Alcohol', 'Meat', 'Grain', 'Grain', 'Grain','Grain','Spice', 'Spice','Spice'"
      ],
      "execution_count": null,
      "outputs": []
    },
    {
      "cell_type": "code",
      "metadata": {
        "id": "q13i1wPfQu1c"
      },
      "source": [
        "ingr_catDF.category.replace({'none':'Others',\n",
        "                             'Food' : 'Others',\n",
        "                             'Dish': 'Others'},\n",
        "                            inplace = True)"
      ],
      "execution_count": null,
      "outputs": []
    },
    {
      "cell_type": "markdown",
      "metadata": {
        "id": "P9hC5OJeQu1e"
      },
      "source": [
        "## import the resultant dataframe"
      ]
    },
    {
      "cell_type": "code",
      "metadata": {
        "id": "ubURPSNFQu1e"
      },
      "source": [
        "ingr_catDF = pd.read_csv('https://raw.githubusercontent.com/adedam0/Hamoye/main/datasets/cuisine/ingredient%20category.csv')"
      ],
      "execution_count": null,
      "outputs": []
    },
    {
      "cell_type": "markdown",
      "metadata": {
        "id": "AHInplzFQu1f"
      },
      "source": [
        "### run following cells till you see the word \"Skip\""
      ]
    },
    {
      "cell_type": "markdown",
      "metadata": {
        "id": "2btqNaiOQu1f"
      },
      "source": [
        "#### Group the countries into continents"
      ]
    },
    {
      "cell_type": "code",
      "metadata": {
        "id": "tHknl6mrQu1g"
      },
      "source": [
        "continent = pd.DataFrame([\n",
        "    ['Austrian', 'Europe'],['Malaysian', 'Asia'],['Lebanese', 'Asia'],['Pakistan', 'Asia'],['Swiss', 'Europe'],\n",
        "    ['Indonesian', 'Asia'],['Filipino', 'Asia'],['Dutch', 'Europe'],['Spanish', 'Europe'],['South-america', 'South America'],\n",
        "    ['Belgium', 'Europe'],['Uk_ireland', 'Europe'],['Eastern_europe', 'Europe'],['Iranian', 'Asia'],['Israeli', 'Europe'],\n",
        "    ['Bangladeshi', 'Asia'],['Caribbean', 'North America'],['Turkish', 'Europe'],['Canadian', 'North America'],['Korean', 'Asia'],\n",
        "    ['Western', 'Europe'],['East_asian', 'Asia'],['Southwestern', 'North America'],['Asian', 'Asia'],['Scottish', 'Europe'],\n",
        "    ['Southern_soulfood', 'North America'],['Moroccan', 'Africa'],['Japanese', 'Asia'],['Mediterranean', 'Europe'],\n",
        "    ['German', 'Europe'],['Chinese', 'Asia'],['Mexican', 'North America'],['Irish', 'Europe'],['Italian', 'Europe'],\n",
        "    ['Easterneuropean_russian', 'Europe'],['Middle Eastern', 'Africa'],['Vietnamese', 'Asia'],['Indian', 'Asia'],\n",
        "    ['Portuguese', 'Europe'],['Jewish', 'Europe'],['French', 'Europe'],['Central_southamerican', 'South America'],\n",
        "    ['Thai', 'Asia'],['Scandinavian', 'Europe'],['Greek', 'Europe'],['American', 'North America'],['African', 'Africa'],\n",
        "    ['Cajun_creole', 'North America']\n",
        "], columns = ['Cuisine', 'Continent'])"
      ],
      "execution_count": null,
      "outputs": []
    },
    {
      "cell_type": "code",
      "metadata": {
        "id": "6G4xtNR4Qu1g"
      },
      "source": [
        "refined_df = pd.merge(new_recipes, continent, on = ['Cuisine'])\n"
      ],
      "execution_count": null,
      "outputs": []
    },
    {
      "cell_type": "markdown",
      "metadata": {
        "id": "lxUawpVCQu1i"
      },
      "source": [
        "no. of recipes for each country:"
      ]
    },
    {
      "cell_type": "code",
      "metadata": {
        "colab": {
          "base_uri": "https://localhost:8080/"
        },
        "id": "mqsqAO_FQu1i",
        "outputId": "12f26c8e-f99c-4a30-ad03-d0bc04e98c02"
      },
      "source": [
        "cont_C = dict(refined_df['Continent'].value_counts())\n",
        "cont_C"
      ],
      "execution_count": null,
      "outputs": [
        {
          "output_type": "execute_result",
          "data": {
            "text/plain": [
              "{'Africa': 352,\n",
              " 'Asia': 4687,\n",
              " 'Europe': 7325,\n",
              " 'North America': 7197,\n",
              " 'South America': 344}"
            ]
          },
          "metadata": {},
          "execution_count": 31
        }
      ]
    },
    {
      "cell_type": "code",
      "metadata": {
        "colab": {
          "base_uri": "https://localhost:8080/",
          "height": 323
        },
        "id": "VvnYfHwiQu1j",
        "outputId": "b35e7378-f289-44bb-98fb-5bdc9c5cf018"
      },
      "source": [
        "figure(figsize=(8, 4), dpi=80)\n",
        "b = plt.bar(cont_C.keys(), cont_C.values(),color=(0.2, 0.4, 0.6, 0.6))\n",
        "b[0].set_color('#de2d26')\n",
        "plt.xlabel('continent')\n",
        "plt.ylabel('no. of recipes')\n",
        "plt.title('no. of recipes from each continent')\n",
        "plt.show()"
      ],
      "execution_count": null,
      "outputs": [
        {
          "output_type": "display_data",
          "data": {
            "image/png": "[encoded data removed]",
            "text/plain": [
              "<Figure size 640x320 with 1 Axes>"
            ]
          },
          "metadata": {
            "needs_background": "light"
          }
        }
      ]
    },
    {
      "cell_type": "markdown",
      "metadata": {
        "id": "0LQCvnLjQu1k"
      },
      "source": [
        "- Most of our recipes are North American. \n",
        "- If we desire to know where certain ingredients are mostly used, using ingredient count per country will be suboptimal as North America will likely dominate most of the ingredients\n",
        "- A better metric will be to calculate the no. of times an ingredient is used per dish for every continent"
      ]
    },
    {
      "cell_type": "markdown",
      "metadata": {
        "id": "iN6hnLzeQu1l"
      },
      "source": [
        "We desire to create a table like\n",
        "\n",
        "| continent      | ingredient | prevalence |\n",
        "| ----------- | ----------- | ----------- |\n",
        "| Asia      | Egg       | 0.45 |\n",
        "| Africa   | Okra        | 0.1 |\n",
        "\n",
        "where **prevalence** = no. of times the ingredient is used per recipe for each continent\n",
        "\n"
      ]
    },
    {
      "cell_type": "markdown",
      "metadata": {
        "id": "jeW6T07nQu1l"
      },
      "source": [
        "To create the dataframe, we start by creating a dictionary where\n",
        "**ih = {('continent', 'ingredient'): no. of occurences}**\n",
        "\n",
        "# Skip to **[here](#import-here)** to import the resultant dataframe"
      ]
    },
    {
      "cell_type": "code",
      "metadata": {
        "id": "IbpMdfrcQu1m"
      },
      "source": [
        "ih = {}\n",
        "for i in refined_df.index:\n",
        "    row = pd.DataFrame(refined_df.loc[i]).T\n",
        "    ings = list(row.columns[row.eq('Yes').any()])\n",
        "    continent = refined_df.loc[i, 'Continent']\n",
        "    for ing in ings:\n",
        "        try:\n",
        "            ih[(continent, ing)] += 1\n",
        "        except KeyError:\n",
        "            ih[(continent, ing)] = 1\n",
        "qq = []\n",
        "for key in ih.keys():\n",
        "    continent = key[0]\n",
        "    ingredient = key[1]\n",
        "    ingr_count = ih[key]\n",
        "    recipe_count = cont_C[key[0]]\n",
        "    qq.append([continent, ingredient, ingr_count/recipe_count, ingr_count])\n",
        "df99 = pd.DataFrame(qq, columns = ['continent', 'ingredient', 'prevalence', 'count'])"
      ],
      "execution_count": null,
      "outputs": []
    },
    {
      "cell_type": "markdown",
      "metadata": {
        "id": "0niftth5Qu1m"
      },
      "source": [
        "## import here"
      ]
    },
    {
      "cell_type": "code",
      "metadata": {
        "id": "M9dU3KfvQu1m"
      },
      "source": [
        "df99 = pd.read_csv('https://raw.githubusercontent.com/adedam0/Hamoye/main/datasets/cuisine/continent%20and%20ingredient%20prevalence.csv')"
      ],
      "execution_count": null,
      "outputs": []
    },
    {
      "cell_type": "markdown",
      "metadata": {
        "id": "PCtGkMxQQu1n"
      },
      "source": [
        "### run the remaining cells"
      ]
    },
    {
      "cell_type": "markdown",
      "metadata": {
        "id": "fXZfmffqQu1n"
      },
      "source": [
        "#### North America showing its dominance."
      ]
    },
    {
      "cell_type": "code",
      "metadata": {
        "colab": {
          "base_uri": "https://localhost:8080/",
          "height": 542
        },
        "id": "S8gmbs7iQu1o",
        "outputId": "45db5f42-f23e-471e-e2f5-b389838a6525"
      },
      "source": [
        "sunDF1 = pd.merge(df99, ingr_catDF, on = ['ingredient'])\n",
        "fig = px.sunburst(sunDF1, path = ['continent', 'category', 'ingredient'], values='count', color='continent',\n",
        "                  color_discrete_map={'Asia':'lightgray', 'Africa':'#f1a340', 'South America':'#998ec3', 'Europe':'pink',\n",
        "                                      'North America': '#66c2a5'}, title = 'Ingredient count in all recipes from each continent')\n",
        "fig.show()"
      ],
      "execution_count": null,
      "outputs": [
        {
          "output_type": "display_data",
          "data": {
            "text/html": [
              "<html>\n",
              "<head><meta charset=\"utf-8\" /></head>\n",
              "<body>\n",
              "    <div>            <script src=\"https://cdnjs.cloudflare.com/ajax/libs/mathjax/2.7.5/MathJax.js?config=TeX-AMS-MML_SVG\"></script><script type=\"text/javascript\">if (window.MathJax) {MathJax.Hub.Config({SVG: {font: \"STIX-Web\"}});}</script>                <script type=\"text/javascript\">window.PlotlyConfig = {MathJaxConfig: 'local'};</script>\n",
              "        <script src=\"https://cdn.plot.ly/plotly-2.4.2.min.js\"></script>                <div id=\"5119740c-d291-4f10-bab4-a9b0d7bbd098\" class=\"plotly-graph-div\" style=\"height:525px; width:100%;\"></div>            <script type=\"text/javascript\">                                    window.PLOTLYENV=window.PLOTLYENV || {};                                    if (document.getElementById(\"5119740c-d291-4f10-bab4-a9b0d7bbd098\")) {                    Plotly.newPlot(                        \"5119740c-d291-4f10-bab4-a9b0d7bbd098\",                        [{\"branchvalues\":\"total\",\"customdata\":[[\"North America\"],[\"Europe\"],[\"North America\"],[\"Europe\"],[\"Africa\"],[\"Europe\"],[\"North America\"],[\"Asia\"],[\"Europe\"],[\"North America\"],[\"Asia\"],[\"South America\"],[\"Europe\"],[\"South America\"],[\"Asia\"],[\"Europe\"],[\"Asia\"],[\"North America\"],[\"Europe\"],[\"Africa\"],[\"North America\"],[\"Europe\"],[\"Africa\"],[\"Europe\"],[\"Asia\"],[\"North America\"],[\"Africa\"],[\"Europe\"],[\"Asia\"],[\"Asia\"],[\"North America\"],[\"Africa\"],[\"Europe\"],[\"Asia\"],[\"Africa\"],[\"Europe\"],[\"Europe\"],[\"Asia\"],[\"Asia\"],[\"Africa\"],[\"Europe\"],[\"North America\"],[\"Africa\"],[\"Africa\"],[\"North America\"],[\"Europe\"],[\"Asia\"],[\"North America\"],[\"Asia\"],[\"North America\"],[\"Asia\"],[\"North America\"],[\"Europe\"],[\"Asia\"],[\"Asia\"],[\"North America\"],[\"Asia\"],[\"Asia\"],[\"Africa\"],[\"North America\"],[\"Europe\"],[\"Asia\"],[\"North America\"],[\"Africa\"],[\"Asia\"],[\"North America\"],[\"Europe\"],[\"North America\"],[\"North America\"],[\"Asia\"],[\"North America\"],[\"North America\"],[\"Asia\"],[\"North America\"],[\"Europe\"],[\"Asia\"],[\"Asia\"],[\"Europe\"],[\"Europe\"],[\"Asia\"],[\"North America\"],[\"Asia\"],[\"Europe\"],[\"South America\"],[\"Europe\"],[\"South America\"],[\"Asia\"],[\"South America\"],[\"Africa\"],[\"South America\"],[\"Asia\"],[\"Asia\"],[\"Europe\"],[\"South America\"],[\"Europe\"],[\"Asia\"],[\"North America\"],[\"Africa\"],[\"North America\"],[\"Asia\"],[\"Europe\"],[\"South America\"],[\"Africa\"],[\"South America\"],[\"Africa\"],[\"South America\"],[\"Europe\"],[\"South America\"],[\"North America\"],[\"North America\"],[\"Africa\"],[\"North America\"],[\"Europe\"],[\"Africa\"],[\"North America\"],[\"South America\"],[\"North America\"],[\"South America\"],[\"North America\"],[\"South America\"],[\"North America\"],[\"Europe\"],[\"Asia\"],[\"North America\"],[\"Asia\"],[\"North America\"],[\"North America\"],[\"Africa\"],[\"Europe\"],[\"Europe\"],[\"North America\"],[\"Africa\"],[\"Europe\"],[\"Europe\"],[\"South America\"],[\"Asia\"],[\"Asia\"],[\"Africa\"],[\"North America\"],[\"Asia\"],[\"North America\"],[\"Asia\"],[\"South America\"],[\"North America\"],[\"Europe\"],[\"North America\"],[\"North America\"],[\"North America\"],[\"Asia\"],[\"South America\"],[\"North America\"],[\"Africa\"],[\"Africa\"],[\"North America\"],[\"Europe\"],[\"North America\"],[\"Asia\"],[\"Africa\"],[\"Asia\"],[\"Europe\"],[\"Europe\"],[\"Asia\"],[\"Europe\"],[\"Europe\"],[\"Europe\"],[\"Africa\"],[\"North America\"],[\"Africa\"],[\"Asia\"],[\"Europe\"],[\"Africa\"],[\"Africa\"],[\"South America\"],[\"North America\"],[\"Africa\"],[\"Asia\"],[\"Africa\"],[\"North America\"],[\"South America\"],[\"North America\"],[\"Asia\"],[\"Asia\"],[\"South America\"],[\"Africa\"],[\"North America\"],[\"North America\"],[\"Europe\"],[\"South America\"],[\"North America\"],[\"Africa\"],[\"Europe\"],[\"North America\"],[\"Africa\"],[\"North America\"],[\"Asia\"],[\"North America\"],[\"Asia\"],[\"Europe\"],[\"Africa\"],[\"Africa\"],[\"North America\"],[\"Asia\"],[\"Europe\"],[\"South America\"],[\"North America\"],[\"Europe\"],[\"South America\"],[\"Africa\"],[\"North America\"],[\"Asia\"],[\"North America\"],[\"North America\"],[\"Europe\"],[\"North America\"],[\"Africa\"],[\"Africa\"],[\"Asia\"],[\"Europe\"],[\"South America\"],[\"Asia\"],[\"North America\"],[\"Africa\"],[\"North America\"],[\"Asia\"],[\"Europe\"],[\"Asia\"],[\"Africa\"],[\"North America\"],[\"Asia\"],[\"North America\"],[\"North America\"],[\"Africa\"],[\"North America\"],[\"South America\"],[\"South America\"],[\"South America\"],[\"Europe\"],[\"Europe\"],[\"North America\"],[\"Asia\"],[\"Europe\"],[\"Europe\"],[\"Europe\"],[\"Asia\"],[\"Africa\"],[\"Europe\"],[\"Europe\"],[\"North America\"],[\"Europe\"],[\"Europe\"],[\"Asia\"],[\"Asia\"],[\"Asia\"],[\"North America\"],[\"Africa\"],[\"Asia\"],[\"North America\"],[\"Asia\"],[\"Asia\"],[\"Africa\"],[\"Europe\"],[\"South America\"],[\"North America\"],[\"Europe\"],[\"Asia\"],[\"Europe\"],[\"North America\"],[\"Europe\"],[\"Asia\"],[\"North America\"],[\"South America\"],[\"Europe\"],[\"North America\"],[\"South America\"],[\"North America\"],[\"Europe\"],[\"Asia\"],[\"North America\"],[\"South America\"],[\"Asia\"],[\"Asia\"],[\"Europe\"],[\"North America\"],[\"Europe\"],[\"Europe\"],[\"Europe\"],[\"Africa\"],[\"Europe\"],[\"Asia\"],[\"Asia\"],[\"Europe\"],[\"Asia\"],[\"North America\"],[\"North America\"],[\"North America\"],[\"Europe\"],[\"Europe\"],[\"North America\"],[\"Africa\"],[\"Europe\"],[\"Asia\"],[\"Europe\"],[\"North America\"],[\"Europe\"],[\"Asia\"],[\"South America\"],[\"Asia\"],[\"North America\"],[\"Europe\"],[\"North America\"],[\"Asia\"],[\"South America\"],[\"Asia\"],[\"Europe\"],[\"Asia\"],[\"North America\"],[\"North America\"],[\"Europe\"],[\"South America\"],[\"Asia\"],[\"Europe\"],[\"South America\"],[\"North America\"],[\"North America\"],[\"Europe\"],[\"Europe\"],[\"South America\"],[\"North America\"],[\"North America\"],[\"Europe\"],[\"North America\"],[\"Europe\"],[\"Asia\"],[\"South America\"],[\"Europe\"],[\"South America\"],[\"South America\"],[\"North America\"],[\"South America\"],[\"North America\"],[\"Europe\"],[\"Africa\"],[\"Asia\"],[\"North America\"],[\"South America\"],[\"Asia\"],[\"Europe\"],[\"North America\"],[\"Asia\"],[\"Africa\"],[\"Asia\"],[\"Europe\"],[\"Asia\"],[\"Africa\"],[\"North America\"],[\"North America\"],[\"South America\"],[\"Asia\"],[\"North America\"],[\"Europe\"],[\"North America\"],[\"Asia\"],[\"North America\"],[\"Europe\"],[\"North America\"],[\"South America\"],[\"Africa\"],[\"South America\"],[\"North America\"],[\"Europe\"],[\"Europe\"],[\"South America\"],[\"Asia\"],[\"North America\"],[\"Africa\"],[\"Europe\"],[\"South America\"],[\"North America\"],[\"Europe\"],[\"South America\"],[\"Africa\"],[\"Africa\"],[\"Africa\"],[\"South America\"],[\"South America\"],[\"South America\"],[\"North America\"],[\"South America\"],[\"North America\"],[\"Asia\"],[\"North America\"],[\"Europe\"],[\"Europe\"],[\"Asia\"],[\"Asia\"],[\"North America\"],[\"South America\"],[\"Europe\"],[\"Europe\"],[\"Asia\"],[\"Europe\"],[\"North America\"],[\"South America\"],[\"Europe\"],[\"Asia\"],[\"Africa\"],[\"Europe\"],[\"Asia\"],[\"North America\"],[\"North America\"],[\"Asia\"],[\"North America\"],[\"Africa\"],[\"North America\"],[\"Europe\"],[\"Asia\"],[\"South America\"],[\"Europe\"],[\"South America\"],[\"North America\"],[\"Asia\"],[\"Asia\"],[\"Africa\"],[\"Europe\"],[\"Asia\"],[\"North America\"],[\"Africa\"],[\"North America\"],[\"Africa\"],[\"North America\"],[\"North America\"],[\"Europe\"],[\"Africa\"],[\"North America\"],[\"North America\"],[\"Asia\"],[\"Asia\"],[\"Asia\"],[\"South America\"],[\"Asia\"],[\"South America\"],[\"North America\"],[\"South America\"],[\"Africa\"],[\"Europe\"],[\"South America\"],[\"North America\"],[\"North America\"],[\"North America\"],[\"Europe\"],[\"South America\"],[\"Europe\"],[\"Europe\"],[\"North America\"],[\"Asia\"],[\"Africa\"],[\"Asia\"],[\"Europe\"],[\"North America\"],[\"Africa\"],[\"Europe\"],[\"North America\"],[\"Asia\"],[\"North America\"],[\"Asia\"],[\"Asia\"],[\"Africa\"],[\"Asia\"],[\"North America\"],[\"South America\"],[\"Europe\"],[\"Europe\"],[\"Africa\"],[\"Europe\"],[\"North America\"],[\"Asia\"],[\"South America\"],[\"Asia\"],[\"South America\"],[\"Africa\"],[\"South America\"],[\"Africa\"],[\"Asia\"],[\"North America\"],[\"Asia\"],[\"Asia\"],[\"Africa\"],[\"Asia\"],[\"Asia\"],[\"Europe\"],[\"Europe\"],[\"South America\"],[\"Asia\"],[\"Africa\"],[\"Europe\"],[\"North America\"],[\"South America\"],[\"Africa\"],[\"Africa\"],[\"North America\"],[\"Europe\"],[\"North America\"],[\"Europe\"],[\"Europe\"],[\"North America\"],[\"South America\"],[\"Africa\"],[\"Europe\"],[\"Europe\"],[\"Europe\"],[\"South America\"],[\"Asia\"],[\"Asia\"],[\"Africa\"],[\"Europe\"],[\"North America\"],[\"North America\"],[\"Asia\"],[\"Africa\"],[\"Asia\"],[\"Asia\"],[\"Europe\"],[\"Europe\"],[\"Asia\"],[\"Africa\"],[\"North America\"],[\"North America\"],[\"Africa\"],[\"Africa\"],[\"North America\"],[\"South America\"],[\"Asia\"],[\"North America\"],[\"South America\"],[\"South America\"],[\"Asia\"],[\"North America\"],[\"North America\"],[\"Africa\"],[\"Africa\"],[\"South America\"],[\"Africa\"],[\"North America\"],[\"North America\"],[\"Africa\"],[\"South America\"],[\"North America\"],[\"Europe\"],[\"Europe\"],[\"South America\"],[\"Asia\"],[\"South America\"],[\"Europe\"],[\"North America\"],[\"South America\"],[\"South America\"],[\"North America\"],[\"South America\"],[\"Asia\"],[\"North America\"],[\"North America\"],[\"Asia\"],[\"North America\"],[\"South America\"],[\"Europe\"],[\"Asia\"],[\"Asia\"],[\"North America\"],[\"Africa\"],[\"North America\"],[\"South America\"],[\"South America\"],[\"North America\"],[\"Africa\"],[\"North America\"],[\"Asia\"],[\"Africa\"],[\"Asia\"],[\"North America\"],[\"Europe\"],[\"North America\"],[\"North America\"],[\"North America\"],[\"Asia\"],[\"Asia\"],[\"Europe\"],[\"South America\"],[\"Europe\"],[\"South America\"],[\"Europe\"],[\"South America\"],[\"Europe\"],[\"Africa\"],[\"Asia\"],[\"Asia\"],[\"Europe\"],[\"Asia\"],[\"Asia\"],[\"North America\"],[\"Africa\"],[\"Africa\"],[\"Africa\"],[\"Africa\"],[\"North America\"],[\"Europe\"],[\"Europe\"],[\"Europe\"],[\"Africa\"],[\"Europe\"],[\"Europe\"],[\"Africa\"],[\"Africa\"],[\"North America\"],[\"South America\"],[\"North America\"],[\"Europe\"],[\"North America\"],[\"North America\"],[\"South America\"],[\"Asia\"],[\"Europe\"],[\"North America\"],[\"Europe\"],[\"Africa\"],[\"Africa\"],[\"Europe\"],[\"Africa\"],[\"North America\"],[\"Africa\"],[\"North America\"],[\"Asia\"],[\"North America\"],[\"Africa\"],[\"Africa\"],[\"North America\"],[\"North America\"],[\"Europe\"],[\"Asia\"],[\"Africa\"],[\"Europe\"],[\"Europe\"],[\"Africa\"],[\"Europe\"],[\"Asia\"],[\"Asia\"],[\"Asia\"],[\"Asia\"],[\"North America\"],[\"South America\"],[\"Africa\"],[\"Africa\"],[\"North America\"],[\"North America\"],[\"Africa\"],[\"South America\"],[\"Africa\"],[\"Asia\"],[\"Africa\"],[\"North America\"],[\"Asia\"],[\"North America\"],[\"Asia\"],[\"Asia\"],[\"Africa\"],[\"Europe\"],[\"Africa\"],[\"North America\"],[\"South America\"],[\"Europe\"],[\"Europe\"],[\"Asia\"],[\"Europe\"],[\"South America\"],[\"North America\"],[\"Asia\"],[\"Asia\"],[\"South America\"],[\"North America\"],[\"Europe\"],[\"North America\"],[\"North America\"],[\"Africa\"],[\"Asia\"],[\"Europe\"],[\"Asia\"],[\"Africa\"],[\"Africa\"],[\"Asia\"],[\"Africa\"],[\"Africa\"],[\"South America\"],[\"Africa\"],[\"Europe\"],[\"Europe\"],[\"Asia\"],[\"Africa\"],[\"North America\"],[\"Europe\"],[\"North America\"],[\"North America\"],[\"North America\"],[\"North America\"],[\"Asia\"],[\"Europe\"],[\"Europe\"],[\"North America\"],[\"Asia\"],[\"North America\"],[\"Europe\"],[\"North America\"],[\"Asia\"],[\"South America\"],[\"Europe\"],[\"Asia\"],[\"North America\"],[\"North America\"],[\"South America\"],[\"North America\"],[\"North America\"],[\"North America\"],[\"Africa\"],[\"North America\"],[\"North America\"],[\"Africa\"],[\"South America\"],[\"North America\"],[\"South America\"],[\"South America\"],[\"North America\"],[\"Africa\"],[\"Europe\"],[\"Asia\"],[\"North America\"],[\"North America\"],[\"South America\"],[\"North America\"],[\"Africa\"],[\"South America\"],[\"Africa\"],[\"South America\"],[\"Asia\"],[\"Africa\"],[\"South America\"],[\"Africa\"],[\"Africa\"],[\"Europe\"],[\"Europe\"],[\"Europe\"],[\"Europe\"],[\"Europe\"],[\"Europe\"],[\"North America\"],[\"North America\"],[\"Asia\"],[\"Africa\"],[\"North America\"],[\"Asia\"],[\"Africa\"],[\"Africa\"],[\"North America\"],[\"Africa\"],[\"North America\"],[\"Asia\"],[\"South America\"],[\"South America\"],[\"North America\"],[\"North America\"],[\"Africa\"],[\"North America\"],[\"North America\"],[\"Africa\"],[\"North America\"],[\"Europe\"],[\"North America\"],[\"North America\"],[\"Africa\"],[\"North America\"],[\"Asia\"],[\"North America\"],[\"Europe\"],[\"North America\"],[\"Africa\"],[\"South America\"],[\"South America\"],[\"Africa\"],[\"Asia\"],[\"Europe\"],[\"Asia\"],[\"Asia\"],[\"South America\"],[\"North America\"],[\"North America\"],[\"Europe\"],[\"Asia\"],[\"Africa\"],[\"Europe\"],[\"South America\"],[\"South America\"],[\"Asia\"],[\"South America\"],[\"North America\"],[\"North America\"],[\"Asia\"],[\"Europe\"],[\"Africa\"],[\"Africa\"],[\"Asia\"],[\"Europe\"],[\"North America\"],[\"Europe\"],[\"Africa\"],[\"Asia\"],[\"North America\"],[\"Europe\"],[\"Africa\"],[\"Asia\"],[\"Asia\"],[\"Europe\"],[\"North America\"],[\"Africa\"],[\"Europe\"],[\"Asia\"],[\"Asia\"],[\"Europe\"],[\"North America\"],[\"Asia\"],[\"North America\"],[\"Africa\"],[\"South America\"],[\"Asia\"],[\"Africa\"],[\"Africa\"],[\"Asia\"],[\"Europe\"],[\"Europe\"],[\"Europe\"],[\"Europe\"],[\"Europe\"],[\"Asia\"],[\"Africa\"],[\"Europe\"],[\"Asia\"],[\"Asia\"],[\"Asia\"],[\"North America\"],[\"Asia\"],[\"Europe\"],[\"Asia\"],[\"North America\"],[\"Asia\"],[\"Europe\"],[\"Europe\"],[\"North America\"],[\"North America\"],[\"North America\"],[\"Europe\"],[\"Europe\"],[\"Asia\"],[\"Europe\"],[\"Asia\"],[\"Europe\"],[\"Africa\"],[\"Europe\"],[\"Europe\"],[\"Europe\"],[\"North America\"],[\"North America\"],[\"South America\"],[\"North America\"],[\"Europe\"],[\"Africa\"],[\"Europe\"],[\"Asia\"],[\"Europe\"],[\"North America\"],[\"North America\"],[\"Africa\"],[\"North America\"],[\"South America\"],[\"Europe\"],[\"South America\"],[\"Asia\"],[\"Asia\"],[\"South America\"],[\"Africa\"],[\"Asia\"],[\"Africa\"],[\"South America\"],[\"Africa\"],[\"Africa\"],[\"Europe\"],[\"North America\"],[\"Europe\"],[\"Asia\"],[\"Africa\"],[\"Europe\"],[\"North America\"],[\"Asia\"],[\"Europe\"],[\"Europe\"],[\"North America\"],[\"South America\"],[\"Asia\"],[\"South America\"],[\"Asia\"],[\"Africa\"],[\"Asia\"],[\"North America\"],[\"Europe\"],[\"Asia\"],[\"Africa\"],[\"Africa\"],[\"North America\"],[\"Africa\"],[\"North America\"],[\"Europe\"],[\"North America\"],[\"Asia\"],[\"Europe\"],[\"Asia\"],[\"North America\"],[\"North America\"],[\"Europe\"],[\"North America\"],[\"North America\"],[\"North America\"],[\"South America\"],[\"Asia\"],[\"South America\"],[\"Africa\"],[\"Europe\"],[\"North America\"],[\"Asia\"],[\"North America\"],[\"Europe\"],[\"North America\"],[\"North America\"],[\"North America\"],[\"Africa\"],[\"South America\"],[\"Africa\"],[\"South America\"],[\"North America\"],[\"Europe\"],[\"Europe\"],[\"South America\"],[\"Africa\"],[\"North America\"],[\"North America\"],[\"Europe\"],[\"South America\"],[\"Europe\"],[\"Europe\"],[\"North America\"],[\"Europe\"],[\"South America\"],[\"Africa\"],[\"Asia\"],[\"South America\"],[\"Asia\"],[\"Africa\"],[\"North America\"],[\"Asia\"],[\"Europe\"],[\"Europe\"],[\"Europe\"],[\"Europe\"],[\"Europe\"],[\"North America\"],[\"Africa\"],[\"Europe\"],[\"Europe\"],[\"Africa\"],[\"Europe\"],[\"North America\"],[\"North America\"],[\"Asia\"],[\"South America\"],[\"Europe\"],[\"North America\"],[\"Europe\"],[\"North America\"],[\"South America\"],[\"Europe\"],[\"North America\"],[\"North America\"],[\"South America\"],[\"Asia\"],[\"North America\"],[\"South America\"],[\"Asia\"],[\"Africa\"],[\"Europe\"],[\"Asia\"],[\"Africa\"],[\"Europe\"],[\"Asia\"],[\"Europe\"],[\"North America\"],[\"Asia\"],[\"South America\"],[\"North America\"],[\"Europe\"],[\"Asia\"],[\"Asia\"],[\"South America\"],[\"Asia\"],[\"Europe\"],[\"South America\"],[\"Europe\"],[\"South America\"],[\"North America\"],[\"Asia\"],[\"South America\"],[\"Asia\"],[\"South America\"],[\"North America\"],[\"Asia\"],[\"Asia\"],[\"North America\"],[\"Asia\"],[\"Africa\"],[\"South America\"],[\"South America\"],[\"Asia\"],[\"Europe\"],[\"Africa\"],[\"North America\"],[\"North America\"],[\"Asia\"],[\"North America\"],[\"South America\"],[\"Europe\"],[\"North America\"],[\"Europe\"],[\"Europe\"],[\"Asia\"],[\"Africa\"],[\"South America\"],[\"North America\"],[\"Asia\"],[\"North America\"],[\"North America\"],[\"Asia\"],[\"Europe\"],[\"Asia\"],[\"Europe\"],[\"Africa\"],[\"South America\"],[\"Asia\"],[\"Europe\"],[\"Europe\"],[\"Europe\"],[\"Africa\"],[\"South America\"],[\"Asia\"],[\"Europe\"],[\"North America\"],[\"Europe\"],[\"Asia\"],[\"North America\"],[\"North America\"],[\"Africa\"],[\"North America\"],[\"North America\"],[\"Europe\"],[\"Africa\"],[\"North America\"],[\"North America\"],[\"Europe\"],[\"Asia\"],[\"Europe\"],[\"South America\"],[\"Asia\"],[\"Asia\"],[\"North America\"],[\"North America\"],[\"South America\"],[\"Asia\"],[\"Africa\"],[\"Europe\"],[\"North America\"],[\"Asia\"],[\"Africa\"],[\"North America\"],[\"Asia\"],[\"Europe\"],[\"Asia\"],[\"North America\"],[\"Asia\"],[\"Africa\"],[\"South America\"],[\"Europe\"],[\"South America\"],[\"North America\"],[\"South America\"],[\"Africa\"],[\"Europe\"],[\"South America\"],[\"South America\"],[\"Asia\"],[\"Asia\"],[\"Africa\"],[\"North America\"],[\"Europe\"],[\"North America\"],[\"Asia\"],[\"Europe\"],[\"Asia\"],[\"North America\"],[\"Asia\"],[\"Asia\"],[\"South America\"],[\"South America\"],[\"Africa\"],[\"Europe\"],[\"Europe\"],[\"Africa\"],[\"South America\"],[\"Asia\"],[\"Asia\"],[\"Asia\"],[\"North America\"],[\"North America\"],[\"South America\"],[\"Asia\"],[\"North America\"],[\"Europe\"],[\"Africa\"],[\"Africa\"],[\"Europe\"],[\"Europe\"],[\"South America\"],[\"Africa\"],[\"Europe\"],[\"North America\"],[\"Africa\"],[\"Africa\"],[\"Europe\"],[\"Asia\"],[\"Asia\"],[\"South America\"],[\"Africa\"],[\"South America\"],[\"South America\"],[\"Europe\"],[\"Africa\"],[\"Europe\"],[\"Europe\"],[\"Europe\"],[\"Africa\"],[\"North America\"],[\"Asia\"],[\"South America\"],[\"North America\"],[\"South America\"],[\"Europe\"],[\"Africa\"],[\"South America\"],[\"Asia\"],[\"Africa\"],[\"Africa\"],[\"Europe\"],[\"South America\"],[\"Europe\"],[\"Asia\"],[\"Asia\"],[\"Europe\"],[\"Africa\"],[\"Asia\"],[\"North America\"],[\"Asia\"],[\"North America\"],[\"Africa\"],[\"Europe\"],[\"South America\"],[\"Asia\"],[\"Europe\"],[\"North America\"],[\"North America\"],[\"North America\"],[\"Europe\"],[\"South America\"],[\"Europe\"],[\"Asia\"],[\"Africa\"],[\"South America\"],[\"North America\"],[\"Asia\"],[\"Europe\"],[\"Asia\"],[\"North America\"],[\"Asia\"],[\"Europe\"],[\"Asia\"],[\"South America\"],[\"Europe\"],[\"North America\"],[\"North America\"],[\"North America\"],[\"Africa\"],[\"North America\"],[\"Asia\"],[\"South America\"],[\"Africa\"],[\"Asia\"],[\"Europe\"],[\"Asia\"],[\"North America\"],[\"Asia\"],[\"North America\"],[\"North America\"],[\"Asia\"],[\"South America\"],[\"South America\"],[\"Asia\"],[\"Asia\"],[\"Europe\"],[\"Europe\"],[\"North America\"],[\"Europe\"],[\"North America\"],[\"Africa\"],[\"North America\"],[\"Europe\"],[\"Asia\"],[\"Africa\"],[\"South America\"],[\"Asia\"],[\"Europe\"],[\"North America\"],[\"North America\"],[\"Europe\"],[\"Asia\"],[\"South America\"],[\"Europe\"],[\"South America\"],[\"Asia\"],[\"North America\"],[\"Europe\"],[\"North America\"],[\"Asia\"],[\"Europe\"],[\"Asia\"],[\"Europe\"],[\"North America\"],[\"Europe\"],[\"Asia\"],[\"North America\"],[\"North America\"],[\"South America\"],[\"North America\"],[\"Europe\"],[\"Asia\"],[\"Africa\"],[\"Europe\"],[\"Europe\"],[\"Asia\"],[\"Africa\"],[\"North America\"],[\"South America\"],[\"North America\"],[\"North America\"],[\"North America\"],[\"North America\"],[\"Africa\"],[\"South America\"],[\"North America\"],[\"North America\"],[\"Asia\"],[\"North America\"],[\"Asia\"],[\"Asia\"],[\"Asia\"],[\"Asia\"],[\"Europe\"],[\"North America\"],[\"Europe\"],[\"Asia\"],[\"South America\"],[\"Asia\"],[\"Asia\"],[\"North America\"],[\"Asia\"],[\"South America\"],[\"Europe\"],[\"North America\"],[\"North America\"],[\"Asia\"],[\"North America\"],[\"Europe\"],[\"Asia\"],[\"North America\"],[\"North America\"],[\"South America\"],[\"South America\"],[\"Europe\"],[\"North America\"],[\"South America\"],[\"North America\"],[\"North America\"],[\"Africa\"],[\"Africa\"],[\"South America\"],[\"Europe\"],[\"Asia\"],[\"Asia\"],[\"South America\"],[\"Asia\"],[\"Africa\"],[\"South America\"],[\"North America\"],[\"South America\"],[\"Asia\"],[\"Asia\"],[\"Europe\"],[\"Africa\"],[\"Asia\"],[\"Europe\"],[\"Asia\"],[\"Africa\"],[\"Africa\"],[\"Europe\"],[\"North America\"],[\"South America\"],[\"Asia\"],[\"Africa\"],[\"Europe\"],[\"Africa\"],[\"North America\"],[\"South America\"],[\"North America\"],[\"North America\"],[\"Europe\"],[\"North America\"],[\"North America\"],[\"North America\"],[\"North America\"],[\"North America\"],[\"North America\"],[\"North America\"],[\"Asia\"],[\"South America\"],[\"North America\"],[\"North America\"],[\"Europe\"],[\"North America\"],[\"North America\"],[\"North America\"],[\"Europe\"],[\"Africa\"],[\"Europe\"],[\"Europe\"],[\"Africa\"],[\"Africa\"],[\"Europe\"],[\"Asia\"],[\"North America\"],[\"Asia\"],[\"Asia\"],[\"Asia\"],[\"South America\"],[\"Asia\"],[\"Europe\"],[\"North America\"],[\"South America\"],[\"Africa\"],[\"North America\"],[\"Asia\"],[\"Asia\"],[\"Asia\"],[\"Asia\"],[\"North America\"],[\"Europe\"],[\"South America\"],[\"Asia\"],[\"Asia\"],[\"South America\"],[\"Africa\"],[\"Africa\"],[\"Europe\"],[\"Asia\"],[\"South America\"],[\"Asia\"],[\"South America\"],[\"Asia\"],[\"Europe\"],[\"Africa\"],[\"Europe\"],[\"Europe\"],[\"Asia\"],[\"Europe\"],[\"North America\"],[\"North America\"],[\"Africa\"],[\"Asia\"],[\"North America\"],[\"Asia\"],[\"North America\"],[\"Africa\"],[\"Europe\"],[\"Europe\"],[\"Asia\"],[\"North America\"],[\"Asia\"],[\"Asia\"],[\"South America\"],[\"Europe\"],[\"Africa\"],[\"Africa\"],[\"Europe\"],[\"Africa\"],[\"Asia\"],[\"Asia\"],[\"Europe\"],[\"South America\"],[\"North America\"],[\"North America\"],[\"Africa\"],[\"North America\"],[\"South America\"],[\"North America\"],[\"Africa\"],[\"Asia\"],[\"Europe\"],[\"Africa\"],[\"Europe\"],[\"North America\"],[\"Africa\"],[\"Africa\"],[\"Africa\"],[\"Europe\"],[\"Africa\"],[\"Europe\"],[\"South America\"],[\"Africa\"],[\"South America\"],[\"North America\"],[\"Europe\"],[\"Europe\"],[\"North America\"],[\"Asia\"],[\"Europe\"],[\"Asia\"],[\"Asia\"],[\"South America\"],[\"South America\"],[\"Europe\"],[\"Europe\"],[\"South America\"],[\"Asia\"],[\"North America\"],[\"Europe\"],[\"Europe\"],[\"Europe\"],[\"Europe\"],[\"North America\"],[\"Europe\"],[\"Africa\"],[\"Asia\"],[\"Europe\"],[\"North America\"],[\"South America\"],[\"Africa\"],[\"Asia\"],[\"Europe\"],[\"North America\"],[\"South America\"],[\"Africa\"],[\"Asia\"],[\"Europe\"],[\"North America\"],[\"South America\"],[\"Africa\"],[\"Asia\"],[\"Europe\"],[\"North America\"],[\"South America\"],[\"Africa\"],[\"Asia\"],[\"Europe\"],[\"North America\"],[\"South America\"],[\"Africa\"],[\"Asia\"],[\"Europe\"],[\"North America\"],[\"South America\"],[\"Africa\"],[\"Asia\"],[\"Europe\"],[\"North America\"],[\"South America\"],[\"Africa\"],[\"Asia\"],[\"Europe\"],[\"North America\"],[\"South America\"],[\"Africa\"],[\"Asia\"],[\"Europe\"],[\"North America\"],[\"South America\"],[\"Africa\"],[\"Asia\"],[\"Europe\"],[\"North America\"],[\"South America\"],[\"Africa\"],[\"Asia\"],[\"Europe\"],[\"North America\"],[\"South America\"],[\"Africa\"],[\"Asia\"],[\"Europe\"],[\"North America\"],[\"South America\"],[\"Africa\"],[\"Asia\"],[\"Europe\"],[\"North America\"],[\"South America\"],[\"Africa\"],[\"Asia\"],[\"Europe\"],[\"North America\"],[\"South America\"],[\"Africa\"],[\"Asia\"],[\"Europe\"],[\"North America\"],[\"South America\"],[\"Africa\"],[\"Asia\"],[\"Europe\"],[\"North America\"],[\"South America\"],[\"Africa\"],[\"Asia\"],[\"Europe\"],[\"North America\"],[\"South America\"],[\"Africa\"],[\"Asia\"],[\"Europe\"],[\"North America\"],[\"South America\"],[\"Africa\"],[\"Asia\"],[\"Europe\"],[\"North America\"],[\"South America\"],[\"Africa\"],[\"Asia\"],[\"Europe\"],[\"North America\"],[\"South America\"],[\"Africa\"],[\"Asia\"],[\"Europe\"],[\"North America\"],[\"South America\"]],\"domain\":{\"x\":[0.0,1.0],\"y\":[0.0,1.0]},\"hovertemplate\":\"labels=%{label}<br>count=%{value}<br>parent=%{parent}<br>id=%{id}<br>continent=%{customdata[0]}<extra></extra>\",\"ids\":[\"North America/Animal/Lobster\",\"Europe/Dairy product/Buttermilk\",\"North America/Fish/Smoked_fish\",\"Europe/Vegetable/Cabbage\",\"Africa/Alcohol/Gin\",\"Europe/Plant/Parsley\",\"North America/Alcohol/Cabernet_sauvignon_wine\",\"Asia/Condiment/Gelatin\",\"Europe/Vegetable/Parsnip\",\"North America/Dairy product/Camembert_cheese\",\"Asia/Plant/Garlic\",\"South America/Alcohol/Sherry\",\"Europe/Fruit/Passion_fruit\",\"South America/Condiment/Cane_molasses\",\"Asia/Spice/Galanga\",\"Europe/Vegetable/Pea\",\"Asia/Spice/Cardamom\",\"North America/Meat/Frankfurter\",\"Europe/Plant/Fenugreek\",\"Africa/Vegetable/Cauliflower\",\"North America/Plant/Pear\",\"Europe/Plant/Seaweed\",\"Africa/Fish/Catfish\",\"Europe/Dairy product/Feta_cheese\",\"Asia/Spice/Ginger\",\"North America/Edible oil/Peanut_oil\",\"Africa/Fish/Fish\",\"Europe/Fruit/Carrot\",\"Asia/Legume/Peanut\",\"Asia/Plant/Flower\",\"North America/Plant/Carnation\",\"Africa/Plant/Shallot\",\"Europe/Nut/Cashew\",\"Asia/Meat/Smoked_sausage\",\"Africa/Dairy product/Parmesan_cheese\",\"Europe/Spread/Butter\",\"Europe/Animal/Squid\",\"Asia/Fruit/Guava\",\"Asia/Alcohol/Bourbon_whiskey\",\"Africa/Fruit/Orange\",\"Europe/Fish/Haddock\",\"North America/Plant/Blueberry\",\"Africa/Alcohol/Brandy\",\"Africa/Grain/Starch\",\"North America/Meat/Ham\",\"Europe/Dairy product/Blue_cheese\",\"Asia/Edible oil/Olive_oil\",\"North America/Nut/Hazelnut\",\"Asia/Alcohol/Blackberry_brandy\",\"North America/Fruit/Strawberry_juice\",\"Asia/Vegetable/Onion\",\"North America/Plant/Fennel\",\"Europe/Plant/Orange_flower\",\"Asia/Fruit/Orange_juice\",\"Asia/Dairy product/Goat_cheese\",\"North America/Plant/Palm\",\"Asia/Plant/Buckwheat\",\"Asia/Fruit/Grape\",\"Africa/Condiment/Soy_sauce\",\"North America/Grain/Brown_rice\",\"Europe/Beverage/Green_tea\",\"Asia/Alcohol/Grape_brandy\",\"North America/Plant/Broccoli\",\"Africa/Plant/Oregano\",\"Asia/Fruit/Grapefruit\",\"North America/Grain/Bread\",\"Europe/Plant/Green_bell_pepper\",\"North America/Plant/Brassica\",\"North America/Alcohol/Ouzo\",\"Asia/Plant/Olive\",\"North America/Spread/Caviar\",\"North America/Spice/Cayenne\",\"Asia/Others/Potato\",\"North America/Plant/Chicory\",\"Europe/Plant/Cranberry\",\"Asia/Dairy product/Romano_cheese\",\"Asia/Animal/Prawn\",\"Europe/Plant/Roasted_sesame_seed\",\"Europe/Animal/Crab\",\"Asia/Beverage/Cider\",\"North America/Dairy product/Cottage_cheese\",\"Asia/Plant/Prickly_pear\",\"Europe/Legume/Roasted_peanut\",\"South America/Plant/Cilantro\",\"Europe/Dairy product/Provolone_cheese\",\"South America/Meat/Roasted_meat\",\"Asia/Others/Corn_grit\",\"South America/Spice/Cinnamon\",\"Africa/Meat/Roasted_meat\",\"South America/Legume/Red_kidney_bean\",\"Asia/Beverage/Coffee\",\"Asia/Fruit/Raspberry\",\"Europe/Alcohol/Cognac\",\"South America/Fruit/Cocoa\",\"Europe/Fruit/Raisin\",\"Asia/Dairy product/Roquefort_cheese\",\"North America/Condiment/Condiment\",\"Africa/Grain/Corn\",\"North America/Animal/Clam\",\"Asia/Meat/Roasted_beef\",\"Europe/Fruit/Quince\",\"South America/Plant/Citrus\",\"Africa/Grain/Corn_flake\",\"South America/Plant/Clove\",\"Africa/Legume/Chickpea\",\"South America/Meat/Pork_sausage\",\"Europe/Dairy product/Cream_cheese\",\"South America/Fruit/Pineapple\",\"North America/Plant/Sage\",\"North America/Alcohol/Champagne_wine\",\"Africa/Animal produce/Egg\",\"North America/Spice/Pimento\",\"Europe/Plant/Chamomile\",\"Africa/Dairy product/Cheddar_cheese\",\"North America/Edible oil/Peppermint_oil\",\"South America/Edible oil/Celery_oil\",\"North America/Animal produce/Salmon_roe\",\"South America/Plant/Celery\",\"North America/Plant/Pelargonium\",\"South America/Vegetable/Endive\",\"North America/Others/Savory\",\"Europe/Fish/Salmon\",\"Asia/Plant/Pecan\",\"North America/Fruit/Pistachio\",\"Asia/Fruit/Date\",\"North America/Others/Chicken_broth\",\"North America/Plant/Rose\",\"Africa/Meat/Pork_sausage\",\"Europe/Plant/Cucumber\",\"Europe/Meat/Chicken\",\"North America/Fungus/Porcini\",\"Africa/Dairy product/Cheese\",\"Europe/Plant/Chervil\",\"Europe/Meat/Cured_pork\",\"South America/Fruit/Cherry\",\"Asia/Plant/Currant\",\"Asia/Grain/Rye_bread\",\"Africa/Fruit/Cherry\",\"North America/Fruit/Plum\",\"Asia/Alcohol/Rum\",\"North America/Beverage/Black_tea\",\"Asia/Fish/Cod\",\"South America/Fungus/Mushroom\",\"North America/Plant/Beech\",\"Europe/Dairy product/Munster_cheese\",\"North America/Vegetable/Artichoke\",\"North America/Fungus/Truffle\",\"North America/Fruit/Mango\",\"Asia/Legume/Lima_bean\",\"South America/Meat/Beef\",\"North America/Meat/Lamb\",\"Africa/Fruit/Watermelon\",\"Africa/Fungus/Mushroom\",\"North America/Others/Beef_broth\",\"Europe/Plant/Kumquat\",\"North America/Alcohol/Armagnac\",\"Asia/Fruit/Tomato\",\"Africa/Alcohol/Beer\",\"Asia/Fruit/Mandarin_peel\",\"Europe/Fruit/Apricot\",\"Europe/Fruit/Kiwi\",\"Asia/Plant/Beet\",\"Europe/Condiment/Mustard\",\"Europe/Grain/Wheat_bread\",\"Europe/Plant/Thai_pepper\",\"Africa/Fruit/Mandarin\",\"North America/Animal produce/Lard\",\"Africa/Fruit/Lime_juice\",\"Asia/Plant/Licorice\",\"Europe/Dairy product/Mozzarella_cheese\",\"Africa/Fruit/Lemon_peel\",\"Africa/Dairy product/Milk\",\"South America/Meat/Veal\",\"North America/Fruit/Banana\",\"Africa/Plant/Lemongrass\",\"Asia/Spice/Vanilla\",\"Africa/Condiment/Lemon_juice\",\"North America/Meat/Bacon\",\"South America/Dairy product/Milk\",\"North America/Grain/Barley\",\"Asia/Meat/Meat\",\"Asia/Legume/Lentil\",\"South America/Plant/Turmeric\",\"Africa/Plant/Basil\",\"North America/Plant/Holy_basil\",\"North America/Fruit/Avocado\",\"Europe/Plant/Leek\",\"South America/Meat/Turkey\",\"North America/Plant/Violet\",\"Africa/Plant/Bay\",\"Europe/Plant/Mint\",\"North America/Plant/Lavender\",\"Africa/Legume/Bean\",\"North America/Vegetable/Asparagus\",\"Asia/Spice/Bell_pepper\",\"North America/Others/Baked_potato\",\"Asia/Legume/Kidney_bean\",\"Europe/Fruit/Berry\",\"Africa/Nut/Macadamia_nut\",\"Africa/Plant/Kale\",\"North America/Fruit/Nut\",\"Asia/Plant/Lingonberry\",\"Europe/Fruit/Tangerine\",\"South America/Nut/Macadamia_nut\",\"North America/Plant/Oat\",\"Europe/Fruit/Litchi\",\"South America/Plant/Anise\",\"Africa/Plant/Black_bean\",\"North America/Plant/Huckleberry\",\"Asia/Dairy product/Yogurt\",\"North America/Beverage/Jasmine_tea\",\"North America/Spice/Nutmeg\",\"Europe/Plant/Black_currant\",\"North America/Plant/Tabasco_pepper\",\"Africa/Fruit/Apple\",\"Africa/Plant/Horseradish\",\"Asia/Spice/Black_pepper\",\"Europe/Plant/Bergamot\",\"South America/Plant/Almond\",\"Asia/Meat/Mutton\",\"North America/Animal produce/Liver\",\"Africa/Plant/Okra\",\"North America/Plant/Black_raspberry\",\"Asia/Alcohol/Apple_brandy\",\"Europe/Others/Katsuobushi\",\"Asia/Nut/Macadamia_nut\",\"Africa/Plant/Dill\",\"North America/Fruit/Zucchini\",\"Asia/Vegetable/Lettuce\",\"North America/Meat/Raw_beef\",\"North America/Fruit/Litchi\",\"Africa/Fruit/Pistachio\",\"North America/Beverage/Mate\",\"South America/Animal produce/Liver\",\"South America/Fruit/Plum\",\"South America/Fruit/Pistachio\",\"Europe/Meat/Meat\",\"Europe/Grain/Popcorn\",\"North America/Fruit/Raisin\",\"Asia/Fruit/Concord_grape\",\"Europe/Legume/Lentil\",\"Europe/Fruit/Date\",\"Europe/Beverage/Coffee\",\"Asia/Plant/Lemongrass\",\"Africa/Meat/Pork\",\"Europe/Fruit/Raspberry\",\"Europe/Plant/Currant\",\"North America/Meat/Cured_pork\",\"Europe/Plant/Cumin\",\"Europe/Condiment/Maple_syrup\",\"Asia/Plant/Coriander\",\"Asia/Grain/Corn_flake\",\"Asia/Plant/Melon\",\"North America/Dairy product/Provolone_cheese\",\"Africa/Others/Potato_chip\",\"Asia/Spice/Mace\",\"North America/Animal/Crab\",\"Asia/Fruit/Lime\",\"Asia/Fruit/Mandarin\",\"Africa/Edible oil/Lime_peel_oil\",\"Europe/Animal/Prawn\",\"South America/Dairy product/Cottage_cheese\",\"North America/Fish/Mackerel\",\"Europe/Others/Corn_grit\",\"Asia/Fruit/Lime_juice\",\"Europe/Plant/Prickly_pear\",\"North America/Fruit/Mandarin_peel\",\"Europe/Plant/Marjoram\",\"Asia/Grain/Macaroni\",\"North America/Plant/Cranberry\",\"South America/Meat/Pork\",\"Europe/Vegetable/Radish\",\"North America/Plant/Cucumber\",\"South America/Others/Corn_grit\",\"North America/Fruit/Quince\",\"Europe/Plant/Licorice\",\"Asia/Meat/Pork_sausage\",\"North America/Dairy product/Cream_cheese\",\"South America/Fruit/Mango\",\"Asia/Grain/Corn\",\"Asia/Alcohol/Port_wine\",\"Europe/Plant/Lingonberry\",\"North America/Dairy product/Cream\",\"Europe/Fruit/Pumpkin\",\"Europe/Others/Potato\",\"Europe/Legume/Lima_bean\",\"Africa/Condiment/Honey\",\"Europe/Plant/Pecan\",\"Asia/Fruit/Lemon_peel\",\"Asia/Plant/Oregano\",\"Europe/Fruit/Grape_juice\",\"Asia/Plant/Kale\",\"North America/Vegetable/Nira\",\"North America/Alcohol/Grape_brandy\",\"North America/Meat/Mutton\",\"Europe/Fish/Cod\",\"Europe/Fruit/Grape\",\"North America/Others/Katsuobushi\",\"Africa/Plant/Palm\",\"Europe/Dairy product/Goat_cheese\",\"Asia/Plant/Papaya\",\"Europe/Legume/Kidney_bean\",\"North America/Condiment/Mustard\",\"Europe/Spice/Ginger\",\"Asia/Dairy product/Parmesan_cheese\",\"South America/Dairy product/Parmesan_cheese\",\"Asia/Alcohol/Gin\",\"North America/Fruit/Kiwi\",\"Europe/Fruit/Grapefruit\",\"North America/Animal/Mussel\",\"Asia/Fruit/Orange_peel\",\"South America/Fruit/Nut\",\"Asia/Plant/Okra\",\"Europe/Plant/Olive\",\"Asia/Fish/Herring\",\"North America/Condiment/Honey\",\"North America/Grain/Oatmeal\",\"Europe/Edible oil/Olive_oil\",\"South America/Meat/Ham\",\"Asia/Plant/Horseradish\",\"Europe/Vegetable/Onion\",\"South America/Plant/Oat\",\"North America/Fish/Haddock\",\"North America/Alcohol/Jamaican_rum\",\"Europe/Fruit/Guava\",\"Europe/Fruit/Orange\",\"South America/Spice/Nutmeg\",\"North America/Beverage/Green_tea\",\"North America/Plant/Orange_flower\",\"Europe/Fruit/Juniper_berry\",\"North America/Plant/Green_bell_pepper\",\"Europe/Fruit/Orange_juice\",\"Asia/Animal/Mussel\",\"South America/Plant/Parsley\",\"Europe/Condiment/Gelatin\",\"South America/Plant/Pear\",\"South America/Plant/Fennel\",\"North America/Plant/Leek\",\"South America/Dairy product/Milk_fat\",\"North America/Fungus/Enokidake\",\"Europe/Fruit/Lemon\",\"Africa/Dairy product/Milk_fat\",\"Asia/Spice/Pepper\",\"North America/Dairy product/Emmental_cheese\",\"South America/Spice/Pepper\",\"Asia/Plant/Elderberry\",\"Europe/Plant/Peppermint\",\"North America/Others/Egg_noodle\",\"Asia/Condiment/Lemon_juice\",\"Africa/Others/Egg_noodle\",\"Asia/Plant/Pimenta\",\"Europe/Animal produce/Egg\",\"Asia/Dairy product/Milk\",\"Africa/Fruit/Pineapple\",\"North America/Plant/Fenugreek\",\"North America/Plant/Mint\",\"South America/Edible oil/Peanut_oil\",\"Asia/Plant/Leaf\",\"North America/Vegetable/Parsnip\",\"Europe/Plant/Garlic\",\"North America/Plant/Kumquat\",\"Asia/Fungus/Mushroom\",\"North America/Fruit/Passion_fruit\",\"Europe/Spice/Galanga\",\"North America/Vegetable/Pea\",\"South America/Meat/Lamb\",\"Africa/Fruit/Fruit\",\"South America/Plant/Dill\",\"North America/Dairy product/Munster_cheese\",\"Europe/Plant/Flower\",\"Europe/Legume/Peanut\",\"South America/Animal produce/Lard\",\"Asia/Fish/Fish\",\"North America/Dairy product/Mozzarella_cheese\",\"Africa/Spread/Peanut_butter\",\"Europe/Plant/Fig\",\"South America/Spread/Peanut_butter\",\"North America/Dairy product/Feta_cheese\",\"Europe/Plant/Peach\",\"South America/Alcohol/Ouzo\",\"Africa/Plant/Almond\",\"Africa/Vegetable/Brussels_sprout\",\"Africa/Plant/Soybean\",\"South America/Grain/Bread\",\"South America/Plant/Soybean\",\"South America/Plant/Brassica\",\"North America/Plant/Spearmint\",\"South America/Alcohol/Brandy\",\"North America/Plant/Squash\",\"Asia/Alcohol/Brandy\",\"North America/Animal/Squid\",\"Europe/Alcohol/Bourbon_whiskey\",\"Europe/Plant/Star_anise\",\"Asia/Edible oil/Bone_oil\",\"Asia/Grain/Starch\",\"North America/Dairy product/Blue_cheese\",\"South America/Fruit/Strawberry\",\"Europe/Alcohol/Blackberry_brandy\",\"Europe/Plant/Sumac\",\"Asia/Fruit/Blackberry\",\"Europe/Edible oil/Sunflower_oil\",\"North America/Plant/Black_sesame_seed\",\"South America/Root vegetables/Sweet_potato\",\"Europe/Spice/Black_pepper\",\"Asia/Dairy product/Swiss_cheese\",\"Africa/Grain/Brown_rice\",\"Europe/Condiment/Soy_sauce\",\"Asia/Legume/Red_kidney_bean\",\"North America/Dairy product/Sour_milk\",\"North America/Plant/Seaweed\",\"Asia/Plant/Seed\",\"North America/Nut/Cashew\",\"Africa/Edible oil/Sesame_oil\",\"North America/Fruit/Carrot\",\"Europe/Edible oil/Sesame_oil\",\"Asia/Plant/Carob\",\"South America/Plant/Sesame_seed\",\"Europe/Spice/Cardamom\",\"South America/Plant/Shallot\",\"North America/Animal/Shellfish\",\"Asia/Plant/Tabasco_pepper\",\"Asia/Plant/Caraway\",\"Africa/Condiment/Cane_molasses\",\"Europe/Fungus/Shiitake\",\"Asia/Plant/Cacao\",\"North America/Vegetable/Cabbage\",\"Africa/Fish/Smoked_salmon\",\"North America/Dairy product/Buttermilk\",\"Africa/Meat/Smoked_sausage\",\"North America/Spread/Butter\",\"North America/Meat/Smoked_sausage\",\"Europe/Plant/Buckwheat\",\"Africa/Dairy product/Sour_milk\",\"North America/Alcohol/Sherry\",\"North America/Plant/Black_currant\",\"Asia/Plant/Tamarind\",\"Asia/Plant/Black_bean\",\"Asia/Meat/Veal\",\"South America/Meat/Bacon\",\"Asia/Vegetable/Vegetable\",\"South America/Fruit/Avocado\",\"North America/Edible oil/Vegetable_oil\",\"South America/Vegetable/Asparagus\",\"Africa/Nut/Walnut\",\"Europe/Plant/Wasabi\",\"South America/Vegetable/Artichoke\",\"North America/Vegetable/Watercress\",\"North America/Plant/Artemisia\",\"North America/Plant/Balm\",\"Europe/Fruit/Watermelon\",\"South America/Grain/Wheat_bread\",\"Europe/Alcohol/Apple_brandy\",\"Europe/Alcohol/Whiskey\",\"North America/Others/Wood\",\"Asia/Fruit/Apple\",\"Africa/Fungus/Yeast\",\"Asia/Plant/Anise_seed\",\"Europe/Dairy product/Yogurt\",\"North America/Plant/Angelica\",\"Africa/Fruit/Zucchini\",\"Europe/Fruit/Zucchini\",\"North America/Fruit/Apricot\",\"Asia/Fish/Catfish\",\"North America/Spice/Vanilla\",\"Asia/Root vegetables/Turnip\",\"Asia/Fruit/Tangerine\",\"Africa/Plant/Bitter_orange\",\"Asia/Plant/Tarragon\",\"North America/Plant/Bergamot\",\"South America/Plant/Tarragon\",\"Europe/Alcohol/Tequila\",\"Europe/Spice/Bell_pepper\",\"Africa/Plant/Thai_pepper\",\"Europe/Plant/Beet\",\"North America/Plant/Thyme\",\"Asia/Alcohol/Beer\",\"South America/Fruit/Banana\",\"Asia/Meat/Beef_liver\",\"South America/Fruit/Tomato\",\"Africa/Others/Beef_broth\",\"South America/Fruit/Tomato_juice\",\"Africa/Meat/Beef\",\"Asia/Fish/Tuna\",\"North America/Fish/Tuna\",\"Asia/Legume/Bean\",\"Asia/Plant/Bay\",\"Africa/Plant/Turmeric\",\"Asia/Plant/Basil\",\"Asia/Plant/Bartlett_pear\",\"Europe/Fruit/Tomato\",\"Europe/Vegetable/Cauliflower\",\"South America/Grain/Rice\",\"Asia/Legume/Chickpea\",\"Africa/Grain/Cereal\",\"Europe/Plant/Chive\",\"North America/Plant/Roasted_sesame_seed\",\"South America/Animal/Clam\",\"Africa/Fish/Salmon\",\"Africa/Alcohol/Rum\",\"North America/Plant/Chamomile\",\"Europe/Meat/Roasted_beef\",\"North America/Plant/Chervil\",\"Europe/Alcohol/Sake\",\"Europe/Beverage/Cider\",\"North America/Fruit/Citrus_peel\",\"South America/Plant/Sage\",\"Africa/Plant/Chayote\",\"Europe/Plant/Rosemary\",\"Europe/Meat/Roasted_pork\",\"Europe/Root vegetables/Rutabaga\",\"South America/Spice/Saffron\",\"Asia/Dairy product/Cheddar_cheese\",\"Asia/Alcohol/Cherry_brandy\",\"Africa/Plant/Citrus\",\"Europe/Spice/Saffron\",\"North America/Legume/Roasted_peanut\",\"North America/Fruit/Roasted_nut\",\"Asia/Plant/Cilantro\",\"Africa/Spice/Cinnamon\",\"Asia/Dairy product/Cheese\",\"Asia/Fruit/Cherry\",\"Europe/Grain/Rye_bread\",\"Europe/Others/Rye_flour\",\"Asia/Meat/Roasted_meat\",\"Africa/Grain/Rice\",\"North America/Plant/Long_pepper\",\"North America/Plant/Sassafras\",\"Africa/Fruit/Coconut\",\"Africa/Plant/Celery\",\"North America/Alcohol/Red_wine\",\"South America/Others/Chicken_broth\",\"Asia/Vegetable/Rhubarb\",\"North America/Vegetable/Sauerkraut\",\"South America/Plant/Rose\",\"South America/Others/Savory\",\"Asia/Animal/Scallop\",\"North America/Plant/Root\",\"North America/Dairy product/Roquefort_cheese\",\"Africa/Alcohol/Red_wine\",\"Africa/Fruit/Cocoa\",\"South America/Meat/Chicken\",\"Africa/Edible oil/Celery_oil\",\"North America/Vegetable/Scallion\",\"North America/Vegetable/Chinese_cabbage\",\"Africa/Spice/Cayenne\",\"South America/Fruit/Coconut\",\"North America/Legume/Chickpea\",\"Europe/Beverage/Tea\",\"Europe/Meat/Mutton\",\"South America/Fish/Tuna\",\"Asia/Meat/Turkey\",\"South America/Plant/Mint\",\"Europe/Meat/Turkey\",\"North America/Alcohol/Tequila\",\"South America/Dairy product/Romano_cheese\",\"South America/Animal/Mussel\",\"North America/Others/Potato\",\"South America/Plant/Thyme\",\"Asia/Others/Potato_chip\",\"North America/Fungus/Mushroom\",\"North America/Fruit/Tomato\",\"Asia/Plant/Turmeric\",\"North America/Meat/Roasted_pork\",\"South America/Dairy product/Munster_cheese\",\"Europe/Dairy product/Romano_cheese\",\"Asia/Plant/Thyme\",\"Asia/Fungus/Truffle\",\"North America/Plant/Thai_pepper\",\"Africa/Fish/Tuna\",\"North America/Animal/Prawn\",\"South America/Plant/Roasted_sesame_seed\",\"South America/Dairy product/Mozzarella_cheese\",\"North America/Plant/Roasted_pecan\",\"Africa/Plant/Mint\",\"North America/Alcohol/Pear_brandy\",\"Asia/Dairy product/Milk_fat\",\"Africa/Fruit/Mango\",\"Asia/Fruit/Watermelon\",\"North America/Grain/Wheat\",\"Europe/Fruit/Mandarin\",\"North America/Vegetable/Radish\",\"North America/Grain/Wheat_bread\",\"North America/Vegetable/Rhubarb\",\"Asia/Grain/Malt\",\"Asia/Alcohol/Whiskey\",\"Europe/Spice/Mace\",\"South America/Alcohol/Red_wine\",\"Europe/Grain/Macaroni\",\"South America/Fruit/Raisin\",\"Europe/Plant/Yam\",\"South America/Plant/Yam\",\"Europe/Nut/Macadamia_nut\",\"Africa/Dairy product/Yogurt\",\"Asia/Alcohol/Red_wine\",\"Asia/Fruit/Zucchini\",\"Europe/Legume/Red_kidney_bean\",\"Asia/Plant/Lovage\",\"Asia/Grain/Rice\",\"North America/Plant/Prickly_pear\",\"Africa/Vegetable/Radish\",\"Africa/Condiment/Maple_syrup\",\"Africa/Root vegetables/Turnip\",\"Africa/Legume/Roasted_peanut\",\"North America/Root vegetables/Turnip\",\"Europe/Dairy product/Milk\",\"Europe/Spice/Vanilla\",\"Europe/Meat/Roasted_meat\",\"Africa/Meat/Veal\",\"Europe/Plant/Melon\",\"Europe/Alcohol/Port_wine\",\"Africa/Plant/Melon\",\"Africa/Vegetable/Vegetable\",\"North America/Meat/Roasted_beef\",\"South America/Vegetable/Vegetable\",\"North America/Fungus/Matsutake\",\"Europe/Edible oil/Vegetable_oil\",\"North America/Fruit/Pumpkin\",\"North America/Plant/Marjoram\",\"South America/Condiment/Vinegar\",\"Asia/Plant/Marjoram\",\"Europe/Plant/Roasted_almond\",\"North America/Nut/Walnut\",\"Europe/Vegetable/Watercress\",\"Africa/Fruit/Pumpkin\",\"Africa/Plant/Oat\",\"Europe/Plant/Tarragon\",\"Africa/Fungus/Shiitake\",\"North America/Fungus/Shiitake\",\"Africa/Vegetable/Parsnip\",\"North America/Plant/Peppermint\",\"Asia/Animal/Shrimp\",\"North America/Animal/Shrimp\",\"Africa/Others/Smoke\",\"Africa/Plant/Parsley\",\"North America/Others/Smoke\",\"North America/Alcohol/Sake\",\"Europe/Dairy product/Parmesan_cheese\",\"Asia/Fish/Smoked_salmon\",\"Africa/Spice/Pimento\",\"Europe/Plant/Papaya\",\"Europe/Meat/Smoked_sausage\",\"Africa/Alcohol/Sake\",\"Europe/Plant/Sour_cherry\",\"Asia/Plant/Palm\",\"Asia/Dairy product/Sour_milk\",\"Asia/Fruit/Pineapple\",\"Asia/Animal/Oyster\",\"North America/Fish/Salmon\",\"South America/Vegetable/Parsnip\",\"Africa/Alcohol/Sherry\",\"Africa/Plant/Peppermint\",\"North America/Animal/Scallop\",\"North America/Plant/Sea_algae\",\"Africa/Plant/Pear\",\"South America/Vegetable/Scallion\",\"Africa/Plant/Seed\",\"Asia/Edible oil/Peanut_oil\",\"Africa/Vegetable/Scallion\",\"North America/Plant/Seed\",\"Asia/Spread/Peanut_butter\",\"North America/Plant/Pecan\",\"Asia/Plant/Sage\",\"Asia/Edible oil/Sesame_oil\",\"Africa/Plant/Sesame_seed\",\"Europe/Plant/Sesame_seed\",\"Africa/Others/Savory\",\"North America/Plant/Peach\",\"South America/Vegetable/Pea\",\"Europe/Plant/Shallot\",\"Europe/Spice/Pepper\",\"Asia/Vegetable/Sauerkraut\",\"Europe/Dairy product/Sheep_cheese\",\"South America/Fruit/Passion_fruit\",\"North America/Legume/Peanut\",\"Asia/Fruit/Nectarine\",\"Asia/Condiment/Soy_sauce\",\"South America/Condiment/Soy_sauce\",\"North America/Fish/Sturgeon_caviar\",\"Europe/Plant/Okra\",\"North America/Plant/Sumac\",\"North America/Plant/Rosemary\",\"Africa/Root vegetables/Sweet_potato\",\"Asia/Meat/Pork\",\"Europe/Root vegetables/Sweet_potato\",\"Asia/Animal/Octopus\",\"Africa/Grain/Oatmeal\",\"Africa/Dairy product/Swiss_cheese\",\"Asia/Animal produce/Pork_liver\",\"Africa/Plant/Tabasco_pepper\",\"Africa/Plant/Rosemary\",\"South America/Plant/Tabasco_pepper\",\"Africa/Spice/Nutmeg\",\"Europe/Meat/Pork_sausage\",\"Europe/Plant/Tamarind\",\"Asia/Plant/Rose\",\"Africa/Fruit/Nut\",\"North America/Fruit/Tangerine\",\"Europe/Dairy product/Roquefort_cheese\",\"North America/Grain/Popcorn\",\"North America/Plant/Olive\",\"North America/Alcohol/Rum\",\"North America/Fruit/Strawberry\",\"Asia/Fruit/Pistachio\",\"Europe/Plant/Soybean\",\"Europe/Fruit/Orange_peel\",\"North America/Spice/Saffron\",\"Asia/Edible oil/Soybean_oil\",\"North America/Fruit/Orange_juice\",\"Europe/Plant/Spearmint\",\"North America/Others/Rye_flour\",\"Asia/Plant/Squash\",\"South America/Plant/Orange_flower\",\"Europe/Plant/Oregano\",\"Asia/Fruit/Plum\",\"North America/Grain/Rye_bread\",\"North America/Fruit/Orange\",\"South America/Animal/Squid\",\"North America/Root vegetables/Rutabaga\",\"North America/Vegetable/Onion\",\"North America/Plant/Star_anise\",\"Africa/Grain/Popcorn\",\"North America/Grain/Starch\",\"North America/Edible oil/Olive_oil\",\"Africa/Fruit/Strawberry\",\"South America/Plant/Squash\",\"North America/Plant/Red_algae\",\"South America/Fruit/Zucchini\",\"South America/Dairy product/Cream_cheese\",\"North America/Animal produce/Egg\",\"Africa/Meat/Bacon\",\"Europe/Plant/Durian\",\"Asia/Plant/Dill\",\"North America/Fruit/Date\",\"North America/Plant/Currant\",\"South America/Meat/Cured_pork\",\"North America/Plant/Cumin\",\"Africa/Others/Baked_potato\",\"South America/Plant/Cucumber\",\"Africa/Fruit/Banana\",\"South America/Dairy product/Cream\",\"Asia/Others/Egg_noodle\",\"Africa/Dairy product/Cream\",\"South America/Animal/Crab\",\"Africa/Animal/Crab\",\"Africa/Dairy product/Cottage_cheese\",\"Europe/Grain/Corn_flake\",\"Europe/Grain/Corn\",\"Europe/Plant/Bartlett_pear\",\"Europe/Plant/Coriander\",\"Europe/Fruit/Concord_grape\",\"Europe/Plant/Basil\",\"North America/Beverage/Coffee\",\"North America/Fish/Cod\",\"Asia/Edible oil/Coconut_oil\",\"Africa/Grain/Barley\",\"North America/Plant/Elderberry\",\"Asia/Vegetable/Endive\",\"Africa/Plant/Fennel\",\"Africa/Nut/Hazelnut\",\"North America/Alcohol/Apple_brandy\",\"Africa/Meat/Ham\",\"North America/Fruit/Guava\",\"Asia/Dairy product/Gruyere_cheese\",\"South America/Plant/Green_bell_pepper\",\"South America/Fruit/Apricot\",\"North America/Fruit/Grapefruit\",\"North America/Fruit/Grape_juice\",\"Africa/Fruit/Grape_juice\",\"North America/Fruit/Grape\",\"North America/Dairy product/Goat_cheese\",\"Africa/Vegetable/Artichoke\",\"North America/Spice/Ginger\",\"Europe/Alcohol/Gin\",\"North America/Condiment/Gelatin\",\"North America/Plant/Garlic\",\"Africa/Vegetable/Asparagus\",\"North America/Spice/Galanga\",\"Asia/Fruit/Fruit\",\"North America/Plant/Flower\",\"Europe/Fish/Fish\",\"North America/Plant/Fig\",\"Africa/Fruit/Avocado\",\"South America/Dairy product/Feta_cheese\",\"South America/Plant/Fenugreek\",\"Africa/Plant/Fenugreek\",\"Asia/Fruit/Coconut\",\"Europe/Fish/Herring\",\"Asia/Fruit/Cocoa\",\"Asia/Plant/Clove\",\"South America/Fruit/Carrot\",\"North America/Plant/Carob\",\"North America/Spice/Cardamom\",\"Europe/Plant/Caraway\",\"Asia/Condiment/Cane_molasses\",\"Africa/Fruit/Berry\",\"Europe/Plant/Cacao\",\"South America/Vegetable/Cabbage\",\"South America/Dairy product/Buttermilk\",\"Asia/Plant/Bitter_orange\",\"South America/Spread/Butter\",\"North America/Plant/Buckwheat\",\"North America/Spice/Bell_pepper\",\"Asia/Vegetable/Brussels_sprout\",\"Europe/Plant/Black_bean\",\"Africa/Plant/Broccoli\",\"Africa/Grain/Bread\",\"Asia/Plant/Brassica\",\"Europe/Alcohol/Brandy\",\"North America/Alcohol/Bourbon_whiskey\",\"Europe/Edible oil/Bone_oil\",\"Africa/Plant/Blueberry\",\"Asia/Edible oil/Black_mustard_seed_oil\",\"North America/Alcohol/Blackberry_brandy\",\"Europe/Fruit/Blackberry\",\"Africa/Beverage/Black_tea\",\"Asia/Grain/Brown_rice\",\"Asia/Plant/Cassava\",\"Europe/Fish/Catfish\",\"North America/Vegetable/Cauliflower\",\"Africa/Animal/Clam\",\"Europe/Legume/Bean\",\"Asia/Plant/Citrus\",\"Asia/Spice/Cinnamon\",\"Europe/Plant/Cilantro\",\"North America/Beverage/Cider\",\"Asia/Meat/Beef\",\"North America/Plant/Chive\",\"Africa/Plant/Chive\",\"South America/Legume/Chickpea\",\"Asia/Animal produce/Chicken_liver\",\"Africa/Others/Chicken_broth\",\"Africa/Meat/Chicken\",\"Asia/Others/Beef_broth\",\"Europe/Alcohol/Cherry_brandy\",\"Europe/Fruit/Cherry\",\"Europe/Dairy product/Cheese\",\"Europe/Meat/Beef_liver\",\"Europe/Dairy product/Cheddar_cheese\",\"Asia/Plant/Chayote\",\"Africa/Alcohol/Champagne_wine\",\"Europe/Alcohol/Beer\",\"Asia/Grain/Cereal\",\"Asia/Edible oil/Celery_oil\",\"Asia/Plant/Celery\",\"North America/Plant/Beet\",\"Asia/Spice/Cayenne\",\"Europe/Plant/Bay\",\"Asia/Condiment/Honey\",\"North America/Spice/Black_pepper\",\"Asia/Plant/Anise\",\"Europe/Condiment/Lemon_juice\",\"Europe/Plant/Horseradish\",\"North America/Plant/Kelp\",\"North America/Plant/Lingonberry\",\"North America/Legume/Lentil\",\"Europe/Plant/Kale\",\"Europe/Plant/Leaf\",\"Asia/Plant/Almond\",\"Europe/Fruit/Lime\",\"Asia/Edible oil/Lime_peel_oil\",\"Europe/Vegetable/Lettuce\",\"Africa/Meat/Lamb\",\"Europe/Plant/Laurel\",\"Europe/Fruit/Lemon_peel\",\"Europe/Plant/Anise_seed\",\"North America/Legume/Lima_bean\",\"North America/Fruit/Japanese_plum\",\"South America/Plant/Leek\",\"North America/Plant/Licorice\",\"Europe/Plant/Lemongrass\",\"Africa/Animal/Lobster\",\"Europe/Vegetable/Kohlrabi\",\"Asia/Animal produce/Liver\",\"Europe/Fruit/Lime_juice\",\"North America/Fruit/Lemon\",\"North America/Fruit/Juniper_berry\",\"Africa/Animal produce/Lard\",\"North America/Legume/Kidney_bean\",\"South America/Condiment/Honey\",\"Europe/Fruit/Apple\",\"South America/Plant/Rosemary\",\"Asia/Others/Rye_flour\",\"Asia/Root vegetables/Rutabaga\",\"South America/Dairy product/Cheese\",\"Africa/Meat/Meat\",\"Asia/Plant/Chervil\",\"Africa/Grain/Rye_bread\",\"South America/Plant/Marjoram\",\"Africa/Fruit/Tomato_juice\",\"Africa/Legume/Lentil\",\"Europe/Others/Beef_broth\",\"North America/Fruit/Cherry\",\"Europe/Condiment/Honey\",\"Asia/Spice/Saffron\",\"Africa/Plant/Thyme\",\"Europe/Vegetable/Sauerkraut\",\"North America/Plant/Celery\",\"Asia/Condiment/Maple_syrup\",\"Europe/Plant/Thyme\",\"Europe/Animal produce/Salmon_roe\",\"North America/Edible oil/Celery_oil\",\"South America/Vegetable/Lettuce\",\"Asia/Fish/Salmon\",\"South America/Dairy product/Cheddar_cheese\",\"Asia/Fungus/Yeast\",\"Africa/Plant/Marjoram\",\"Asia/Alcohol/Sake\",\"North America/Meat/Beef_liver\",\"Europe/Alcohol/Champagne_wine\",\"Asia/Meat/Chicken\",\"Africa/Fruit/Tomato\",\"Africa/Plant/Sage\",\"North America/Plant/Chayote\",\"Africa/Vegetable/Lettuce\",\"North America/Grain/Cereal\",\"Europe/Plant/Sage\",\"North America/Plant/Yam\",\"Asia/Plant/Rosemary\",\"Europe/Animal/Lobster\",\"Asia/Plant/Yam\",\"North America/Meat/Roasted_meat\",\"North America/Spice/Cinnamon\",\"Europe/Fish/Tuna\",\"North America/Fruit/Roasted_hazelnut\",\"North America/Dairy product/Milk\",\"North America/Plant/Citrus\",\"South America/Fruit/Lemon\",\"Asia/Legume/Roasted_peanut\",\"South America/Plant/Bay\",\"Africa/Meat/Turkey\",\"Europe/Animal/Clam\",\"North America/Grain/Rice\",\"Asia/Fruit/Lemon\",\"North America/Plant/Clove\",\"Europe/Vegetable/Rhubarb\",\"North America/Meat/Turkey\",\"North America/Animal/Octopus\",\"North America/Fruit/Cocoa\",\"Africa/Meat/Roasted_beef\",\"South America/Condiment/Lemon_juice\",\"Africa/Plant/Cilantro\",\"South America/Legume/Bean\",\"North America/Fruit/Tomato_juice\",\"Europe/Others/Chicken_broth\",\"Europe/Plant/Rose\",\"South America/Alcohol/Beer\",\"Africa/Plant/Rose\",\"North America/Meat/Beef\",\"North America/Animal produce/Chicken_liver\",\"Europe/Legume/Chickpea\",\"South America/Meat/Meat\",\"Europe/Plant/Root\",\"Europe/Fungus/Truffle\",\"North America/Dairy product/Romano_cheese\",\"Europe/Plant/Chicory\",\"South America/Fruit/Lemon_peel\",\"Africa/Dairy product/Romano_cheese\",\"Asia/Plant/Chive\",\"South America/Plant/Anise_seed\",\"Asia/Plant/Roasted_sesame_seed\",\"Africa/Beverage/Cider\",\"North America/Plant/Melon\",\"Asia/Meat/Roasted_pork\",\"Europe/Fruit/Tomato_juice\",\"Europe/Others/Savory\",\"Europe/Fruit/Mango\",\"Europe/Spice/Cayenne\",\"Europe/Plant/Squash\",\"North America/Edible oil/Lime_peel_oil\",\"Africa/Plant/Squash\",\"Europe/Plant/Brassica\",\"Europe/Edible oil/Soybean_oil\",\"Africa/Plant/Tamarind\",\"Europe/Grain/Bread\",\"North America/Plant/Soybean\",\"North America/Plant/Almond\",\"Asia/Plant/Soybean\",\"South America/Grain/Macaroni\",\"Europe/Plant/Broccoli\",\"North America/Condiment/Soy_sauce\",\"Europe/Grain/Brown_rice\",\"North America/Plant/Bitter_orange\",\"South America/Fruit/Lime_juice\",\"Europe/Dairy product/Sour_milk\",\"North America/Vegetable/Brussels_sprout\",\"North America/Plant/Sour_cherry\",\"South America/Dairy product/Yogurt\",\"Asia/Plant/Sour_cherry\",\"North America/Alcohol/Brandy\",\"South America/Plant/Tamarind\",\"Asia/Animal/Squid\",\"Africa/Alcohol/Bourbon_whiskey\",\"Europe/Plant/Black_raspberry\",\"Asia/Root vegetables/Sweet_potato\",\"Africa/Spice/Black_pepper\",\"Europe/Dairy product/Swiss_cheese\",\"Asia/Edible oil/Sunflower_oil\",\"Europe/Beverage/Black_tea\",\"North America/Plant/Lovage\",\"Asia/Plant/Sumac\",\"South America/Fruit/Blackberry\",\"North America/Spread/Strawberry_jam\",\"Europe/Animal produce/Liver\",\"Asia/Fruit/Strawberry\",\"Asia/Dairy product/Blue_cheese\",\"South America/Grain/Starch\",\"Asia/Fruit/Litchi\",\"Europe/Plant/Tabasco_pepper\",\"South America/Plant/Black_bean\",\"Europe/Plant/Blueberry\",\"South America/Plant/Star_anise\",\"North America/Nut/Macadamia_nut\",\"Asia/Plant/Star_anise\",\"South America/Alcohol/Bourbon_whiskey\",\"Asia/Spread/Butter\",\"South America/Spice/Mace\",\"North America/Fish/Smoked_salmon\",\"Asia/Plant/Sesame_seed\",\"Asia/Alcohol/Tequila\",\"North America/Edible oil/Sesame_oil\",\"Asia/Fruit/Carrot\",\"Africa/Fruit/Lime\",\"South America/Fungus/Yeast\",\"South America/Plant/Seed\",\"Asia/Nut/Cashew\",\"Europe/Plant/Seed\",\"Africa/Spice/Bell_pepper\",\"North America/Plant/Cassava\",\"North America/Fungus/Yeast\",\"Asia/Plant/Seaweed\",\"North America/Fish/Catfish\",\"South America/Animal/Scallop\",\"Europe/Animal/Scallop\",\"North America/Dairy product/Milk_fat\",\"Europe/Spread/Caviar\",\"Europe/Vegetable/Scallion\",\"Asia/Plant/Thai_pepper\",\"Africa/Legume/Lima_bean\",\"South America/Fruit/Mandarin\",\"North America/Plant/Sesame_seed\",\"Asia/Plant/Carnation\",\"North America/Plant/Anise\",\"North America/Dairy product/Yogurt\",\"Asia/Dairy product/Buttermilk\",\"Europe/Fish/Smoked_fish\",\"Asia/Vegetable/Cabbage\",\"Europe/Others/Smoke\",\"Africa/Plant/Tarragon\",\"South America/Animal/Shrimp\",\"Asia/Fruit/Berry\",\"Europe/Animal/Shrimp\",\"Europe/Alcohol/Cabernet_sauvignon_wine\",\"Europe/Fungus/Yeast\",\"Africa/Animal/Shrimp\",\"South America/Fruit/Lime\",\"Asia/Fungus/Shiitake\",\"Europe/Dairy product/Camembert_cheese\",\"North America/Plant/Tarragon\",\"Europe/Alcohol/Sherry\",\"Asia/Plant/Bergamot\",\"North America/Condiment/Cane_molasses\",\"North America/Dairy product/Sheep_cheese\",\"Africa/Spice/Cardamom\",\"North America/Plant/Shallot\",\"North America/Grain/Malt\",\"Europe/Alcohol/Red_wine\",\"Africa/Vegetable/Rhubarb\",\"North America/Fruit/Coconut\",\"North America/Fruit/Nectarine\",\"Europe/Nut/Walnut\",\"Asia/Plant/Peach\",\"Europe/Meat/Frankfurter\",\"South America/Nut/Walnut\",\"Asia/Vegetable/Pea\",\"Asia/Plant/Wasabi\",\"North America/Fruit/Fruit\",\"North America/Plant/Kaffir_lime\",\"South America/Alcohol/White_wine\",\"Asia/Fruit/Passion_fruit\",\"Africa/Plant/Garlic\",\"Europe/Fruit/Nut\",\"North America/Plant/Wasabi\",\"Asia/Vegetable/Parsnip\",\"Africa/Condiment/Gelatin\",\"North America/Alcohol/White_wine\",\"Asia/Vegetable/Watercress\",\"Europe/Vegetable/Artichoke\",\"Asia/Plant/Parsley\",\"North America/Plant/Geranium\",\"Asia/Nut/Walnut\",\"Africa/Legume/Peanut\",\"South America/Fish/Fish\",\"Europe/Vegetable/Asparagus\",\"South America/Edible oil/Vegetable_oil\",\"North America/Vegetable/Endive\",\"South America/Plant/Pecan\",\"Africa/Condiment/Vinegar\",\"Europe/Plant/Fennel\",\"South America/Plant/Basil\",\"South America/Condiment/Mustard\",\"Asia/Condiment/Vinegar\",\"Asia/Plant/Fenugreek\",\"Africa/Legume/Kidney_bean\",\"North America/Dairy product/Parmesan_cheese\",\"Europe/Plant/Pear\",\"North America/Condiment/Vinegar\",\"Asia/Dairy product/Feta_cheese\",\"Europe/Edible oil/Peanut_oil\",\"Asia/Plant/Fig\",\"North America/Spread/Peanut_butter\",\"Asia/Others/Katsuobushi\",\"Asia/Grain/Whole_grain_wheat_flour\",\"South America/Plant/Fig\",\"South America/Legume/Peanut\",\"Africa/Grain/Whole_grain_wheat_flour\",\"Europe/Condiment/Vinegar\",\"Europe/Fruit/Avocado\",\"Africa/Spice/Ginger\",\"South America/Plant/Papaya\",\"Asia/Plant/Orange_flower\",\"Asia/Grain/Wheat_bread\",\"Asia/Fruit/Apricot\",\"North America/Dairy product/Gruyere_cheese\",\"North America/Plant/Hop\",\"South America/Vegetable/Onion\",\"Asia/Fish/Haddock\",\"North America/Grain/White_bread\",\"Europe/Grain/Oatmeal\",\"Africa/Vegetable/Onion\",\"Africa/Alcohol/Whiskey\",\"Europe/Meat/Ham\",\"Europe/Grain/White_bread\",\"South America/Fruit/Apple\",\"Africa/Edible oil/Olive_oil\",\"Europe/Nut/Hazelnut\",\"North America/Alcohol/Whiskey\",\"Africa/Plant/Olive\",\"Africa/Grain/White_bread\",\"Europe/Plant/Holy_basil\",\"Asia/Grain/White_bread\",\"Asia/Beverage/Green_tea\",\"South America/Grain/Wheat\",\"Africa/Fruit/Orange_juice\",\"South America/Grain/White_bread\",\"South America/Vegetable/Watercress\",\"Europe/Alcohol/White_wine\",\"Africa/Dairy product/Goat_cheese\",\"Europe/Spice/Nutmeg\",\"Europe/Plant/Palm\",\"Europe/Alcohol/Armagnac\",\"Africa/Fruit/Grape\",\"North America/Animal/Oyster\",\"Asia/Alcohol/White_wine\",\"South America/Fruit/Grape\",\"North America/Plant/Jasmine\",\"South America/Plant/Oregano\",\"Europe/Plant/Huckleberry\",\"Africa/Grain/Wheat\",\"South America/Fruit/Orange_peel\",\"Asia/Grain/Wheat\",\"Africa/Fruit/Grapefruit\",\"Africa/Alcohol/White_wine\",\"Europe/Grain/Wheat\",\"South America/Fruit/Orange_juice\",\"Europe/Plant/Oat\",\"Asia/Plant/Green_bell_pepper\",\"Asia/Fruit/Grape_juice\",\"Europe/Grain/Whole_grain_wheat_flour\",\"Africa/Plant/Pecan\",\"Asia/Condiment/Mustard\",\"North America/Others/Corn_grit\",\"Asia/Dairy product/Provolone_cheese\",\"North America/Alcohol/Wine\",\"Africa/Spice/Vanilla\",\"Europe/Dairy product/Cottage_cheese\",\"South America/Animal/Prawn\",\"Asia/Animal/Crab\",\"Europe/Alcohol/Wine\",\"North America/Others/Potato_chip\",\"North America/Legume/Mung_bean\",\"North America/Grain/Corn_flake\",\"Europe/Fruit/Banana\",\"South America/Others/Potato\",\"Europe/Animal produce/Lard\",\"Asia/Dairy product/Cream\",\"Africa/Others/Potato\",\"South America/Spice/Vanilla\",\"North America/Spice/Pepper\",\"Asia/Alcohol/Wine\",\"Europe/Others/Baked_potato\",\"Asia/Dairy product/Cream_cheese\",\"North America/Meat/Pork_sausage\",\"Asia/Plant/Cranberry\",\"Europe/Plant/Lavender\",\"Asia/Fruit/Pumpkin\",\"South America/Grain/Corn\",\"Europe/Others/Wood\",\"North America/Legume/Red_kidney_bean\",\"North America/Edible oil/Coconut_oil\",\"North America/Legume/Red_bean\",\"Africa/Beverage/Coffee\",\"North America/Fruit/Raspberry\",\"Asia/Plant/Mint\",\"South America/Beverage/Coffee\",\"Africa/Fruit/Raspberry\",\"Asia/Plant/Leek\",\"Europe/Plant/Turmeric\",\"Asia/Others/Wood\",\"North America/Fruit/Concord_grape\",\"Asia/Fruit/Raisin\",\"North America/Plant/Turmeric\",\"North America/Plant/Bartlett_pear\",\"Asia/Vegetable/Radish\",\"South America/Alcohol/Wine\",\"South America/Plant/Coriander\",\"Asia/Dairy product/Mozzarella_cheese\",\"Asia/Fruit/Quince\",\"Europe/Grain/Barley\",\"Europe/Root vegetables/Turnip\",\"North America/Root vegetables/Sweet_potato\",\"Europe/Meat/Veal\",\"North America/Plant/Cilantro\",\"Africa/Fruit/Date\",\"North America/Grain/Whole_grain_wheat_flour\",\"Europe/Fungus/Mushroom\",\"Asia/Grain/Popcorn\",\"Africa/Plant/Currant\",\"South America/Animal produce/Egg\",\"Asia/Fruit/Kiwi\",\"Europe/Spice/Pimento\",\"North America/Vegetable/Vegetable\",\"North America/Fruit/Pineapple\",\"Europe/Fruit/Plum\",\"Asia/Plant/Kumquat\",\"South America/Fruit/Date\",\"Europe/Fruit/Pistachio\",\"South America/Grain/Whole_grain_wheat_flour\",\"Asia/Edible oil/Vegetable_oil\",\"North America/Fish/Eel\",\"Europe/Animal/Mussel\",\"North America/Plant/Dill\",\"Asia/Plant/Cucumber\",\"Europe/Vegetable/Vegetable\",\"Asia/Meat/Cured_pork\",\"Europe/Others/Egg_noodle\",\"North America/Animal produce/Pork_liver\",\"Europe/Plant/Elderberry\",\"Asia/Plant/Peppermint\",\"North America/Meat/Veal\",\"North America/Fruit/Muscat_grape\",\"South America/Others/Egg_noodle\",\"North America/Meat/Pork\",\"Europe/Meat/Lamb\",\"Asia/Plant/Cumin\",\"Africa/Edible oil/Vegetable_oil\",\"Europe/Meat/Bacon\",\"Europe/Fungus/Porcini\",\"Asia/Edible oil/Peppermint_oil\",\"Africa/Alcohol/Wine\",\"North America/Alcohol/Beer\",\"South America/Plant/Beet\",\"North America/Edible oil/Black_mustard_seed_oil\",\"North America/Plant/Basil\",\"North America/Fruit/Apple\",\"North America/Plant/Bay\",\"Africa/Fruit/Apricot\",\"South America/Alcohol/Tequila\",\"North America/Dairy product/Swiss_cheese\",\"North America/Plant/Anise_seed\",\"Asia/Fruit/Avocado\",\"North America/Fruit/Berry\",\"Asia/Fruit/Tomato_juice\",\"Asia/Vegetable/Artichoke\",\"Asia/Others/Baked_potato\",\"Asia/Fruit/Banana\",\"Europe/Plant/Anise\",\"North America/Plant/Tamarind\",\"Europe/Meat/Beef\",\"Asia/Vegetable/Asparagus\",\"South America/Others/Beef_broth\",\"Asia/Alcohol/Armagnac\",\"Asia/Beverage/Tea\",\"North America/Fruit/Watermelon\",\"Asia/Grain/Barley\",\"South America/Spice/Bell_pepper\",\"Europe/Plant/Almond\",\"North America/Beverage/Tea\",\"North America/Legume/Bean\",\"Asia/Meat/Bacon\",\"North America/Plant/Black_bean\",\"Europe/Plant/Bitter_orange\",\"Asia/Animal/Lobster\",\"North America/Edible oil/Sunflower_oil\",\"North America/Plant/Papaya\",\"South America/Spice/Ginger\",\"South America/Dairy product/Goat_cheese\",\"Europe/Animal/Oyster\",\"North America/Plant/Oregano\",\"South America/Fruit/Grape_juice\",\"North America/Fruit/Orange_peel\",\"North America/Alcohol/Gin\",\"Africa/Fruit/Orange_peel\",\"Africa/Beverage/Green_tea\",\"South America/Fruit/Orange\",\"Europe/Dairy product/Gruyere_cheese\",\"Asia/Fruit/Orange\",\"Asia/Meat/Ham\",\"South America/Edible oil/Olive_oil\",\"Asia/Nut/Hazelnut\",\"Africa/Plant/Green_bell_pepper\",\"South America/Condiment/Gelatin\",\"North America/Plant/Parsley\",\"South America/Plant/Garlic\",\"Asia/Animal produce/Egg\",\"Asia/Spice/Pimento\",\"Europe/Vegetable/Endive\",\"Africa/Spice/Pepper\",\"Asia/Plant/Fennel\",\"Europe/Alcohol/Pear_brandy\",\"Asia/Plant/Pear\",\"Africa/Dairy product/Feta_cheese\",\"Africa/Plant/Fig\",\"Europe/Spread/Peanut_butter\",\"North America/Fish/Fish\",\"South America/Plant/Peach\",\"Asia/Meat/Frankfurter\",\"Africa/Plant/Peach\",\"Europe/Fruit/Fruit\",\"Africa/Vegetable/Pea\",\"North America/Plant/Gardenia\",\"South America/Plant/Olive\",\"North America/Fish/Herring\",\"North America/Plant/Okra\",\"Europe/Animal/Octopus\",\"North America/Condiment/Lemon_juice\",\"North America/Fruit/Lemon_peel\",\"North America/Meat/Meat\",\"North America/Plant/Lemongrass\",\"North America/Vegetable/Lettuce\",\"North America/Condiment/Maple_syrup\",\"North America/Edible oil/Lilac_flower_oil\",\"Asia/Fruit/Mango\",\"South America/Legume/Lima_bean\",\"North America/Fruit/Mandarin\",\"North America/Fruit/Lime\",\"Europe/Grain/Malt\",\"North America/Fruit/Lime_juice\",\"North America/Spice/Mace\",\"North America/Grain/Macaroni\",\"Europe/Edible oil/Lime_peel_oil\",\"Africa/Grain/Macaroni\",\"Europe/Dairy product/Milk_fat\",\"Europe/Fruit/Pineapple\",\"Africa/Fruit/Lemon\",\"Africa/Dairy product/Mozzarella_cheese\",\"Europe/Plant/Hop\",\"Asia/Grain/Oatmeal\",\"North America/Plant/Horseradish\",\"Asia/Plant/Oat\",\"Asia/Plant/Jasmine\",\"Asia/Spice/Nutmeg\",\"South America/Fruit/Juniper_berry\",\"Asia/Fruit/Nut\",\"Europe/Fruit/Nectarine\",\"North America/Plant/Kale\",\"South America/Legume/Kidney_bean\",\"Africa/Condiment/Mustard\",\"North America/Vegetable/Kohlrabi\",\"Asia/Meat/Lamb\",\"Asia/Animal produce/Lard\",\"Asia/Legume/Mung_bean\",\"Asia/Plant/Lavender\",\"North America/Plant/Leaf\",\"Europe/Plant/Dill\",\"South America/Plant/Currant\",\"Asia/Fungus/Porcini\",\"Asia/Plant/Shallot\",\"South America/Spice/Cardamom\",\"Africa/Fruit/Carrot\",\"Africa/Nut/Cashew\",\"Europe/Plant/Cassava\",\"Asia/Vegetable/Cauliflower\",\"South America/Vegetable/Cauliflower\",\"Asia/Vegetable/Scallion\",\"South America/Spice/Cayenne\",\"Asia/Others/Savory\",\"Europe/Plant/Celery\",\"Africa/Vegetable/Sauerkraut\",\"Europe/Edible oil/Celery_oil\",\"Europe/Grain/Cereal\",\"Asia/Alcohol/Champagne_wine\",\"Europe/Plant/Chayote\",\"North America/Dairy product/Cheddar_cheese\",\"North America/Plant/Caraway\",\"Africa/Others/Rye_flour\",\"Asia/Alcohol/Sherry\",\"North America/Plant/Cacao\",\"Asia/Beverage/Black_tea\",\"North America/Fruit/Blackberry\",\"Africa/Dairy product/Blue_cheese\",\"Europe/Fruit/Strawberry\",\"Europe/Grain/Starch\",\"Asia/Plant/Blueberry\",\"North America/Edible oil/Bone_oil\",\"Asia/Grain/Bread\",\"Asia/Plant/Broccoli\",\"South America/Grain/Brown_rice\",\"Europe/Vegetable/Brussels_sprout\",\"Africa/Spread/Butter\",\"Africa/Dairy product/Buttermilk\",\"Europe/Fish/Smoked_salmon\",\"Africa/Vegetable/Cabbage\",\"Asia/Others/Smoke\",\"Asia/Alcohol/Cabernet_sauvignon_wine\",\"Europe/Condiment/Cane_molasses\",\"South America/Spice/Black_pepper\",\"North America/Dairy product/Cheese\",\"North America/Alcohol/Cherry_brandy\",\"Africa/Plant/Coriander\",\"North America/Plant/Coriander\",\"South America/Fruit/Pumpkin\",\"North America/Grain/Corn\",\"Africa/Dairy product/Provolone_cheese\",\"Asia/Dairy product/Cottage_cheese\",\"Europe/Others/Potato_chip\",\"Africa/Plant/Cranberry\",\"Europe/Dairy product/Cream\",\"North America/Alcohol/Port_wine\",\"Africa/Dairy product/Cream_cheese\",\"Africa/Alcohol/Port_wine\",\"Africa/Plant/Cucumber\",\"Europe/Animal produce/Pork_liver\",\"Africa/Plant/Cumin\",\"Europe/Meat/Pork\",\"South America/Plant/Cumin\",\"Africa/Fruit/Raisin\",\"South America/Alcohol/Rum\",\"North America/Alcohol/Cognac\",\"Europe/Edible oil/Coconut_oil\",\"Europe/Alcohol/Rum\",\"North America/Meat/Chicken\",\"Asia/Others/Chicken_broth\",\"Europe/Animal produce/Chicken_liver\",\"Asia/Plant/Root\",\"Asia/Plant/Chicory\",\"South America/Plant/Chive\",\"South America/Beverage/Cider\",\"Europe/Spice/Cinnamon\",\"Europe/Plant/Citrus\",\"South America/Meat/Roasted_beef\",\"Asia/Animal/Clam\",\"North America/Plant/Roasted_almond\",\"Europe/Grain/Rice\",\"Europe/Plant/Clove\",\"Europe/Fruit/Cocoa\",\"Europe/Fruit/Coconut\",\"North America/Plant/Rapeseed\",\"Europe/Plant/Lovage\",\"Africa/Alcohol\",\"Asia/Alcohol\",\"Europe/Alcohol\",\"North America/Alcohol\",\"South America/Alcohol\",\"Africa/Animal\",\"Asia/Animal\",\"Europe/Animal\",\"North America/Animal\",\"South America/Animal\",\"Africa/Animal produce\",\"Asia/Animal produce\",\"Europe/Animal produce\",\"North America/Animal produce\",\"South America/Animal produce\",\"Africa/Beverage\",\"Asia/Beverage\",\"Europe/Beverage\",\"North America/Beverage\",\"South America/Beverage\",\"Africa/Condiment\",\"Asia/Condiment\",\"Europe/Condiment\",\"North America/Condiment\",\"South America/Condiment\",\"Africa/Dairy product\",\"Asia/Dairy product\",\"Europe/Dairy product\",\"North America/Dairy product\",\"South America/Dairy product\",\"Africa/Edible oil\",\"Asia/Edible oil\",\"Europe/Edible oil\",\"North America/Edible oil\",\"South America/Edible oil\",\"Africa/Fish\",\"Asia/Fish\",\"Europe/Fish\",\"North America/Fish\",\"South America/Fish\",\"Africa/Fruit\",\"Asia/Fruit\",\"Europe/Fruit\",\"North America/Fruit\",\"South America/Fruit\",\"Africa/Fungus\",\"Asia/Fungus\",\"Europe/Fungus\",\"North America/Fungus\",\"South America/Fungus\",\"Africa/Grain\",\"Asia/Grain\",\"Europe/Grain\",\"North America/Grain\",\"South America/Grain\",\"Africa/Legume\",\"Asia/Legume\",\"Europe/Legume\",\"North America/Legume\",\"South America/Legume\",\"Africa/Meat\",\"Asia/Meat\",\"Europe/Meat\",\"North America/Meat\",\"South America/Meat\",\"Africa/Nut\",\"Asia/Nut\",\"Europe/Nut\",\"North America/Nut\",\"South America/Nut\",\"Africa/Others\",\"Asia/Others\",\"Europe/Others\",\"North America/Others\",\"South America/Others\",\"Africa/Plant\",\"Asia/Plant\",\"Europe/Plant\",\"North America/Plant\",\"South America/Plant\",\"Africa/Root vegetables\",\"Asia/Root vegetables\",\"Europe/Root vegetables\",\"North America/Root vegetables\",\"South America/Root vegetables\",\"Africa/Spice\",\"Asia/Spice\",\"Europe/Spice\",\"North America/Spice\",\"South America/Spice\",\"Africa/Spread\",\"Asia/Spread\",\"Europe/Spread\",\"North America/Spread\",\"South America/Spread\",\"Africa/Vegetable\",\"Asia/Vegetable\",\"Europe/Vegetable\",\"North America/Vegetable\",\"South America/Vegetable\",\"Africa\",\"Asia\",\"Europe\",\"North America\",\"South America\"],\"labels\":[\"Lobster\",\"Buttermilk\",\"Smoked_fish\",\"Cabbage\",\"Gin\",\"Parsley\",\"Cabernet_sauvignon_wine\",\"Gelatin\",\"Parsnip\",\"Camembert_cheese\",\"Garlic\",\"Sherry\",\"Passion_fruit\",\"Cane_molasses\",\"Galanga\",\"Pea\",\"Cardamom\",\"Frankfurter\",\"Fenugreek\",\"Cauliflower\",\"Pear\",\"Seaweed\",\"Catfish\",\"Feta_cheese\",\"Ginger\",\"Peanut_oil\",\"Fish\",\"Carrot\",\"Peanut\",\"Flower\",\"Carnation\",\"Shallot\",\"Cashew\",\"Smoked_sausage\",\"Parmesan_cheese\",\"Butter\",\"Squid\",\"Guava\",\"Bourbon_whiskey\",\"Orange\",\"Haddock\",\"Blueberry\",\"Brandy\",\"Starch\",\"Ham\",\"Blue_cheese\",\"Olive_oil\",\"Hazelnut\",\"Blackberry_brandy\",\"Strawberry_juice\",\"Onion\",\"Fennel\",\"Orange_flower\",\"Orange_juice\",\"Goat_cheese\",\"Palm\",\"Buckwheat\",\"Grape\",\"Soy_sauce\",\"Brown_rice\",\"Green_tea\",\"Grape_brandy\",\"Broccoli\",\"Oregano\",\"Grapefruit\",\"Bread\",\"Green_bell_pepper\",\"Brassica\",\"Ouzo\",\"Olive\",\"Caviar\",\"Cayenne\",\"Potato\",\"Chicory\",\"Cranberry\",\"Romano_cheese\",\"Prawn\",\"Roasted_sesame_seed\",\"Crab\",\"Cider\",\"Cottage_cheese\",\"Prickly_pear\",\"Roasted_peanut\",\"Cilantro\",\"Provolone_cheese\",\"Roasted_meat\",\"Corn_grit\",\"Cinnamon\",\"Roasted_meat\",\"Red_kidney_bean\",\"Coffee\",\"Raspberry\",\"Cognac\",\"Cocoa\",\"Raisin\",\"Roquefort_cheese\",\"Condiment\",\"Corn\",\"Clam\",\"Roasted_beef\",\"Quince\",\"Citrus\",\"Corn_flake\",\"Clove\",\"Chickpea\",\"Pork_sausage\",\"Cream_cheese\",\"Pineapple\",\"Sage\",\"Champagne_wine\",\"Egg\",\"Pimento\",\"Chamomile\",\"Cheddar_cheese\",\"Peppermint_oil\",\"Celery_oil\",\"Salmon_roe\",\"Celery\",\"Pelargonium\",\"Endive\",\"Savory\",\"Salmon\",\"Pecan\",\"Pistachio\",\"Date\",\"Chicken_broth\",\"Rose\",\"Pork_sausage\",\"Cucumber\",\"Chicken\",\"Porcini\",\"Cheese\",\"Chervil\",\"Cured_pork\",\"Cherry\",\"Currant\",\"Rye_bread\",\"Cherry\",\"Plum\",\"Rum\",\"Black_tea\",\"Cod\",\"Mushroom\",\"Beech\",\"Munster_cheese\",\"Artichoke\",\"Truffle\",\"Mango\",\"Lima_bean\",\"Beef\",\"Lamb\",\"Watermelon\",\"Mushroom\",\"Beef_broth\",\"Kumquat\",\"Armagnac\",\"Tomato\",\"Beer\",\"Mandarin_peel\",\"Apricot\",\"Kiwi\",\"Beet\",\"Mustard\",\"Wheat_bread\",\"Thai_pepper\",\"Mandarin\",\"Lard\",\"Lime_juice\",\"Licorice\",\"Mozzarella_cheese\",\"Lemon_peel\",\"Milk\",\"Veal\",\"Banana\",\"Lemongrass\",\"Vanilla\",\"Lemon_juice\",\"Bacon\",\"Milk\",\"Barley\",\"Meat\",\"Lentil\",\"Turmeric\",\"Basil\",\"Holy_basil\",\"Avocado\",\"Leek\",\"Turkey\",\"Violet\",\"Bay\",\"Mint\",\"Lavender\",\"Bean\",\"Asparagus\",\"Bell_pepper\",\"Baked_potato\",\"Kidney_bean\",\"Berry\",\"Macadamia_nut\",\"Kale\",\"Nut\",\"Lingonberry\",\"Tangerine\",\"Macadamia_nut\",\"Oat\",\"Litchi\",\"Anise\",\"Black_bean\",\"Huckleberry\",\"Yogurt\",\"Jasmine_tea\",\"Nutmeg\",\"Black_currant\",\"Tabasco_pepper\",\"Apple\",\"Horseradish\",\"Black_pepper\",\"Bergamot\",\"Almond\",\"Mutton\",\"Liver\",\"Okra\",\"Black_raspberry\",\"Apple_brandy\",\"Katsuobushi\",\"Macadamia_nut\",\"Dill\",\"Zucchini\",\"Lettuce\",\"Raw_beef\",\"Litchi\",\"Pistachio\",\"Mate\",\"Liver\",\"Plum\",\"Pistachio\",\"Meat\",\"Popcorn\",\"Raisin\",\"Concord_grape\",\"Lentil\",\"Date\",\"Coffee\",\"Lemongrass\",\"Pork\",\"Raspberry\",\"Currant\",\"Cured_pork\",\"Cumin\",\"Maple_syrup\",\"Coriander\",\"Corn_flake\",\"Melon\",\"Provolone_cheese\",\"Potato_chip\",\"Mace\",\"Crab\",\"Lime\",\"Mandarin\",\"Lime_peel_oil\",\"Prawn\",\"Cottage_cheese\",\"Mackerel\",\"Corn_grit\",\"Lime_juice\",\"Prickly_pear\",\"Mandarin_peel\",\"Marjoram\",\"Macaroni\",\"Cranberry\",\"Pork\",\"Radish\",\"Cucumber\",\"Corn_grit\",\"Quince\",\"Licorice\",\"Pork_sausage\",\"Cream_cheese\",\"Mango\",\"Corn\",\"Port_wine\",\"Lingonberry\",\"Cream\",\"Pumpkin\",\"Potato\",\"Lima_bean\",\"Honey\",\"Pecan\",\"Lemon_peel\",\"Oregano\",\"Grape_juice\",\"Kale\",\"Nira\",\"Grape_brandy\",\"Mutton\",\"Cod\",\"Grape\",\"Katsuobushi\",\"Palm\",\"Goat_cheese\",\"Papaya\",\"Kidney_bean\",\"Mustard\",\"Ginger\",\"Parmesan_cheese\",\"Parmesan_cheese\",\"Gin\",\"Kiwi\",\"Grapefruit\",\"Mussel\",\"Orange_peel\",\"Nut\",\"Okra\",\"Olive\",\"Herring\",\"Honey\",\"Oatmeal\",\"Olive_oil\",\"Ham\",\"Horseradish\",\"Onion\",\"Oat\",\"Haddock\",\"Jamaican_rum\",\"Guava\",\"Orange\",\"Nutmeg\",\"Green_tea\",\"Orange_flower\",\"Juniper_berry\",\"Green_bell_pepper\",\"Orange_juice\",\"Mussel\",\"Parsley\",\"Gelatin\",\"Pear\",\"Fennel\",\"Leek\",\"Milk_fat\",\"Enokidake\",\"Lemon\",\"Milk_fat\",\"Pepper\",\"Emmental_cheese\",\"Pepper\",\"Elderberry\",\"Peppermint\",\"Egg_noodle\",\"Lemon_juice\",\"Egg_noodle\",\"Pimenta\",\"Egg\",\"Milk\",\"Pineapple\",\"Fenugreek\",\"Mint\",\"Peanut_oil\",\"Leaf\",\"Parsnip\",\"Garlic\",\"Kumquat\",\"Mushroom\",\"Passion_fruit\",\"Galanga\",\"Pea\",\"Lamb\",\"Fruit\",\"Dill\",\"Munster_cheese\",\"Flower\",\"Peanut\",\"Lard\",\"Fish\",\"Mozzarella_cheese\",\"Peanut_butter\",\"Fig\",\"Peanut_butter\",\"Feta_cheese\",\"Peach\",\"Ouzo\",\"Almond\",\"Brussels_sprout\",\"Soybean\",\"Bread\",\"Soybean\",\"Brassica\",\"Spearmint\",\"Brandy\",\"Squash\",\"Brandy\",\"Squid\",\"Bourbon_whiskey\",\"Star_anise\",\"Bone_oil\",\"Starch\",\"Blue_cheese\",\"Strawberry\",\"Blackberry_brandy\",\"Sumac\",\"Blackberry\",\"Sunflower_oil\",\"Black_sesame_seed\",\"Sweet_potato\",\"Black_pepper\",\"Swiss_cheese\",\"Brown_rice\",\"Soy_sauce\",\"Red_kidney_bean\",\"Sour_milk\",\"Seaweed\",\"Seed\",\"Cashew\",\"Sesame_oil\",\"Carrot\",\"Sesame_oil\",\"Carob\",\"Sesame_seed\",\"Cardamom\",\"Shallot\",\"Shellfish\",\"Tabasco_pepper\",\"Caraway\",\"Cane_molasses\",\"Shiitake\",\"Cacao\",\"Cabbage\",\"Smoked_salmon\",\"Buttermilk\",\"Smoked_sausage\",\"Butter\",\"Smoked_sausage\",\"Buckwheat\",\"Sour_milk\",\"Sherry\",\"Black_currant\",\"Tamarind\",\"Black_bean\",\"Veal\",\"Bacon\",\"Vegetable\",\"Avocado\",\"Vegetable_oil\",\"Asparagus\",\"Walnut\",\"Wasabi\",\"Artichoke\",\"Watercress\",\"Artemisia\",\"Balm\",\"Watermelon\",\"Wheat_bread\",\"Apple_brandy\",\"Whiskey\",\"Wood\",\"Apple\",\"Yeast\",\"Anise_seed\",\"Yogurt\",\"Angelica\",\"Zucchini\",\"Zucchini\",\"Apricot\",\"Catfish\",\"Vanilla\",\"Turnip\",\"Tangerine\",\"Bitter_orange\",\"Tarragon\",\"Bergamot\",\"Tarragon\",\"Tequila\",\"Bell_pepper\",\"Thai_pepper\",\"Beet\",\"Thyme\",\"Beer\",\"Banana\",\"Beef_liver\",\"Tomato\",\"Beef_broth\",\"Tomato_juice\",\"Beef\",\"Tuna\",\"Tuna\",\"Bean\",\"Bay\",\"Turmeric\",\"Basil\",\"Bartlett_pear\",\"Tomato\",\"Cauliflower\",\"Rice\",\"Chickpea\",\"Cereal\",\"Chive\",\"Roasted_sesame_seed\",\"Clam\",\"Salmon\",\"Rum\",\"Chamomile\",\"Roasted_beef\",\"Chervil\",\"Sake\",\"Cider\",\"Citrus_peel\",\"Sage\",\"Chayote\",\"Rosemary\",\"Roasted_pork\",\"Rutabaga\",\"Saffron\",\"Cheddar_cheese\",\"Cherry_brandy\",\"Citrus\",\"Saffron\",\"Roasted_peanut\",\"Roasted_nut\",\"Cilantro\",\"Cinnamon\",\"Cheese\",\"Cherry\",\"Rye_bread\",\"Rye_flour\",\"Roasted_meat\",\"Rice\",\"Long_pepper\",\"Sassafras\",\"Coconut\",\"Celery\",\"Red_wine\",\"Chicken_broth\",\"Rhubarb\",\"Sauerkraut\",\"Rose\",\"Savory\",\"Scallop\",\"Root\",\"Roquefort_cheese\",\"Red_wine\",\"Cocoa\",\"Chicken\",\"Celery_oil\",\"Scallion\",\"Chinese_cabbage\",\"Cayenne\",\"Coconut\",\"Chickpea\",\"Tea\",\"Mutton\",\"Tuna\",\"Turkey\",\"Mint\",\"Turkey\",\"Tequila\",\"Romano_cheese\",\"Mussel\",\"Potato\",\"Thyme\",\"Potato_chip\",\"Mushroom\",\"Tomato\",\"Turmeric\",\"Roasted_pork\",\"Munster_cheese\",\"Romano_cheese\",\"Thyme\",\"Truffle\",\"Thai_pepper\",\"Tuna\",\"Prawn\",\"Roasted_sesame_seed\",\"Mozzarella_cheese\",\"Roasted_pecan\",\"Mint\",\"Pear_brandy\",\"Milk_fat\",\"Mango\",\"Watermelon\",\"Wheat\",\"Mandarin\",\"Radish\",\"Wheat_bread\",\"Rhubarb\",\"Malt\",\"Whiskey\",\"Mace\",\"Red_wine\",\"Macaroni\",\"Raisin\",\"Yam\",\"Yam\",\"Macadamia_nut\",\"Yogurt\",\"Red_wine\",\"Zucchini\",\"Red_kidney_bean\",\"Lovage\",\"Rice\",\"Prickly_pear\",\"Radish\",\"Maple_syrup\",\"Turnip\",\"Roasted_peanut\",\"Turnip\",\"Milk\",\"Vanilla\",\"Roasted_meat\",\"Veal\",\"Melon\",\"Port_wine\",\"Melon\",\"Vegetable\",\"Roasted_beef\",\"Vegetable\",\"Matsutake\",\"Vegetable_oil\",\"Pumpkin\",\"Marjoram\",\"Vinegar\",\"Marjoram\",\"Roasted_almond\",\"Walnut\",\"Watercress\",\"Pumpkin\",\"Oat\",\"Tarragon\",\"Shiitake\",\"Shiitake\",\"Parsnip\",\"Peppermint\",\"Shrimp\",\"Shrimp\",\"Smoke\",\"Parsley\",\"Smoke\",\"Sake\",\"Parmesan_cheese\",\"Smoked_salmon\",\"Pimento\",\"Papaya\",\"Smoked_sausage\",\"Sake\",\"Sour_cherry\",\"Palm\",\"Sour_milk\",\"Pineapple\",\"Oyster\",\"Salmon\",\"Parsnip\",\"Sherry\",\"Peppermint\",\"Scallop\",\"Sea_algae\",\"Pear\",\"Scallion\",\"Seed\",\"Peanut_oil\",\"Scallion\",\"Seed\",\"Peanut_butter\",\"Pecan\",\"Sage\",\"Sesame_oil\",\"Sesame_seed\",\"Sesame_seed\",\"Savory\",\"Peach\",\"Pea\",\"Shallot\",\"Pepper\",\"Sauerkraut\",\"Sheep_cheese\",\"Passion_fruit\",\"Peanut\",\"Nectarine\",\"Soy_sauce\",\"Soy_sauce\",\"Sturgeon_caviar\",\"Okra\",\"Sumac\",\"Rosemary\",\"Sweet_potato\",\"Pork\",\"Sweet_potato\",\"Octopus\",\"Oatmeal\",\"Swiss_cheese\",\"Pork_liver\",\"Tabasco_pepper\",\"Rosemary\",\"Tabasco_pepper\",\"Nutmeg\",\"Pork_sausage\",\"Tamarind\",\"Rose\",\"Nut\",\"Tangerine\",\"Roquefort_cheese\",\"Popcorn\",\"Olive\",\"Rum\",\"Strawberry\",\"Pistachio\",\"Soybean\",\"Orange_peel\",\"Saffron\",\"Soybean_oil\",\"Orange_juice\",\"Spearmint\",\"Rye_flour\",\"Squash\",\"Orange_flower\",\"Oregano\",\"Plum\",\"Rye_bread\",\"Orange\",\"Squid\",\"Rutabaga\",\"Onion\",\"Star_anise\",\"Popcorn\",\"Starch\",\"Olive_oil\",\"Strawberry\",\"Squash\",\"Red_algae\",\"Zucchini\",\"Cream_cheese\",\"Egg\",\"Bacon\",\"Durian\",\"Dill\",\"Date\",\"Currant\",\"Cured_pork\",\"Cumin\",\"Baked_potato\",\"Cucumber\",\"Banana\",\"Cream\",\"Egg_noodle\",\"Cream\",\"Crab\",\"Crab\",\"Cottage_cheese\",\"Corn_flake\",\"Corn\",\"Bartlett_pear\",\"Coriander\",\"Concord_grape\",\"Basil\",\"Coffee\",\"Cod\",\"Coconut_oil\",\"Barley\",\"Elderberry\",\"Endive\",\"Fennel\",\"Hazelnut\",\"Apple_brandy\",\"Ham\",\"Guava\",\"Gruyere_cheese\",\"Green_bell_pepper\",\"Apricot\",\"Grapefruit\",\"Grape_juice\",\"Grape_juice\",\"Grape\",\"Goat_cheese\",\"Artichoke\",\"Ginger\",\"Gin\",\"Gelatin\",\"Garlic\",\"Asparagus\",\"Galanga\",\"Fruit\",\"Flower\",\"Fish\",\"Fig\",\"Avocado\",\"Feta_cheese\",\"Fenugreek\",\"Fenugreek\",\"Coconut\",\"Herring\",\"Cocoa\",\"Clove\",\"Carrot\",\"Carob\",\"Cardamom\",\"Caraway\",\"Cane_molasses\",\"Berry\",\"Cacao\",\"Cabbage\",\"Buttermilk\",\"Bitter_orange\",\"Butter\",\"Buckwheat\",\"Bell_pepper\",\"Brussels_sprout\",\"Black_bean\",\"Broccoli\",\"Bread\",\"Brassica\",\"Brandy\",\"Bourbon_whiskey\",\"Bone_oil\",\"Blueberry\",\"Black_mustard_seed_oil\",\"Blackberry_brandy\",\"Blackberry\",\"Black_tea\",\"Brown_rice\",\"Cassava\",\"Catfish\",\"Cauliflower\",\"Clam\",\"Bean\",\"Citrus\",\"Cinnamon\",\"Cilantro\",\"Cider\",\"Beef\",\"Chive\",\"Chive\",\"Chickpea\",\"Chicken_liver\",\"Chicken_broth\",\"Chicken\",\"Beef_broth\",\"Cherry_brandy\",\"Cherry\",\"Cheese\",\"Beef_liver\",\"Cheddar_cheese\",\"Chayote\",\"Champagne_wine\",\"Beer\",\"Cereal\",\"Celery_oil\",\"Celery\",\"Beet\",\"Cayenne\",\"Bay\",\"Honey\",\"Black_pepper\",\"Anise\",\"Lemon_juice\",\"Horseradish\",\"Kelp\",\"Lingonberry\",\"Lentil\",\"Kale\",\"Leaf\",\"Almond\",\"Lime\",\"Lime_peel_oil\",\"Lettuce\",\"Lamb\",\"Laurel\",\"Lemon_peel\",\"Anise_seed\",\"Lima_bean\",\"Japanese_plum\",\"Leek\",\"Licorice\",\"Lemongrass\",\"Lobster\",\"Kohlrabi\",\"Liver\",\"Lime_juice\",\"Lemon\",\"Juniper_berry\",\"Lard\",\"Kidney_bean\",\"Honey\",\"Apple\",\"Rosemary\",\"Rye_flour\",\"Rutabaga\",\"Cheese\",\"Meat\",\"Chervil\",\"Rye_bread\",\"Marjoram\",\"Tomato_juice\",\"Lentil\",\"Beef_broth\",\"Cherry\",\"Honey\",\"Saffron\",\"Thyme\",\"Sauerkraut\",\"Celery\",\"Maple_syrup\",\"Thyme\",\"Salmon_roe\",\"Celery_oil\",\"Lettuce\",\"Salmon\",\"Cheddar_cheese\",\"Yeast\",\"Marjoram\",\"Sake\",\"Beef_liver\",\"Champagne_wine\",\"Chicken\",\"Tomato\",\"Sage\",\"Chayote\",\"Lettuce\",\"Cereal\",\"Sage\",\"Yam\",\"Rosemary\",\"Lobster\",\"Yam\",\"Roasted_meat\",\"Cinnamon\",\"Tuna\",\"Roasted_hazelnut\",\"Milk\",\"Citrus\",\"Lemon\",\"Roasted_peanut\",\"Bay\",\"Turkey\",\"Clam\",\"Rice\",\"Lemon\",\"Clove\",\"Rhubarb\",\"Turkey\",\"Octopus\",\"Cocoa\",\"Roasted_beef\",\"Lemon_juice\",\"Cilantro\",\"Bean\",\"Tomato_juice\",\"Chicken_broth\",\"Rose\",\"Beer\",\"Rose\",\"Beef\",\"Chicken_liver\",\"Chickpea\",\"Meat\",\"Root\",\"Truffle\",\"Romano_cheese\",\"Chicory\",\"Lemon_peel\",\"Romano_cheese\",\"Chive\",\"Anise_seed\",\"Roasted_sesame_seed\",\"Cider\",\"Melon\",\"Roasted_pork\",\"Tomato_juice\",\"Savory\",\"Mango\",\"Cayenne\",\"Squash\",\"Lime_peel_oil\",\"Squash\",\"Brassica\",\"Soybean_oil\",\"Tamarind\",\"Bread\",\"Soybean\",\"Almond\",\"Soybean\",\"Macaroni\",\"Broccoli\",\"Soy_sauce\",\"Brown_rice\",\"Bitter_orange\",\"Lime_juice\",\"Sour_milk\",\"Brussels_sprout\",\"Sour_cherry\",\"Yogurt\",\"Sour_cherry\",\"Brandy\",\"Tamarind\",\"Squid\",\"Bourbon_whiskey\",\"Black_raspberry\",\"Sweet_potato\",\"Black_pepper\",\"Swiss_cheese\",\"Sunflower_oil\",\"Black_tea\",\"Lovage\",\"Sumac\",\"Blackberry\",\"Strawberry_jam\",\"Liver\",\"Strawberry\",\"Blue_cheese\",\"Starch\",\"Litchi\",\"Tabasco_pepper\",\"Black_bean\",\"Blueberry\",\"Star_anise\",\"Macadamia_nut\",\"Star_anise\",\"Bourbon_whiskey\",\"Butter\",\"Mace\",\"Smoked_salmon\",\"Sesame_seed\",\"Tequila\",\"Sesame_oil\",\"Carrot\",\"Lime\",\"Yeast\",\"Seed\",\"Cashew\",\"Seed\",\"Bell_pepper\",\"Cassava\",\"Yeast\",\"Seaweed\",\"Catfish\",\"Scallop\",\"Scallop\",\"Milk_fat\",\"Caviar\",\"Scallion\",\"Thai_pepper\",\"Lima_bean\",\"Mandarin\",\"Sesame_seed\",\"Carnation\",\"Anise\",\"Yogurt\",\"Buttermilk\",\"Smoked_fish\",\"Cabbage\",\"Smoke\",\"Tarragon\",\"Shrimp\",\"Berry\",\"Shrimp\",\"Cabernet_sauvignon_wine\",\"Yeast\",\"Shrimp\",\"Lime\",\"Shiitake\",\"Camembert_cheese\",\"Tarragon\",\"Sherry\",\"Bergamot\",\"Cane_molasses\",\"Sheep_cheese\",\"Cardamom\",\"Shallot\",\"Malt\",\"Red_wine\",\"Rhubarb\",\"Coconut\",\"Nectarine\",\"Walnut\",\"Peach\",\"Frankfurter\",\"Walnut\",\"Pea\",\"Wasabi\",\"Fruit\",\"Kaffir_lime\",\"White_wine\",\"Passion_fruit\",\"Garlic\",\"Nut\",\"Wasabi\",\"Parsnip\",\"Gelatin\",\"White_wine\",\"Watercress\",\"Artichoke\",\"Parsley\",\"Geranium\",\"Walnut\",\"Peanut\",\"Fish\",\"Asparagus\",\"Vegetable_oil\",\"Endive\",\"Pecan\",\"Vinegar\",\"Fennel\",\"Basil\",\"Mustard\",\"Vinegar\",\"Fenugreek\",\"Kidney_bean\",\"Parmesan_cheese\",\"Pear\",\"Vinegar\",\"Feta_cheese\",\"Peanut_oil\",\"Fig\",\"Peanut_butter\",\"Katsuobushi\",\"Whole_grain_wheat_flour\",\"Fig\",\"Peanut\",\"Whole_grain_wheat_flour\",\"Vinegar\",\"Avocado\",\"Ginger\",\"Papaya\",\"Orange_flower\",\"Wheat_bread\",\"Apricot\",\"Gruyere_cheese\",\"Hop\",\"Onion\",\"Haddock\",\"White_bread\",\"Oatmeal\",\"Onion\",\"Whiskey\",\"Ham\",\"White_bread\",\"Apple\",\"Olive_oil\",\"Hazelnut\",\"Whiskey\",\"Olive\",\"White_bread\",\"Holy_basil\",\"White_bread\",\"Green_tea\",\"Wheat\",\"Orange_juice\",\"White_bread\",\"Watercress\",\"White_wine\",\"Goat_cheese\",\"Nutmeg\",\"Palm\",\"Armagnac\",\"Grape\",\"Oyster\",\"White_wine\",\"Grape\",\"Jasmine\",\"Oregano\",\"Huckleberry\",\"Wheat\",\"Orange_peel\",\"Wheat\",\"Grapefruit\",\"White_wine\",\"Wheat\",\"Orange_juice\",\"Oat\",\"Green_bell_pepper\",\"Grape_juice\",\"Whole_grain_wheat_flour\",\"Pecan\",\"Mustard\",\"Corn_grit\",\"Provolone_cheese\",\"Wine\",\"Vanilla\",\"Cottage_cheese\",\"Prawn\",\"Crab\",\"Wine\",\"Potato_chip\",\"Mung_bean\",\"Corn_flake\",\"Banana\",\"Potato\",\"Lard\",\"Cream\",\"Potato\",\"Vanilla\",\"Pepper\",\"Wine\",\"Baked_potato\",\"Cream_cheese\",\"Pork_sausage\",\"Cranberry\",\"Lavender\",\"Pumpkin\",\"Corn\",\"Wood\",\"Red_kidney_bean\",\"Coconut_oil\",\"Red_bean\",\"Coffee\",\"Raspberry\",\"Mint\",\"Coffee\",\"Raspberry\",\"Leek\",\"Turmeric\",\"Wood\",\"Concord_grape\",\"Raisin\",\"Turmeric\",\"Bartlett_pear\",\"Radish\",\"Wine\",\"Coriander\",\"Mozzarella_cheese\",\"Quince\",\"Barley\",\"Turnip\",\"Sweet_potato\",\"Veal\",\"Cilantro\",\"Date\",\"Whole_grain_wheat_flour\",\"Mushroom\",\"Popcorn\",\"Currant\",\"Egg\",\"Kiwi\",\"Pimento\",\"Vegetable\",\"Pineapple\",\"Plum\",\"Kumquat\",\"Date\",\"Pistachio\",\"Whole_grain_wheat_flour\",\"Vegetable_oil\",\"Eel\",\"Mussel\",\"Dill\",\"Cucumber\",\"Vegetable\",\"Cured_pork\",\"Egg_noodle\",\"Pork_liver\",\"Elderberry\",\"Peppermint\",\"Veal\",\"Muscat_grape\",\"Egg_noodle\",\"Pork\",\"Lamb\",\"Cumin\",\"Vegetable_oil\",\"Bacon\",\"Porcini\",\"Peppermint_oil\",\"Wine\",\"Beer\",\"Beet\",\"Black_mustard_seed_oil\",\"Basil\",\"Apple\",\"Bay\",\"Apricot\",\"Tequila\",\"Swiss_cheese\",\"Anise_seed\",\"Avocado\",\"Berry\",\"Tomato_juice\",\"Artichoke\",\"Baked_potato\",\"Banana\",\"Anise\",\"Tamarind\",\"Beef\",\"Asparagus\",\"Beef_broth\",\"Armagnac\",\"Tea\",\"Watermelon\",\"Barley\",\"Bell_pepper\",\"Almond\",\"Tea\",\"Bean\",\"Bacon\",\"Black_bean\",\"Bitter_orange\",\"Lobster\",\"Sunflower_oil\",\"Papaya\",\"Ginger\",\"Goat_cheese\",\"Oyster\",\"Oregano\",\"Grape_juice\",\"Orange_peel\",\"Gin\",\"Orange_peel\",\"Green_tea\",\"Orange\",\"Gruyere_cheese\",\"Orange\",\"Ham\",\"Olive_oil\",\"Hazelnut\",\"Green_bell_pepper\",\"Gelatin\",\"Parsley\",\"Garlic\",\"Egg\",\"Pimento\",\"Endive\",\"Pepper\",\"Fennel\",\"Pear_brandy\",\"Pear\",\"Feta_cheese\",\"Fig\",\"Peanut_butter\",\"Fish\",\"Peach\",\"Frankfurter\",\"Peach\",\"Fruit\",\"Pea\",\"Gardenia\",\"Olive\",\"Herring\",\"Okra\",\"Octopus\",\"Lemon_juice\",\"Lemon_peel\",\"Meat\",\"Lemongrass\",\"Lettuce\",\"Maple_syrup\",\"Lilac_flower_oil\",\"Mango\",\"Lima_bean\",\"Mandarin\",\"Lime\",\"Malt\",\"Lime_juice\",\"Mace\",\"Macaroni\",\"Lime_peel_oil\",\"Macaroni\",\"Milk_fat\",\"Pineapple\",\"Lemon\",\"Mozzarella_cheese\",\"Hop\",\"Oatmeal\",\"Horseradish\",\"Oat\",\"Jasmine\",\"Nutmeg\",\"Juniper_berry\",\"Nut\",\"Nectarine\",\"Kale\",\"Kidney_bean\",\"Mustard\",\"Kohlrabi\",\"Lamb\",\"Lard\",\"Mung_bean\",\"Lavender\",\"Leaf\",\"Dill\",\"Currant\",\"Porcini\",\"Shallot\",\"Cardamom\",\"Carrot\",\"Cashew\",\"Cassava\",\"Cauliflower\",\"Cauliflower\",\"Scallion\",\"Cayenne\",\"Savory\",\"Celery\",\"Sauerkraut\",\"Celery_oil\",\"Cereal\",\"Champagne_wine\",\"Chayote\",\"Cheddar_cheese\",\"Caraway\",\"Rye_flour\",\"Sherry\",\"Cacao\",\"Black_tea\",\"Blackberry\",\"Blue_cheese\",\"Strawberry\",\"Starch\",\"Blueberry\",\"Bone_oil\",\"Bread\",\"Broccoli\",\"Brown_rice\",\"Brussels_sprout\",\"Butter\",\"Buttermilk\",\"Smoked_salmon\",\"Cabbage\",\"Smoke\",\"Cabernet_sauvignon_wine\",\"Cane_molasses\",\"Black_pepper\",\"Cheese\",\"Cherry_brandy\",\"Coriander\",\"Coriander\",\"Pumpkin\",\"Corn\",\"Provolone_cheese\",\"Cottage_cheese\",\"Potato_chip\",\"Cranberry\",\"Cream\",\"Port_wine\",\"Cream_cheese\",\"Port_wine\",\"Cucumber\",\"Pork_liver\",\"Cumin\",\"Pork\",\"Cumin\",\"Raisin\",\"Rum\",\"Cognac\",\"Coconut_oil\",\"Rum\",\"Chicken\",\"Chicken_broth\",\"Chicken_liver\",\"Root\",\"Chicory\",\"Chive\",\"Cider\",\"Cinnamon\",\"Citrus\",\"Roasted_beef\",\"Clam\",\"Roasted_almond\",\"Rice\",\"Clove\",\"Cocoa\",\"Coconut\",\"Rapeseed\",\"Lovage\",\"Alcohol\",\"Alcohol\",\"Alcohol\",\"Alcohol\",\"Alcohol\",\"Animal\",\"Animal\",\"Animal\",\"Animal\",\"Animal\",\"Animal produce\",\"Animal produce\",\"Animal produce\",\"Animal produce\",\"Animal produce\",\"Beverage\",\"Beverage\",\"Beverage\",\"Beverage\",\"Beverage\",\"Condiment\",\"Condiment\",\"Condiment\",\"Condiment\",\"Condiment\",\"Dairy product\",\"Dairy product\",\"Dairy product\",\"Dairy product\",\"Dairy product\",\"Edible oil\",\"Edible oil\",\"Edible oil\",\"Edible oil\",\"Edible oil\",\"Fish\",\"Fish\",\"Fish\",\"Fish\",\"Fish\",\"Fruit\",\"Fruit\",\"Fruit\",\"Fruit\",\"Fruit\",\"Fungus\",\"Fungus\",\"Fungus\",\"Fungus\",\"Fungus\",\"Grain\",\"Grain\",\"Grain\",\"Grain\",\"Grain\",\"Legume\",\"Legume\",\"Legume\",\"Legume\",\"Legume\",\"Meat\",\"Meat\",\"Meat\",\"Meat\",\"Meat\",\"Nut\",\"Nut\",\"Nut\",\"Nut\",\"Nut\",\"Others\",\"Others\",\"Others\",\"Others\",\"Others\",\"Plant\",\"Plant\",\"Plant\",\"Plant\",\"Plant\",\"Root vegetables\",\"Root vegetables\",\"Root vegetables\",\"Root vegetables\",\"Root vegetables\",\"Spice\",\"Spice\",\"Spice\",\"Spice\",\"Spice\",\"Spread\",\"Spread\",\"Spread\",\"Spread\",\"Spread\",\"Vegetable\",\"Vegetable\",\"Vegetable\",\"Vegetable\",\"Vegetable\",\"Africa\",\"Asia\",\"Europe\",\"North America\",\"South America\"],\"marker\":{\"colors\":[\"#66c2a5\",\"pink\",\"#66c2a5\",\"pink\",\"#f1a340\",\"pink\",\"#66c2a5\",\"lightgray\",\"pink\",\"#66c2a5\",\"lightgray\",\"#998ec3\",\"pink\",\"#998ec3\",\"lightgray\",\"pink\",\"lightgray\",\"#66c2a5\",\"pink\",\"#f1a340\",\"#66c2a5\",\"pink\",\"#f1a340\",\"pink\",\"lightgray\",\"#66c2a5\",\"#f1a340\",\"pink\",\"lightgray\",\"lightgray\",\"#66c2a5\",\"#f1a340\",\"pink\",\"lightgray\",\"#f1a340\",\"pink\",\"pink\",\"lightgray\",\"lightgray\",\"#f1a340\",\"pink\",\"#66c2a5\",\"#f1a340\",\"#f1a340\",\"#66c2a5\",\"pink\",\"lightgray\",\"#66c2a5\",\"lightgray\",\"#66c2a5\",\"lightgray\",\"#66c2a5\",\"pink\",\"lightgray\",\"lightgray\",\"#66c2a5\",\"lightgray\",\"lightgray\",\"#f1a340\",\"#66c2a5\",\"pink\",\"lightgray\",\"#66c2a5\",\"#f1a340\",\"lightgray\",\"#66c2a5\",\"pink\",\"#66c2a5\",\"#66c2a5\",\"lightgray\",\"#66c2a5\",\"#66c2a5\",\"lightgray\",\"#66c2a5\",\"pink\",\"lightgray\",\"lightgray\",\"pink\",\"pink\",\"lightgray\",\"#66c2a5\",\"lightgray\",\"pink\",\"#998ec3\",\"pink\",\"#998ec3\",\"lightgray\",\"#998ec3\",\"#f1a340\",\"#998ec3\",\"lightgray\",\"lightgray\",\"pink\",\"#998ec3\",\"pink\",\"lightgray\",\"#66c2a5\",\"#f1a340\",\"#66c2a5\",\"lightgray\",\"pink\",\"#998ec3\",\"#f1a340\",\"#998ec3\",\"#f1a340\",\"#998ec3\",\"pink\",\"#998ec3\",\"#66c2a5\",\"#66c2a5\",\"#f1a340\",\"#66c2a5\",\"pink\",\"#f1a340\",\"#66c2a5\",\"#998ec3\",\"#66c2a5\",\"#998ec3\",\"#66c2a5\",\"#998ec3\",\"#66c2a5\",\"pink\",\"lightgray\",\"#66c2a5\",\"lightgray\",\"#66c2a5\",\"#66c2a5\",\"#f1a340\",\"pink\",\"pink\",\"#66c2a5\",\"#f1a340\",\"pink\",\"pink\",\"#998ec3\",\"lightgray\",\"lightgray\",\"#f1a340\",\"#66c2a5\",\"lightgray\",\"#66c2a5\",\"lightgray\",\"#998ec3\",\"#66c2a5\",\"pink\",\"#66c2a5\",\"#66c2a5\",\"#66c2a5\",\"lightgray\",\"#998ec3\",\"#66c2a5\",\"#f1a340\",\"#f1a340\",\"#66c2a5\",\"pink\",\"#66c2a5\",\"lightgray\",\"#f1a340\",\"lightgray\",\"pink\",\"pink\",\"lightgray\",\"pink\",\"pink\",\"pink\",\"#f1a340\",\"#66c2a5\",\"#f1a340\",\"lightgray\",\"pink\",\"#f1a340\",\"#f1a340\",\"#998ec3\",\"#66c2a5\",\"#f1a340\",\"lightgray\",\"#f1a340\",\"#66c2a5\",\"#998ec3\",\"#66c2a5\",\"lightgray\",\"lightgray\",\"#998ec3\",\"#f1a340\",\"#66c2a5\",\"#66c2a5\",\"pink\",\"#998ec3\",\"#66c2a5\",\"#f1a340\",\"pink\",\"#66c2a5\",\"#f1a340\",\"#66c2a5\",\"lightgray\",\"#66c2a5\",\"lightgray\",\"pink\",\"#f1a340\",\"#f1a340\",\"#66c2a5\",\"lightgray\",\"pink\",\"#998ec3\",\"#66c2a5\",\"pink\",\"#998ec3\",\"#f1a340\",\"#66c2a5\",\"lightgray\",\"#66c2a5\",\"#66c2a5\",\"pink\",\"#66c2a5\",\"#f1a340\",\"#f1a340\",\"lightgray\",\"pink\",\"#998ec3\",\"lightgray\",\"#66c2a5\",\"#f1a340\",\"#66c2a5\",\"lightgray\",\"pink\",\"lightgray\",\"#f1a340\",\"#66c2a5\",\"lightgray\",\"#66c2a5\",\"#66c2a5\",\"#f1a340\",\"#66c2a5\",\"#998ec3\",\"#998ec3\",\"#998ec3\",\"pink\",\"pink\",\"#66c2a5\",\"lightgray\",\"pink\",\"pink\",\"pink\",\"lightgray\",\"#f1a340\",\"pink\",\"pink\",\"#66c2a5\",\"pink\",\"pink\",\"lightgray\",\"lightgray\",\"lightgray\",\"#66c2a5\",\"#f1a340\",\"lightgray\",\"#66c2a5\",\"lightgray\",\"lightgray\",\"#f1a340\",\"pink\",\"#998ec3\",\"#66c2a5\",\"pink\",\"lightgray\",\"pink\",\"#66c2a5\",\"pink\",\"lightgray\",\"#66c2a5\",\"#998ec3\",\"pink\",\"#66c2a5\",\"#998ec3\",\"#66c2a5\",\"pink\",\"lightgray\",\"#66c2a5\",\"#998ec3\",\"lightgray\",\"lightgray\",\"pink\",\"#66c2a5\",\"pink\",\"pink\",\"pink\",\"#f1a340\",\"pink\",\"lightgray\",\"lightgray\",\"pink\",\"lightgray\",\"#66c2a5\",\"#66c2a5\",\"#66c2a5\",\"pink\",\"pink\",\"#66c2a5\",\"#f1a340\",\"pink\",\"lightgray\",\"pink\",\"#66c2a5\",\"pink\",\"lightgray\",\"#998ec3\",\"lightgray\",\"#66c2a5\",\"pink\",\"#66c2a5\",\"lightgray\",\"#998ec3\",\"lightgray\",\"pink\",\"lightgray\",\"#66c2a5\",\"#66c2a5\",\"pink\",\"#998ec3\",\"lightgray\",\"pink\",\"#998ec3\",\"#66c2a5\",\"#66c2a5\",\"pink\",\"pink\",\"#998ec3\",\"#66c2a5\",\"#66c2a5\",\"pink\",\"#66c2a5\",\"pink\",\"lightgray\",\"#998ec3\",\"pink\",\"#998ec3\",\"#998ec3\",\"#66c2a5\",\"#998ec3\",\"#66c2a5\",\"pink\",\"#f1a340\",\"lightgray\",\"#66c2a5\",\"#998ec3\",\"lightgray\",\"pink\",\"#66c2a5\",\"lightgray\",\"#f1a340\",\"lightgray\",\"pink\",\"lightgray\",\"#f1a340\",\"#66c2a5\",\"#66c2a5\",\"#998ec3\",\"lightgray\",\"#66c2a5\",\"pink\",\"#66c2a5\",\"lightgray\",\"#66c2a5\",\"pink\",\"#66c2a5\",\"#998ec3\",\"#f1a340\",\"#998ec3\",\"#66c2a5\",\"pink\",\"pink\",\"#998ec3\",\"lightgray\",\"#66c2a5\",\"#f1a340\",\"pink\",\"#998ec3\",\"#66c2a5\",\"pink\",\"#998ec3\",\"#f1a340\",\"#f1a340\",\"#f1a340\",\"#998ec3\",\"#998ec3\",\"#998ec3\",\"#66c2a5\",\"#998ec3\",\"#66c2a5\",\"lightgray\",\"#66c2a5\",\"pink\",\"pink\",\"lightgray\",\"lightgray\",\"#66c2a5\",\"#998ec3\",\"pink\",\"pink\",\"lightgray\",\"pink\",\"#66c2a5\",\"#998ec3\",\"pink\",\"lightgray\",\"#f1a340\",\"pink\",\"lightgray\",\"#66c2a5\",\"#66c2a5\",\"lightgray\",\"#66c2a5\",\"#f1a340\",\"#66c2a5\",\"pink\",\"lightgray\",\"#998ec3\",\"pink\",\"#998ec3\",\"#66c2a5\",\"lightgray\",\"lightgray\",\"#f1a340\",\"pink\",\"lightgray\",\"#66c2a5\",\"#f1a340\",\"#66c2a5\",\"#f1a340\",\"#66c2a5\",\"#66c2a5\",\"pink\",\"#f1a340\",\"#66c2a5\",\"#66c2a5\",\"lightgray\",\"lightgray\",\"lightgray\",\"#998ec3\",\"lightgray\",\"#998ec3\",\"#66c2a5\",\"#998ec3\",\"#f1a340\",\"pink\",\"#998ec3\",\"#66c2a5\",\"#66c2a5\",\"#66c2a5\",\"pink\",\"#998ec3\",\"pink\",\"pink\",\"#66c2a5\",\"lightgray\",\"#f1a340\",\"lightgray\",\"pink\",\"#66c2a5\",\"#f1a340\",\"pink\",\"#66c2a5\",\"lightgray\",\"#66c2a5\",\"lightgray\",\"lightgray\",\"#f1a340\",\"lightgray\",\"#66c2a5\",\"#998ec3\",\"pink\",\"pink\",\"#f1a340\",\"pink\",\"#66c2a5\",\"lightgray\",\"#998ec3\",\"lightgray\",\"#998ec3\",\"#f1a340\",\"#998ec3\",\"#f1a340\",\"lightgray\",\"#66c2a5\",\"lightgray\",\"lightgray\",\"#f1a340\",\"lightgray\",\"lightgray\",\"pink\",\"pink\",\"#998ec3\",\"lightgray\",\"#f1a340\",\"pink\",\"#66c2a5\",\"#998ec3\",\"#f1a340\",\"#f1a340\",\"#66c2a5\",\"pink\",\"#66c2a5\",\"pink\",\"pink\",\"#66c2a5\",\"#998ec3\",\"#f1a340\",\"pink\",\"pink\",\"pink\",\"#998ec3\",\"lightgray\",\"lightgray\",\"#f1a340\",\"pink\",\"#66c2a5\",\"#66c2a5\",\"lightgray\",\"#f1a340\",\"lightgray\",\"lightgray\",\"pink\",\"pink\",\"lightgray\",\"#f1a340\",\"#66c2a5\",\"#66c2a5\",\"#f1a340\",\"#f1a340\",\"#66c2a5\",\"#998ec3\",\"lightgray\",\"#66c2a5\",\"#998ec3\",\"#998ec3\",\"lightgray\",\"#66c2a5\",\"#66c2a5\",\"#f1a340\",\"#f1a340\",\"#998ec3\",\"#f1a340\",\"#66c2a5\",\"#66c2a5\",\"#f1a340\",\"#998ec3\",\"#66c2a5\",\"pink\",\"pink\",\"#998ec3\",\"lightgray\",\"#998ec3\",\"pink\",\"#66c2a5\",\"#998ec3\",\"#998ec3\",\"#66c2a5\",\"#998ec3\",\"lightgray\",\"#66c2a5\",\"#66c2a5\",\"lightgray\",\"#66c2a5\",\"#998ec3\",\"pink\",\"lightgray\",\"lightgray\",\"#66c2a5\",\"#f1a340\",\"#66c2a5\",\"#998ec3\",\"#998ec3\",\"#66c2a5\",\"#f1a340\",\"#66c2a5\",\"lightgray\",\"#f1a340\",\"lightgray\",\"#66c2a5\",\"pink\",\"#66c2a5\",\"#66c2a5\",\"#66c2a5\",\"lightgray\",\"lightgray\",\"pink\",\"#998ec3\",\"pink\",\"#998ec3\",\"pink\",\"#998ec3\",\"pink\",\"#f1a340\",\"lightgray\",\"lightgray\",\"pink\",\"lightgray\",\"lightgray\",\"#66c2a5\",\"#f1a340\",\"#f1a340\",\"#f1a340\",\"#f1a340\",\"#66c2a5\",\"pink\",\"pink\",\"pink\",\"#f1a340\",\"pink\",\"pink\",\"#f1a340\",\"#f1a340\",\"#66c2a5\",\"#998ec3\",\"#66c2a5\",\"pink\",\"#66c2a5\",\"#66c2a5\",\"#998ec3\",\"lightgray\",\"pink\",\"#66c2a5\",\"pink\",\"#f1a340\",\"#f1a340\",\"pink\",\"#f1a340\",\"#66c2a5\",\"#f1a340\",\"#66c2a5\",\"lightgray\",\"#66c2a5\",\"#f1a340\",\"#f1a340\",\"#66c2a5\",\"#66c2a5\",\"pink\",\"lightgray\",\"#f1a340\",\"pink\",\"pink\",\"#f1a340\",\"pink\",\"lightgray\",\"lightgray\",\"lightgray\",\"lightgray\",\"#66c2a5\",\"#998ec3\",\"#f1a340\",\"#f1a340\",\"#66c2a5\",\"#66c2a5\",\"#f1a340\",\"#998ec3\",\"#f1a340\",\"lightgray\",\"#f1a340\",\"#66c2a5\",\"lightgray\",\"#66c2a5\",\"lightgray\",\"lightgray\",\"#f1a340\",\"pink\",\"#f1a340\",\"#66c2a5\",\"#998ec3\",\"pink\",\"pink\",\"lightgray\",\"pink\",\"#998ec3\",\"#66c2a5\",\"lightgray\",\"lightgray\",\"#998ec3\",\"#66c2a5\",\"pink\",\"#66c2a5\",\"#66c2a5\",\"#f1a340\",\"lightgray\",\"pink\",\"lightgray\",\"#f1a340\",\"#f1a340\",\"lightgray\",\"#f1a340\",\"#f1a340\",\"#998ec3\",\"#f1a340\",\"pink\",\"pink\",\"lightgray\",\"#f1a340\",\"#66c2a5\",\"pink\",\"#66c2a5\",\"#66c2a5\",\"#66c2a5\",\"#66c2a5\",\"lightgray\",\"pink\",\"pink\",\"#66c2a5\",\"lightgray\",\"#66c2a5\",\"pink\",\"#66c2a5\",\"lightgray\",\"#998ec3\",\"pink\",\"lightgray\",\"#66c2a5\",\"#66c2a5\",\"#998ec3\",\"#66c2a5\",\"#66c2a5\",\"#66c2a5\",\"#f1a340\",\"#66c2a5\",\"#66c2a5\",\"#f1a340\",\"#998ec3\",\"#66c2a5\",\"#998ec3\",\"#998ec3\",\"#66c2a5\",\"#f1a340\",\"pink\",\"lightgray\",\"#66c2a5\",\"#66c2a5\",\"#998ec3\",\"#66c2a5\",\"#f1a340\",\"#998ec3\",\"#f1a340\",\"#998ec3\",\"lightgray\",\"#f1a340\",\"#998ec3\",\"#f1a340\",\"#f1a340\",\"pink\",\"pink\",\"pink\",\"pink\",\"pink\",\"pink\",\"#66c2a5\",\"#66c2a5\",\"lightgray\",\"#f1a340\",\"#66c2a5\",\"lightgray\",\"#f1a340\",\"#f1a340\",\"#66c2a5\",\"#f1a340\",\"#66c2a5\",\"lightgray\",\"#998ec3\",\"#998ec3\",\"#66c2a5\",\"#66c2a5\",\"#f1a340\",\"#66c2a5\",\"#66c2a5\",\"#f1a340\",\"#66c2a5\",\"pink\",\"#66c2a5\",\"#66c2a5\",\"#f1a340\",\"#66c2a5\",\"lightgray\",\"#66c2a5\",\"pink\",\"#66c2a5\",\"#f1a340\",\"#998ec3\",\"#998ec3\",\"#f1a340\",\"lightgray\",\"pink\",\"lightgray\",\"lightgray\",\"#998ec3\",\"#66c2a5\",\"#66c2a5\",\"pink\",\"lightgray\",\"#f1a340\",\"pink\",\"#998ec3\",\"#998ec3\",\"lightgray\",\"#998ec3\",\"#66c2a5\",\"#66c2a5\",\"lightgray\",\"pink\",\"#f1a340\",\"#f1a340\",\"lightgray\",\"pink\",\"#66c2a5\",\"pink\",\"#f1a340\",\"lightgray\",\"#66c2a5\",\"pink\",\"#f1a340\",\"lightgray\",\"lightgray\",\"pink\",\"#66c2a5\",\"#f1a340\",\"pink\",\"lightgray\",\"lightgray\",\"pink\",\"#66c2a5\",\"lightgray\",\"#66c2a5\",\"#f1a340\",\"#998ec3\",\"lightgray\",\"#f1a340\",\"#f1a340\",\"lightgray\",\"pink\",\"pink\",\"pink\",\"pink\",\"pink\",\"lightgray\",\"#f1a340\",\"pink\",\"lightgray\",\"lightgray\",\"lightgray\",\"#66c2a5\",\"lightgray\",\"pink\",\"lightgray\",\"#66c2a5\",\"lightgray\",\"pink\",\"pink\",\"#66c2a5\",\"#66c2a5\",\"#66c2a5\",\"pink\",\"pink\",\"lightgray\",\"pink\",\"lightgray\",\"pink\",\"#f1a340\",\"pink\",\"pink\",\"pink\",\"#66c2a5\",\"#66c2a5\",\"#998ec3\",\"#66c2a5\",\"pink\",\"#f1a340\",\"pink\",\"lightgray\",\"pink\",\"#66c2a5\",\"#66c2a5\",\"#f1a340\",\"#66c2a5\",\"#998ec3\",\"pink\",\"#998ec3\",\"lightgray\",\"lightgray\",\"#998ec3\",\"#f1a340\",\"lightgray\",\"#f1a340\",\"#998ec3\",\"#f1a340\",\"#f1a340\",\"pink\",\"#66c2a5\",\"pink\",\"lightgray\",\"#f1a340\",\"pink\",\"#66c2a5\",\"lightgray\",\"pink\",\"pink\",\"#66c2a5\",\"#998ec3\",\"lightgray\",\"#998ec3\",\"lightgray\",\"#f1a340\",\"lightgray\",\"#66c2a5\",\"pink\",\"lightgray\",\"#f1a340\",\"#f1a340\",\"#66c2a5\",\"#f1a340\",\"#66c2a5\",\"pink\",\"#66c2a5\",\"lightgray\",\"pink\",\"lightgray\",\"#66c2a5\",\"#66c2a5\",\"pink\",\"#66c2a5\",\"#66c2a5\",\"#66c2a5\",\"#998ec3\",\"lightgray\",\"#998ec3\",\"#f1a340\",\"pink\",\"#66c2a5\",\"lightgray\",\"#66c2a5\",\"pink\",\"#66c2a5\",\"#66c2a5\",\"#66c2a5\",\"#f1a340\",\"#998ec3\",\"#f1a340\",\"#998ec3\",\"#66c2a5\",\"pink\",\"pink\",\"#998ec3\",\"#f1a340\",\"#66c2a5\",\"#66c2a5\",\"pink\",\"#998ec3\",\"pink\",\"pink\",\"#66c2a5\",\"pink\",\"#998ec3\",\"#f1a340\",\"lightgray\",\"#998ec3\",\"lightgray\",\"#f1a340\",\"#66c2a5\",\"lightgray\",\"pink\",\"pink\",\"pink\",\"pink\",\"pink\",\"#66c2a5\",\"#f1a340\",\"pink\",\"pink\",\"#f1a340\",\"pink\",\"#66c2a5\",\"#66c2a5\",\"lightgray\",\"#998ec3\",\"pink\",\"#66c2a5\",\"pink\",\"#66c2a5\",\"#998ec3\",\"pink\",\"#66c2a5\",\"#66c2a5\",\"#998ec3\",\"lightgray\",\"#66c2a5\",\"#998ec3\",\"lightgray\",\"#f1a340\",\"pink\",\"lightgray\",\"#f1a340\",\"pink\",\"lightgray\",\"pink\",\"#66c2a5\",\"lightgray\",\"#998ec3\",\"#66c2a5\",\"pink\",\"lightgray\",\"lightgray\",\"#998ec3\",\"lightgray\",\"pink\",\"#998ec3\",\"pink\",\"#998ec3\",\"#66c2a5\",\"lightgray\",\"#998ec3\",\"lightgray\",\"#998ec3\",\"#66c2a5\",\"lightgray\",\"lightgray\",\"#66c2a5\",\"lightgray\",\"#f1a340\",\"#998ec3\",\"#998ec3\",\"lightgray\",\"pink\",\"#f1a340\",\"#66c2a5\",\"#66c2a5\",\"lightgray\",\"#66c2a5\",\"#998ec3\",\"pink\",\"#66c2a5\",\"pink\",\"pink\",\"lightgray\",\"#f1a340\",\"#998ec3\",\"#66c2a5\",\"lightgray\",\"#66c2a5\",\"#66c2a5\",\"lightgray\",\"pink\",\"lightgray\",\"pink\",\"#f1a340\",\"#998ec3\",\"lightgray\",\"pink\",\"pink\",\"pink\",\"#f1a340\",\"#998ec3\",\"lightgray\",\"pink\",\"#66c2a5\",\"pink\",\"lightgray\",\"#66c2a5\",\"#66c2a5\",\"#f1a340\",\"#66c2a5\",\"#66c2a5\",\"pink\",\"#f1a340\",\"#66c2a5\",\"#66c2a5\",\"pink\",\"lightgray\",\"pink\",\"#998ec3\",\"lightgray\",\"lightgray\",\"#66c2a5\",\"#66c2a5\",\"#998ec3\",\"lightgray\",\"#f1a340\",\"pink\",\"#66c2a5\",\"lightgray\",\"#f1a340\",\"#66c2a5\",\"lightgray\",\"pink\",\"lightgray\",\"#66c2a5\",\"lightgray\",\"#f1a340\",\"#998ec3\",\"pink\",\"#998ec3\",\"#66c2a5\",\"#998ec3\",\"#f1a340\",\"pink\",\"#998ec3\",\"#998ec3\",\"lightgray\",\"lightgray\",\"#f1a340\",\"#66c2a5\",\"pink\",\"#66c2a5\",\"lightgray\",\"pink\",\"lightgray\",\"#66c2a5\",\"lightgray\",\"lightgray\",\"#998ec3\",\"#998ec3\",\"#f1a340\",\"pink\",\"pink\",\"#f1a340\",\"#998ec3\",\"lightgray\",\"lightgray\",\"lightgray\",\"#66c2a5\",\"#66c2a5\",\"#998ec3\",\"lightgray\",\"#66c2a5\",\"pink\",\"#f1a340\",\"#f1a340\",\"pink\",\"pink\",\"#998ec3\",\"#f1a340\",\"pink\",\"#66c2a5\",\"#f1a340\",\"#f1a340\",\"pink\",\"lightgray\",\"lightgray\",\"#998ec3\",\"#f1a340\",\"#998ec3\",\"#998ec3\",\"pink\",\"#f1a340\",\"pink\",\"pink\",\"pink\",\"#f1a340\",\"#66c2a5\",\"lightgray\",\"#998ec3\",\"#66c2a5\",\"#998ec3\",\"pink\",\"#f1a340\",\"#998ec3\",\"lightgray\",\"#f1a340\",\"#f1a340\",\"pink\",\"#998ec3\",\"pink\",\"lightgray\",\"lightgray\",\"pink\",\"#f1a340\",\"lightgray\",\"#66c2a5\",\"lightgray\",\"#66c2a5\",\"#f1a340\",\"pink\",\"#998ec3\",\"lightgray\",\"pink\",\"#66c2a5\",\"#66c2a5\",\"#66c2a5\",\"pink\",\"#998ec3\",\"pink\",\"lightgray\",\"#f1a340\",\"#998ec3\",\"#66c2a5\",\"lightgray\",\"pink\",\"lightgray\",\"#66c2a5\",\"lightgray\",\"pink\",\"lightgray\",\"#998ec3\",\"pink\",\"#66c2a5\",\"#66c2a5\",\"#66c2a5\",\"#f1a340\",\"#66c2a5\",\"lightgray\",\"#998ec3\",\"#f1a340\",\"lightgray\",\"pink\",\"lightgray\",\"#66c2a5\",\"lightgray\",\"#66c2a5\",\"#66c2a5\",\"lightgray\",\"#998ec3\",\"#998ec3\",\"lightgray\",\"lightgray\",\"pink\",\"pink\",\"#66c2a5\",\"pink\",\"#66c2a5\",\"#f1a340\",\"#66c2a5\",\"pink\",\"lightgray\",\"#f1a340\",\"#998ec3\",\"lightgray\",\"pink\",\"#66c2a5\",\"#66c2a5\",\"pink\",\"lightgray\",\"#998ec3\",\"pink\",\"#998ec3\",\"lightgray\",\"#66c2a5\",\"pink\",\"#66c2a5\",\"lightgray\",\"pink\",\"lightgray\",\"pink\",\"#66c2a5\",\"pink\",\"lightgray\",\"#66c2a5\",\"#66c2a5\",\"#998ec3\",\"#66c2a5\",\"pink\",\"lightgray\",\"#f1a340\",\"pink\",\"pink\",\"lightgray\",\"#f1a340\",\"#66c2a5\",\"#998ec3\",\"#66c2a5\",\"#66c2a5\",\"#66c2a5\",\"#66c2a5\",\"#f1a340\",\"#998ec3\",\"#66c2a5\",\"#66c2a5\",\"lightgray\",\"#66c2a5\",\"lightgray\",\"lightgray\",\"lightgray\",\"lightgray\",\"pink\",\"#66c2a5\",\"pink\",\"lightgray\",\"#998ec3\",\"lightgray\",\"lightgray\",\"#66c2a5\",\"lightgray\",\"#998ec3\",\"pink\",\"#66c2a5\",\"#66c2a5\",\"lightgray\",\"#66c2a5\",\"pink\",\"lightgray\",\"#66c2a5\",\"#66c2a5\",\"#998ec3\",\"#998ec3\",\"pink\",\"#66c2a5\",\"#998ec3\",\"#66c2a5\",\"#66c2a5\",\"#f1a340\",\"#f1a340\",\"#998ec3\",\"pink\",\"lightgray\",\"lightgray\",\"#998ec3\",\"lightgray\",\"#f1a340\",\"#998ec3\",\"#66c2a5\",\"#998ec3\",\"lightgray\",\"lightgray\",\"pink\",\"#f1a340\",\"lightgray\",\"pink\",\"lightgray\",\"#f1a340\",\"#f1a340\",\"pink\",\"#66c2a5\",\"#998ec3\",\"lightgray\",\"#f1a340\",\"pink\",\"#f1a340\",\"#66c2a5\",\"#998ec3\",\"#66c2a5\",\"#66c2a5\",\"pink\",\"#66c2a5\",\"#66c2a5\",\"#66c2a5\",\"#66c2a5\",\"#66c2a5\",\"#66c2a5\",\"#66c2a5\",\"lightgray\",\"#998ec3\",\"#66c2a5\",\"#66c2a5\",\"pink\",\"#66c2a5\",\"#66c2a5\",\"#66c2a5\",\"pink\",\"#f1a340\",\"pink\",\"pink\",\"#f1a340\",\"#f1a340\",\"pink\",\"lightgray\",\"#66c2a5\",\"lightgray\",\"lightgray\",\"lightgray\",\"#998ec3\",\"lightgray\",\"pink\",\"#66c2a5\",\"#998ec3\",\"#f1a340\",\"#66c2a5\",\"lightgray\",\"lightgray\",\"lightgray\",\"lightgray\",\"#66c2a5\",\"pink\",\"#998ec3\",\"lightgray\",\"lightgray\",\"#998ec3\",\"#f1a340\",\"#f1a340\",\"pink\",\"lightgray\",\"#998ec3\",\"lightgray\",\"#998ec3\",\"lightgray\",\"pink\",\"#f1a340\",\"pink\",\"pink\",\"lightgray\",\"pink\",\"#66c2a5\",\"#66c2a5\",\"#f1a340\",\"lightgray\",\"#66c2a5\",\"lightgray\",\"#66c2a5\",\"#f1a340\",\"pink\",\"pink\",\"lightgray\",\"#66c2a5\",\"lightgray\",\"lightgray\",\"#998ec3\",\"pink\",\"#f1a340\",\"#f1a340\",\"pink\",\"#f1a340\",\"lightgray\",\"lightgray\",\"pink\",\"#998ec3\",\"#66c2a5\",\"#66c2a5\",\"#f1a340\",\"#66c2a5\",\"#998ec3\",\"#66c2a5\",\"#f1a340\",\"lightgray\",\"pink\",\"#f1a340\",\"pink\",\"#66c2a5\",\"#f1a340\",\"#f1a340\",\"#f1a340\",\"pink\",\"#f1a340\",\"pink\",\"#998ec3\",\"#f1a340\",\"#998ec3\",\"#66c2a5\",\"pink\",\"pink\",\"#66c2a5\",\"lightgray\",\"pink\",\"lightgray\",\"lightgray\",\"#998ec3\",\"#998ec3\",\"pink\",\"pink\",\"#998ec3\",\"lightgray\",\"#66c2a5\",\"pink\",\"pink\",\"pink\",\"pink\",\"#66c2a5\",\"pink\",\"#f1a340\",\"lightgray\",\"pink\",\"#66c2a5\",\"#998ec3\",\"#f1a340\",\"lightgray\",\"pink\",\"#66c2a5\",\"#998ec3\",\"#f1a340\",\"lightgray\",\"pink\",\"#66c2a5\",\"#998ec3\",\"#f1a340\",\"lightgray\",\"pink\",\"#66c2a5\",\"#998ec3\",\"#f1a340\",\"lightgray\",\"pink\",\"#66c2a5\",\"#998ec3\",\"#f1a340\",\"lightgray\",\"pink\",\"#66c2a5\",\"#998ec3\",\"#f1a340\",\"lightgray\",\"pink\",\"#66c2a5\",\"#998ec3\",\"#f1a340\",\"lightgray\",\"pink\",\"#66c2a5\",\"#998ec3\",\"#f1a340\",\"lightgray\",\"pink\",\"#66c2a5\",\"#998ec3\",\"#f1a340\",\"lightgray\",\"pink\",\"#66c2a5\",\"#998ec3\",\"#f1a340\",\"lightgray\",\"pink\",\"#66c2a5\",\"#998ec3\",\"#f1a340\",\"lightgray\",\"pink\",\"#66c2a5\",\"#998ec3\",\"#f1a340\",\"lightgray\",\"pink\",\"#66c2a5\",\"#998ec3\",\"#f1a340\",\"lightgray\",\"pink\",\"#66c2a5\",\"#998ec3\",\"#f1a340\",\"lightgray\",\"pink\",\"#66c2a5\",\"#998ec3\",\"#f1a340\",\"lightgray\",\"pink\",\"#66c2a5\",\"#998ec3\",\"#f1a340\",\"lightgray\",\"pink\",\"#66c2a5\",\"#998ec3\",\"#f1a340\",\"lightgray\",\"pink\",\"#66c2a5\",\"#998ec3\",\"#f1a340\",\"lightgray\",\"pink\",\"#66c2a5\",\"#998ec3\",\"#f1a340\",\"lightgray\",\"pink\",\"#66c2a5\",\"#998ec3\",\"#f1a340\",\"lightgray\",\"pink\",\"#66c2a5\",\"#998ec3\"]},\"name\":\"\",\"parents\":[\"North America/Animal\",\"Europe/Dairy product\",\"North America/Fish\",\"Europe/Vegetable\",\"Africa/Alcohol\",\"Europe/Plant\",\"North America/Alcohol\",\"Asia/Condiment\",\"Europe/Vegetable\",\"North America/Dairy product\",\"Asia/Plant\",\"South America/Alcohol\",\"Europe/Fruit\",\"South America/Condiment\",\"Asia/Spice\",\"Europe/Vegetable\",\"Asia/Spice\",\"North America/Meat\",\"Europe/Plant\",\"Africa/Vegetable\",\"North America/Plant\",\"Europe/Plant\",\"Africa/Fish\",\"Europe/Dairy product\",\"Asia/Spice\",\"North America/Edible oil\",\"Africa/Fish\",\"Europe/Fruit\",\"Asia/Legume\",\"Asia/Plant\",\"North America/Plant\",\"Africa/Plant\",\"Europe/Nut\",\"Asia/Meat\",\"Africa/Dairy product\",\"Europe/Spread\",\"Europe/Animal\",\"Asia/Fruit\",\"Asia/Alcohol\",\"Africa/Fruit\",\"Europe/Fish\",\"North America/Plant\",\"Africa/Alcohol\",\"Africa/Grain\",\"North America/Meat\",\"Europe/Dairy product\",\"Asia/Edible oil\",\"North America/Nut\",\"Asia/Alcohol\",\"North America/Fruit\",\"Asia/Vegetable\",\"North America/Plant\",\"Europe/Plant\",\"Asia/Fruit\",\"Asia/Dairy product\",\"North America/Plant\",\"Asia/Plant\",\"Asia/Fruit\",\"Africa/Condiment\",\"North America/Grain\",\"Europe/Beverage\",\"Asia/Alcohol\",\"North America/Plant\",\"Africa/Plant\",\"Asia/Fruit\",\"North America/Grain\",\"Europe/Plant\",\"North America/Plant\",\"North America/Alcohol\",\"Asia/Plant\",\"North America/Spread\",\"North America/Spice\",\"Asia/Others\",\"North America/Plant\",\"Europe/Plant\",\"Asia/Dairy product\",\"Asia/Animal\",\"Europe/Plant\",\"Europe/Animal\",\"Asia/Beverage\",\"North America/Dairy product\",\"Asia/Plant\",\"Europe/Legume\",\"South America/Plant\",\"Europe/Dairy product\",\"South America/Meat\",\"Asia/Others\",\"South America/Spice\",\"Africa/Meat\",\"South America/Legume\",\"Asia/Beverage\",\"Asia/Fruit\",\"Europe/Alcohol\",\"South America/Fruit\",\"Europe/Fruit\",\"Asia/Dairy product\",\"North America/Condiment\",\"Africa/Grain\",\"North America/Animal\",\"Asia/Meat\",\"Europe/Fruit\",\"South America/Plant\",\"Africa/Grain\",\"South America/Plant\",\"Africa/Legume\",\"South America/Meat\",\"Europe/Dairy product\",\"South America/Fruit\",\"North America/Plant\",\"North America/Alcohol\",\"Africa/Animal produce\",\"North America/Spice\",\"Europe/Plant\",\"Africa/Dairy product\",\"North America/Edible oil\",\"South America/Edible oil\",\"North America/Animal produce\",\"South America/Plant\",\"North America/Plant\",\"South America/Vegetable\",\"North America/Others\",\"Europe/Fish\",\"Asia/Plant\",\"North America/Fruit\",\"Asia/Fruit\",\"North America/Others\",\"North America/Plant\",\"Africa/Meat\",\"Europe/Plant\",\"Europe/Meat\",\"North America/Fungus\",\"Africa/Dairy product\",\"Europe/Plant\",\"Europe/Meat\",\"South America/Fruit\",\"Asia/Plant\",\"Asia/Grain\",\"Africa/Fruit\",\"North America/Fruit\",\"Asia/Alcohol\",\"North America/Beverage\",\"Asia/Fish\",\"South America/Fungus\",\"North America/Plant\",\"Europe/Dairy product\",\"North America/Vegetable\",\"North America/Fungus\",\"North America/Fruit\",\"Asia/Legume\",\"South America/Meat\",\"North America/Meat\",\"Africa/Fruit\",\"Africa/Fungus\",\"North America/Others\",\"Europe/Plant\",\"North America/Alcohol\",\"Asia/Fruit\",\"Africa/Alcohol\",\"Asia/Fruit\",\"Europe/Fruit\",\"Europe/Fruit\",\"Asia/Plant\",\"Europe/Condiment\",\"Europe/Grain\",\"Europe/Plant\",\"Africa/Fruit\",\"North America/Animal produce\",\"Africa/Fruit\",\"Asia/Plant\",\"Europe/Dairy product\",\"Africa/Fruit\",\"Africa/Dairy product\",\"South America/Meat\",\"North America/Fruit\",\"Africa/Plant\",\"Asia/Spice\",\"Africa/Condiment\",\"North America/Meat\",\"South America/Dairy product\",\"North America/Grain\",\"Asia/Meat\",\"Asia/Legume\",\"South America/Plant\",\"Africa/Plant\",\"North America/Plant\",\"North America/Fruit\",\"Europe/Plant\",\"South America/Meat\",\"North America/Plant\",\"Africa/Plant\",\"Europe/Plant\",\"North America/Plant\",\"Africa/Legume\",\"North America/Vegetable\",\"Asia/Spice\",\"North America/Others\",\"Asia/Legume\",\"Europe/Fruit\",\"Africa/Nut\",\"Africa/Plant\",\"North America/Fruit\",\"Asia/Plant\",\"Europe/Fruit\",\"South America/Nut\",\"North America/Plant\",\"Europe/Fruit\",\"South America/Plant\",\"Africa/Plant\",\"North America/Plant\",\"Asia/Dairy product\",\"North America/Beverage\",\"North America/Spice\",\"Europe/Plant\",\"North America/Plant\",\"Africa/Fruit\",\"Africa/Plant\",\"Asia/Spice\",\"Europe/Plant\",\"South America/Plant\",\"Asia/Meat\",\"North America/Animal produce\",\"Africa/Plant\",\"North America/Plant\",\"Asia/Alcohol\",\"Europe/Others\",\"Asia/Nut\",\"Africa/Plant\",\"North America/Fruit\",\"Asia/Vegetable\",\"North America/Meat\",\"North America/Fruit\",\"Africa/Fruit\",\"North America/Beverage\",\"South America/Animal produce\",\"South America/Fruit\",\"South America/Fruit\",\"Europe/Meat\",\"Europe/Grain\",\"North America/Fruit\",\"Asia/Fruit\",\"Europe/Legume\",\"Europe/Fruit\",\"Europe/Beverage\",\"Asia/Plant\",\"Africa/Meat\",\"Europe/Fruit\",\"Europe/Plant\",\"North America/Meat\",\"Europe/Plant\",\"Europe/Condiment\",\"Asia/Plant\",\"Asia/Grain\",\"Asia/Plant\",\"North America/Dairy product\",\"Africa/Others\",\"Asia/Spice\",\"North America/Animal\",\"Asia/Fruit\",\"Asia/Fruit\",\"Africa/Edible oil\",\"Europe/Animal\",\"South America/Dairy product\",\"North America/Fish\",\"Europe/Others\",\"Asia/Fruit\",\"Europe/Plant\",\"North America/Fruit\",\"Europe/Plant\",\"Asia/Grain\",\"North America/Plant\",\"South America/Meat\",\"Europe/Vegetable\",\"North America/Plant\",\"South America/Others\",\"North America/Fruit\",\"Europe/Plant\",\"Asia/Meat\",\"North America/Dairy product\",\"South America/Fruit\",\"Asia/Grain\",\"Asia/Alcohol\",\"Europe/Plant\",\"North America/Dairy product\",\"Europe/Fruit\",\"Europe/Others\",\"Europe/Legume\",\"Africa/Condiment\",\"Europe/Plant\",\"Asia/Fruit\",\"Asia/Plant\",\"Europe/Fruit\",\"Asia/Plant\",\"North America/Vegetable\",\"North America/Alcohol\",\"North America/Meat\",\"Europe/Fish\",\"Europe/Fruit\",\"North America/Others\",\"Africa/Plant\",\"Europe/Dairy product\",\"Asia/Plant\",\"Europe/Legume\",\"North America/Condiment\",\"Europe/Spice\",\"Asia/Dairy product\",\"South America/Dairy product\",\"Asia/Alcohol\",\"North America/Fruit\",\"Europe/Fruit\",\"North America/Animal\",\"Asia/Fruit\",\"South America/Fruit\",\"Asia/Plant\",\"Europe/Plant\",\"Asia/Fish\",\"North America/Condiment\",\"North America/Grain\",\"Europe/Edible oil\",\"South America/Meat\",\"Asia/Plant\",\"Europe/Vegetable\",\"South America/Plant\",\"North America/Fish\",\"North America/Alcohol\",\"Europe/Fruit\",\"Europe/Fruit\",\"South America/Spice\",\"North America/Beverage\",\"North America/Plant\",\"Europe/Fruit\",\"North America/Plant\",\"Europe/Fruit\",\"Asia/Animal\",\"South America/Plant\",\"Europe/Condiment\",\"South America/Plant\",\"South America/Plant\",\"North America/Plant\",\"South America/Dairy product\",\"North America/Fungus\",\"Europe/Fruit\",\"Africa/Dairy product\",\"Asia/Spice\",\"North America/Dairy product\",\"South America/Spice\",\"Asia/Plant\",\"Europe/Plant\",\"North America/Others\",\"Asia/Condiment\",\"Africa/Others\",\"Asia/Plant\",\"Europe/Animal produce\",\"Asia/Dairy product\",\"Africa/Fruit\",\"North America/Plant\",\"North America/Plant\",\"South America/Edible oil\",\"Asia/Plant\",\"North America/Vegetable\",\"Europe/Plant\",\"North America/Plant\",\"Asia/Fungus\",\"North America/Fruit\",\"Europe/Spice\",\"North America/Vegetable\",\"South America/Meat\",\"Africa/Fruit\",\"South America/Plant\",\"North America/Dairy product\",\"Europe/Plant\",\"Europe/Legume\",\"South America/Animal produce\",\"Asia/Fish\",\"North America/Dairy product\",\"Africa/Spread\",\"Europe/Plant\",\"South America/Spread\",\"North America/Dairy product\",\"Europe/Plant\",\"South America/Alcohol\",\"Africa/Plant\",\"Africa/Vegetable\",\"Africa/Plant\",\"South America/Grain\",\"South America/Plant\",\"South America/Plant\",\"North America/Plant\",\"South America/Alcohol\",\"North America/Plant\",\"Asia/Alcohol\",\"North America/Animal\",\"Europe/Alcohol\",\"Europe/Plant\",\"Asia/Edible oil\",\"Asia/Grain\",\"North America/Dairy product\",\"South America/Fruit\",\"Europe/Alcohol\",\"Europe/Plant\",\"Asia/Fruit\",\"Europe/Edible oil\",\"North America/Plant\",\"South America/Root vegetables\",\"Europe/Spice\",\"Asia/Dairy product\",\"Africa/Grain\",\"Europe/Condiment\",\"Asia/Legume\",\"North America/Dairy product\",\"North America/Plant\",\"Asia/Plant\",\"North America/Nut\",\"Africa/Edible oil\",\"North America/Fruit\",\"Europe/Edible oil\",\"Asia/Plant\",\"South America/Plant\",\"Europe/Spice\",\"South America/Plant\",\"North America/Animal\",\"Asia/Plant\",\"Asia/Plant\",\"Africa/Condiment\",\"Europe/Fungus\",\"Asia/Plant\",\"North America/Vegetable\",\"Africa/Fish\",\"North America/Dairy product\",\"Africa/Meat\",\"North America/Spread\",\"North America/Meat\",\"Europe/Plant\",\"Africa/Dairy product\",\"North America/Alcohol\",\"North America/Plant\",\"Asia/Plant\",\"Asia/Plant\",\"Asia/Meat\",\"South America/Meat\",\"Asia/Vegetable\",\"South America/Fruit\",\"North America/Edible oil\",\"South America/Vegetable\",\"Africa/Nut\",\"Europe/Plant\",\"South America/Vegetable\",\"North America/Vegetable\",\"North America/Plant\",\"North America/Plant\",\"Europe/Fruit\",\"South America/Grain\",\"Europe/Alcohol\",\"Europe/Alcohol\",\"North America/Others\",\"Asia/Fruit\",\"Africa/Fungus\",\"Asia/Plant\",\"Europe/Dairy product\",\"North America/Plant\",\"Africa/Fruit\",\"Europe/Fruit\",\"North America/Fruit\",\"Asia/Fish\",\"North America/Spice\",\"Asia/Root vegetables\",\"Asia/Fruit\",\"Africa/Plant\",\"Asia/Plant\",\"North America/Plant\",\"South America/Plant\",\"Europe/Alcohol\",\"Europe/Spice\",\"Africa/Plant\",\"Europe/Plant\",\"North America/Plant\",\"Asia/Alcohol\",\"South America/Fruit\",\"Asia/Meat\",\"South America/Fruit\",\"Africa/Others\",\"South America/Fruit\",\"Africa/Meat\",\"Asia/Fish\",\"North America/Fish\",\"Asia/Legume\",\"Asia/Plant\",\"Africa/Plant\",\"Asia/Plant\",\"Asia/Plant\",\"Europe/Fruit\",\"Europe/Vegetable\",\"South America/Grain\",\"Asia/Legume\",\"Africa/Grain\",\"Europe/Plant\",\"North America/Plant\",\"South America/Animal\",\"Africa/Fish\",\"Africa/Alcohol\",\"North America/Plant\",\"Europe/Meat\",\"North America/Plant\",\"Europe/Alcohol\",\"Europe/Beverage\",\"North America/Fruit\",\"South America/Plant\",\"Africa/Plant\",\"Europe/Plant\",\"Europe/Meat\",\"Europe/Root vegetables\",\"South America/Spice\",\"Asia/Dairy product\",\"Asia/Alcohol\",\"Africa/Plant\",\"Europe/Spice\",\"North America/Legume\",\"North America/Fruit\",\"Asia/Plant\",\"Africa/Spice\",\"Asia/Dairy product\",\"Asia/Fruit\",\"Europe/Grain\",\"Europe/Others\",\"Asia/Meat\",\"Africa/Grain\",\"North America/Plant\",\"North America/Plant\",\"Africa/Fruit\",\"Africa/Plant\",\"North America/Alcohol\",\"South America/Others\",\"Asia/Vegetable\",\"North America/Vegetable\",\"South America/Plant\",\"South America/Others\",\"Asia/Animal\",\"North America/Plant\",\"North America/Dairy product\",\"Africa/Alcohol\",\"Africa/Fruit\",\"South America/Meat\",\"Africa/Edible oil\",\"North America/Vegetable\",\"North America/Vegetable\",\"Africa/Spice\",\"South America/Fruit\",\"North America/Legume\",\"Europe/Beverage\",\"Europe/Meat\",\"South America/Fish\",\"Asia/Meat\",\"South America/Plant\",\"Europe/Meat\",\"North America/Alcohol\",\"South America/Dairy product\",\"South America/Animal\",\"North America/Others\",\"South America/Plant\",\"Asia/Others\",\"North America/Fungus\",\"North America/Fruit\",\"Asia/Plant\",\"North America/Meat\",\"South America/Dairy product\",\"Europe/Dairy product\",\"Asia/Plant\",\"Asia/Fungus\",\"North America/Plant\",\"Africa/Fish\",\"North America/Animal\",\"South America/Plant\",\"South America/Dairy product\",\"North America/Plant\",\"Africa/Plant\",\"North America/Alcohol\",\"Asia/Dairy product\",\"Africa/Fruit\",\"Asia/Fruit\",\"North America/Grain\",\"Europe/Fruit\",\"North America/Vegetable\",\"North America/Grain\",\"North America/Vegetable\",\"Asia/Grain\",\"Asia/Alcohol\",\"Europe/Spice\",\"South America/Alcohol\",\"Europe/Grain\",\"South America/Fruit\",\"Europe/Plant\",\"South America/Plant\",\"Europe/Nut\",\"Africa/Dairy product\",\"Asia/Alcohol\",\"Asia/Fruit\",\"Europe/Legume\",\"Asia/Plant\",\"Asia/Grain\",\"North America/Plant\",\"Africa/Vegetable\",\"Africa/Condiment\",\"Africa/Root vegetables\",\"Africa/Legume\",\"North America/Root vegetables\",\"Europe/Dairy product\",\"Europe/Spice\",\"Europe/Meat\",\"Africa/Meat\",\"Europe/Plant\",\"Europe/Alcohol\",\"Africa/Plant\",\"Africa/Vegetable\",\"North America/Meat\",\"South America/Vegetable\",\"North America/Fungus\",\"Europe/Edible oil\",\"North America/Fruit\",\"North America/Plant\",\"South America/Condiment\",\"Asia/Plant\",\"Europe/Plant\",\"North America/Nut\",\"Europe/Vegetable\",\"Africa/Fruit\",\"Africa/Plant\",\"Europe/Plant\",\"Africa/Fungus\",\"North America/Fungus\",\"Africa/Vegetable\",\"North America/Plant\",\"Asia/Animal\",\"North America/Animal\",\"Africa/Others\",\"Africa/Plant\",\"North America/Others\",\"North America/Alcohol\",\"Europe/Dairy product\",\"Asia/Fish\",\"Africa/Spice\",\"Europe/Plant\",\"Europe/Meat\",\"Africa/Alcohol\",\"Europe/Plant\",\"Asia/Plant\",\"Asia/Dairy product\",\"Asia/Fruit\",\"Asia/Animal\",\"North America/Fish\",\"South America/Vegetable\",\"Africa/Alcohol\",\"Africa/Plant\",\"North America/Animal\",\"North America/Plant\",\"Africa/Plant\",\"South America/Vegetable\",\"Africa/Plant\",\"Asia/Edible oil\",\"Africa/Vegetable\",\"North America/Plant\",\"Asia/Spread\",\"North America/Plant\",\"Asia/Plant\",\"Asia/Edible oil\",\"Africa/Plant\",\"Europe/Plant\",\"Africa/Others\",\"North America/Plant\",\"South America/Vegetable\",\"Europe/Plant\",\"Europe/Spice\",\"Asia/Vegetable\",\"Europe/Dairy product\",\"South America/Fruit\",\"North America/Legume\",\"Asia/Fruit\",\"Asia/Condiment\",\"South America/Condiment\",\"North America/Fish\",\"Europe/Plant\",\"North America/Plant\",\"North America/Plant\",\"Africa/Root vegetables\",\"Asia/Meat\",\"Europe/Root vegetables\",\"Asia/Animal\",\"Africa/Grain\",\"Africa/Dairy product\",\"Asia/Animal produce\",\"Africa/Plant\",\"Africa/Plant\",\"South America/Plant\",\"Africa/Spice\",\"Europe/Meat\",\"Europe/Plant\",\"Asia/Plant\",\"Africa/Fruit\",\"North America/Fruit\",\"Europe/Dairy product\",\"North America/Grain\",\"North America/Plant\",\"North America/Alcohol\",\"North America/Fruit\",\"Asia/Fruit\",\"Europe/Plant\",\"Europe/Fruit\",\"North America/Spice\",\"Asia/Edible oil\",\"North America/Fruit\",\"Europe/Plant\",\"North America/Others\",\"Asia/Plant\",\"South America/Plant\",\"Europe/Plant\",\"Asia/Fruit\",\"North America/Grain\",\"North America/Fruit\",\"South America/Animal\",\"North America/Root vegetables\",\"North America/Vegetable\",\"North America/Plant\",\"Africa/Grain\",\"North America/Grain\",\"North America/Edible oil\",\"Africa/Fruit\",\"South America/Plant\",\"North America/Plant\",\"South America/Fruit\",\"South America/Dairy product\",\"North America/Animal produce\",\"Africa/Meat\",\"Europe/Plant\",\"Asia/Plant\",\"North America/Fruit\",\"North America/Plant\",\"South America/Meat\",\"North America/Plant\",\"Africa/Others\",\"South America/Plant\",\"Africa/Fruit\",\"South America/Dairy product\",\"Asia/Others\",\"Africa/Dairy product\",\"South America/Animal\",\"Africa/Animal\",\"Africa/Dairy product\",\"Europe/Grain\",\"Europe/Grain\",\"Europe/Plant\",\"Europe/Plant\",\"Europe/Fruit\",\"Europe/Plant\",\"North America/Beverage\",\"North America/Fish\",\"Asia/Edible oil\",\"Africa/Grain\",\"North America/Plant\",\"Asia/Vegetable\",\"Africa/Plant\",\"Africa/Nut\",\"North America/Alcohol\",\"Africa/Meat\",\"North America/Fruit\",\"Asia/Dairy product\",\"South America/Plant\",\"South America/Fruit\",\"North America/Fruit\",\"North America/Fruit\",\"Africa/Fruit\",\"North America/Fruit\",\"North America/Dairy product\",\"Africa/Vegetable\",\"North America/Spice\",\"Europe/Alcohol\",\"North America/Condiment\",\"North America/Plant\",\"Africa/Vegetable\",\"North America/Spice\",\"Asia/Fruit\",\"North America/Plant\",\"Europe/Fish\",\"North America/Plant\",\"Africa/Fruit\",\"South America/Dairy product\",\"South America/Plant\",\"Africa/Plant\",\"Asia/Fruit\",\"Europe/Fish\",\"Asia/Fruit\",\"Asia/Plant\",\"South America/Fruit\",\"North America/Plant\",\"North America/Spice\",\"Europe/Plant\",\"Asia/Condiment\",\"Africa/Fruit\",\"Europe/Plant\",\"South America/Vegetable\",\"South America/Dairy product\",\"Asia/Plant\",\"South America/Spread\",\"North America/Plant\",\"North America/Spice\",\"Asia/Vegetable\",\"Europe/Plant\",\"Africa/Plant\",\"Africa/Grain\",\"Asia/Plant\",\"Europe/Alcohol\",\"North America/Alcohol\",\"Europe/Edible oil\",\"Africa/Plant\",\"Asia/Edible oil\",\"North America/Alcohol\",\"Europe/Fruit\",\"Africa/Beverage\",\"Asia/Grain\",\"Asia/Plant\",\"Europe/Fish\",\"North America/Vegetable\",\"Africa/Animal\",\"Europe/Legume\",\"Asia/Plant\",\"Asia/Spice\",\"Europe/Plant\",\"North America/Beverage\",\"Asia/Meat\",\"North America/Plant\",\"Africa/Plant\",\"South America/Legume\",\"Asia/Animal produce\",\"Africa/Others\",\"Africa/Meat\",\"Asia/Others\",\"Europe/Alcohol\",\"Europe/Fruit\",\"Europe/Dairy product\",\"Europe/Meat\",\"Europe/Dairy product\",\"Asia/Plant\",\"Africa/Alcohol\",\"Europe/Alcohol\",\"Asia/Grain\",\"Asia/Edible oil\",\"Asia/Plant\",\"North America/Plant\",\"Asia/Spice\",\"Europe/Plant\",\"Asia/Condiment\",\"North America/Spice\",\"Asia/Plant\",\"Europe/Condiment\",\"Europe/Plant\",\"North America/Plant\",\"North America/Plant\",\"North America/Legume\",\"Europe/Plant\",\"Europe/Plant\",\"Asia/Plant\",\"Europe/Fruit\",\"Asia/Edible oil\",\"Europe/Vegetable\",\"Africa/Meat\",\"Europe/Plant\",\"Europe/Fruit\",\"Europe/Plant\",\"North America/Legume\",\"North America/Fruit\",\"South America/Plant\",\"North America/Plant\",\"Europe/Plant\",\"Africa/Animal\",\"Europe/Vegetable\",\"Asia/Animal produce\",\"Europe/Fruit\",\"North America/Fruit\",\"North America/Fruit\",\"Africa/Animal produce\",\"North America/Legume\",\"South America/Condiment\",\"Europe/Fruit\",\"South America/Plant\",\"Asia/Others\",\"Asia/Root vegetables\",\"South America/Dairy product\",\"Africa/Meat\",\"Asia/Plant\",\"Africa/Grain\",\"South America/Plant\",\"Africa/Fruit\",\"Africa/Legume\",\"Europe/Others\",\"North America/Fruit\",\"Europe/Condiment\",\"Asia/Spice\",\"Africa/Plant\",\"Europe/Vegetable\",\"North America/Plant\",\"Asia/Condiment\",\"Europe/Plant\",\"Europe/Animal produce\",\"North America/Edible oil\",\"South America/Vegetable\",\"Asia/Fish\",\"South America/Dairy product\",\"Asia/Fungus\",\"Africa/Plant\",\"Asia/Alcohol\",\"North America/Meat\",\"Europe/Alcohol\",\"Asia/Meat\",\"Africa/Fruit\",\"Africa/Plant\",\"North America/Plant\",\"Africa/Vegetable\",\"North America/Grain\",\"Europe/Plant\",\"North America/Plant\",\"Asia/Plant\",\"Europe/Animal\",\"Asia/Plant\",\"North America/Meat\",\"North America/Spice\",\"Europe/Fish\",\"North America/Fruit\",\"North America/Dairy product\",\"North America/Plant\",\"South America/Fruit\",\"Asia/Legume\",\"South America/Plant\",\"Africa/Meat\",\"Europe/Animal\",\"North America/Grain\",\"Asia/Fruit\",\"North America/Plant\",\"Europe/Vegetable\",\"North America/Meat\",\"North America/Animal\",\"North America/Fruit\",\"Africa/Meat\",\"South America/Condiment\",\"Africa/Plant\",\"South America/Legume\",\"North America/Fruit\",\"Europe/Others\",\"Europe/Plant\",\"South America/Alcohol\",\"Africa/Plant\",\"North America/Meat\",\"North America/Animal produce\",\"Europe/Legume\",\"South America/Meat\",\"Europe/Plant\",\"Europe/Fungus\",\"North America/Dairy product\",\"Europe/Plant\",\"South America/Fruit\",\"Africa/Dairy product\",\"Asia/Plant\",\"South America/Plant\",\"Asia/Plant\",\"Africa/Beverage\",\"North America/Plant\",\"Asia/Meat\",\"Europe/Fruit\",\"Europe/Others\",\"Europe/Fruit\",\"Europe/Spice\",\"Europe/Plant\",\"North America/Edible oil\",\"Africa/Plant\",\"Europe/Plant\",\"Europe/Edible oil\",\"Africa/Plant\",\"Europe/Grain\",\"North America/Plant\",\"North America/Plant\",\"Asia/Plant\",\"South America/Grain\",\"Europe/Plant\",\"North America/Condiment\",\"Europe/Grain\",\"North America/Plant\",\"South America/Fruit\",\"Europe/Dairy product\",\"North America/Vegetable\",\"North America/Plant\",\"South America/Dairy product\",\"Asia/Plant\",\"North America/Alcohol\",\"South America/Plant\",\"Asia/Animal\",\"Africa/Alcohol\",\"Europe/Plant\",\"Asia/Root vegetables\",\"Africa/Spice\",\"Europe/Dairy product\",\"Asia/Edible oil\",\"Europe/Beverage\",\"North America/Plant\",\"Asia/Plant\",\"South America/Fruit\",\"North America/Spread\",\"Europe/Animal produce\",\"Asia/Fruit\",\"Asia/Dairy product\",\"South America/Grain\",\"Asia/Fruit\",\"Europe/Plant\",\"South America/Plant\",\"Europe/Plant\",\"South America/Plant\",\"North America/Nut\",\"Asia/Plant\",\"South America/Alcohol\",\"Asia/Spread\",\"South America/Spice\",\"North America/Fish\",\"Asia/Plant\",\"Asia/Alcohol\",\"North America/Edible oil\",\"Asia/Fruit\",\"Africa/Fruit\",\"South America/Fungus\",\"South America/Plant\",\"Asia/Nut\",\"Europe/Plant\",\"Africa/Spice\",\"North America/Plant\",\"North America/Fungus\",\"Asia/Plant\",\"North America/Fish\",\"South America/Animal\",\"Europe/Animal\",\"North America/Dairy product\",\"Europe/Spread\",\"Europe/Vegetable\",\"Asia/Plant\",\"Africa/Legume\",\"South America/Fruit\",\"North America/Plant\",\"Asia/Plant\",\"North America/Plant\",\"North America/Dairy product\",\"Asia/Dairy product\",\"Europe/Fish\",\"Asia/Vegetable\",\"Europe/Others\",\"Africa/Plant\",\"South America/Animal\",\"Asia/Fruit\",\"Europe/Animal\",\"Europe/Alcohol\",\"Europe/Fungus\",\"Africa/Animal\",\"South America/Fruit\",\"Asia/Fungus\",\"Europe/Dairy product\",\"North America/Plant\",\"Europe/Alcohol\",\"Asia/Plant\",\"North America/Condiment\",\"North America/Dairy product\",\"Africa/Spice\",\"North America/Plant\",\"North America/Grain\",\"Europe/Alcohol\",\"Africa/Vegetable\",\"North America/Fruit\",\"North America/Fruit\",\"Europe/Nut\",\"Asia/Plant\",\"Europe/Meat\",\"South America/Nut\",\"Asia/Vegetable\",\"Asia/Plant\",\"North America/Fruit\",\"North America/Plant\",\"South America/Alcohol\",\"Asia/Fruit\",\"Africa/Plant\",\"Europe/Fruit\",\"North America/Plant\",\"Asia/Vegetable\",\"Africa/Condiment\",\"North America/Alcohol\",\"Asia/Vegetable\",\"Europe/Vegetable\",\"Asia/Plant\",\"North America/Plant\",\"Asia/Nut\",\"Africa/Legume\",\"South America/Fish\",\"Europe/Vegetable\",\"South America/Edible oil\",\"North America/Vegetable\",\"South America/Plant\",\"Africa/Condiment\",\"Europe/Plant\",\"South America/Plant\",\"South America/Condiment\",\"Asia/Condiment\",\"Asia/Plant\",\"Africa/Legume\",\"North America/Dairy product\",\"Europe/Plant\",\"North America/Condiment\",\"Asia/Dairy product\",\"Europe/Edible oil\",\"Asia/Plant\",\"North America/Spread\",\"Asia/Others\",\"Asia/Grain\",\"South America/Plant\",\"South America/Legume\",\"Africa/Grain\",\"Europe/Condiment\",\"Europe/Fruit\",\"Africa/Spice\",\"South America/Plant\",\"Asia/Plant\",\"Asia/Grain\",\"Asia/Fruit\",\"North America/Dairy product\",\"North America/Plant\",\"South America/Vegetable\",\"Asia/Fish\",\"North America/Grain\",\"Europe/Grain\",\"Africa/Vegetable\",\"Africa/Alcohol\",\"Europe/Meat\",\"Europe/Grain\",\"South America/Fruit\",\"Africa/Edible oil\",\"Europe/Nut\",\"North America/Alcohol\",\"Africa/Plant\",\"Africa/Grain\",\"Europe/Plant\",\"Asia/Grain\",\"Asia/Beverage\",\"South America/Grain\",\"Africa/Fruit\",\"South America/Grain\",\"South America/Vegetable\",\"Europe/Alcohol\",\"Africa/Dairy product\",\"Europe/Spice\",\"Europe/Plant\",\"Europe/Alcohol\",\"Africa/Fruit\",\"North America/Animal\",\"Asia/Alcohol\",\"South America/Fruit\",\"North America/Plant\",\"South America/Plant\",\"Europe/Plant\",\"Africa/Grain\",\"South America/Fruit\",\"Asia/Grain\",\"Africa/Fruit\",\"Africa/Alcohol\",\"Europe/Grain\",\"South America/Fruit\",\"Europe/Plant\",\"Asia/Plant\",\"Asia/Fruit\",\"Europe/Grain\",\"Africa/Plant\",\"Asia/Condiment\",\"North America/Others\",\"Asia/Dairy product\",\"North America/Alcohol\",\"Africa/Spice\",\"Europe/Dairy product\",\"South America/Animal\",\"Asia/Animal\",\"Europe/Alcohol\",\"North America/Others\",\"North America/Legume\",\"North America/Grain\",\"Europe/Fruit\",\"South America/Others\",\"Europe/Animal produce\",\"Asia/Dairy product\",\"Africa/Others\",\"South America/Spice\",\"North America/Spice\",\"Asia/Alcohol\",\"Europe/Others\",\"Asia/Dairy product\",\"North America/Meat\",\"Asia/Plant\",\"Europe/Plant\",\"Asia/Fruit\",\"South America/Grain\",\"Europe/Others\",\"North America/Legume\",\"North America/Edible oil\",\"North America/Legume\",\"Africa/Beverage\",\"North America/Fruit\",\"Asia/Plant\",\"South America/Beverage\",\"Africa/Fruit\",\"Asia/Plant\",\"Europe/Plant\",\"Asia/Others\",\"North America/Fruit\",\"Asia/Fruit\",\"North America/Plant\",\"North America/Plant\",\"Asia/Vegetable\",\"South America/Alcohol\",\"South America/Plant\",\"Asia/Dairy product\",\"Asia/Fruit\",\"Europe/Grain\",\"Europe/Root vegetables\",\"North America/Root vegetables\",\"Europe/Meat\",\"North America/Plant\",\"Africa/Fruit\",\"North America/Grain\",\"Europe/Fungus\",\"Asia/Grain\",\"Africa/Plant\",\"South America/Animal produce\",\"Asia/Fruit\",\"Europe/Spice\",\"North America/Vegetable\",\"North America/Fruit\",\"Europe/Fruit\",\"Asia/Plant\",\"South America/Fruit\",\"Europe/Fruit\",\"South America/Grain\",\"Asia/Edible oil\",\"North America/Fish\",\"Europe/Animal\",\"North America/Plant\",\"Asia/Plant\",\"Europe/Vegetable\",\"Asia/Meat\",\"Europe/Others\",\"North America/Animal produce\",\"Europe/Plant\",\"Asia/Plant\",\"North America/Meat\",\"North America/Fruit\",\"South America/Others\",\"North America/Meat\",\"Europe/Meat\",\"Asia/Plant\",\"Africa/Edible oil\",\"Europe/Meat\",\"Europe/Fungus\",\"Asia/Edible oil\",\"Africa/Alcohol\",\"North America/Alcohol\",\"South America/Plant\",\"North America/Edible oil\",\"North America/Plant\",\"North America/Fruit\",\"North America/Plant\",\"Africa/Fruit\",\"South America/Alcohol\",\"North America/Dairy product\",\"North America/Plant\",\"Asia/Fruit\",\"North America/Fruit\",\"Asia/Fruit\",\"Asia/Vegetable\",\"Asia/Others\",\"Asia/Fruit\",\"Europe/Plant\",\"North America/Plant\",\"Europe/Meat\",\"Asia/Vegetable\",\"South America/Others\",\"Asia/Alcohol\",\"Asia/Beverage\",\"North America/Fruit\",\"Asia/Grain\",\"South America/Spice\",\"Europe/Plant\",\"North America/Beverage\",\"North America/Legume\",\"Asia/Meat\",\"North America/Plant\",\"Europe/Plant\",\"Asia/Animal\",\"North America/Edible oil\",\"North America/Plant\",\"South America/Spice\",\"South America/Dairy product\",\"Europe/Animal\",\"North America/Plant\",\"South America/Fruit\",\"North America/Fruit\",\"North America/Alcohol\",\"Africa/Fruit\",\"Africa/Beverage\",\"South America/Fruit\",\"Europe/Dairy product\",\"Asia/Fruit\",\"Asia/Meat\",\"South America/Edible oil\",\"Asia/Nut\",\"Africa/Plant\",\"South America/Condiment\",\"North America/Plant\",\"South America/Plant\",\"Asia/Animal produce\",\"Asia/Spice\",\"Europe/Vegetable\",\"Africa/Spice\",\"Asia/Plant\",\"Europe/Alcohol\",\"Asia/Plant\",\"Africa/Dairy product\",\"Africa/Plant\",\"Europe/Spread\",\"North America/Fish\",\"South America/Plant\",\"Asia/Meat\",\"Africa/Plant\",\"Europe/Fruit\",\"Africa/Vegetable\",\"North America/Plant\",\"South America/Plant\",\"North America/Fish\",\"North America/Plant\",\"Europe/Animal\",\"North America/Condiment\",\"North America/Fruit\",\"North America/Meat\",\"North America/Plant\",\"North America/Vegetable\",\"North America/Condiment\",\"North America/Edible oil\",\"Asia/Fruit\",\"South America/Legume\",\"North America/Fruit\",\"North America/Fruit\",\"Europe/Grain\",\"North America/Fruit\",\"North America/Spice\",\"North America/Grain\",\"Europe/Edible oil\",\"Africa/Grain\",\"Europe/Dairy product\",\"Europe/Fruit\",\"Africa/Fruit\",\"Africa/Dairy product\",\"Europe/Plant\",\"Asia/Grain\",\"North America/Plant\",\"Asia/Plant\",\"Asia/Plant\",\"Asia/Spice\",\"South America/Fruit\",\"Asia/Fruit\",\"Europe/Fruit\",\"North America/Plant\",\"South America/Legume\",\"Africa/Condiment\",\"North America/Vegetable\",\"Asia/Meat\",\"Asia/Animal produce\",\"Asia/Legume\",\"Asia/Plant\",\"North America/Plant\",\"Europe/Plant\",\"South America/Plant\",\"Asia/Fungus\",\"Asia/Plant\",\"South America/Spice\",\"Africa/Fruit\",\"Africa/Nut\",\"Europe/Plant\",\"Asia/Vegetable\",\"South America/Vegetable\",\"Asia/Vegetable\",\"South America/Spice\",\"Asia/Others\",\"Europe/Plant\",\"Africa/Vegetable\",\"Europe/Edible oil\",\"Europe/Grain\",\"Asia/Alcohol\",\"Europe/Plant\",\"North America/Dairy product\",\"North America/Plant\",\"Africa/Others\",\"Asia/Alcohol\",\"North America/Plant\",\"Asia/Beverage\",\"North America/Fruit\",\"Africa/Dairy product\",\"Europe/Fruit\",\"Europe/Grain\",\"Asia/Plant\",\"North America/Edible oil\",\"Asia/Grain\",\"Asia/Plant\",\"South America/Grain\",\"Europe/Vegetable\",\"Africa/Spread\",\"Africa/Dairy product\",\"Europe/Fish\",\"Africa/Vegetable\",\"Asia/Others\",\"Asia/Alcohol\",\"Europe/Condiment\",\"South America/Spice\",\"North America/Dairy product\",\"North America/Alcohol\",\"Africa/Plant\",\"North America/Plant\",\"South America/Fruit\",\"North America/Grain\",\"Africa/Dairy product\",\"Asia/Dairy product\",\"Europe/Others\",\"Africa/Plant\",\"Europe/Dairy product\",\"North America/Alcohol\",\"Africa/Dairy product\",\"Africa/Alcohol\",\"Africa/Plant\",\"Europe/Animal produce\",\"Africa/Plant\",\"Europe/Meat\",\"South America/Plant\",\"Africa/Fruit\",\"South America/Alcohol\",\"North America/Alcohol\",\"Europe/Edible oil\",\"Europe/Alcohol\",\"North America/Meat\",\"Asia/Others\",\"Europe/Animal produce\",\"Asia/Plant\",\"Asia/Plant\",\"South America/Plant\",\"South America/Beverage\",\"Europe/Spice\",\"Europe/Plant\",\"South America/Meat\",\"Asia/Animal\",\"North America/Plant\",\"Europe/Grain\",\"Europe/Plant\",\"Europe/Fruit\",\"Europe/Fruit\",\"North America/Plant\",\"Europe/Plant\",\"Africa\",\"Asia\",\"Europe\",\"North America\",\"South America\",\"Africa\",\"Asia\",\"Europe\",\"North America\",\"South America\",\"Africa\",\"Asia\",\"Europe\",\"North America\",\"South America\",\"Africa\",\"Asia\",\"Europe\",\"North America\",\"South America\",\"Africa\",\"Asia\",\"Europe\",\"North America\",\"South America\",\"Africa\",\"Asia\",\"Europe\",\"North America\",\"South America\",\"Africa\",\"Asia\",\"Europe\",\"North America\",\"South America\",\"Africa\",\"Asia\",\"Europe\",\"North America\",\"South America\",\"Africa\",\"Asia\",\"Europe\",\"North America\",\"South America\",\"Africa\",\"Asia\",\"Europe\",\"North America\",\"South America\",\"Africa\",\"Asia\",\"Europe\",\"North America\",\"South America\",\"Africa\",\"Asia\",\"Europe\",\"North America\",\"South America\",\"Africa\",\"Asia\",\"Europe\",\"North America\",\"South America\",\"Africa\",\"Asia\",\"Europe\",\"North America\",\"South America\",\"Africa\",\"Asia\",\"Europe\",\"North America\",\"South America\",\"Africa\",\"Asia\",\"Europe\",\"North America\",\"South America\",\"Africa\",\"Asia\",\"Europe\",\"North America\",\"South America\",\"Africa\",\"Asia\",\"Europe\",\"North America\",\"South America\",\"Africa\",\"Asia\",\"Europe\",\"North America\",\"South America\",\"Africa\",\"Asia\",\"Europe\",\"North America\",\"South America\",\"\",\"\",\"\",\"\",\"\"],\"type\":\"sunburst\",\"values\":[89.0,212.0,5.0,110.0,1.0,773.0,10.0,139.0,23.000000000000004,6.000000000000001,1470.9999999999998,2.0,2.0,19.0,10.999999999999995,123.99999999999996,66.0,31.000000000000004,115.0,3.0,379.99999999999983,6.0,1.0,71.0,464.0,249.0,4.0,490.00000000000006,75.00000000000001,1.0,1.0,7.000000000000003,23.000000000000004,21.0,31.0,2968.0,7.0,1.0,12.0,16.0,2.0,352.00000000000006,5.0,28.0,998.0,48.0,798.0,221.00000000000003,1.0,2.0,1539.0000000000002,704.0000000000001,5.000000000000001,164.99999999999997,18.0,26.000000000000004,7.0,34.0,22.0,266.0,4.0,1.0,741.0,26.0,10.999999999999995,3511.0,404.0,98.00000000000004,2.0,139.0,25.0,6215.0,286.0,128.00000000000003,120.0,21.999999999999996,10.0,5.000000000000001,74.0,94.0,272.0,2.0,23.000000000000004,25.00000000000001,12.0,1.0,5.0,32.0,1.0,1.0,36.0,65.0,37.0,6.000000000000001,245.00000000000009,1.0,8.999999999999998,46.0,375.00000000000006,25.0,4.0,2.0,7.000000000000003,1.0,3.0,1.0,428.0,2.0,703.0,74.0,241.0,195.0,1.0,39.0,7.0,2.0,8.999999999999998,12.000000000000002,1.0,1.0,93.0,69.0,192.00000000000003,158.00000000000003,35.00000000000001,2709.0,41.0,19.0,224.0,759.0,83.99999999999999,31.0,24.0,30.0,3.0000000000000004,18.0,4.0,13.999999999999998,212.0,49.0,34.0,10.0,9.999999999999998,1.0,5.000000000000001,292.0,35.99999999999999,293.99999999999994,13.0,30.0,371.0,1.0,37.00000000000001,711.0,2.0,4.0,790.0,5.0,1.0,103.0,12.0,17.0,595.0,6.0,18.000000000000004,4.0,2289.0,8.0,2.0,98.0,3.0,159.0,3.0000000000000004,750.0000000000001,1.0,764.0,47.0,1678.0,50.0,217.0,65.0,37.0,1.0,36.0,1.0,491.0,110.0,4.0,6.000000000000001,9.0,134.0,35.99999999999999,23.0,365.0,554.0,5.0,42.00000000000001,19.0,3.0,1.0,1023.0,1.0,6.0,1.0,969.0,3.0,7.999999999999999,4.0,8.999999999999998,162.0,2.0,1910.0,2.0,741.9999999999999,30.0,5.0,748.0,1.0,15.0,1.0,32.00000000000001,2.0,7.0,2.0,1.0,7.0,10.999999999999998,843.0,100.0,2.0,7.0,5.0,1.0,1.0,2.0,1.0,156.0,12.999999999999998,1434.0000000000002,2.0,31.0,49.0,112.0,50.99999999999999,19.0,119.0,26.0,264.0,547.0,60.0,284.0,20.0,19.000000000000004,145.0,2.0,10.999999999999995,433.0,131.99999999999997,27.0,1.0,2.0,3.0000000000000004,44.00000000000001,25.000000000000004,164.99999999999997,4.0,14.000000000000005,68.0,210.0,694.0000000000001,12.000000000000002,41.0,1449.0,3.0000000000000004,21.0,2.0,123.0,2099.0,3.0000000000000004,351.0,4.0,4.0,7640.0,94.0,506.0,24.0,30.0,291.99999999999994,42.00000000000001,219.0,90.0,10.999999999999995,67.00000000000001,7.0,1.0,22.0,45.0,59.99999999999999,1.0,41.0,7.0,83.0,3131.9999999999995,410.0,219.0,9.0,3.0,83.99999999999999,14.999999999999995,128.00000000000003,38.0,7.000000000000001,9.0,286.0,1.0,1972.0,44.00000000000001,1236.0,6.000000000000001,29.00000000000001,2558.0,1.0,26.000000000000004,1.0,2.0,270.0,15.0,26.000000000000004,8.999999999999998,9.0,1878.0,246.0,10.999999999999995,56.99999999999999,191.0,3.0000000000000004,9.0,287.0,20.0,106.0,405.0,2.0,841.0,1.0,39.99999999999999,1.0,21.0,247.0,447.0,2.0,2.0,3082.0,1123.9999999999998,18.0,664.0,720.0,1.0,1.0,105.0,2272.0,29.000000000000004,259.0,14.000000000000005,21.0,935.0,25.00000000000001,5.0,26.0,21.0,8.0,55.0,7.000000000000001,233.0,1098.0,13.0,23.000000000000004,1.0,449.00000000000006,67.0,7.000000000000001,24.0,2.0,5.0,41.00000000000001,1.0,2.0,5.0,2.0,444.99999999999983,35.00000000000001,221.00000000000003,29.0,12.0,2.0,198.00000000000003,315.00000000000006,2.0,1.0,1.0,13.0,1.0,26.000000000000004,1.0,1297.0,43.0,4.0,247.0,4.0,31.000000000000004,198.0,146.0,156.0,2.0,2855.0000000000005,56.0,2.0,7.000000000000001,41.0,9.0,26.999999999999996,80.0,15.999999999999998,100.0,28.0,3.0,830.0,1.0,1288.0,3.0,15821.0,214.00000000000003,5.000000000000001,2.0,517.0,8.999999999999998,162.0,20.0,6.0,4.0,81.99999999999999,7.000000000000001,8490.0,1.0,39.0,3.0,7.999999999999999,115.0,13.000000000000002,3.0000000000000004,11.0,1.0,14.0,14.0,29.000000000000004,214.0,45.0,7.0,91.0,1.0,13.999999999999998,150.0,467.00000000000006,4.0,6852.0,14.0,1.0,1.0,35.00000000000001,5.0,1.0,30.0,804.0,1.0,37.0,2258.0000000000005,19.000000000000004,2.0,1.0,132.0,6.0,1.0,57.0,39.0,354.99999999999994,168.00000000000003,141.0,8.0,291.0,2.0,1427.0,30.0,23.0,54.0,3.0,217.0,578.0,1.0,3.0,7.000000000000003,2.0,30.0,26.999999999999996,14.999999999999995,159.0,4.0,3.0000000000000004,1.0,221.00000000000003,18.000000000000004,4.0,2.0,213.0,4.0,1.0,29.0,132.0,1.0,308.00000000000006,72.0,211.00000000000003,90.0,20.000000000000004,24.0,3.0,21.000000000000004,2.0,17.999999999999996,13.0,37.00000000000001,1049.0,34.0,19.000000000000004,162.0,1.0,1.0,24.0,73.0,14.000000000000005,8.0,70.99999999999999,36.0,13.999999999999998,3851.0,166.0,47.0,1.0,300.99999999999994,18.000000000000004,1.0,1.0,66.0,27.0,126.99999999999996,97.0,1.0,1.0,2697.0,17.0,6.0,2636.9999999999995,7535.0,264.0,92.0,1.0,14.0,210.0,3.0,88.00000000000001,4.0,13.000000000000002,1.0,3.0000000000000004,1.0,6.0,8.000000000000002,75.00000000000001,1.0,10.999999999999995,15963.0,36.0,460.0,71.99999999999999,123.0,2.0,10.999999999999995,11.0,30.0,303.99999999999994,7.000000000000001,12.999999999999998,1.0,14.999999999999995,5.0,101.0,88.99999999999999,16.0,15.999999999999998,383.0,14.000000000000005,3.0,5.0,1.0,2.0,140.0,1789.0,1287.0,3.0,1.0,14.0,3.0,5.0,15.0,164.0,4.999999999999999,57.0,1530.0000000000002,636.0,408.99999999999983,51.00000000000002,45.0,1.0,2062.0,24.0,8.0,19.0,89.00000000000001,1.0,545.0,2.0,100.0,150.0,1301.0,2.0,47.0,338.0,640.0,303.0,5.0,3.0,6.0,30.0,2.0,8.0,3.0,5.0,158.99999999999994,21.999999999999996,344.0,1.0,7.000000000000003,2.0,226.0,4.0,2.0,31.0,16.999999999999996,26.0,33.0,993.0,151.0,1662.0,69.0,76.00000000000001,4.0,51.0,1.0,415.0,7.000000000000001,287.0,1297.0,6.0,1.0,1.0,373.0,2.0,282.99999999999994,1.0,1.0,19.0,10.0,1504.0,8.0,161.0,63.00000000000001,2.0,2.0,9.0,1.0,4.0,20.0,4.999999999999999,33.99999999999999,202.0,215.00000000000003,14.999999999999998,7.000000000000003,45.00000000000002,8.0,70.0,1328.0,458.00000000000006,823.9999999999997,21.0,64.0,91.0,151.0,1.0,1287.0000000000002,1.0,98.00000000000004,47.0,1.0,461.00000000000006,25.0,66.0,1259.0,3.0000000000000004,26.999999999999996,13762.000000000002,102.99999999999996,1.0,2186.0,7652.0,7.000000000000003,2.0,2.0,11.0,9.999999999999998,15999.0,26.0,1.0,95.0,288.00000000000006,191.0,2.0,2303.0000000000005,2.0,28.000000000000004,12.0,51.00000000000002,25.0,100.0,1.0,5.0,5.0,25.000000000000004,760.0,6.0,213.0,2.0,438.0,558.0,149.0,3.0,1.0,3.0000000000000004,7.999999999999999,6.0,2.0,21.0,20.0,10.0,2.0,23.0,4.0,93.0,652.0,8.0,264.0,199.00000000000003,7.000000000000003,3495.0,6.0,1073.9999999999998,13411.0,7.000000000000003,19.0,39.0,23.0,275.0,98.00000000000004,2.0,58.0,1.0,7.000000000000003,231.0,7.0,394.0,1.0,13.0,5.0,263.0,27.0,648.0,3.0,7.0,2.0,4.999999999999999,6.0,76.0,78.0,4553.000000000001,4.0,106.0,15.0,48.0,6.0,98.0,110.0,12.0,8.0,14.0,2.0,26.0,3.0,33.0,7.999999999999999,12.0,263.0,2.0,339.99999999999994,9.0,534.0,405.0,865.0000000000003,369.0,994.0,10.0,9.0,5.0,21.000000000000004,65.0,56.0,8.0,153.00000000000003,482.0,1.0,502.0,1.0,1.0,41.0,18.0,87.0,300.0,176.00000000000003,678.0,282.0,203.0,7708.999999999999,10.0,722.0,55.0,179.0,4.0,181.0,10.000000000000002,5.000000000000001,217.0,212.0,6.0,175.0,1.0,2.0,103.0,18.000000000000004,109.0,13.000000000000002,2.0,17.0,65.0,1.0,3.0,2.0,290.00000000000006,2327.0,23.0,40.00000000000001,309.0,28.000000000000004,374.00000000000006,11.0,7.999999999999999,3.0,34.0,9.0,1.0,2.0,3.0000000000000004,4.0,2.0,73.0,825.0,325.0,54.0,27.0,14.0,2740.0,42.00000000000001,534.0,6.0,781.0,18.0,36.0,33.0,287.0,3.0,24.0,8.000000000000002,20.000000000000004,537.0,94.0,5.0,12.000000000000005,8.0,147.00000000000003,123.99999999999996,67.00000000000001,137.0,22.0,5.0,7.0,4248.0,64.0,1.0,9803.000000000002,143.0,33.0,48.0,17.0,6.0,57.99999999999999,3070.9999999999995,269.0,6.000000000000001,25.000000000000004,698.0,42.0,3650.0000000000014,8.0,77.99999999999999,4.0,23.0,125.0,535.0,5.000000000000001,1.0,1.0,3850.0000000000014,38.0,39.0,4.0,21.0,12.999999999999998,237.0,22.0,12.000000000000002,1.0,111.0,4.999999999999999,13.0,13.999999999999998,125.0,14.999999999999998,26.0,22.0,57.00000000000001,1267.0,75.00000000000001,88.00000000000001,4.0,10.000000000000002,1.0,20.0,643.0,1060.9999999999998,1742.0,66.0,21.0,95.0,3275.0,43.00000000000001,52.00000000000001,9.999999999999998,8.0,77.0,41.0,34.0,1.0,259.0,6.000000000000001,7.0,2.0,1.0,46.0,78.0,82.0,3.0,2.0,104.0,3.0,1.0,1.0,7.0,95.0,31.0,9.0,2.0,146.0,7.000000000000001,61.0,2.0,77.0,15.999999999999998,3.0000000000000004,1707.0,1.0,71.0,56.0,13.0,1562.9999999999993,317.0,15.0,4.0,2.0,30.0,188.0,49.00000000000001,11.000000000000002,2618.0,10.999999999999995,54.00000000000001,3.0000000000000004,46.99999999999999,683.0,3.0,540.0,30.0,1.0,1.0,663.0,2.0,172.0,764.9999999999999,113.0,1.0,77.00000000000001,75.00000000000001,1.0,13.0,15.999999999999998,219.0,5.000000000000001,448.0,7.000000000000003,7.000000000000001,21.0,6.0,352.00000000000006,89.00000000000001,1.0,5998.0,1.0,3.0,918.0,26.999999999999996,211.0,2.0,1306.9999999999998,43.0,397.0,42.00000000000001,5.000000000000001,11.0,113.0,6.0,376.0,1.0,19.0,3.0,145.99999999999997,130.0,126.0,9.0,10.999999999999998,1678.0,10.0,55.0,470.0,1.0,237.0,7.000000000000003,13.0,50.00000000000001,39.99999999999999,83.0,7.999999999999999,87.0,144.0,15.0,9.0,696.9999999999997,153.0,4.0,2612.0,61.99999999999999,6223.000000000001,37.0,36.0,14.0,752.9999999999999,2.0,67.0,3.0000000000000004,2.0,10.0,1039.0,128.0,22.0,1.0,3.0,5.0,47.0,22.000000000000004,2.0,161.0,3.0,286.0,8.0,185.0,3.0,159.0,48.0,3.0000000000000004,72.0,44.0,121.0,12.0,6.0,2.0,30.0,4.0,95.0,20.0,2.0,1.0,318.0,1.0,337.0,17.0,6.0,1.0,365.0,183.0,2.0,6.000000000000001,77.99999999999999,1.0,235.0,6.000000000000001,1651.0,2.0,13.999999999999998,2952.0000000000005,9.999999999999998,164.00000000000003,248.00000000000003,68.0,81.00000000000001,24.0,331.0,130.0,9.0,789.0,109.99999999999996,53.0,1.0,61.0,125.0,52.00000000000001,20.0,173.0,142.0,22.0,452.0,811.0000000000001,50.0,27.0,6972.000000000001,94.0,1.0,256.0,1026.0000000000002,93.0,23.000000000000004,67.0,37.00000000000001,3.0,38.0,12.000000000000005,33.0,12.0,596.0,143.0,2.0,6.0,27.0,135.0,1.0,8.000000000000002,192.00000000000003,921.0,15.0,24.0,9.999999999999998,4.999999999999999,72.99999999999999,4.0,31.0,33.0,413.0,45.0,1751.0000000000002,3.0,571.0,436.0,13.0,2.0,82.00000000000001,13.0,45.0,1452.0,1231.0,51.0,2.0,3.0000000000000004,37.0,4.999999999999999,1010.0,20.0,29.0,810.0,197.0,151.0,19.000000000000004,44.0,3.0000000000000004,1.0,19.000000000000004,144.00000000000003,1.0,1.0,1654.0000000000007,56.0,412.0,119.0,296.99999999999994,17.0,2.0,8.0,242.0,3.0000000000000004,16.000000000000004,3065.0000000000005,1812.0000000000007,1037.0,5.0,2.0,389.0,57.0,34.0,145.0,20.0,29.00000000000001,1.0,86.0,34.0,1279.0000000000002,640.0,38.0,4.0,1.0,9.0,86.99999999999999,18.0,45.99999999999999,331.00000000000006,82.0,1449.0,167.0,358.0,26.0,19.000000000000004,4.0,43.0,4.999999999999999,1.0,23.000000000000004,2398.0000000000005,7.000000000000001,454.00000000000006,58.0,7.000000000000003,1.0,12.000000000000002,21.0,171.0,119.0,165.0,21.0,37.00000000000001,3.0000000000000004,4232.0,165.0,1710.0000000000002,27.0,23.000000000000004,132.0,50.0,3.0,37.0,8.0,1.0,111.0,1588.0,1.0,1.0,6.0,61.0,10.999999999999998,8.999999999999998,34.0,2.0,71.99999999999999,1.0,3805.0,569.0,757.0,104.0,910.0,371.0,1.0,65.0,2.0,211.0,799.0000000000003,9.0,1149.0,94.99999999999996,2555.0,12.999999999999998,27.0,182.0,228.00000000000003,32.0,19.0,1.0,7.0,307.00000000000006,114.0,2.0,226.0,1.0,92.0,6.0,78.0,4.0,58.0,3.0000000000000004,35.00000000000001,274.0,4.0,3.0,3.0000000000000004,169.0,4.999999999999999,5.0,88.99999999999999,2.0,42.00000000000001,1.0,3.0,36.0,1.0,343.0,96.0,10.999999999999995,545.0,3.0,123.99999999999996,36.0,5.0,12.999999999999998,2242.0,189.99999999999997,1.0,92.0,25.0,6.0,130.0,2.0,153.00000000000003,319.00000000000006,46.0,35.99999999999999,352.99999999999994,80.0,1.0,9.0,242.0,19.0,23.000000000000004,16.0,48.0,2.0,1005.0,61.0,2528.0,22.000000000000004,7.000000000000003,1170.0,1.0,3642.0,2.0,14.999999999999998,5.000000000000001,13.0,1592.0,41.0,50.0,1.0,10.0,1.0,16.0,226.0,43.0,27.0,2.0,30.0,2.0,87.0,4086.0,321.0,9.0,7.0,7.0,4.999999999999999,4.0,752.9999999999999,16.0,1.0,40.0,2.0,390.0,2.0,686.0,270.0,3.0000000000000004,22.0,64.0,656.0,1160.0,6240.0,78.0,15.000000000000004,346.0,482.0,3220.0,23.0,281.0,1992.0000000000002,3557.0,18370.0,90.00000000000001,30.0,149.0,295.0,1568.0000000000005,6.0,360.0,2789.9999999999995,4184.0,25859.0,189.0,485.0,3440.0,6049.0,32860.0,313.0,208.0,2028.0,3011.0,18899.0,208.0,13.0,331.0,475.0,2659.0,14.0,508.0,4358.0,7078.0,37449.0,314.0,83.0,575.0,942.0,6083.0,13.999999999999998,441.0,3363.0,5688.0,32867.0,235.0,42.0,445.00000000000006,611.0,2945.0,41.0,235.0,1734.0,2785.0,16045.000000000002,129.00000000000003,45.0,295.0,479.0,2516.0,12.0,87.0,770.0,1314.0,7169.0,65.0,692.0,7735.0,11922.0,64728.0,711.0,9.0,63.0,100.0,580.0,1.0,550.0,4978.0,7599.0,42677.0,327.0,255.0,1858.0,3082.0,16600.0,77.0,297.0,2437.0,3955.0,24021.0,237.0,4700.0,40343.0,64768.0,363355.0,3084.0]}],                        {\"legend\":{\"tracegroupgap\":0},\"template\":{\"data\":{\"bar\":[{\"error_x\":{\"color\":\"#2a3f5f\"},\"error_y\":{\"color\":\"#2a3f5f\"},\"marker\":{\"line\":{\"color\":\"#E5ECF6\",\"width\":0.5},\"pattern\":{\"fillmode\":\"overlay\",\"size\":10,\"solidity\":0.2}},\"type\":\"bar\"}],\"barpolar\":[{\"marker\":{\"line\":{\"color\":\"#E5ECF6\",\"width\":0.5},\"pattern\":{\"fillmode\":\"overlay\",\"size\":10,\"solidity\":0.2}},\"type\":\"barpolar\"}],\"carpet\":[{\"aaxis\":{\"endlinecolor\":\"#2a3f5f\",\"gridcolor\":\"white\",\"linecolor\":\"white\",\"minorgridcolor\":\"white\",\"startlinecolor\":\"#2a3f5f\"},\"baxis\":{\"endlinecolor\":\"#2a3f5f\",\"gridcolor\":\"white\",\"linecolor\":\"white\",\"minorgridcolor\":\"white\",\"startlinecolor\":\"#2a3f5f\"},\"type\":\"carpet\"}],\"choropleth\":[{\"colorbar\":{\"outlinewidth\":0,\"ticks\":\"\"},\"type\":\"choropleth\"}],\"contour\":[{\"colorbar\":{\"outlinewidth\":0,\"ticks\":\"\"},\"colorscale\":[[0.0,\"#0d0887\"],[0.1111111111111111,\"#46039f\"],[0.2222222222222222,\"#7201a8\"],[0.3333333333333333,\"#9c179e\"],[0.4444444444444444,\"#bd3786\"],[0.5555555555555556,\"#d8576b\"],[0.6666666666666666,\"#ed7953\"],[0.7777777777777778,\"#fb9f3a\"],[0.8888888888888888,\"#fdca26\"],[1.0,\"#f0f921\"]],\"type\":\"contour\"}],\"contourcarpet\":[{\"colorbar\":{\"outlinewidth\":0,\"ticks\":\"\"},\"type\":\"contourcarpet\"}],\"heatmap\":[{\"colorbar\":{\"outlinewidth\":0,\"ticks\":\"\"},\"colorscale\":[[0.0,\"#0d0887\"],[0.1111111111111111,\"#46039f\"],[0.2222222222222222,\"#7201a8\"],[0.3333333333333333,\"#9c179e\"],[0.4444444444444444,\"#bd3786\"],[0.5555555555555556,\"#d8576b\"],[0.6666666666666666,\"#ed7953\"],[0.7777777777777778,\"#fb9f3a\"],[0.8888888888888888,\"#fdca26\"],[1.0,\"#f0f921\"]],\"type\":\"heatmap\"}],\"heatmapgl\":[{\"colorbar\":{\"outlinewidth\":0,\"ticks\":\"\"},\"colorscale\":[[0.0,\"#0d0887\"],[0.1111111111111111,\"#46039f\"],[0.2222222222222222,\"#7201a8\"],[0.3333333333333333,\"#9c179e\"],[0.4444444444444444,\"#bd3786\"],[0.5555555555555556,\"#d8576b\"],[0.6666666666666666,\"#ed7953\"],[0.7777777777777778,\"#fb9f3a\"],[0.8888888888888888,\"#fdca26\"],[1.0,\"#f0f921\"]],\"type\":\"heatmapgl\"}],\"histogram\":[{\"marker\":{\"pattern\":{\"fillmode\":\"overlay\",\"size\":10,\"solidity\":0.2}},\"type\":\"histogram\"}],\"histogram2d\":[{\"colorbar\":{\"outlinewidth\":0,\"ticks\":\"\"},\"colorscale\":[[0.0,\"#0d0887\"],[0.1111111111111111,\"#46039f\"],[0.2222222222222222,\"#7201a8\"],[0.3333333333333333,\"#9c179e\"],[0.4444444444444444,\"#bd3786\"],[0.5555555555555556,\"#d8576b\"],[0.6666666666666666,\"#ed7953\"],[0.7777777777777778,\"#fb9f3a\"],[0.8888888888888888,\"#fdca26\"],[1.0,\"#f0f921\"]],\"type\":\"histogram2d\"}],\"histogram2dcontour\":[{\"colorbar\":{\"outlinewidth\":0,\"ticks\":\"\"},\"colorscale\":[[0.0,\"#0d0887\"],[0.1111111111111111,\"#46039f\"],[0.2222222222222222,\"#7201a8\"],[0.3333333333333333,\"#9c179e\"],[0.4444444444444444,\"#bd3786\"],[0.5555555555555556,\"#d8576b\"],[0.6666666666666666,\"#ed7953\"],[0.7777777777777778,\"#fb9f3a\"],[0.8888888888888888,\"#fdca26\"],[1.0,\"#f0f921\"]],\"type\":\"histogram2dcontour\"}],\"mesh3d\":[{\"colorbar\":{\"outlinewidth\":0,\"ticks\":\"\"},\"type\":\"mesh3d\"}],\"parcoords\":[{\"line\":{\"colorbar\":{\"outlinewidth\":0,\"ticks\":\"\"}},\"type\":\"parcoords\"}],\"pie\":[{\"automargin\":true,\"type\":\"pie\"}],\"scatter\":[{\"marker\":{\"colorbar\":{\"outlinewidth\":0,\"ticks\":\"\"}},\"type\":\"scatter\"}],\"scatter3d\":[{\"line\":{\"colorbar\":{\"outlinewidth\":0,\"ticks\":\"\"}},\"marker\":{\"colorbar\":{\"outlinewidth\":0,\"ticks\":\"\"}},\"type\":\"scatter3d\"}],\"scattercarpet\":[{\"marker\":{\"colorbar\":{\"outlinewidth\":0,\"ticks\":\"\"}},\"type\":\"scattercarpet\"}],\"scattergeo\":[{\"marker\":{\"colorbar\":{\"outlinewidth\":0,\"ticks\":\"\"}},\"type\":\"scattergeo\"}],\"scattergl\":[{\"marker\":{\"colorbar\":{\"outlinewidth\":0,\"ticks\":\"\"}},\"type\":\"scattergl\"}],\"scattermapbox\":[{\"marker\":{\"colorbar\":{\"outlinewidth\":0,\"ticks\":\"\"}},\"type\":\"scattermapbox\"}],\"scatterpolar\":[{\"marker\":{\"colorbar\":{\"outlinewidth\":0,\"ticks\":\"\"}},\"type\":\"scatterpolar\"}],\"scatterpolargl\":[{\"marker\":{\"colorbar\":{\"outlinewidth\":0,\"ticks\":\"\"}},\"type\":\"scatterpolargl\"}],\"scatterternary\":[{\"marker\":{\"colorbar\":{\"outlinewidth\":0,\"ticks\":\"\"}},\"type\":\"scatterternary\"}],\"surface\":[{\"colorbar\":{\"outlinewidth\":0,\"ticks\":\"\"},\"colorscale\":[[0.0,\"#0d0887\"],[0.1111111111111111,\"#46039f\"],[0.2222222222222222,\"#7201a8\"],[0.3333333333333333,\"#9c179e\"],[0.4444444444444444,\"#bd3786\"],[0.5555555555555556,\"#d8576b\"],[0.6666666666666666,\"#ed7953\"],[0.7777777777777778,\"#fb9f3a\"],[0.8888888888888888,\"#fdca26\"],[1.0,\"#f0f921\"]],\"type\":\"surface\"}],\"table\":[{\"cells\":{\"fill\":{\"color\":\"#EBF0F8\"},\"line\":{\"color\":\"white\"}},\"header\":{\"fill\":{\"color\":\"#C8D4E3\"},\"line\":{\"color\":\"white\"}},\"type\":\"table\"}]},\"layout\":{\"annotationdefaults\":{\"arrowcolor\":\"#2a3f5f\",\"arrowhead\":0,\"arrowwidth\":1},\"autotypenumbers\":\"strict\",\"coloraxis\":{\"colorbar\":{\"outlinewidth\":0,\"ticks\":\"\"}},\"colorscale\":{\"diverging\":[[0,\"#8e0152\"],[0.1,\"#c51b7d\"],[0.2,\"#de77ae\"],[0.3,\"#f1b6da\"],[0.4,\"#fde0ef\"],[0.5,\"#f7f7f7\"],[0.6,\"#e6f5d0\"],[0.7,\"#b8e186\"],[0.8,\"#7fbc41\"],[0.9,\"#4d9221\"],[1,\"#276419\"]],\"sequential\":[[0.0,\"#0d0887\"],[0.1111111111111111,\"#46039f\"],[0.2222222222222222,\"#7201a8\"],[0.3333333333333333,\"#9c179e\"],[0.4444444444444444,\"#bd3786\"],[0.5555555555555556,\"#d8576b\"],[0.6666666666666666,\"#ed7953\"],[0.7777777777777778,\"#fb9f3a\"],[0.8888888888888888,\"#fdca26\"],[1.0,\"#f0f921\"]],\"sequentialminus\":[[0.0,\"#0d0887\"],[0.1111111111111111,\"#46039f\"],[0.2222222222222222,\"#7201a8\"],[0.3333333333333333,\"#9c179e\"],[0.4444444444444444,\"#bd3786\"],[0.5555555555555556,\"#d8576b\"],[0.6666666666666666,\"#ed7953\"],[0.7777777777777778,\"#fb9f3a\"],[0.8888888888888888,\"#fdca26\"],[1.0,\"#f0f921\"]]},\"colorway\":[\"#636efa\",\"#EF553B\",\"#00cc96\",\"#ab63fa\",\"#FFA15A\",\"#19d3f3\",\"#FF6692\",\"#B6E880\",\"#FF97FF\",\"#FECB52\"],\"font\":{\"color\":\"#2a3f5f\"},\"geo\":{\"bgcolor\":\"white\",\"lakecolor\":\"white\",\"landcolor\":\"#E5ECF6\",\"showlakes\":true,\"showland\":true,\"subunitcolor\":\"white\"},\"hoverlabel\":{\"align\":\"left\"},\"hovermode\":\"closest\",\"mapbox\":{\"style\":\"light\"},\"paper_bgcolor\":\"white\",\"plot_bgcolor\":\"#E5ECF6\",\"polar\":{\"angularaxis\":{\"gridcolor\":\"white\",\"linecolor\":\"white\",\"ticks\":\"\"},\"bgcolor\":\"#E5ECF6\",\"radialaxis\":{\"gridcolor\":\"white\",\"linecolor\":\"white\",\"ticks\":\"\"}},\"scene\":{\"xaxis\":{\"backgroundcolor\":\"#E5ECF6\",\"gridcolor\":\"white\",\"gridwidth\":2,\"linecolor\":\"white\",\"showbackground\":true,\"ticks\":\"\",\"zerolinecolor\":\"white\"},\"yaxis\":{\"backgroundcolor\":\"#E5ECF6\",\"gridcolor\":\"white\",\"gridwidth\":2,\"linecolor\":\"white\",\"showbackground\":true,\"ticks\":\"\",\"zerolinecolor\":\"white\"},\"zaxis\":{\"backgroundcolor\":\"#E5ECF6\",\"gridcolor\":\"white\",\"gridwidth\":2,\"linecolor\":\"white\",\"showbackground\":true,\"ticks\":\"\",\"zerolinecolor\":\"white\"}},\"shapedefaults\":{\"line\":{\"color\":\"#2a3f5f\"}},\"ternary\":{\"aaxis\":{\"gridcolor\":\"white\",\"linecolor\":\"white\",\"ticks\":\"\"},\"baxis\":{\"gridcolor\":\"white\",\"linecolor\":\"white\",\"ticks\":\"\"},\"bgcolor\":\"#E5ECF6\",\"caxis\":{\"gridcolor\":\"white\",\"linecolor\":\"white\",\"ticks\":\"\"}},\"title\":{\"x\":0.05},\"xaxis\":{\"automargin\":true,\"gridcolor\":\"white\",\"linecolor\":\"white\",\"ticks\":\"\",\"title\":{\"standoff\":15},\"zerolinecolor\":\"white\",\"zerolinewidth\":2},\"yaxis\":{\"automargin\":true,\"gridcolor\":\"white\",\"linecolor\":\"white\",\"ticks\":\"\",\"title\":{\"standoff\":15},\"zerolinecolor\":\"white\",\"zerolinewidth\":2}}},\"title\":{\"text\":\"Ingredient count in all recipes from each continent\"}},                        {\"responsive\": true}                    ).then(function(){\n",
              "                            \n",
              "var gd = document.getElementById('5119740c-d291-4f10-bab4-a9b0d7bbd098');\n",
              "var x = new MutationObserver(function (mutations, observer) {{\n",
              "        var display = window.getComputedStyle(gd).display;\n",
              "        if (!display || display === 'none') {{\n",
              "            console.log([gd, 'removed!']);\n",
              "            Plotly.purge(gd);\n",
              "            observer.disconnect();\n",
              "        }}\n",
              "}});\n",
              "\n",
              "// Listen for the removal of the full notebook cells\n",
              "var notebookContainer = gd.closest('#notebook-container');\n",
              "if (notebookContainer) {{\n",
              "    x.observe(notebookContainer, {childList: true});\n",
              "}}\n",
              "\n",
              "// Listen for the clearing of the current output cell\n",
              "var outputEl = gd.closest('.output');\n",
              "if (outputEl) {{\n",
              "    x.observe(outputEl, {childList: true});\n",
              "}}\n",
              "\n",
              "                        })                };                            </script>        </div>\n",
              "</body>\n",
              "</html>"
            ]
          },
          "metadata": {}
        }
      ]
    },
    {
      "cell_type": "markdown",
      "metadata": {
        "id": "W0wzPK81Qu1p"
      },
      "source": [
        "#### Neutralise North America's dominance"
      ]
    },
    {
      "cell_type": "code",
      "metadata": {
        "colab": {
          "base_uri": "https://localhost:8080/",
          "height": 542
        },
        "id": "QE9Q7R3YQu1p",
        "outputId": "4487beb1-3d7e-43eb-98f7-c2995c0fa974"
      },
      "source": [
        "sunDF2 = pd.merge(df99, ingr_catDF, on = ['ingredient'])\n",
        "fig = px.sunburst(sunDF2, path=['continent', 'category', 'ingredient'], values = 'prevalence', color='continent',\n",
        "                  color_discrete_map={'Asia':'lightgray', 'Africa':'#f1a340', 'South America':'#998ec3', 'Europe':'pink',\n",
        "                                      'North America': '#66c2a5'}, title = 'Ingredient count per recipe for each continent')\n",
        "fig.show()"
      ],
      "execution_count": null,
      "outputs": [
        {
          "output_type": "display_data",
          "data": {
            "text/html": [
              "<html>\n",
              "<head><meta charset=\"utf-8\" /></head>\n",
              "<body>\n",
              "    <div>            <script src=\"https://cdnjs.cloudflare.com/ajax/libs/mathjax/2.7.5/MathJax.js?config=TeX-AMS-MML_SVG\"></script><script type=\"text/javascript\">if (window.MathJax) {MathJax.Hub.Config({SVG: {font: \"STIX-Web\"}});}</script>                <script type=\"text/javascript\">window.PlotlyConfig = {MathJaxConfig: 'local'};</script>\n",
              "        <script src=\"https://cdn.plot.ly/plotly-2.4.2.min.js\"></script>                <div id=\"9a26f5f8-a58b-429e-9053-d7418a8adbeb\" class=\"plotly-graph-div\" style=\"height:525px; width:100%;\"></div>            <script type=\"text/javascript\">                                    window.PLOTLYENV=window.PLOTLYENV || {};                                    if (document.getElementById(\"9a26f5f8-a58b-429e-9053-d7418a8adbeb\")) {                    Plotly.newPlot(                        \"9a26f5f8-a58b-429e-9053-d7418a8adbeb\",                        [{\"branchvalues\":\"total\",\"customdata\":[[\"North America\"],[\"Europe\"],[\"North America\"],[\"Europe\"],[\"Africa\"],[\"Europe\"],[\"North America\"],[\"Asia\"],[\"Europe\"],[\"North America\"],[\"Asia\"],[\"South America\"],[\"Europe\"],[\"South America\"],[\"Asia\"],[\"Europe\"],[\"Asia\"],[\"North America\"],[\"Europe\"],[\"Africa\"],[\"North America\"],[\"Europe\"],[\"Africa\"],[\"Europe\"],[\"Asia\"],[\"North America\"],[\"Africa\"],[\"Europe\"],[\"Asia\"],[\"Asia\"],[\"North America\"],[\"Africa\"],[\"Europe\"],[\"Asia\"],[\"Africa\"],[\"Europe\"],[\"Europe\"],[\"Asia\"],[\"Asia\"],[\"Africa\"],[\"Europe\"],[\"North America\"],[\"Africa\"],[\"Africa\"],[\"North America\"],[\"Europe\"],[\"Asia\"],[\"North America\"],[\"Asia\"],[\"North America\"],[\"Asia\"],[\"North America\"],[\"Europe\"],[\"Asia\"],[\"Asia\"],[\"North America\"],[\"Asia\"],[\"Asia\"],[\"Africa\"],[\"North America\"],[\"Europe\"],[\"Asia\"],[\"North America\"],[\"Africa\"],[\"Asia\"],[\"North America\"],[\"Europe\"],[\"North America\"],[\"North America\"],[\"Asia\"],[\"North America\"],[\"North America\"],[\"Asia\"],[\"North America\"],[\"Europe\"],[\"Asia\"],[\"Asia\"],[\"Europe\"],[\"Europe\"],[\"Asia\"],[\"North America\"],[\"Asia\"],[\"Europe\"],[\"South America\"],[\"Europe\"],[\"South America\"],[\"Asia\"],[\"South America\"],[\"Africa\"],[\"South America\"],[\"Asia\"],[\"Asia\"],[\"Europe\"],[\"South America\"],[\"Europe\"],[\"Asia\"],[\"North America\"],[\"Africa\"],[\"North America\"],[\"Asia\"],[\"Europe\"],[\"South America\"],[\"Africa\"],[\"South America\"],[\"Africa\"],[\"South America\"],[\"Europe\"],[\"South America\"],[\"North America\"],[\"North America\"],[\"Africa\"],[\"North America\"],[\"Europe\"],[\"Africa\"],[\"North America\"],[\"South America\"],[\"North America\"],[\"South America\"],[\"North America\"],[\"South America\"],[\"North America\"],[\"Europe\"],[\"Asia\"],[\"North America\"],[\"Asia\"],[\"North America\"],[\"North America\"],[\"Africa\"],[\"Europe\"],[\"Europe\"],[\"North America\"],[\"Africa\"],[\"Europe\"],[\"Europe\"],[\"South America\"],[\"Asia\"],[\"Asia\"],[\"Africa\"],[\"North America\"],[\"Asia\"],[\"North America\"],[\"Asia\"],[\"South America\"],[\"North America\"],[\"Europe\"],[\"North America\"],[\"North America\"],[\"North America\"],[\"Asia\"],[\"South America\"],[\"North America\"],[\"Africa\"],[\"Africa\"],[\"North America\"],[\"Europe\"],[\"North America\"],[\"Asia\"],[\"Africa\"],[\"Asia\"],[\"Europe\"],[\"Europe\"],[\"Asia\"],[\"Europe\"],[\"Europe\"],[\"Europe\"],[\"Africa\"],[\"North America\"],[\"Africa\"],[\"Asia\"],[\"Europe\"],[\"Africa\"],[\"Africa\"],[\"South America\"],[\"North America\"],[\"Africa\"],[\"Asia\"],[\"Africa\"],[\"North America\"],[\"South America\"],[\"North America\"],[\"Asia\"],[\"Asia\"],[\"South America\"],[\"Africa\"],[\"North America\"],[\"North America\"],[\"Europe\"],[\"South America\"],[\"North America\"],[\"Africa\"],[\"Europe\"],[\"North America\"],[\"Africa\"],[\"North America\"],[\"Asia\"],[\"North America\"],[\"Asia\"],[\"Europe\"],[\"Africa\"],[\"Africa\"],[\"North America\"],[\"Asia\"],[\"Europe\"],[\"South America\"],[\"North America\"],[\"Europe\"],[\"South America\"],[\"Africa\"],[\"North America\"],[\"Asia\"],[\"North America\"],[\"North America\"],[\"Europe\"],[\"North America\"],[\"Africa\"],[\"Africa\"],[\"Asia\"],[\"Europe\"],[\"South America\"],[\"Asia\"],[\"North America\"],[\"Africa\"],[\"North America\"],[\"Asia\"],[\"Europe\"],[\"Asia\"],[\"Africa\"],[\"North America\"],[\"Asia\"],[\"North America\"],[\"North America\"],[\"Africa\"],[\"North America\"],[\"South America\"],[\"South America\"],[\"South America\"],[\"Europe\"],[\"Europe\"],[\"North America\"],[\"Asia\"],[\"Europe\"],[\"Europe\"],[\"Europe\"],[\"Asia\"],[\"Africa\"],[\"Europe\"],[\"Europe\"],[\"North America\"],[\"Europe\"],[\"Europe\"],[\"Asia\"],[\"Asia\"],[\"Asia\"],[\"North America\"],[\"Africa\"],[\"Asia\"],[\"North America\"],[\"Asia\"],[\"Asia\"],[\"Africa\"],[\"Europe\"],[\"South America\"],[\"North America\"],[\"Europe\"],[\"Asia\"],[\"Europe\"],[\"North America\"],[\"Europe\"],[\"Asia\"],[\"North America\"],[\"South America\"],[\"Europe\"],[\"North America\"],[\"South America\"],[\"North America\"],[\"Europe\"],[\"Asia\"],[\"North America\"],[\"South America\"],[\"Asia\"],[\"Asia\"],[\"Europe\"],[\"North America\"],[\"Europe\"],[\"Europe\"],[\"Europe\"],[\"Africa\"],[\"Europe\"],[\"Asia\"],[\"Asia\"],[\"Europe\"],[\"Asia\"],[\"North America\"],[\"North America\"],[\"North America\"],[\"Europe\"],[\"Europe\"],[\"North America\"],[\"Africa\"],[\"Europe\"],[\"Asia\"],[\"Europe\"],[\"North America\"],[\"Europe\"],[\"Asia\"],[\"South America\"],[\"Asia\"],[\"North America\"],[\"Europe\"],[\"North America\"],[\"Asia\"],[\"South America\"],[\"Asia\"],[\"Europe\"],[\"Asia\"],[\"North America\"],[\"North America\"],[\"Europe\"],[\"South America\"],[\"Asia\"],[\"Europe\"],[\"South America\"],[\"North America\"],[\"North America\"],[\"Europe\"],[\"Europe\"],[\"South America\"],[\"North America\"],[\"North America\"],[\"Europe\"],[\"North America\"],[\"Europe\"],[\"Asia\"],[\"South America\"],[\"Europe\"],[\"South America\"],[\"South America\"],[\"North America\"],[\"South America\"],[\"North America\"],[\"Europe\"],[\"Africa\"],[\"Asia\"],[\"North America\"],[\"South America\"],[\"Asia\"],[\"Europe\"],[\"North America\"],[\"Asia\"],[\"Africa\"],[\"Asia\"],[\"Europe\"],[\"Asia\"],[\"Africa\"],[\"North America\"],[\"North America\"],[\"South America\"],[\"Asia\"],[\"North America\"],[\"Europe\"],[\"North America\"],[\"Asia\"],[\"North America\"],[\"Europe\"],[\"North America\"],[\"South America\"],[\"Africa\"],[\"South America\"],[\"North America\"],[\"Europe\"],[\"Europe\"],[\"South America\"],[\"Asia\"],[\"North America\"],[\"Africa\"],[\"Europe\"],[\"South America\"],[\"North America\"],[\"Europe\"],[\"South America\"],[\"Africa\"],[\"Africa\"],[\"Africa\"],[\"South America\"],[\"South America\"],[\"South America\"],[\"North America\"],[\"South America\"],[\"North America\"],[\"Asia\"],[\"North America\"],[\"Europe\"],[\"Europe\"],[\"Asia\"],[\"Asia\"],[\"North America\"],[\"South America\"],[\"Europe\"],[\"Europe\"],[\"Asia\"],[\"Europe\"],[\"North America\"],[\"South America\"],[\"Europe\"],[\"Asia\"],[\"Africa\"],[\"Europe\"],[\"Asia\"],[\"North America\"],[\"North America\"],[\"Asia\"],[\"North America\"],[\"Africa\"],[\"North America\"],[\"Europe\"],[\"Asia\"],[\"South America\"],[\"Europe\"],[\"South America\"],[\"North America\"],[\"Asia\"],[\"Asia\"],[\"Africa\"],[\"Europe\"],[\"Asia\"],[\"North America\"],[\"Africa\"],[\"North America\"],[\"Africa\"],[\"North America\"],[\"North America\"],[\"Europe\"],[\"Africa\"],[\"North America\"],[\"North America\"],[\"Asia\"],[\"Asia\"],[\"Asia\"],[\"South America\"],[\"Asia\"],[\"South America\"],[\"North America\"],[\"South America\"],[\"Africa\"],[\"Europe\"],[\"South America\"],[\"North America\"],[\"North America\"],[\"North America\"],[\"Europe\"],[\"South America\"],[\"Europe\"],[\"Europe\"],[\"North America\"],[\"Asia\"],[\"Africa\"],[\"Asia\"],[\"Europe\"],[\"North America\"],[\"Africa\"],[\"Europe\"],[\"North America\"],[\"Asia\"],[\"North America\"],[\"Asia\"],[\"Asia\"],[\"Africa\"],[\"Asia\"],[\"North America\"],[\"South America\"],[\"Europe\"],[\"Europe\"],[\"Africa\"],[\"Europe\"],[\"North America\"],[\"Asia\"],[\"South America\"],[\"Asia\"],[\"South America\"],[\"Africa\"],[\"South America\"],[\"Africa\"],[\"Asia\"],[\"North America\"],[\"Asia\"],[\"Asia\"],[\"Africa\"],[\"Asia\"],[\"Asia\"],[\"Europe\"],[\"Europe\"],[\"South America\"],[\"Asia\"],[\"Africa\"],[\"Europe\"],[\"North America\"],[\"South America\"],[\"Africa\"],[\"Africa\"],[\"North America\"],[\"Europe\"],[\"North America\"],[\"Europe\"],[\"Europe\"],[\"North America\"],[\"South America\"],[\"Africa\"],[\"Europe\"],[\"Europe\"],[\"Europe\"],[\"South America\"],[\"Asia\"],[\"Asia\"],[\"Africa\"],[\"Europe\"],[\"North America\"],[\"North America\"],[\"Asia\"],[\"Africa\"],[\"Asia\"],[\"Asia\"],[\"Europe\"],[\"Europe\"],[\"Asia\"],[\"Africa\"],[\"North America\"],[\"North America\"],[\"Africa\"],[\"Africa\"],[\"North America\"],[\"South America\"],[\"Asia\"],[\"North America\"],[\"South America\"],[\"South America\"],[\"Asia\"],[\"North America\"],[\"North America\"],[\"Africa\"],[\"Africa\"],[\"South America\"],[\"Africa\"],[\"North America\"],[\"North America\"],[\"Africa\"],[\"South America\"],[\"North America\"],[\"Europe\"],[\"Europe\"],[\"South America\"],[\"Asia\"],[\"South America\"],[\"Europe\"],[\"North America\"],[\"South America\"],[\"South America\"],[\"North America\"],[\"South America\"],[\"Asia\"],[\"North America\"],[\"North America\"],[\"Asia\"],[\"North America\"],[\"South America\"],[\"Europe\"],[\"Asia\"],[\"Asia\"],[\"North America\"],[\"Africa\"],[\"North America\"],[\"South America\"],[\"South America\"],[\"North America\"],[\"Africa\"],[\"North America\"],[\"Asia\"],[\"Africa\"],[\"Asia\"],[\"North America\"],[\"Europe\"],[\"North America\"],[\"North America\"],[\"North America\"],[\"Asia\"],[\"Asia\"],[\"Europe\"],[\"South America\"],[\"Europe\"],[\"South America\"],[\"Europe\"],[\"South America\"],[\"Europe\"],[\"Africa\"],[\"Asia\"],[\"Asia\"],[\"Europe\"],[\"Asia\"],[\"Asia\"],[\"North America\"],[\"Africa\"],[\"Africa\"],[\"Africa\"],[\"Africa\"],[\"North America\"],[\"Europe\"],[\"Europe\"],[\"Europe\"],[\"Africa\"],[\"Europe\"],[\"Europe\"],[\"Africa\"],[\"Africa\"],[\"North America\"],[\"South America\"],[\"North America\"],[\"Europe\"],[\"North America\"],[\"North America\"],[\"South America\"],[\"Asia\"],[\"Europe\"],[\"North America\"],[\"Europe\"],[\"Africa\"],[\"Africa\"],[\"Europe\"],[\"Africa\"],[\"North America\"],[\"Africa\"],[\"North America\"],[\"Asia\"],[\"North America\"],[\"Africa\"],[\"Africa\"],[\"North America\"],[\"North America\"],[\"Europe\"],[\"Asia\"],[\"Africa\"],[\"Europe\"],[\"Europe\"],[\"Africa\"],[\"Europe\"],[\"Asia\"],[\"Asia\"],[\"Asia\"],[\"Asia\"],[\"North America\"],[\"South America\"],[\"Africa\"],[\"Africa\"],[\"North America\"],[\"North America\"],[\"Africa\"],[\"South America\"],[\"Africa\"],[\"Asia\"],[\"Africa\"],[\"North America\"],[\"Asia\"],[\"North America\"],[\"Asia\"],[\"Asia\"],[\"Africa\"],[\"Europe\"],[\"Africa\"],[\"North America\"],[\"South America\"],[\"Europe\"],[\"Europe\"],[\"Asia\"],[\"Europe\"],[\"South America\"],[\"North America\"],[\"Asia\"],[\"Asia\"],[\"South America\"],[\"North America\"],[\"Europe\"],[\"North America\"],[\"North America\"],[\"Africa\"],[\"Asia\"],[\"Europe\"],[\"Asia\"],[\"Africa\"],[\"Africa\"],[\"Asia\"],[\"Africa\"],[\"Africa\"],[\"South America\"],[\"Africa\"],[\"Europe\"],[\"Europe\"],[\"Asia\"],[\"Africa\"],[\"North America\"],[\"Europe\"],[\"North America\"],[\"North America\"],[\"North America\"],[\"North America\"],[\"Asia\"],[\"Europe\"],[\"Europe\"],[\"North America\"],[\"Asia\"],[\"North America\"],[\"Europe\"],[\"North America\"],[\"Asia\"],[\"South America\"],[\"Europe\"],[\"Asia\"],[\"North America\"],[\"North America\"],[\"South America\"],[\"North America\"],[\"North America\"],[\"North America\"],[\"Africa\"],[\"North America\"],[\"North America\"],[\"Africa\"],[\"South America\"],[\"North America\"],[\"South America\"],[\"South America\"],[\"North America\"],[\"Africa\"],[\"Europe\"],[\"Asia\"],[\"North America\"],[\"North America\"],[\"South America\"],[\"North America\"],[\"Africa\"],[\"South America\"],[\"Africa\"],[\"South America\"],[\"Asia\"],[\"Africa\"],[\"South America\"],[\"Africa\"],[\"Africa\"],[\"Europe\"],[\"Europe\"],[\"Europe\"],[\"Europe\"],[\"Europe\"],[\"Europe\"],[\"North America\"],[\"North America\"],[\"Asia\"],[\"Africa\"],[\"North America\"],[\"Asia\"],[\"Africa\"],[\"Africa\"],[\"North America\"],[\"Africa\"],[\"North America\"],[\"Asia\"],[\"South America\"],[\"South America\"],[\"North America\"],[\"North America\"],[\"Africa\"],[\"North America\"],[\"North America\"],[\"Africa\"],[\"North America\"],[\"Europe\"],[\"North America\"],[\"North America\"],[\"Africa\"],[\"North America\"],[\"Asia\"],[\"North America\"],[\"Europe\"],[\"North America\"],[\"Africa\"],[\"South America\"],[\"South America\"],[\"Africa\"],[\"Asia\"],[\"Europe\"],[\"Asia\"],[\"Asia\"],[\"South America\"],[\"North America\"],[\"North America\"],[\"Europe\"],[\"Asia\"],[\"Africa\"],[\"Europe\"],[\"South America\"],[\"South America\"],[\"Asia\"],[\"South America\"],[\"North America\"],[\"North America\"],[\"Asia\"],[\"Europe\"],[\"Africa\"],[\"Africa\"],[\"Asia\"],[\"Europe\"],[\"North America\"],[\"Europe\"],[\"Africa\"],[\"Asia\"],[\"North America\"],[\"Europe\"],[\"Africa\"],[\"Asia\"],[\"Asia\"],[\"Europe\"],[\"North America\"],[\"Africa\"],[\"Europe\"],[\"Asia\"],[\"Asia\"],[\"Europe\"],[\"North America\"],[\"Asia\"],[\"North America\"],[\"Africa\"],[\"South America\"],[\"Asia\"],[\"Africa\"],[\"Africa\"],[\"Asia\"],[\"Europe\"],[\"Europe\"],[\"Europe\"],[\"Europe\"],[\"Europe\"],[\"Asia\"],[\"Africa\"],[\"Europe\"],[\"Asia\"],[\"Asia\"],[\"Asia\"],[\"North America\"],[\"Asia\"],[\"Europe\"],[\"Asia\"],[\"North America\"],[\"Asia\"],[\"Europe\"],[\"Europe\"],[\"North America\"],[\"North America\"],[\"North America\"],[\"Europe\"],[\"Europe\"],[\"Asia\"],[\"Europe\"],[\"Asia\"],[\"Europe\"],[\"Africa\"],[\"Europe\"],[\"Europe\"],[\"Europe\"],[\"North America\"],[\"North America\"],[\"South America\"],[\"North America\"],[\"Europe\"],[\"Africa\"],[\"Europe\"],[\"Asia\"],[\"Europe\"],[\"North America\"],[\"North America\"],[\"Africa\"],[\"North America\"],[\"South America\"],[\"Europe\"],[\"South America\"],[\"Asia\"],[\"Asia\"],[\"South America\"],[\"Africa\"],[\"Asia\"],[\"Africa\"],[\"South America\"],[\"Africa\"],[\"Africa\"],[\"Europe\"],[\"North America\"],[\"Europe\"],[\"Asia\"],[\"Africa\"],[\"Europe\"],[\"North America\"],[\"Asia\"],[\"Europe\"],[\"Europe\"],[\"North America\"],[\"South America\"],[\"Asia\"],[\"South America\"],[\"Asia\"],[\"Africa\"],[\"Asia\"],[\"North America\"],[\"Europe\"],[\"Asia\"],[\"Africa\"],[\"Africa\"],[\"North America\"],[\"Africa\"],[\"North America\"],[\"Europe\"],[\"North America\"],[\"Asia\"],[\"Europe\"],[\"Asia\"],[\"North America\"],[\"North America\"],[\"Europe\"],[\"North America\"],[\"North America\"],[\"North America\"],[\"South America\"],[\"Asia\"],[\"South America\"],[\"Africa\"],[\"Europe\"],[\"North America\"],[\"Asia\"],[\"North America\"],[\"Europe\"],[\"North America\"],[\"North America\"],[\"North America\"],[\"Africa\"],[\"South America\"],[\"Africa\"],[\"South America\"],[\"North America\"],[\"Europe\"],[\"Europe\"],[\"South America\"],[\"Africa\"],[\"North America\"],[\"North America\"],[\"Europe\"],[\"South America\"],[\"Europe\"],[\"Europe\"],[\"North America\"],[\"Europe\"],[\"South America\"],[\"Africa\"],[\"Asia\"],[\"South America\"],[\"Asia\"],[\"Africa\"],[\"North America\"],[\"Asia\"],[\"Europe\"],[\"Europe\"],[\"Europe\"],[\"Europe\"],[\"Europe\"],[\"North America\"],[\"Africa\"],[\"Europe\"],[\"Europe\"],[\"Africa\"],[\"Europe\"],[\"North America\"],[\"North America\"],[\"Asia\"],[\"South America\"],[\"Europe\"],[\"North America\"],[\"Europe\"],[\"North America\"],[\"South America\"],[\"Europe\"],[\"North America\"],[\"North America\"],[\"South America\"],[\"Asia\"],[\"North America\"],[\"South America\"],[\"Asia\"],[\"Africa\"],[\"Europe\"],[\"Asia\"],[\"Africa\"],[\"Europe\"],[\"Asia\"],[\"Europe\"],[\"North America\"],[\"Asia\"],[\"South America\"],[\"North America\"],[\"Europe\"],[\"Asia\"],[\"Asia\"],[\"South America\"],[\"Asia\"],[\"Europe\"],[\"South America\"],[\"Europe\"],[\"South America\"],[\"North America\"],[\"Asia\"],[\"South America\"],[\"Asia\"],[\"South America\"],[\"North America\"],[\"Asia\"],[\"Asia\"],[\"North America\"],[\"Asia\"],[\"Africa\"],[\"South America\"],[\"South America\"],[\"Asia\"],[\"Europe\"],[\"Africa\"],[\"North America\"],[\"North America\"],[\"Asia\"],[\"North America\"],[\"South America\"],[\"Europe\"],[\"North America\"],[\"Europe\"],[\"Europe\"],[\"Asia\"],[\"Africa\"],[\"South America\"],[\"North America\"],[\"Asia\"],[\"North America\"],[\"North America\"],[\"Asia\"],[\"Europe\"],[\"Asia\"],[\"Europe\"],[\"Africa\"],[\"South America\"],[\"Asia\"],[\"Europe\"],[\"Europe\"],[\"Europe\"],[\"Africa\"],[\"South America\"],[\"Asia\"],[\"Europe\"],[\"North America\"],[\"Europe\"],[\"Asia\"],[\"North America\"],[\"North America\"],[\"Africa\"],[\"North America\"],[\"North America\"],[\"Europe\"],[\"Africa\"],[\"North America\"],[\"North America\"],[\"Europe\"],[\"Asia\"],[\"Europe\"],[\"South America\"],[\"Asia\"],[\"Asia\"],[\"North America\"],[\"North America\"],[\"South America\"],[\"Asia\"],[\"Africa\"],[\"Europe\"],[\"North America\"],[\"Asia\"],[\"Africa\"],[\"North America\"],[\"Asia\"],[\"Europe\"],[\"Asia\"],[\"North America\"],[\"Asia\"],[\"Africa\"],[\"South America\"],[\"Europe\"],[\"South America\"],[\"North America\"],[\"South America\"],[\"Africa\"],[\"Europe\"],[\"South America\"],[\"South America\"],[\"Asia\"],[\"Asia\"],[\"Africa\"],[\"North America\"],[\"Europe\"],[\"North America\"],[\"Asia\"],[\"Europe\"],[\"Asia\"],[\"North America\"],[\"Asia\"],[\"Asia\"],[\"South America\"],[\"South America\"],[\"Africa\"],[\"Europe\"],[\"Europe\"],[\"Africa\"],[\"South America\"],[\"Asia\"],[\"Asia\"],[\"Asia\"],[\"North America\"],[\"North America\"],[\"South America\"],[\"Asia\"],[\"North America\"],[\"Europe\"],[\"Africa\"],[\"Africa\"],[\"Europe\"],[\"Europe\"],[\"South America\"],[\"Africa\"],[\"Europe\"],[\"North America\"],[\"Africa\"],[\"Africa\"],[\"Europe\"],[\"Asia\"],[\"Asia\"],[\"South America\"],[\"Africa\"],[\"South America\"],[\"South America\"],[\"Europe\"],[\"Africa\"],[\"Europe\"],[\"Europe\"],[\"Europe\"],[\"Africa\"],[\"North America\"],[\"Asia\"],[\"South America\"],[\"North America\"],[\"South America\"],[\"Europe\"],[\"Africa\"],[\"South America\"],[\"Asia\"],[\"Africa\"],[\"Africa\"],[\"Europe\"],[\"South America\"],[\"Europe\"],[\"Asia\"],[\"Asia\"],[\"Europe\"],[\"Africa\"],[\"Asia\"],[\"North America\"],[\"Asia\"],[\"North America\"],[\"Africa\"],[\"Europe\"],[\"South America\"],[\"Asia\"],[\"Europe\"],[\"North America\"],[\"North America\"],[\"North America\"],[\"Europe\"],[\"South America\"],[\"Europe\"],[\"Asia\"],[\"Africa\"],[\"South America\"],[\"North America\"],[\"Asia\"],[\"Europe\"],[\"Asia\"],[\"North America\"],[\"Asia\"],[\"Europe\"],[\"Asia\"],[\"South America\"],[\"Europe\"],[\"North America\"],[\"North America\"],[\"North America\"],[\"Africa\"],[\"North America\"],[\"Asia\"],[\"South America\"],[\"Africa\"],[\"Asia\"],[\"Europe\"],[\"Asia\"],[\"North America\"],[\"Asia\"],[\"North America\"],[\"North America\"],[\"Asia\"],[\"South America\"],[\"South America\"],[\"Asia\"],[\"Asia\"],[\"Europe\"],[\"Europe\"],[\"North America\"],[\"Europe\"],[\"North America\"],[\"Africa\"],[\"North America\"],[\"Europe\"],[\"Asia\"],[\"Africa\"],[\"South America\"],[\"Asia\"],[\"Europe\"],[\"North America\"],[\"North America\"],[\"Europe\"],[\"Asia\"],[\"South America\"],[\"Europe\"],[\"South America\"],[\"Asia\"],[\"North America\"],[\"Europe\"],[\"North America\"],[\"Asia\"],[\"Europe\"],[\"Asia\"],[\"Europe\"],[\"North America\"],[\"Europe\"],[\"Asia\"],[\"North America\"],[\"North America\"],[\"South America\"],[\"North America\"],[\"Europe\"],[\"Asia\"],[\"Africa\"],[\"Europe\"],[\"Europe\"],[\"Asia\"],[\"Africa\"],[\"North America\"],[\"South America\"],[\"North America\"],[\"North America\"],[\"North America\"],[\"North America\"],[\"Africa\"],[\"South America\"],[\"North America\"],[\"North America\"],[\"Asia\"],[\"North America\"],[\"Asia\"],[\"Asia\"],[\"Asia\"],[\"Asia\"],[\"Europe\"],[\"North America\"],[\"Europe\"],[\"Asia\"],[\"South America\"],[\"Asia\"],[\"Asia\"],[\"North America\"],[\"Asia\"],[\"South America\"],[\"Europe\"],[\"North America\"],[\"North America\"],[\"Asia\"],[\"North America\"],[\"Europe\"],[\"Asia\"],[\"North America\"],[\"North America\"],[\"South America\"],[\"South America\"],[\"Europe\"],[\"North America\"],[\"South America\"],[\"North America\"],[\"North America\"],[\"Africa\"],[\"Africa\"],[\"South America\"],[\"Europe\"],[\"Asia\"],[\"Asia\"],[\"South America\"],[\"Asia\"],[\"Africa\"],[\"South America\"],[\"North America\"],[\"South America\"],[\"Asia\"],[\"Asia\"],[\"Europe\"],[\"Africa\"],[\"Asia\"],[\"Europe\"],[\"Asia\"],[\"Africa\"],[\"Africa\"],[\"Europe\"],[\"North America\"],[\"South America\"],[\"Asia\"],[\"Africa\"],[\"Europe\"],[\"Africa\"],[\"North America\"],[\"South America\"],[\"North America\"],[\"North America\"],[\"Europe\"],[\"North America\"],[\"North America\"],[\"North America\"],[\"North America\"],[\"North America\"],[\"North America\"],[\"North America\"],[\"Asia\"],[\"South America\"],[\"North America\"],[\"North America\"],[\"Europe\"],[\"North America\"],[\"North America\"],[\"North America\"],[\"Europe\"],[\"Africa\"],[\"Europe\"],[\"Europe\"],[\"Africa\"],[\"Africa\"],[\"Europe\"],[\"Asia\"],[\"North America\"],[\"Asia\"],[\"Asia\"],[\"Asia\"],[\"South America\"],[\"Asia\"],[\"Europe\"],[\"North America\"],[\"South America\"],[\"Africa\"],[\"North America\"],[\"Asia\"],[\"Asia\"],[\"Asia\"],[\"Asia\"],[\"North America\"],[\"Europe\"],[\"South America\"],[\"Asia\"],[\"Asia\"],[\"South America\"],[\"Africa\"],[\"Africa\"],[\"Europe\"],[\"Asia\"],[\"South America\"],[\"Asia\"],[\"South America\"],[\"Asia\"],[\"Europe\"],[\"Africa\"],[\"Europe\"],[\"Europe\"],[\"Asia\"],[\"Europe\"],[\"North America\"],[\"North America\"],[\"Africa\"],[\"Asia\"],[\"North America\"],[\"Asia\"],[\"North America\"],[\"Africa\"],[\"Europe\"],[\"Europe\"],[\"Asia\"],[\"North America\"],[\"Asia\"],[\"Asia\"],[\"South America\"],[\"Europe\"],[\"Africa\"],[\"Africa\"],[\"Europe\"],[\"Africa\"],[\"Asia\"],[\"Asia\"],[\"Europe\"],[\"South America\"],[\"North America\"],[\"North America\"],[\"Africa\"],[\"North America\"],[\"South America\"],[\"North America\"],[\"Africa\"],[\"Asia\"],[\"Europe\"],[\"Africa\"],[\"Europe\"],[\"North America\"],[\"Africa\"],[\"Africa\"],[\"Africa\"],[\"Europe\"],[\"Africa\"],[\"Europe\"],[\"South America\"],[\"Africa\"],[\"South America\"],[\"North America\"],[\"Europe\"],[\"Europe\"],[\"North America\"],[\"Asia\"],[\"Europe\"],[\"Asia\"],[\"Asia\"],[\"South America\"],[\"South America\"],[\"Europe\"],[\"Europe\"],[\"South America\"],[\"Asia\"],[\"North America\"],[\"Europe\"],[\"Europe\"],[\"Europe\"],[\"Europe\"],[\"North America\"],[\"Europe\"],[\"Africa\"],[\"Asia\"],[\"Europe\"],[\"North America\"],[\"South America\"],[\"Africa\"],[\"Asia\"],[\"Europe\"],[\"North America\"],[\"South America\"],[\"Africa\"],[\"Asia\"],[\"Europe\"],[\"North America\"],[\"South America\"],[\"Africa\"],[\"Asia\"],[\"Europe\"],[\"North America\"],[\"South America\"],[\"Africa\"],[\"Asia\"],[\"Europe\"],[\"North America\"],[\"South America\"],[\"Africa\"],[\"Asia\"],[\"Europe\"],[\"North America\"],[\"South America\"],[\"Africa\"],[\"Asia\"],[\"Europe\"],[\"North America\"],[\"South America\"],[\"Africa\"],[\"Asia\"],[\"Europe\"],[\"North America\"],[\"South America\"],[\"Africa\"],[\"Asia\"],[\"Europe\"],[\"North America\"],[\"South America\"],[\"Africa\"],[\"Asia\"],[\"Europe\"],[\"North America\"],[\"South America\"],[\"Africa\"],[\"Asia\"],[\"Europe\"],[\"North America\"],[\"South America\"],[\"Africa\"],[\"Asia\"],[\"Europe\"],[\"North America\"],[\"South America\"],[\"Africa\"],[\"Asia\"],[\"Europe\"],[\"North America\"],[\"South America\"],[\"Africa\"],[\"Asia\"],[\"Europe\"],[\"North America\"],[\"South America\"],[\"Africa\"],[\"Asia\"],[\"Europe\"],[\"North America\"],[\"South America\"],[\"Africa\"],[\"Asia\"],[\"Europe\"],[\"North America\"],[\"South America\"],[\"Africa\"],[\"Asia\"],[\"Europe\"],[\"North America\"],[\"South America\"],[\"Africa\"],[\"Asia\"],[\"Europe\"],[\"North America\"],[\"South America\"],[\"Africa\"],[\"Asia\"],[\"Europe\"],[\"North America\"],[\"South America\"],[\"Africa\"],[\"Asia\"],[\"Europe\"],[\"North America\"],[\"South America\"],[\"Africa\"],[\"Asia\"],[\"Europe\"],[\"North America\"],[\"South America\"]],\"domain\":{\"x\":[0.0,1.0],\"y\":[0.0,1.0]},\"hovertemplate\":\"labels=%{label}<br>prevalence=%{value}<br>parent=%{parent}<br>id=%{id}<br>continent=%{customdata[0]}<extra></extra>\",\"ids\":[\"North America/Animal/Lobster\",\"Europe/Dairy product/Buttermilk\",\"North America/Fish/Smoked_fish\",\"Europe/Vegetable/Cabbage\",\"Africa/Alcohol/Gin\",\"Europe/Plant/Parsley\",\"North America/Alcohol/Cabernet_sauvignon_wine\",\"Asia/Condiment/Gelatin\",\"Europe/Vegetable/Parsnip\",\"North America/Dairy product/Camembert_cheese\",\"Asia/Plant/Garlic\",\"South America/Alcohol/Sherry\",\"Europe/Fruit/Passion_fruit\",\"South America/Condiment/Cane_molasses\",\"Asia/Spice/Galanga\",\"Europe/Vegetable/Pea\",\"Asia/Spice/Cardamom\",\"North America/Meat/Frankfurter\",\"Europe/Plant/Fenugreek\",\"Africa/Vegetable/Cauliflower\",\"North America/Plant/Pear\",\"Europe/Plant/Seaweed\",\"Africa/Fish/Catfish\",\"Europe/Dairy product/Feta_cheese\",\"Asia/Spice/Ginger\",\"North America/Edible oil/Peanut_oil\",\"Africa/Fish/Fish\",\"Europe/Fruit/Carrot\",\"Asia/Legume/Peanut\",\"Asia/Plant/Flower\",\"North America/Plant/Carnation\",\"Africa/Plant/Shallot\",\"Europe/Nut/Cashew\",\"Asia/Meat/Smoked_sausage\",\"Africa/Dairy product/Parmesan_cheese\",\"Europe/Spread/Butter\",\"Europe/Animal/Squid\",\"Asia/Fruit/Guava\",\"Asia/Alcohol/Bourbon_whiskey\",\"Africa/Fruit/Orange\",\"Europe/Fish/Haddock\",\"North America/Plant/Blueberry\",\"Africa/Alcohol/Brandy\",\"Africa/Grain/Starch\",\"North America/Meat/Ham\",\"Europe/Dairy product/Blue_cheese\",\"Asia/Edible oil/Olive_oil\",\"North America/Nut/Hazelnut\",\"Asia/Alcohol/Blackberry_brandy\",\"North America/Fruit/Strawberry_juice\",\"Asia/Vegetable/Onion\",\"North America/Plant/Fennel\",\"Europe/Plant/Orange_flower\",\"Asia/Fruit/Orange_juice\",\"Asia/Dairy product/Goat_cheese\",\"North America/Plant/Palm\",\"Asia/Plant/Buckwheat\",\"Asia/Fruit/Grape\",\"Africa/Condiment/Soy_sauce\",\"North America/Grain/Brown_rice\",\"Europe/Beverage/Green_tea\",\"Asia/Alcohol/Grape_brandy\",\"North America/Plant/Broccoli\",\"Africa/Plant/Oregano\",\"Asia/Fruit/Grapefruit\",\"North America/Grain/Bread\",\"Europe/Plant/Green_bell_pepper\",\"North America/Plant/Brassica\",\"North America/Alcohol/Ouzo\",\"Asia/Plant/Olive\",\"North America/Spread/Caviar\",\"North America/Spice/Cayenne\",\"Asia/Others/Potato\",\"North America/Plant/Chicory\",\"Europe/Plant/Cranberry\",\"Asia/Dairy product/Romano_cheese\",\"Asia/Animal/Prawn\",\"Europe/Plant/Roasted_sesame_seed\",\"Europe/Animal/Crab\",\"Asia/Beverage/Cider\",\"North America/Dairy product/Cottage_cheese\",\"Asia/Plant/Prickly_pear\",\"Europe/Legume/Roasted_peanut\",\"South America/Plant/Cilantro\",\"Europe/Dairy product/Provolone_cheese\",\"South America/Meat/Roasted_meat\",\"Asia/Others/Corn_grit\",\"South America/Spice/Cinnamon\",\"Africa/Meat/Roasted_meat\",\"South America/Legume/Red_kidney_bean\",\"Asia/Beverage/Coffee\",\"Asia/Fruit/Raspberry\",\"Europe/Alcohol/Cognac\",\"South America/Fruit/Cocoa\",\"Europe/Fruit/Raisin\",\"Asia/Dairy product/Roquefort_cheese\",\"North America/Condiment/Condiment\",\"Africa/Grain/Corn\",\"North America/Animal/Clam\",\"Asia/Meat/Roasted_beef\",\"Europe/Fruit/Quince\",\"South America/Plant/Citrus\",\"Africa/Grain/Corn_flake\",\"South America/Plant/Clove\",\"Africa/Legume/Chickpea\",\"South America/Meat/Pork_sausage\",\"Europe/Dairy product/Cream_cheese\",\"South America/Fruit/Pineapple\",\"North America/Plant/Sage\",\"North America/Alcohol/Champagne_wine\",\"Africa/Animal produce/Egg\",\"North America/Spice/Pimento\",\"Europe/Plant/Chamomile\",\"Africa/Dairy product/Cheddar_cheese\",\"North America/Edible oil/Peppermint_oil\",\"South America/Edible oil/Celery_oil\",\"North America/Animal produce/Salmon_roe\",\"South America/Plant/Celery\",\"North America/Plant/Pelargonium\",\"South America/Vegetable/Endive\",\"North America/Others/Savory\",\"Europe/Fish/Salmon\",\"Asia/Plant/Pecan\",\"North America/Fruit/Pistachio\",\"Asia/Fruit/Date\",\"North America/Others/Chicken_broth\",\"North America/Plant/Rose\",\"Africa/Meat/Pork_sausage\",\"Europe/Plant/Cucumber\",\"Europe/Meat/Chicken\",\"North America/Fungus/Porcini\",\"Africa/Dairy product/Cheese\",\"Europe/Plant/Chervil\",\"Europe/Meat/Cured_pork\",\"South America/Fruit/Cherry\",\"Asia/Plant/Currant\",\"Asia/Grain/Rye_bread\",\"Africa/Fruit/Cherry\",\"North America/Fruit/Plum\",\"Asia/Alcohol/Rum\",\"North America/Beverage/Black_tea\",\"Asia/Fish/Cod\",\"South America/Fungus/Mushroom\",\"North America/Plant/Beech\",\"Europe/Dairy product/Munster_cheese\",\"North America/Vegetable/Artichoke\",\"North America/Fungus/Truffle\",\"North America/Fruit/Mango\",\"Asia/Legume/Lima_bean\",\"South America/Meat/Beef\",\"North America/Meat/Lamb\",\"Africa/Fruit/Watermelon\",\"Africa/Fungus/Mushroom\",\"North America/Others/Beef_broth\",\"Europe/Plant/Kumquat\",\"North America/Alcohol/Armagnac\",\"Asia/Fruit/Tomato\",\"Africa/Alcohol/Beer\",\"Asia/Fruit/Mandarin_peel\",\"Europe/Fruit/Apricot\",\"Europe/Fruit/Kiwi\",\"Asia/Plant/Beet\",\"Europe/Condiment/Mustard\",\"Europe/Grain/Wheat_bread\",\"Europe/Plant/Thai_pepper\",\"Africa/Fruit/Mandarin\",\"North America/Animal produce/Lard\",\"Africa/Fruit/Lime_juice\",\"Asia/Plant/Licorice\",\"Europe/Dairy product/Mozzarella_cheese\",\"Africa/Fruit/Lemon_peel\",\"Africa/Dairy product/Milk\",\"South America/Meat/Veal\",\"North America/Fruit/Banana\",\"Africa/Plant/Lemongrass\",\"Asia/Spice/Vanilla\",\"Africa/Condiment/Lemon_juice\",\"North America/Meat/Bacon\",\"South America/Dairy product/Milk\",\"North America/Grain/Barley\",\"Asia/Meat/Meat\",\"Asia/Legume/Lentil\",\"South America/Plant/Turmeric\",\"Africa/Plant/Basil\",\"North America/Plant/Holy_basil\",\"North America/Fruit/Avocado\",\"Europe/Plant/Leek\",\"South America/Meat/Turkey\",\"North America/Plant/Violet\",\"Africa/Plant/Bay\",\"Europe/Plant/Mint\",\"North America/Plant/Lavender\",\"Africa/Legume/Bean\",\"North America/Vegetable/Asparagus\",\"Asia/Spice/Bell_pepper\",\"North America/Others/Baked_potato\",\"Asia/Legume/Kidney_bean\",\"Europe/Fruit/Berry\",\"Africa/Nut/Macadamia_nut\",\"Africa/Plant/Kale\",\"North America/Fruit/Nut\",\"Asia/Plant/Lingonberry\",\"Europe/Fruit/Tangerine\",\"South America/Nut/Macadamia_nut\",\"North America/Plant/Oat\",\"Europe/Fruit/Litchi\",\"South America/Plant/Anise\",\"Africa/Plant/Black_bean\",\"North America/Plant/Huckleberry\",\"Asia/Dairy product/Yogurt\",\"North America/Beverage/Jasmine_tea\",\"North America/Spice/Nutmeg\",\"Europe/Plant/Black_currant\",\"North America/Plant/Tabasco_pepper\",\"Africa/Fruit/Apple\",\"Africa/Plant/Horseradish\",\"Asia/Spice/Black_pepper\",\"Europe/Plant/Bergamot\",\"South America/Plant/Almond\",\"Asia/Meat/Mutton\",\"North America/Animal produce/Liver\",\"Africa/Plant/Okra\",\"North America/Plant/Black_raspberry\",\"Asia/Alcohol/Apple_brandy\",\"Europe/Others/Katsuobushi\",\"Asia/Nut/Macadamia_nut\",\"Africa/Plant/Dill\",\"North America/Fruit/Zucchini\",\"Asia/Vegetable/Lettuce\",\"North America/Meat/Raw_beef\",\"North America/Fruit/Litchi\",\"Africa/Fruit/Pistachio\",\"North America/Beverage/Mate\",\"South America/Animal produce/Liver\",\"South America/Fruit/Plum\",\"South America/Fruit/Pistachio\",\"Europe/Meat/Meat\",\"Europe/Grain/Popcorn\",\"North America/Fruit/Raisin\",\"Asia/Fruit/Concord_grape\",\"Europe/Legume/Lentil\",\"Europe/Fruit/Date\",\"Europe/Beverage/Coffee\",\"Asia/Plant/Lemongrass\",\"Africa/Meat/Pork\",\"Europe/Fruit/Raspberry\",\"Europe/Plant/Currant\",\"North America/Meat/Cured_pork\",\"Europe/Plant/Cumin\",\"Europe/Condiment/Maple_syrup\",\"Asia/Plant/Coriander\",\"Asia/Grain/Corn_flake\",\"Asia/Plant/Melon\",\"North America/Dairy product/Provolone_cheese\",\"Africa/Others/Potato_chip\",\"Asia/Spice/Mace\",\"North America/Animal/Crab\",\"Asia/Fruit/Lime\",\"Asia/Fruit/Mandarin\",\"Africa/Edible oil/Lime_peel_oil\",\"Europe/Animal/Prawn\",\"South America/Dairy product/Cottage_cheese\",\"North America/Fish/Mackerel\",\"Europe/Others/Corn_grit\",\"Asia/Fruit/Lime_juice\",\"Europe/Plant/Prickly_pear\",\"North America/Fruit/Mandarin_peel\",\"Europe/Plant/Marjoram\",\"Asia/Grain/Macaroni\",\"North America/Plant/Cranberry\",\"South America/Meat/Pork\",\"Europe/Vegetable/Radish\",\"North America/Plant/Cucumber\",\"South America/Others/Corn_grit\",\"North America/Fruit/Quince\",\"Europe/Plant/Licorice\",\"Asia/Meat/Pork_sausage\",\"North America/Dairy product/Cream_cheese\",\"South America/Fruit/Mango\",\"Asia/Grain/Corn\",\"Asia/Alcohol/Port_wine\",\"Europe/Plant/Lingonberry\",\"North America/Dairy product/Cream\",\"Europe/Fruit/Pumpkin\",\"Europe/Others/Potato\",\"Europe/Legume/Lima_bean\",\"Africa/Condiment/Honey\",\"Europe/Plant/Pecan\",\"Asia/Fruit/Lemon_peel\",\"Asia/Plant/Oregano\",\"Europe/Fruit/Grape_juice\",\"Asia/Plant/Kale\",\"North America/Vegetable/Nira\",\"North America/Alcohol/Grape_brandy\",\"North America/Meat/Mutton\",\"Europe/Fish/Cod\",\"Europe/Fruit/Grape\",\"North America/Others/Katsuobushi\",\"Africa/Plant/Palm\",\"Europe/Dairy product/Goat_cheese\",\"Asia/Plant/Papaya\",\"Europe/Legume/Kidney_bean\",\"North America/Condiment/Mustard\",\"Europe/Spice/Ginger\",\"Asia/Dairy product/Parmesan_cheese\",\"South America/Dairy product/Parmesan_cheese\",\"Asia/Alcohol/Gin\",\"North America/Fruit/Kiwi\",\"Europe/Fruit/Grapefruit\",\"North America/Animal/Mussel\",\"Asia/Fruit/Orange_peel\",\"South America/Fruit/Nut\",\"Asia/Plant/Okra\",\"Europe/Plant/Olive\",\"Asia/Fish/Herring\",\"North America/Condiment/Honey\",\"North America/Grain/Oatmeal\",\"Europe/Edible oil/Olive_oil\",\"South America/Meat/Ham\",\"Asia/Plant/Horseradish\",\"Europe/Vegetable/Onion\",\"South America/Plant/Oat\",\"North America/Fish/Haddock\",\"North America/Alcohol/Jamaican_rum\",\"Europe/Fruit/Guava\",\"Europe/Fruit/Orange\",\"South America/Spice/Nutmeg\",\"North America/Beverage/Green_tea\",\"North America/Plant/Orange_flower\",\"Europe/Fruit/Juniper_berry\",\"North America/Plant/Green_bell_pepper\",\"Europe/Fruit/Orange_juice\",\"Asia/Animal/Mussel\",\"South America/Plant/Parsley\",\"Europe/Condiment/Gelatin\",\"South America/Plant/Pear\",\"South America/Plant/Fennel\",\"North America/Plant/Leek\",\"South America/Dairy product/Milk_fat\",\"North America/Fungus/Enokidake\",\"Europe/Fruit/Lemon\",\"Africa/Dairy product/Milk_fat\",\"Asia/Spice/Pepper\",\"North America/Dairy product/Emmental_cheese\",\"South America/Spice/Pepper\",\"Asia/Plant/Elderberry\",\"Europe/Plant/Peppermint\",\"North America/Others/Egg_noodle\",\"Asia/Condiment/Lemon_juice\",\"Africa/Others/Egg_noodle\",\"Asia/Plant/Pimenta\",\"Europe/Animal produce/Egg\",\"Asia/Dairy product/Milk\",\"Africa/Fruit/Pineapple\",\"North America/Plant/Fenugreek\",\"North America/Plant/Mint\",\"South America/Edible oil/Peanut_oil\",\"Asia/Plant/Leaf\",\"North America/Vegetable/Parsnip\",\"Europe/Plant/Garlic\",\"North America/Plant/Kumquat\",\"Asia/Fungus/Mushroom\",\"North America/Fruit/Passion_fruit\",\"Europe/Spice/Galanga\",\"North America/Vegetable/Pea\",\"South America/Meat/Lamb\",\"Africa/Fruit/Fruit\",\"South America/Plant/Dill\",\"North America/Dairy product/Munster_cheese\",\"Europe/Plant/Flower\",\"Europe/Legume/Peanut\",\"South America/Animal produce/Lard\",\"Asia/Fish/Fish\",\"North America/Dairy product/Mozzarella_cheese\",\"Africa/Spread/Peanut_butter\",\"Europe/Plant/Fig\",\"South America/Spread/Peanut_butter\",\"North America/Dairy product/Feta_cheese\",\"Europe/Plant/Peach\",\"South America/Alcohol/Ouzo\",\"Africa/Plant/Almond\",\"Africa/Vegetable/Brussels_sprout\",\"Africa/Plant/Soybean\",\"South America/Grain/Bread\",\"South America/Plant/Soybean\",\"South America/Plant/Brassica\",\"North America/Plant/Spearmint\",\"South America/Alcohol/Brandy\",\"North America/Plant/Squash\",\"Asia/Alcohol/Brandy\",\"North America/Animal/Squid\",\"Europe/Alcohol/Bourbon_whiskey\",\"Europe/Plant/Star_anise\",\"Asia/Edible oil/Bone_oil\",\"Asia/Grain/Starch\",\"North America/Dairy product/Blue_cheese\",\"South America/Fruit/Strawberry\",\"Europe/Alcohol/Blackberry_brandy\",\"Europe/Plant/Sumac\",\"Asia/Fruit/Blackberry\",\"Europe/Edible oil/Sunflower_oil\",\"North America/Plant/Black_sesame_seed\",\"South America/Root vegetables/Sweet_potato\",\"Europe/Spice/Black_pepper\",\"Asia/Dairy product/Swiss_cheese\",\"Africa/Grain/Brown_rice\",\"Europe/Condiment/Soy_sauce\",\"Asia/Legume/Red_kidney_bean\",\"North America/Dairy product/Sour_milk\",\"North America/Plant/Seaweed\",\"Asia/Plant/Seed\",\"North America/Nut/Cashew\",\"Africa/Edible oil/Sesame_oil\",\"North America/Fruit/Carrot\",\"Europe/Edible oil/Sesame_oil\",\"Asia/Plant/Carob\",\"South America/Plant/Sesame_seed\",\"Europe/Spice/Cardamom\",\"South America/Plant/Shallot\",\"North America/Animal/Shellfish\",\"Asia/Plant/Tabasco_pepper\",\"Asia/Plant/Caraway\",\"Africa/Condiment/Cane_molasses\",\"Europe/Fungus/Shiitake\",\"Asia/Plant/Cacao\",\"North America/Vegetable/Cabbage\",\"Africa/Fish/Smoked_salmon\",\"North America/Dairy product/Buttermilk\",\"Africa/Meat/Smoked_sausage\",\"North America/Spread/Butter\",\"North America/Meat/Smoked_sausage\",\"Europe/Plant/Buckwheat\",\"Africa/Dairy product/Sour_milk\",\"North America/Alcohol/Sherry\",\"North America/Plant/Black_currant\",\"Asia/Plant/Tamarind\",\"Asia/Plant/Black_bean\",\"Asia/Meat/Veal\",\"South America/Meat/Bacon\",\"Asia/Vegetable/Vegetable\",\"South America/Fruit/Avocado\",\"North America/Edible oil/Vegetable_oil\",\"South America/Vegetable/Asparagus\",\"Africa/Nut/Walnut\",\"Europe/Plant/Wasabi\",\"South America/Vegetable/Artichoke\",\"North America/Vegetable/Watercress\",\"North America/Plant/Artemisia\",\"North America/Plant/Balm\",\"Europe/Fruit/Watermelon\",\"South America/Grain/Wheat_bread\",\"Europe/Alcohol/Apple_brandy\",\"Europe/Alcohol/Whiskey\",\"North America/Others/Wood\",\"Asia/Fruit/Apple\",\"Africa/Fungus/Yeast\",\"Asia/Plant/Anise_seed\",\"Europe/Dairy product/Yogurt\",\"North America/Plant/Angelica\",\"Africa/Fruit/Zucchini\",\"Europe/Fruit/Zucchini\",\"North America/Fruit/Apricot\",\"Asia/Fish/Catfish\",\"North America/Spice/Vanilla\",\"Asia/Root vegetables/Turnip\",\"Asia/Fruit/Tangerine\",\"Africa/Plant/Bitter_orange\",\"Asia/Plant/Tarragon\",\"North America/Plant/Bergamot\",\"South America/Plant/Tarragon\",\"Europe/Alcohol/Tequila\",\"Europe/Spice/Bell_pepper\",\"Africa/Plant/Thai_pepper\",\"Europe/Plant/Beet\",\"North America/Plant/Thyme\",\"Asia/Alcohol/Beer\",\"South America/Fruit/Banana\",\"Asia/Meat/Beef_liver\",\"South America/Fruit/Tomato\",\"Africa/Others/Beef_broth\",\"South America/Fruit/Tomato_juice\",\"Africa/Meat/Beef\",\"Asia/Fish/Tuna\",\"North America/Fish/Tuna\",\"Asia/Legume/Bean\",\"Asia/Plant/Bay\",\"Africa/Plant/Turmeric\",\"Asia/Plant/Basil\",\"Asia/Plant/Bartlett_pear\",\"Europe/Fruit/Tomato\",\"Europe/Vegetable/Cauliflower\",\"South America/Grain/Rice\",\"Asia/Legume/Chickpea\",\"Africa/Grain/Cereal\",\"Europe/Plant/Chive\",\"North America/Plant/Roasted_sesame_seed\",\"South America/Animal/Clam\",\"Africa/Fish/Salmon\",\"Africa/Alcohol/Rum\",\"North America/Plant/Chamomile\",\"Europe/Meat/Roasted_beef\",\"North America/Plant/Chervil\",\"Europe/Alcohol/Sake\",\"Europe/Beverage/Cider\",\"North America/Fruit/Citrus_peel\",\"South America/Plant/Sage\",\"Africa/Plant/Chayote\",\"Europe/Plant/Rosemary\",\"Europe/Meat/Roasted_pork\",\"Europe/Root vegetables/Rutabaga\",\"South America/Spice/Saffron\",\"Asia/Dairy product/Cheddar_cheese\",\"Asia/Alcohol/Cherry_brandy\",\"Africa/Plant/Citrus\",\"Europe/Spice/Saffron\",\"North America/Legume/Roasted_peanut\",\"North America/Fruit/Roasted_nut\",\"Asia/Plant/Cilantro\",\"Africa/Spice/Cinnamon\",\"Asia/Dairy product/Cheese\",\"Asia/Fruit/Cherry\",\"Europe/Grain/Rye_bread\",\"Europe/Others/Rye_flour\",\"Asia/Meat/Roasted_meat\",\"Africa/Grain/Rice\",\"North America/Plant/Long_pepper\",\"North America/Plant/Sassafras\",\"Africa/Fruit/Coconut\",\"Africa/Plant/Celery\",\"North America/Alcohol/Red_wine\",\"South America/Others/Chicken_broth\",\"Asia/Vegetable/Rhubarb\",\"North America/Vegetable/Sauerkraut\",\"South America/Plant/Rose\",\"South America/Others/Savory\",\"Asia/Animal/Scallop\",\"North America/Plant/Root\",\"North America/Dairy product/Roquefort_cheese\",\"Africa/Alcohol/Red_wine\",\"Africa/Fruit/Cocoa\",\"South America/Meat/Chicken\",\"Africa/Edible oil/Celery_oil\",\"North America/Vegetable/Scallion\",\"North America/Vegetable/Chinese_cabbage\",\"Africa/Spice/Cayenne\",\"South America/Fruit/Coconut\",\"North America/Legume/Chickpea\",\"Europe/Beverage/Tea\",\"Europe/Meat/Mutton\",\"South America/Fish/Tuna\",\"Asia/Meat/Turkey\",\"South America/Plant/Mint\",\"Europe/Meat/Turkey\",\"North America/Alcohol/Tequila\",\"South America/Dairy product/Romano_cheese\",\"South America/Animal/Mussel\",\"North America/Others/Potato\",\"South America/Plant/Thyme\",\"Asia/Others/Potato_chip\",\"North America/Fungus/Mushroom\",\"North America/Fruit/Tomato\",\"Asia/Plant/Turmeric\",\"North America/Meat/Roasted_pork\",\"South America/Dairy product/Munster_cheese\",\"Europe/Dairy product/Romano_cheese\",\"Asia/Plant/Thyme\",\"Asia/Fungus/Truffle\",\"North America/Plant/Thai_pepper\",\"Africa/Fish/Tuna\",\"North America/Animal/Prawn\",\"South America/Plant/Roasted_sesame_seed\",\"South America/Dairy product/Mozzarella_cheese\",\"North America/Plant/Roasted_pecan\",\"Africa/Plant/Mint\",\"North America/Alcohol/Pear_brandy\",\"Asia/Dairy product/Milk_fat\",\"Africa/Fruit/Mango\",\"Asia/Fruit/Watermelon\",\"North America/Grain/Wheat\",\"Europe/Fruit/Mandarin\",\"North America/Vegetable/Radish\",\"North America/Grain/Wheat_bread\",\"North America/Vegetable/Rhubarb\",\"Asia/Grain/Malt\",\"Asia/Alcohol/Whiskey\",\"Europe/Spice/Mace\",\"South America/Alcohol/Red_wine\",\"Europe/Grain/Macaroni\",\"South America/Fruit/Raisin\",\"Europe/Plant/Yam\",\"South America/Plant/Yam\",\"Europe/Nut/Macadamia_nut\",\"Africa/Dairy product/Yogurt\",\"Asia/Alcohol/Red_wine\",\"Asia/Fruit/Zucchini\",\"Europe/Legume/Red_kidney_bean\",\"Asia/Plant/Lovage\",\"Asia/Grain/Rice\",\"North America/Plant/Prickly_pear\",\"Africa/Vegetable/Radish\",\"Africa/Condiment/Maple_syrup\",\"Africa/Root vegetables/Turnip\",\"Africa/Legume/Roasted_peanut\",\"North America/Root vegetables/Turnip\",\"Europe/Dairy product/Milk\",\"Europe/Spice/Vanilla\",\"Europe/Meat/Roasted_meat\",\"Africa/Meat/Veal\",\"Europe/Plant/Melon\",\"Europe/Alcohol/Port_wine\",\"Africa/Plant/Melon\",\"Africa/Vegetable/Vegetable\",\"North America/Meat/Roasted_beef\",\"South America/Vegetable/Vegetable\",\"North America/Fungus/Matsutake\",\"Europe/Edible oil/Vegetable_oil\",\"North America/Fruit/Pumpkin\",\"North America/Plant/Marjoram\",\"South America/Condiment/Vinegar\",\"Asia/Plant/Marjoram\",\"Europe/Plant/Roasted_almond\",\"North America/Nut/Walnut\",\"Europe/Vegetable/Watercress\",\"Africa/Fruit/Pumpkin\",\"Africa/Plant/Oat\",\"Europe/Plant/Tarragon\",\"Africa/Fungus/Shiitake\",\"North America/Fungus/Shiitake\",\"Africa/Vegetable/Parsnip\",\"North America/Plant/Peppermint\",\"Asia/Animal/Shrimp\",\"North America/Animal/Shrimp\",\"Africa/Others/Smoke\",\"Africa/Plant/Parsley\",\"North America/Others/Smoke\",\"North America/Alcohol/Sake\",\"Europe/Dairy product/Parmesan_cheese\",\"Asia/Fish/Smoked_salmon\",\"Africa/Spice/Pimento\",\"Europe/Plant/Papaya\",\"Europe/Meat/Smoked_sausage\",\"Africa/Alcohol/Sake\",\"Europe/Plant/Sour_cherry\",\"Asia/Plant/Palm\",\"Asia/Dairy product/Sour_milk\",\"Asia/Fruit/Pineapple\",\"Asia/Animal/Oyster\",\"North America/Fish/Salmon\",\"South America/Vegetable/Parsnip\",\"Africa/Alcohol/Sherry\",\"Africa/Plant/Peppermint\",\"North America/Animal/Scallop\",\"North America/Plant/Sea_algae\",\"Africa/Plant/Pear\",\"South America/Vegetable/Scallion\",\"Africa/Plant/Seed\",\"Asia/Edible oil/Peanut_oil\",\"Africa/Vegetable/Scallion\",\"North America/Plant/Seed\",\"Asia/Spread/Peanut_butter\",\"North America/Plant/Pecan\",\"Asia/Plant/Sage\",\"Asia/Edible oil/Sesame_oil\",\"Africa/Plant/Sesame_seed\",\"Europe/Plant/Sesame_seed\",\"Africa/Others/Savory\",\"North America/Plant/Peach\",\"South America/Vegetable/Pea\",\"Europe/Plant/Shallot\",\"Europe/Spice/Pepper\",\"Asia/Vegetable/Sauerkraut\",\"Europe/Dairy product/Sheep_cheese\",\"South America/Fruit/Passion_fruit\",\"North America/Legume/Peanut\",\"Asia/Fruit/Nectarine\",\"Asia/Condiment/Soy_sauce\",\"South America/Condiment/Soy_sauce\",\"North America/Fish/Sturgeon_caviar\",\"Europe/Plant/Okra\",\"North America/Plant/Sumac\",\"North America/Plant/Rosemary\",\"Africa/Root vegetables/Sweet_potato\",\"Asia/Meat/Pork\",\"Europe/Root vegetables/Sweet_potato\",\"Asia/Animal/Octopus\",\"Africa/Grain/Oatmeal\",\"Africa/Dairy product/Swiss_cheese\",\"Asia/Animal produce/Pork_liver\",\"Africa/Plant/Tabasco_pepper\",\"Africa/Plant/Rosemary\",\"South America/Plant/Tabasco_pepper\",\"Africa/Spice/Nutmeg\",\"Europe/Meat/Pork_sausage\",\"Europe/Plant/Tamarind\",\"Asia/Plant/Rose\",\"Africa/Fruit/Nut\",\"North America/Fruit/Tangerine\",\"Europe/Dairy product/Roquefort_cheese\",\"North America/Grain/Popcorn\",\"North America/Plant/Olive\",\"North America/Alcohol/Rum\",\"North America/Fruit/Strawberry\",\"Asia/Fruit/Pistachio\",\"Europe/Plant/Soybean\",\"Europe/Fruit/Orange_peel\",\"North America/Spice/Saffron\",\"Asia/Edible oil/Soybean_oil\",\"North America/Fruit/Orange_juice\",\"Europe/Plant/Spearmint\",\"North America/Others/Rye_flour\",\"Asia/Plant/Squash\",\"South America/Plant/Orange_flower\",\"Europe/Plant/Oregano\",\"Asia/Fruit/Plum\",\"North America/Grain/Rye_bread\",\"North America/Fruit/Orange\",\"South America/Animal/Squid\",\"North America/Root vegetables/Rutabaga\",\"North America/Vegetable/Onion\",\"North America/Plant/Star_anise\",\"Africa/Grain/Popcorn\",\"North America/Grain/Starch\",\"North America/Edible oil/Olive_oil\",\"Africa/Fruit/Strawberry\",\"South America/Plant/Squash\",\"North America/Plant/Red_algae\",\"South America/Fruit/Zucchini\",\"South America/Dairy product/Cream_cheese\",\"North America/Animal produce/Egg\",\"Africa/Meat/Bacon\",\"Europe/Plant/Durian\",\"Asia/Plant/Dill\",\"North America/Fruit/Date\",\"North America/Plant/Currant\",\"South America/Meat/Cured_pork\",\"North America/Plant/Cumin\",\"Africa/Others/Baked_potato\",\"South America/Plant/Cucumber\",\"Africa/Fruit/Banana\",\"South America/Dairy product/Cream\",\"Asia/Others/Egg_noodle\",\"Africa/Dairy product/Cream\",\"South America/Animal/Crab\",\"Africa/Animal/Crab\",\"Africa/Dairy product/Cottage_cheese\",\"Europe/Grain/Corn_flake\",\"Europe/Grain/Corn\",\"Europe/Plant/Bartlett_pear\",\"Europe/Plant/Coriander\",\"Europe/Fruit/Concord_grape\",\"Europe/Plant/Basil\",\"North America/Beverage/Coffee\",\"North America/Fish/Cod\",\"Asia/Edible oil/Coconut_oil\",\"Africa/Grain/Barley\",\"North America/Plant/Elderberry\",\"Asia/Vegetable/Endive\",\"Africa/Plant/Fennel\",\"Africa/Nut/Hazelnut\",\"North America/Alcohol/Apple_brandy\",\"Africa/Meat/Ham\",\"North America/Fruit/Guava\",\"Asia/Dairy product/Gruyere_cheese\",\"South America/Plant/Green_bell_pepper\",\"South America/Fruit/Apricot\",\"North America/Fruit/Grapefruit\",\"North America/Fruit/Grape_juice\",\"Africa/Fruit/Grape_juice\",\"North America/Fruit/Grape\",\"North America/Dairy product/Goat_cheese\",\"Africa/Vegetable/Artichoke\",\"North America/Spice/Ginger\",\"Europe/Alcohol/Gin\",\"North America/Condiment/Gelatin\",\"North America/Plant/Garlic\",\"Africa/Vegetable/Asparagus\",\"North America/Spice/Galanga\",\"Asia/Fruit/Fruit\",\"North America/Plant/Flower\",\"Europe/Fish/Fish\",\"North America/Plant/Fig\",\"Africa/Fruit/Avocado\",\"South America/Dairy product/Feta_cheese\",\"South America/Plant/Fenugreek\",\"Africa/Plant/Fenugreek\",\"Asia/Fruit/Coconut\",\"Europe/Fish/Herring\",\"Asia/Fruit/Cocoa\",\"Asia/Plant/Clove\",\"South America/Fruit/Carrot\",\"North America/Plant/Carob\",\"North America/Spice/Cardamom\",\"Europe/Plant/Caraway\",\"Asia/Condiment/Cane_molasses\",\"Africa/Fruit/Berry\",\"Europe/Plant/Cacao\",\"South America/Vegetable/Cabbage\",\"South America/Dairy product/Buttermilk\",\"Asia/Plant/Bitter_orange\",\"South America/Spread/Butter\",\"North America/Plant/Buckwheat\",\"North America/Spice/Bell_pepper\",\"Asia/Vegetable/Brussels_sprout\",\"Europe/Plant/Black_bean\",\"Africa/Plant/Broccoli\",\"Africa/Grain/Bread\",\"Asia/Plant/Brassica\",\"Europe/Alcohol/Brandy\",\"North America/Alcohol/Bourbon_whiskey\",\"Europe/Edible oil/Bone_oil\",\"Africa/Plant/Blueberry\",\"Asia/Edible oil/Black_mustard_seed_oil\",\"North America/Alcohol/Blackberry_brandy\",\"Europe/Fruit/Blackberry\",\"Africa/Beverage/Black_tea\",\"Asia/Grain/Brown_rice\",\"Asia/Plant/Cassava\",\"Europe/Fish/Catfish\",\"North America/Vegetable/Cauliflower\",\"Africa/Animal/Clam\",\"Europe/Legume/Bean\",\"Asia/Plant/Citrus\",\"Asia/Spice/Cinnamon\",\"Europe/Plant/Cilantro\",\"North America/Beverage/Cider\",\"Asia/Meat/Beef\",\"North America/Plant/Chive\",\"Africa/Plant/Chive\",\"South America/Legume/Chickpea\",\"Asia/Animal produce/Chicken_liver\",\"Africa/Others/Chicken_broth\",\"Africa/Meat/Chicken\",\"Asia/Others/Beef_broth\",\"Europe/Alcohol/Cherry_brandy\",\"Europe/Fruit/Cherry\",\"Europe/Dairy product/Cheese\",\"Europe/Meat/Beef_liver\",\"Europe/Dairy product/Cheddar_cheese\",\"Asia/Plant/Chayote\",\"Africa/Alcohol/Champagne_wine\",\"Europe/Alcohol/Beer\",\"Asia/Grain/Cereal\",\"Asia/Edible oil/Celery_oil\",\"Asia/Plant/Celery\",\"North America/Plant/Beet\",\"Asia/Spice/Cayenne\",\"Europe/Plant/Bay\",\"Asia/Condiment/Honey\",\"North America/Spice/Black_pepper\",\"Asia/Plant/Anise\",\"Europe/Condiment/Lemon_juice\",\"Europe/Plant/Horseradish\",\"North America/Plant/Kelp\",\"North America/Plant/Lingonberry\",\"North America/Legume/Lentil\",\"Europe/Plant/Kale\",\"Europe/Plant/Leaf\",\"Asia/Plant/Almond\",\"Europe/Fruit/Lime\",\"Asia/Edible oil/Lime_peel_oil\",\"Europe/Vegetable/Lettuce\",\"Africa/Meat/Lamb\",\"Europe/Plant/Laurel\",\"Europe/Fruit/Lemon_peel\",\"Europe/Plant/Anise_seed\",\"North America/Legume/Lima_bean\",\"North America/Fruit/Japanese_plum\",\"South America/Plant/Leek\",\"North America/Plant/Licorice\",\"Europe/Plant/Lemongrass\",\"Africa/Animal/Lobster\",\"Europe/Vegetable/Kohlrabi\",\"Asia/Animal produce/Liver\",\"Europe/Fruit/Lime_juice\",\"North America/Fruit/Lemon\",\"North America/Fruit/Juniper_berry\",\"Africa/Animal produce/Lard\",\"North America/Legume/Kidney_bean\",\"South America/Condiment/Honey\",\"Europe/Fruit/Apple\",\"South America/Plant/Rosemary\",\"Asia/Others/Rye_flour\",\"Asia/Root vegetables/Rutabaga\",\"South America/Dairy product/Cheese\",\"Africa/Meat/Meat\",\"Asia/Plant/Chervil\",\"Africa/Grain/Rye_bread\",\"South America/Plant/Marjoram\",\"Africa/Fruit/Tomato_juice\",\"Africa/Legume/Lentil\",\"Europe/Others/Beef_broth\",\"North America/Fruit/Cherry\",\"Europe/Condiment/Honey\",\"Asia/Spice/Saffron\",\"Africa/Plant/Thyme\",\"Europe/Vegetable/Sauerkraut\",\"North America/Plant/Celery\",\"Asia/Condiment/Maple_syrup\",\"Europe/Plant/Thyme\",\"Europe/Animal produce/Salmon_roe\",\"North America/Edible oil/Celery_oil\",\"South America/Vegetable/Lettuce\",\"Asia/Fish/Salmon\",\"South America/Dairy product/Cheddar_cheese\",\"Asia/Fungus/Yeast\",\"Africa/Plant/Marjoram\",\"Asia/Alcohol/Sake\",\"North America/Meat/Beef_liver\",\"Europe/Alcohol/Champagne_wine\",\"Asia/Meat/Chicken\",\"Africa/Fruit/Tomato\",\"Africa/Plant/Sage\",\"North America/Plant/Chayote\",\"Africa/Vegetable/Lettuce\",\"North America/Grain/Cereal\",\"Europe/Plant/Sage\",\"North America/Plant/Yam\",\"Asia/Plant/Rosemary\",\"Europe/Animal/Lobster\",\"Asia/Plant/Yam\",\"North America/Meat/Roasted_meat\",\"North America/Spice/Cinnamon\",\"Europe/Fish/Tuna\",\"North America/Fruit/Roasted_hazelnut\",\"North America/Dairy product/Milk\",\"North America/Plant/Citrus\",\"South America/Fruit/Lemon\",\"Asia/Legume/Roasted_peanut\",\"South America/Plant/Bay\",\"Africa/Meat/Turkey\",\"Europe/Animal/Clam\",\"North America/Grain/Rice\",\"Asia/Fruit/Lemon\",\"North America/Plant/Clove\",\"Europe/Vegetable/Rhubarb\",\"North America/Meat/Turkey\",\"North America/Animal/Octopus\",\"North America/Fruit/Cocoa\",\"Africa/Meat/Roasted_beef\",\"South America/Condiment/Lemon_juice\",\"Africa/Plant/Cilantro\",\"South America/Legume/Bean\",\"North America/Fruit/Tomato_juice\",\"Europe/Others/Chicken_broth\",\"Europe/Plant/Rose\",\"South America/Alcohol/Beer\",\"Africa/Plant/Rose\",\"North America/Meat/Beef\",\"North America/Animal produce/Chicken_liver\",\"Europe/Legume/Chickpea\",\"South America/Meat/Meat\",\"Europe/Plant/Root\",\"Europe/Fungus/Truffle\",\"North America/Dairy product/Romano_cheese\",\"Europe/Plant/Chicory\",\"South America/Fruit/Lemon_peel\",\"Africa/Dairy product/Romano_cheese\",\"Asia/Plant/Chive\",\"South America/Plant/Anise_seed\",\"Asia/Plant/Roasted_sesame_seed\",\"Africa/Beverage/Cider\",\"North America/Plant/Melon\",\"Asia/Meat/Roasted_pork\",\"Europe/Fruit/Tomato_juice\",\"Europe/Others/Savory\",\"Europe/Fruit/Mango\",\"Europe/Spice/Cayenne\",\"Europe/Plant/Squash\",\"North America/Edible oil/Lime_peel_oil\",\"Africa/Plant/Squash\",\"Europe/Plant/Brassica\",\"Europe/Edible oil/Soybean_oil\",\"Africa/Plant/Tamarind\",\"Europe/Grain/Bread\",\"North America/Plant/Soybean\",\"North America/Plant/Almond\",\"Asia/Plant/Soybean\",\"South America/Grain/Macaroni\",\"Europe/Plant/Broccoli\",\"North America/Condiment/Soy_sauce\",\"Europe/Grain/Brown_rice\",\"North America/Plant/Bitter_orange\",\"South America/Fruit/Lime_juice\",\"Europe/Dairy product/Sour_milk\",\"North America/Vegetable/Brussels_sprout\",\"North America/Plant/Sour_cherry\",\"South America/Dairy product/Yogurt\",\"Asia/Plant/Sour_cherry\",\"North America/Alcohol/Brandy\",\"South America/Plant/Tamarind\",\"Asia/Animal/Squid\",\"Africa/Alcohol/Bourbon_whiskey\",\"Europe/Plant/Black_raspberry\",\"Asia/Root vegetables/Sweet_potato\",\"Africa/Spice/Black_pepper\",\"Europe/Dairy product/Swiss_cheese\",\"Asia/Edible oil/Sunflower_oil\",\"Europe/Beverage/Black_tea\",\"North America/Plant/Lovage\",\"Asia/Plant/Sumac\",\"South America/Fruit/Blackberry\",\"North America/Spread/Strawberry_jam\",\"Europe/Animal produce/Liver\",\"Asia/Fruit/Strawberry\",\"Asia/Dairy product/Blue_cheese\",\"South America/Grain/Starch\",\"Asia/Fruit/Litchi\",\"Europe/Plant/Tabasco_pepper\",\"South America/Plant/Black_bean\",\"Europe/Plant/Blueberry\",\"South America/Plant/Star_anise\",\"North America/Nut/Macadamia_nut\",\"Asia/Plant/Star_anise\",\"South America/Alcohol/Bourbon_whiskey\",\"Asia/Spread/Butter\",\"South America/Spice/Mace\",\"North America/Fish/Smoked_salmon\",\"Asia/Plant/Sesame_seed\",\"Asia/Alcohol/Tequila\",\"North America/Edible oil/Sesame_oil\",\"Asia/Fruit/Carrot\",\"Africa/Fruit/Lime\",\"South America/Fungus/Yeast\",\"South America/Plant/Seed\",\"Asia/Nut/Cashew\",\"Europe/Plant/Seed\",\"Africa/Spice/Bell_pepper\",\"North America/Plant/Cassava\",\"North America/Fungus/Yeast\",\"Asia/Plant/Seaweed\",\"North America/Fish/Catfish\",\"South America/Animal/Scallop\",\"Europe/Animal/Scallop\",\"North America/Dairy product/Milk_fat\",\"Europe/Spread/Caviar\",\"Europe/Vegetable/Scallion\",\"Asia/Plant/Thai_pepper\",\"Africa/Legume/Lima_bean\",\"South America/Fruit/Mandarin\",\"North America/Plant/Sesame_seed\",\"Asia/Plant/Carnation\",\"North America/Plant/Anise\",\"North America/Dairy product/Yogurt\",\"Asia/Dairy product/Buttermilk\",\"Europe/Fish/Smoked_fish\",\"Asia/Vegetable/Cabbage\",\"Europe/Others/Smoke\",\"Africa/Plant/Tarragon\",\"South America/Animal/Shrimp\",\"Asia/Fruit/Berry\",\"Europe/Animal/Shrimp\",\"Europe/Alcohol/Cabernet_sauvignon_wine\",\"Europe/Fungus/Yeast\",\"Africa/Animal/Shrimp\",\"South America/Fruit/Lime\",\"Asia/Fungus/Shiitake\",\"Europe/Dairy product/Camembert_cheese\",\"North America/Plant/Tarragon\",\"Europe/Alcohol/Sherry\",\"Asia/Plant/Bergamot\",\"North America/Condiment/Cane_molasses\",\"North America/Dairy product/Sheep_cheese\",\"Africa/Spice/Cardamom\",\"North America/Plant/Shallot\",\"North America/Grain/Malt\",\"Europe/Alcohol/Red_wine\",\"Africa/Vegetable/Rhubarb\",\"North America/Fruit/Coconut\",\"North America/Fruit/Nectarine\",\"Europe/Nut/Walnut\",\"Asia/Plant/Peach\",\"Europe/Meat/Frankfurter\",\"South America/Nut/Walnut\",\"Asia/Vegetable/Pea\",\"Asia/Plant/Wasabi\",\"North America/Fruit/Fruit\",\"North America/Plant/Kaffir_lime\",\"South America/Alcohol/White_wine\",\"Asia/Fruit/Passion_fruit\",\"Africa/Plant/Garlic\",\"Europe/Fruit/Nut\",\"North America/Plant/Wasabi\",\"Asia/Vegetable/Parsnip\",\"Africa/Condiment/Gelatin\",\"North America/Alcohol/White_wine\",\"Asia/Vegetable/Watercress\",\"Europe/Vegetable/Artichoke\",\"Asia/Plant/Parsley\",\"North America/Plant/Geranium\",\"Asia/Nut/Walnut\",\"Africa/Legume/Peanut\",\"South America/Fish/Fish\",\"Europe/Vegetable/Asparagus\",\"South America/Edible oil/Vegetable_oil\",\"North America/Vegetable/Endive\",\"South America/Plant/Pecan\",\"Africa/Condiment/Vinegar\",\"Europe/Plant/Fennel\",\"South America/Plant/Basil\",\"South America/Condiment/Mustard\",\"Asia/Condiment/Vinegar\",\"Asia/Plant/Fenugreek\",\"Africa/Legume/Kidney_bean\",\"North America/Dairy product/Parmesan_cheese\",\"Europe/Plant/Pear\",\"North America/Condiment/Vinegar\",\"Asia/Dairy product/Feta_cheese\",\"Europe/Edible oil/Peanut_oil\",\"Asia/Plant/Fig\",\"North America/Spread/Peanut_butter\",\"Asia/Others/Katsuobushi\",\"Asia/Grain/Whole_grain_wheat_flour\",\"South America/Plant/Fig\",\"South America/Legume/Peanut\",\"Africa/Grain/Whole_grain_wheat_flour\",\"Europe/Condiment/Vinegar\",\"Europe/Fruit/Avocado\",\"Africa/Spice/Ginger\",\"South America/Plant/Papaya\",\"Asia/Plant/Orange_flower\",\"Asia/Grain/Wheat_bread\",\"Asia/Fruit/Apricot\",\"North America/Dairy product/Gruyere_cheese\",\"North America/Plant/Hop\",\"South America/Vegetable/Onion\",\"Asia/Fish/Haddock\",\"North America/Grain/White_bread\",\"Europe/Grain/Oatmeal\",\"Africa/Vegetable/Onion\",\"Africa/Alcohol/Whiskey\",\"Europe/Meat/Ham\",\"Europe/Grain/White_bread\",\"South America/Fruit/Apple\",\"Africa/Edible oil/Olive_oil\",\"Europe/Nut/Hazelnut\",\"North America/Alcohol/Whiskey\",\"Africa/Plant/Olive\",\"Africa/Grain/White_bread\",\"Europe/Plant/Holy_basil\",\"Asia/Grain/White_bread\",\"Asia/Beverage/Green_tea\",\"South America/Grain/Wheat\",\"Africa/Fruit/Orange_juice\",\"South America/Grain/White_bread\",\"South America/Vegetable/Watercress\",\"Europe/Alcohol/White_wine\",\"Africa/Dairy product/Goat_cheese\",\"Europe/Spice/Nutmeg\",\"Europe/Plant/Palm\",\"Europe/Alcohol/Armagnac\",\"Africa/Fruit/Grape\",\"North America/Animal/Oyster\",\"Asia/Alcohol/White_wine\",\"South America/Fruit/Grape\",\"North America/Plant/Jasmine\",\"South America/Plant/Oregano\",\"Europe/Plant/Huckleberry\",\"Africa/Grain/Wheat\",\"South America/Fruit/Orange_peel\",\"Asia/Grain/Wheat\",\"Africa/Fruit/Grapefruit\",\"Africa/Alcohol/White_wine\",\"Europe/Grain/Wheat\",\"South America/Fruit/Orange_juice\",\"Europe/Plant/Oat\",\"Asia/Plant/Green_bell_pepper\",\"Asia/Fruit/Grape_juice\",\"Europe/Grain/Whole_grain_wheat_flour\",\"Africa/Plant/Pecan\",\"Asia/Condiment/Mustard\",\"North America/Others/Corn_grit\",\"Asia/Dairy product/Provolone_cheese\",\"North America/Alcohol/Wine\",\"Africa/Spice/Vanilla\",\"Europe/Dairy product/Cottage_cheese\",\"South America/Animal/Prawn\",\"Asia/Animal/Crab\",\"Europe/Alcohol/Wine\",\"North America/Others/Potato_chip\",\"North America/Legume/Mung_bean\",\"North America/Grain/Corn_flake\",\"Europe/Fruit/Banana\",\"South America/Others/Potato\",\"Europe/Animal produce/Lard\",\"Asia/Dairy product/Cream\",\"Africa/Others/Potato\",\"South America/Spice/Vanilla\",\"North America/Spice/Pepper\",\"Asia/Alcohol/Wine\",\"Europe/Others/Baked_potato\",\"Asia/Dairy product/Cream_cheese\",\"North America/Meat/Pork_sausage\",\"Asia/Plant/Cranberry\",\"Europe/Plant/Lavender\",\"Asia/Fruit/Pumpkin\",\"South America/Grain/Corn\",\"Europe/Others/Wood\",\"North America/Legume/Red_kidney_bean\",\"North America/Edible oil/Coconut_oil\",\"North America/Legume/Red_bean\",\"Africa/Beverage/Coffee\",\"North America/Fruit/Raspberry\",\"Asia/Plant/Mint\",\"South America/Beverage/Coffee\",\"Africa/Fruit/Raspberry\",\"Asia/Plant/Leek\",\"Europe/Plant/Turmeric\",\"Asia/Others/Wood\",\"North America/Fruit/Concord_grape\",\"Asia/Fruit/Raisin\",\"North America/Plant/Turmeric\",\"North America/Plant/Bartlett_pear\",\"Asia/Vegetable/Radish\",\"South America/Alcohol/Wine\",\"South America/Plant/Coriander\",\"Asia/Dairy product/Mozzarella_cheese\",\"Asia/Fruit/Quince\",\"Europe/Grain/Barley\",\"Europe/Root vegetables/Turnip\",\"North America/Root vegetables/Sweet_potato\",\"Europe/Meat/Veal\",\"North America/Plant/Cilantro\",\"Africa/Fruit/Date\",\"North America/Grain/Whole_grain_wheat_flour\",\"Europe/Fungus/Mushroom\",\"Asia/Grain/Popcorn\",\"Africa/Plant/Currant\",\"South America/Animal produce/Egg\",\"Asia/Fruit/Kiwi\",\"Europe/Spice/Pimento\",\"North America/Vegetable/Vegetable\",\"North America/Fruit/Pineapple\",\"Europe/Fruit/Plum\",\"Asia/Plant/Kumquat\",\"South America/Fruit/Date\",\"Europe/Fruit/Pistachio\",\"South America/Grain/Whole_grain_wheat_flour\",\"Asia/Edible oil/Vegetable_oil\",\"North America/Fish/Eel\",\"Europe/Animal/Mussel\",\"North America/Plant/Dill\",\"Asia/Plant/Cucumber\",\"Europe/Vegetable/Vegetable\",\"Asia/Meat/Cured_pork\",\"Europe/Others/Egg_noodle\",\"North America/Animal produce/Pork_liver\",\"Europe/Plant/Elderberry\",\"Asia/Plant/Peppermint\",\"North America/Meat/Veal\",\"North America/Fruit/Muscat_grape\",\"South America/Others/Egg_noodle\",\"North America/Meat/Pork\",\"Europe/Meat/Lamb\",\"Asia/Plant/Cumin\",\"Africa/Edible oil/Vegetable_oil\",\"Europe/Meat/Bacon\",\"Europe/Fungus/Porcini\",\"Asia/Edible oil/Peppermint_oil\",\"Africa/Alcohol/Wine\",\"North America/Alcohol/Beer\",\"South America/Plant/Beet\",\"North America/Edible oil/Black_mustard_seed_oil\",\"North America/Plant/Basil\",\"North America/Fruit/Apple\",\"North America/Plant/Bay\",\"Africa/Fruit/Apricot\",\"South America/Alcohol/Tequila\",\"North America/Dairy product/Swiss_cheese\",\"North America/Plant/Anise_seed\",\"Asia/Fruit/Avocado\",\"North America/Fruit/Berry\",\"Asia/Fruit/Tomato_juice\",\"Asia/Vegetable/Artichoke\",\"Asia/Others/Baked_potato\",\"Asia/Fruit/Banana\",\"Europe/Plant/Anise\",\"North America/Plant/Tamarind\",\"Europe/Meat/Beef\",\"Asia/Vegetable/Asparagus\",\"South America/Others/Beef_broth\",\"Asia/Alcohol/Armagnac\",\"Asia/Beverage/Tea\",\"North America/Fruit/Watermelon\",\"Asia/Grain/Barley\",\"South America/Spice/Bell_pepper\",\"Europe/Plant/Almond\",\"North America/Beverage/Tea\",\"North America/Legume/Bean\",\"Asia/Meat/Bacon\",\"North America/Plant/Black_bean\",\"Europe/Plant/Bitter_orange\",\"Asia/Animal/Lobster\",\"North America/Edible oil/Sunflower_oil\",\"North America/Plant/Papaya\",\"South America/Spice/Ginger\",\"South America/Dairy product/Goat_cheese\",\"Europe/Animal/Oyster\",\"North America/Plant/Oregano\",\"South America/Fruit/Grape_juice\",\"North America/Fruit/Orange_peel\",\"North America/Alcohol/Gin\",\"Africa/Fruit/Orange_peel\",\"Africa/Beverage/Green_tea\",\"South America/Fruit/Orange\",\"Europe/Dairy product/Gruyere_cheese\",\"Asia/Fruit/Orange\",\"Asia/Meat/Ham\",\"South America/Edible oil/Olive_oil\",\"Asia/Nut/Hazelnut\",\"Africa/Plant/Green_bell_pepper\",\"South America/Condiment/Gelatin\",\"North America/Plant/Parsley\",\"South America/Plant/Garlic\",\"Asia/Animal produce/Egg\",\"Asia/Spice/Pimento\",\"Europe/Vegetable/Endive\",\"Africa/Spice/Pepper\",\"Asia/Plant/Fennel\",\"Europe/Alcohol/Pear_brandy\",\"Asia/Plant/Pear\",\"Africa/Dairy product/Feta_cheese\",\"Africa/Plant/Fig\",\"Europe/Spread/Peanut_butter\",\"North America/Fish/Fish\",\"South America/Plant/Peach\",\"Asia/Meat/Frankfurter\",\"Africa/Plant/Peach\",\"Europe/Fruit/Fruit\",\"Africa/Vegetable/Pea\",\"North America/Plant/Gardenia\",\"South America/Plant/Olive\",\"North America/Fish/Herring\",\"North America/Plant/Okra\",\"Europe/Animal/Octopus\",\"North America/Condiment/Lemon_juice\",\"North America/Fruit/Lemon_peel\",\"North America/Meat/Meat\",\"North America/Plant/Lemongrass\",\"North America/Vegetable/Lettuce\",\"North America/Condiment/Maple_syrup\",\"North America/Edible oil/Lilac_flower_oil\",\"Asia/Fruit/Mango\",\"South America/Legume/Lima_bean\",\"North America/Fruit/Mandarin\",\"North America/Fruit/Lime\",\"Europe/Grain/Malt\",\"North America/Fruit/Lime_juice\",\"North America/Spice/Mace\",\"North America/Grain/Macaroni\",\"Europe/Edible oil/Lime_peel_oil\",\"Africa/Grain/Macaroni\",\"Europe/Dairy product/Milk_fat\",\"Europe/Fruit/Pineapple\",\"Africa/Fruit/Lemon\",\"Africa/Dairy product/Mozzarella_cheese\",\"Europe/Plant/Hop\",\"Asia/Grain/Oatmeal\",\"North America/Plant/Horseradish\",\"Asia/Plant/Oat\",\"Asia/Plant/Jasmine\",\"Asia/Spice/Nutmeg\",\"South America/Fruit/Juniper_berry\",\"Asia/Fruit/Nut\",\"Europe/Fruit/Nectarine\",\"North America/Plant/Kale\",\"South America/Legume/Kidney_bean\",\"Africa/Condiment/Mustard\",\"North America/Vegetable/Kohlrabi\",\"Asia/Meat/Lamb\",\"Asia/Animal produce/Lard\",\"Asia/Legume/Mung_bean\",\"Asia/Plant/Lavender\",\"North America/Plant/Leaf\",\"Europe/Plant/Dill\",\"South America/Plant/Currant\",\"Asia/Fungus/Porcini\",\"Asia/Plant/Shallot\",\"South America/Spice/Cardamom\",\"Africa/Fruit/Carrot\",\"Africa/Nut/Cashew\",\"Europe/Plant/Cassava\",\"Asia/Vegetable/Cauliflower\",\"South America/Vegetable/Cauliflower\",\"Asia/Vegetable/Scallion\",\"South America/Spice/Cayenne\",\"Asia/Others/Savory\",\"Europe/Plant/Celery\",\"Africa/Vegetable/Sauerkraut\",\"Europe/Edible oil/Celery_oil\",\"Europe/Grain/Cereal\",\"Asia/Alcohol/Champagne_wine\",\"Europe/Plant/Chayote\",\"North America/Dairy product/Cheddar_cheese\",\"North America/Plant/Caraway\",\"Africa/Others/Rye_flour\",\"Asia/Alcohol/Sherry\",\"North America/Plant/Cacao\",\"Asia/Beverage/Black_tea\",\"North America/Fruit/Blackberry\",\"Africa/Dairy product/Blue_cheese\",\"Europe/Fruit/Strawberry\",\"Europe/Grain/Starch\",\"Asia/Plant/Blueberry\",\"North America/Edible oil/Bone_oil\",\"Asia/Grain/Bread\",\"Asia/Plant/Broccoli\",\"South America/Grain/Brown_rice\",\"Europe/Vegetable/Brussels_sprout\",\"Africa/Spread/Butter\",\"Africa/Dairy product/Buttermilk\",\"Europe/Fish/Smoked_salmon\",\"Africa/Vegetable/Cabbage\",\"Asia/Others/Smoke\",\"Asia/Alcohol/Cabernet_sauvignon_wine\",\"Europe/Condiment/Cane_molasses\",\"South America/Spice/Black_pepper\",\"North America/Dairy product/Cheese\",\"North America/Alcohol/Cherry_brandy\",\"Africa/Plant/Coriander\",\"North America/Plant/Coriander\",\"South America/Fruit/Pumpkin\",\"North America/Grain/Corn\",\"Africa/Dairy product/Provolone_cheese\",\"Asia/Dairy product/Cottage_cheese\",\"Europe/Others/Potato_chip\",\"Africa/Plant/Cranberry\",\"Europe/Dairy product/Cream\",\"North America/Alcohol/Port_wine\",\"Africa/Dairy product/Cream_cheese\",\"Africa/Alcohol/Port_wine\",\"Africa/Plant/Cucumber\",\"Europe/Animal produce/Pork_liver\",\"Africa/Plant/Cumin\",\"Europe/Meat/Pork\",\"South America/Plant/Cumin\",\"Africa/Fruit/Raisin\",\"South America/Alcohol/Rum\",\"North America/Alcohol/Cognac\",\"Europe/Edible oil/Coconut_oil\",\"Europe/Alcohol/Rum\",\"North America/Meat/Chicken\",\"Asia/Others/Chicken_broth\",\"Europe/Animal produce/Chicken_liver\",\"Asia/Plant/Root\",\"Asia/Plant/Chicory\",\"South America/Plant/Chive\",\"South America/Beverage/Cider\",\"Europe/Spice/Cinnamon\",\"Europe/Plant/Citrus\",\"South America/Meat/Roasted_beef\",\"Asia/Animal/Clam\",\"North America/Plant/Roasted_almond\",\"Europe/Grain/Rice\",\"Europe/Plant/Clove\",\"Europe/Fruit/Cocoa\",\"Europe/Fruit/Coconut\",\"North America/Plant/Rapeseed\",\"Europe/Plant/Lovage\",\"Africa/Alcohol\",\"Asia/Alcohol\",\"Europe/Alcohol\",\"North America/Alcohol\",\"South America/Alcohol\",\"Africa/Animal\",\"Asia/Animal\",\"Europe/Animal\",\"North America/Animal\",\"South America/Animal\",\"Africa/Animal produce\",\"Asia/Animal produce\",\"Europe/Animal produce\",\"North America/Animal produce\",\"South America/Animal produce\",\"Africa/Beverage\",\"Asia/Beverage\",\"Europe/Beverage\",\"North America/Beverage\",\"South America/Beverage\",\"Africa/Condiment\",\"Asia/Condiment\",\"Europe/Condiment\",\"North America/Condiment\",\"South America/Condiment\",\"Africa/Dairy product\",\"Asia/Dairy product\",\"Europe/Dairy product\",\"North America/Dairy product\",\"South America/Dairy product\",\"Africa/Edible oil\",\"Asia/Edible oil\",\"Europe/Edible oil\",\"North America/Edible oil\",\"South America/Edible oil\",\"Africa/Fish\",\"Asia/Fish\",\"Europe/Fish\",\"North America/Fish\",\"South America/Fish\",\"Africa/Fruit\",\"Asia/Fruit\",\"Europe/Fruit\",\"North America/Fruit\",\"South America/Fruit\",\"Africa/Fungus\",\"Asia/Fungus\",\"Europe/Fungus\",\"North America/Fungus\",\"South America/Fungus\",\"Africa/Grain\",\"Asia/Grain\",\"Europe/Grain\",\"North America/Grain\",\"South America/Grain\",\"Africa/Legume\",\"Asia/Legume\",\"Europe/Legume\",\"North America/Legume\",\"South America/Legume\",\"Africa/Meat\",\"Asia/Meat\",\"Europe/Meat\",\"North America/Meat\",\"South America/Meat\",\"Africa/Nut\",\"Asia/Nut\",\"Europe/Nut\",\"North America/Nut\",\"South America/Nut\",\"Africa/Others\",\"Asia/Others\",\"Europe/Others\",\"North America/Others\",\"South America/Others\",\"Africa/Plant\",\"Asia/Plant\",\"Europe/Plant\",\"North America/Plant\",\"South America/Plant\",\"Africa/Root vegetables\",\"Asia/Root vegetables\",\"Europe/Root vegetables\",\"North America/Root vegetables\",\"South America/Root vegetables\",\"Africa/Spice\",\"Asia/Spice\",\"Europe/Spice\",\"North America/Spice\",\"South America/Spice\",\"Africa/Spread\",\"Asia/Spread\",\"Europe/Spread\",\"North America/Spread\",\"South America/Spread\",\"Africa/Vegetable\",\"Asia/Vegetable\",\"Europe/Vegetable\",\"North America/Vegetable\",\"South America/Vegetable\",\"Africa\",\"Asia\",\"Europe\",\"North America\",\"South America\"],\"labels\":[\"Lobster\",\"Buttermilk\",\"Smoked_fish\",\"Cabbage\",\"Gin\",\"Parsley\",\"Cabernet_sauvignon_wine\",\"Gelatin\",\"Parsnip\",\"Camembert_cheese\",\"Garlic\",\"Sherry\",\"Passion_fruit\",\"Cane_molasses\",\"Galanga\",\"Pea\",\"Cardamom\",\"Frankfurter\",\"Fenugreek\",\"Cauliflower\",\"Pear\",\"Seaweed\",\"Catfish\",\"Feta_cheese\",\"Ginger\",\"Peanut_oil\",\"Fish\",\"Carrot\",\"Peanut\",\"Flower\",\"Carnation\",\"Shallot\",\"Cashew\",\"Smoked_sausage\",\"Parmesan_cheese\",\"Butter\",\"Squid\",\"Guava\",\"Bourbon_whiskey\",\"Orange\",\"Haddock\",\"Blueberry\",\"Brandy\",\"Starch\",\"Ham\",\"Blue_cheese\",\"Olive_oil\",\"Hazelnut\",\"Blackberry_brandy\",\"Strawberry_juice\",\"Onion\",\"Fennel\",\"Orange_flower\",\"Orange_juice\",\"Goat_cheese\",\"Palm\",\"Buckwheat\",\"Grape\",\"Soy_sauce\",\"Brown_rice\",\"Green_tea\",\"Grape_brandy\",\"Broccoli\",\"Oregano\",\"Grapefruit\",\"Bread\",\"Green_bell_pepper\",\"Brassica\",\"Ouzo\",\"Olive\",\"Caviar\",\"Cayenne\",\"Potato\",\"Chicory\",\"Cranberry\",\"Romano_cheese\",\"Prawn\",\"Roasted_sesame_seed\",\"Crab\",\"Cider\",\"Cottage_cheese\",\"Prickly_pear\",\"Roasted_peanut\",\"Cilantro\",\"Provolone_cheese\",\"Roasted_meat\",\"Corn_grit\",\"Cinnamon\",\"Roasted_meat\",\"Red_kidney_bean\",\"Coffee\",\"Raspberry\",\"Cognac\",\"Cocoa\",\"Raisin\",\"Roquefort_cheese\",\"Condiment\",\"Corn\",\"Clam\",\"Roasted_beef\",\"Quince\",\"Citrus\",\"Corn_flake\",\"Clove\",\"Chickpea\",\"Pork_sausage\",\"Cream_cheese\",\"Pineapple\",\"Sage\",\"Champagne_wine\",\"Egg\",\"Pimento\",\"Chamomile\",\"Cheddar_cheese\",\"Peppermint_oil\",\"Celery_oil\",\"Salmon_roe\",\"Celery\",\"Pelargonium\",\"Endive\",\"Savory\",\"Salmon\",\"Pecan\",\"Pistachio\",\"Date\",\"Chicken_broth\",\"Rose\",\"Pork_sausage\",\"Cucumber\",\"Chicken\",\"Porcini\",\"Cheese\",\"Chervil\",\"Cured_pork\",\"Cherry\",\"Currant\",\"Rye_bread\",\"Cherry\",\"Plum\",\"Rum\",\"Black_tea\",\"Cod\",\"Mushroom\",\"Beech\",\"Munster_cheese\",\"Artichoke\",\"Truffle\",\"Mango\",\"Lima_bean\",\"Beef\",\"Lamb\",\"Watermelon\",\"Mushroom\",\"Beef_broth\",\"Kumquat\",\"Armagnac\",\"Tomato\",\"Beer\",\"Mandarin_peel\",\"Apricot\",\"Kiwi\",\"Beet\",\"Mustard\",\"Wheat_bread\",\"Thai_pepper\",\"Mandarin\",\"Lard\",\"Lime_juice\",\"Licorice\",\"Mozzarella_cheese\",\"Lemon_peel\",\"Milk\",\"Veal\",\"Banana\",\"Lemongrass\",\"Vanilla\",\"Lemon_juice\",\"Bacon\",\"Milk\",\"Barley\",\"Meat\",\"Lentil\",\"Turmeric\",\"Basil\",\"Holy_basil\",\"Avocado\",\"Leek\",\"Turkey\",\"Violet\",\"Bay\",\"Mint\",\"Lavender\",\"Bean\",\"Asparagus\",\"Bell_pepper\",\"Baked_potato\",\"Kidney_bean\",\"Berry\",\"Macadamia_nut\",\"Kale\",\"Nut\",\"Lingonberry\",\"Tangerine\",\"Macadamia_nut\",\"Oat\",\"Litchi\",\"Anise\",\"Black_bean\",\"Huckleberry\",\"Yogurt\",\"Jasmine_tea\",\"Nutmeg\",\"Black_currant\",\"Tabasco_pepper\",\"Apple\",\"Horseradish\",\"Black_pepper\",\"Bergamot\",\"Almond\",\"Mutton\",\"Liver\",\"Okra\",\"Black_raspberry\",\"Apple_brandy\",\"Katsuobushi\",\"Macadamia_nut\",\"Dill\",\"Zucchini\",\"Lettuce\",\"Raw_beef\",\"Litchi\",\"Pistachio\",\"Mate\",\"Liver\",\"Plum\",\"Pistachio\",\"Meat\",\"Popcorn\",\"Raisin\",\"Concord_grape\",\"Lentil\",\"Date\",\"Coffee\",\"Lemongrass\",\"Pork\",\"Raspberry\",\"Currant\",\"Cured_pork\",\"Cumin\",\"Maple_syrup\",\"Coriander\",\"Corn_flake\",\"Melon\",\"Provolone_cheese\",\"Potato_chip\",\"Mace\",\"Crab\",\"Lime\",\"Mandarin\",\"Lime_peel_oil\",\"Prawn\",\"Cottage_cheese\",\"Mackerel\",\"Corn_grit\",\"Lime_juice\",\"Prickly_pear\",\"Mandarin_peel\",\"Marjoram\",\"Macaroni\",\"Cranberry\",\"Pork\",\"Radish\",\"Cucumber\",\"Corn_grit\",\"Quince\",\"Licorice\",\"Pork_sausage\",\"Cream_cheese\",\"Mango\",\"Corn\",\"Port_wine\",\"Lingonberry\",\"Cream\",\"Pumpkin\",\"Potato\",\"Lima_bean\",\"Honey\",\"Pecan\",\"Lemon_peel\",\"Oregano\",\"Grape_juice\",\"Kale\",\"Nira\",\"Grape_brandy\",\"Mutton\",\"Cod\",\"Grape\",\"Katsuobushi\",\"Palm\",\"Goat_cheese\",\"Papaya\",\"Kidney_bean\",\"Mustard\",\"Ginger\",\"Parmesan_cheese\",\"Parmesan_cheese\",\"Gin\",\"Kiwi\",\"Grapefruit\",\"Mussel\",\"Orange_peel\",\"Nut\",\"Okra\",\"Olive\",\"Herring\",\"Honey\",\"Oatmeal\",\"Olive_oil\",\"Ham\",\"Horseradish\",\"Onion\",\"Oat\",\"Haddock\",\"Jamaican_rum\",\"Guava\",\"Orange\",\"Nutmeg\",\"Green_tea\",\"Orange_flower\",\"Juniper_berry\",\"Green_bell_pepper\",\"Orange_juice\",\"Mussel\",\"Parsley\",\"Gelatin\",\"Pear\",\"Fennel\",\"Leek\",\"Milk_fat\",\"Enokidake\",\"Lemon\",\"Milk_fat\",\"Pepper\",\"Emmental_cheese\",\"Pepper\",\"Elderberry\",\"Peppermint\",\"Egg_noodle\",\"Lemon_juice\",\"Egg_noodle\",\"Pimenta\",\"Egg\",\"Milk\",\"Pineapple\",\"Fenugreek\",\"Mint\",\"Peanut_oil\",\"Leaf\",\"Parsnip\",\"Garlic\",\"Kumquat\",\"Mushroom\",\"Passion_fruit\",\"Galanga\",\"Pea\",\"Lamb\",\"Fruit\",\"Dill\",\"Munster_cheese\",\"Flower\",\"Peanut\",\"Lard\",\"Fish\",\"Mozzarella_cheese\",\"Peanut_butter\",\"Fig\",\"Peanut_butter\",\"Feta_cheese\",\"Peach\",\"Ouzo\",\"Almond\",\"Brussels_sprout\",\"Soybean\",\"Bread\",\"Soybean\",\"Brassica\",\"Spearmint\",\"Brandy\",\"Squash\",\"Brandy\",\"Squid\",\"Bourbon_whiskey\",\"Star_anise\",\"Bone_oil\",\"Starch\",\"Blue_cheese\",\"Strawberry\",\"Blackberry_brandy\",\"Sumac\",\"Blackberry\",\"Sunflower_oil\",\"Black_sesame_seed\",\"Sweet_potato\",\"Black_pepper\",\"Swiss_cheese\",\"Brown_rice\",\"Soy_sauce\",\"Red_kidney_bean\",\"Sour_milk\",\"Seaweed\",\"Seed\",\"Cashew\",\"Sesame_oil\",\"Carrot\",\"Sesame_oil\",\"Carob\",\"Sesame_seed\",\"Cardamom\",\"Shallot\",\"Shellfish\",\"Tabasco_pepper\",\"Caraway\",\"Cane_molasses\",\"Shiitake\",\"Cacao\",\"Cabbage\",\"Smoked_salmon\",\"Buttermilk\",\"Smoked_sausage\",\"Butter\",\"Smoked_sausage\",\"Buckwheat\",\"Sour_milk\",\"Sherry\",\"Black_currant\",\"Tamarind\",\"Black_bean\",\"Veal\",\"Bacon\",\"Vegetable\",\"Avocado\",\"Vegetable_oil\",\"Asparagus\",\"Walnut\",\"Wasabi\",\"Artichoke\",\"Watercress\",\"Artemisia\",\"Balm\",\"Watermelon\",\"Wheat_bread\",\"Apple_brandy\",\"Whiskey\",\"Wood\",\"Apple\",\"Yeast\",\"Anise_seed\",\"Yogurt\",\"Angelica\",\"Zucchini\",\"Zucchini\",\"Apricot\",\"Catfish\",\"Vanilla\",\"Turnip\",\"Tangerine\",\"Bitter_orange\",\"Tarragon\",\"Bergamot\",\"Tarragon\",\"Tequila\",\"Bell_pepper\",\"Thai_pepper\",\"Beet\",\"Thyme\",\"Beer\",\"Banana\",\"Beef_liver\",\"Tomato\",\"Beef_broth\",\"Tomato_juice\",\"Beef\",\"Tuna\",\"Tuna\",\"Bean\",\"Bay\",\"Turmeric\",\"Basil\",\"Bartlett_pear\",\"Tomato\",\"Cauliflower\",\"Rice\",\"Chickpea\",\"Cereal\",\"Chive\",\"Roasted_sesame_seed\",\"Clam\",\"Salmon\",\"Rum\",\"Chamomile\",\"Roasted_beef\",\"Chervil\",\"Sake\",\"Cider\",\"Citrus_peel\",\"Sage\",\"Chayote\",\"Rosemary\",\"Roasted_pork\",\"Rutabaga\",\"Saffron\",\"Cheddar_cheese\",\"Cherry_brandy\",\"Citrus\",\"Saffron\",\"Roasted_peanut\",\"Roasted_nut\",\"Cilantro\",\"Cinnamon\",\"Cheese\",\"Cherry\",\"Rye_bread\",\"Rye_flour\",\"Roasted_meat\",\"Rice\",\"Long_pepper\",\"Sassafras\",\"Coconut\",\"Celery\",\"Red_wine\",\"Chicken_broth\",\"Rhubarb\",\"Sauerkraut\",\"Rose\",\"Savory\",\"Scallop\",\"Root\",\"Roquefort_cheese\",\"Red_wine\",\"Cocoa\",\"Chicken\",\"Celery_oil\",\"Scallion\",\"Chinese_cabbage\",\"Cayenne\",\"Coconut\",\"Chickpea\",\"Tea\",\"Mutton\",\"Tuna\",\"Turkey\",\"Mint\",\"Turkey\",\"Tequila\",\"Romano_cheese\",\"Mussel\",\"Potato\",\"Thyme\",\"Potato_chip\",\"Mushroom\",\"Tomato\",\"Turmeric\",\"Roasted_pork\",\"Munster_cheese\",\"Romano_cheese\",\"Thyme\",\"Truffle\",\"Thai_pepper\",\"Tuna\",\"Prawn\",\"Roasted_sesame_seed\",\"Mozzarella_cheese\",\"Roasted_pecan\",\"Mint\",\"Pear_brandy\",\"Milk_fat\",\"Mango\",\"Watermelon\",\"Wheat\",\"Mandarin\",\"Radish\",\"Wheat_bread\",\"Rhubarb\",\"Malt\",\"Whiskey\",\"Mace\",\"Red_wine\",\"Macaroni\",\"Raisin\",\"Yam\",\"Yam\",\"Macadamia_nut\",\"Yogurt\",\"Red_wine\",\"Zucchini\",\"Red_kidney_bean\",\"Lovage\",\"Rice\",\"Prickly_pear\",\"Radish\",\"Maple_syrup\",\"Turnip\",\"Roasted_peanut\",\"Turnip\",\"Milk\",\"Vanilla\",\"Roasted_meat\",\"Veal\",\"Melon\",\"Port_wine\",\"Melon\",\"Vegetable\",\"Roasted_beef\",\"Vegetable\",\"Matsutake\",\"Vegetable_oil\",\"Pumpkin\",\"Marjoram\",\"Vinegar\",\"Marjoram\",\"Roasted_almond\",\"Walnut\",\"Watercress\",\"Pumpkin\",\"Oat\",\"Tarragon\",\"Shiitake\",\"Shiitake\",\"Parsnip\",\"Peppermint\",\"Shrimp\",\"Shrimp\",\"Smoke\",\"Parsley\",\"Smoke\",\"Sake\",\"Parmesan_cheese\",\"Smoked_salmon\",\"Pimento\",\"Papaya\",\"Smoked_sausage\",\"Sake\",\"Sour_cherry\",\"Palm\",\"Sour_milk\",\"Pineapple\",\"Oyster\",\"Salmon\",\"Parsnip\",\"Sherry\",\"Peppermint\",\"Scallop\",\"Sea_algae\",\"Pear\",\"Scallion\",\"Seed\",\"Peanut_oil\",\"Scallion\",\"Seed\",\"Peanut_butter\",\"Pecan\",\"Sage\",\"Sesame_oil\",\"Sesame_seed\",\"Sesame_seed\",\"Savory\",\"Peach\",\"Pea\",\"Shallot\",\"Pepper\",\"Sauerkraut\",\"Sheep_cheese\",\"Passion_fruit\",\"Peanut\",\"Nectarine\",\"Soy_sauce\",\"Soy_sauce\",\"Sturgeon_caviar\",\"Okra\",\"Sumac\",\"Rosemary\",\"Sweet_potato\",\"Pork\",\"Sweet_potato\",\"Octopus\",\"Oatmeal\",\"Swiss_cheese\",\"Pork_liver\",\"Tabasco_pepper\",\"Rosemary\",\"Tabasco_pepper\",\"Nutmeg\",\"Pork_sausage\",\"Tamarind\",\"Rose\",\"Nut\",\"Tangerine\",\"Roquefort_cheese\",\"Popcorn\",\"Olive\",\"Rum\",\"Strawberry\",\"Pistachio\",\"Soybean\",\"Orange_peel\",\"Saffron\",\"Soybean_oil\",\"Orange_juice\",\"Spearmint\",\"Rye_flour\",\"Squash\",\"Orange_flower\",\"Oregano\",\"Plum\",\"Rye_bread\",\"Orange\",\"Squid\",\"Rutabaga\",\"Onion\",\"Star_anise\",\"Popcorn\",\"Starch\",\"Olive_oil\",\"Strawberry\",\"Squash\",\"Red_algae\",\"Zucchini\",\"Cream_cheese\",\"Egg\",\"Bacon\",\"Durian\",\"Dill\",\"Date\",\"Currant\",\"Cured_pork\",\"Cumin\",\"Baked_potato\",\"Cucumber\",\"Banana\",\"Cream\",\"Egg_noodle\",\"Cream\",\"Crab\",\"Crab\",\"Cottage_cheese\",\"Corn_flake\",\"Corn\",\"Bartlett_pear\",\"Coriander\",\"Concord_grape\",\"Basil\",\"Coffee\",\"Cod\",\"Coconut_oil\",\"Barley\",\"Elderberry\",\"Endive\",\"Fennel\",\"Hazelnut\",\"Apple_brandy\",\"Ham\",\"Guava\",\"Gruyere_cheese\",\"Green_bell_pepper\",\"Apricot\",\"Grapefruit\",\"Grape_juice\",\"Grape_juice\",\"Grape\",\"Goat_cheese\",\"Artichoke\",\"Ginger\",\"Gin\",\"Gelatin\",\"Garlic\",\"Asparagus\",\"Galanga\",\"Fruit\",\"Flower\",\"Fish\",\"Fig\",\"Avocado\",\"Feta_cheese\",\"Fenugreek\",\"Fenugreek\",\"Coconut\",\"Herring\",\"Cocoa\",\"Clove\",\"Carrot\",\"Carob\",\"Cardamom\",\"Caraway\",\"Cane_molasses\",\"Berry\",\"Cacao\",\"Cabbage\",\"Buttermilk\",\"Bitter_orange\",\"Butter\",\"Buckwheat\",\"Bell_pepper\",\"Brussels_sprout\",\"Black_bean\",\"Broccoli\",\"Bread\",\"Brassica\",\"Brandy\",\"Bourbon_whiskey\",\"Bone_oil\",\"Blueberry\",\"Black_mustard_seed_oil\",\"Blackberry_brandy\",\"Blackberry\",\"Black_tea\",\"Brown_rice\",\"Cassava\",\"Catfish\",\"Cauliflower\",\"Clam\",\"Bean\",\"Citrus\",\"Cinnamon\",\"Cilantro\",\"Cider\",\"Beef\",\"Chive\",\"Chive\",\"Chickpea\",\"Chicken_liver\",\"Chicken_broth\",\"Chicken\",\"Beef_broth\",\"Cherry_brandy\",\"Cherry\",\"Cheese\",\"Beef_liver\",\"Cheddar_cheese\",\"Chayote\",\"Champagne_wine\",\"Beer\",\"Cereal\",\"Celery_oil\",\"Celery\",\"Beet\",\"Cayenne\",\"Bay\",\"Honey\",\"Black_pepper\",\"Anise\",\"Lemon_juice\",\"Horseradish\",\"Kelp\",\"Lingonberry\",\"Lentil\",\"Kale\",\"Leaf\",\"Almond\",\"Lime\",\"Lime_peel_oil\",\"Lettuce\",\"Lamb\",\"Laurel\",\"Lemon_peel\",\"Anise_seed\",\"Lima_bean\",\"Japanese_plum\",\"Leek\",\"Licorice\",\"Lemongrass\",\"Lobster\",\"Kohlrabi\",\"Liver\",\"Lime_juice\",\"Lemon\",\"Juniper_berry\",\"Lard\",\"Kidney_bean\",\"Honey\",\"Apple\",\"Rosemary\",\"Rye_flour\",\"Rutabaga\",\"Cheese\",\"Meat\",\"Chervil\",\"Rye_bread\",\"Marjoram\",\"Tomato_juice\",\"Lentil\",\"Beef_broth\",\"Cherry\",\"Honey\",\"Saffron\",\"Thyme\",\"Sauerkraut\",\"Celery\",\"Maple_syrup\",\"Thyme\",\"Salmon_roe\",\"Celery_oil\",\"Lettuce\",\"Salmon\",\"Cheddar_cheese\",\"Yeast\",\"Marjoram\",\"Sake\",\"Beef_liver\",\"Champagne_wine\",\"Chicken\",\"Tomato\",\"Sage\",\"Chayote\",\"Lettuce\",\"Cereal\",\"Sage\",\"Yam\",\"Rosemary\",\"Lobster\",\"Yam\",\"Roasted_meat\",\"Cinnamon\",\"Tuna\",\"Roasted_hazelnut\",\"Milk\",\"Citrus\",\"Lemon\",\"Roasted_peanut\",\"Bay\",\"Turkey\",\"Clam\",\"Rice\",\"Lemon\",\"Clove\",\"Rhubarb\",\"Turkey\",\"Octopus\",\"Cocoa\",\"Roasted_beef\",\"Lemon_juice\",\"Cilantro\",\"Bean\",\"Tomato_juice\",\"Chicken_broth\",\"Rose\",\"Beer\",\"Rose\",\"Beef\",\"Chicken_liver\",\"Chickpea\",\"Meat\",\"Root\",\"Truffle\",\"Romano_cheese\",\"Chicory\",\"Lemon_peel\",\"Romano_cheese\",\"Chive\",\"Anise_seed\",\"Roasted_sesame_seed\",\"Cider\",\"Melon\",\"Roasted_pork\",\"Tomato_juice\",\"Savory\",\"Mango\",\"Cayenne\",\"Squash\",\"Lime_peel_oil\",\"Squash\",\"Brassica\",\"Soybean_oil\",\"Tamarind\",\"Bread\",\"Soybean\",\"Almond\",\"Soybean\",\"Macaroni\",\"Broccoli\",\"Soy_sauce\",\"Brown_rice\",\"Bitter_orange\",\"Lime_juice\",\"Sour_milk\",\"Brussels_sprout\",\"Sour_cherry\",\"Yogurt\",\"Sour_cherry\",\"Brandy\",\"Tamarind\",\"Squid\",\"Bourbon_whiskey\",\"Black_raspberry\",\"Sweet_potato\",\"Black_pepper\",\"Swiss_cheese\",\"Sunflower_oil\",\"Black_tea\",\"Lovage\",\"Sumac\",\"Blackberry\",\"Strawberry_jam\",\"Liver\",\"Strawberry\",\"Blue_cheese\",\"Starch\",\"Litchi\",\"Tabasco_pepper\",\"Black_bean\",\"Blueberry\",\"Star_anise\",\"Macadamia_nut\",\"Star_anise\",\"Bourbon_whiskey\",\"Butter\",\"Mace\",\"Smoked_salmon\",\"Sesame_seed\",\"Tequila\",\"Sesame_oil\",\"Carrot\",\"Lime\",\"Yeast\",\"Seed\",\"Cashew\",\"Seed\",\"Bell_pepper\",\"Cassava\",\"Yeast\",\"Seaweed\",\"Catfish\",\"Scallop\",\"Scallop\",\"Milk_fat\",\"Caviar\",\"Scallion\",\"Thai_pepper\",\"Lima_bean\",\"Mandarin\",\"Sesame_seed\",\"Carnation\",\"Anise\",\"Yogurt\",\"Buttermilk\",\"Smoked_fish\",\"Cabbage\",\"Smoke\",\"Tarragon\",\"Shrimp\",\"Berry\",\"Shrimp\",\"Cabernet_sauvignon_wine\",\"Yeast\",\"Shrimp\",\"Lime\",\"Shiitake\",\"Camembert_cheese\",\"Tarragon\",\"Sherry\",\"Bergamot\",\"Cane_molasses\",\"Sheep_cheese\",\"Cardamom\",\"Shallot\",\"Malt\",\"Red_wine\",\"Rhubarb\",\"Coconut\",\"Nectarine\",\"Walnut\",\"Peach\",\"Frankfurter\",\"Walnut\",\"Pea\",\"Wasabi\",\"Fruit\",\"Kaffir_lime\",\"White_wine\",\"Passion_fruit\",\"Garlic\",\"Nut\",\"Wasabi\",\"Parsnip\",\"Gelatin\",\"White_wine\",\"Watercress\",\"Artichoke\",\"Parsley\",\"Geranium\",\"Walnut\",\"Peanut\",\"Fish\",\"Asparagus\",\"Vegetable_oil\",\"Endive\",\"Pecan\",\"Vinegar\",\"Fennel\",\"Basil\",\"Mustard\",\"Vinegar\",\"Fenugreek\",\"Kidney_bean\",\"Parmesan_cheese\",\"Pear\",\"Vinegar\",\"Feta_cheese\",\"Peanut_oil\",\"Fig\",\"Peanut_butter\",\"Katsuobushi\",\"Whole_grain_wheat_flour\",\"Fig\",\"Peanut\",\"Whole_grain_wheat_flour\",\"Vinegar\",\"Avocado\",\"Ginger\",\"Papaya\",\"Orange_flower\",\"Wheat_bread\",\"Apricot\",\"Gruyere_cheese\",\"Hop\",\"Onion\",\"Haddock\",\"White_bread\",\"Oatmeal\",\"Onion\",\"Whiskey\",\"Ham\",\"White_bread\",\"Apple\",\"Olive_oil\",\"Hazelnut\",\"Whiskey\",\"Olive\",\"White_bread\",\"Holy_basil\",\"White_bread\",\"Green_tea\",\"Wheat\",\"Orange_juice\",\"White_bread\",\"Watercress\",\"White_wine\",\"Goat_cheese\",\"Nutmeg\",\"Palm\",\"Armagnac\",\"Grape\",\"Oyster\",\"White_wine\",\"Grape\",\"Jasmine\",\"Oregano\",\"Huckleberry\",\"Wheat\",\"Orange_peel\",\"Wheat\",\"Grapefruit\",\"White_wine\",\"Wheat\",\"Orange_juice\",\"Oat\",\"Green_bell_pepper\",\"Grape_juice\",\"Whole_grain_wheat_flour\",\"Pecan\",\"Mustard\",\"Corn_grit\",\"Provolone_cheese\",\"Wine\",\"Vanilla\",\"Cottage_cheese\",\"Prawn\",\"Crab\",\"Wine\",\"Potato_chip\",\"Mung_bean\",\"Corn_flake\",\"Banana\",\"Potato\",\"Lard\",\"Cream\",\"Potato\",\"Vanilla\",\"Pepper\",\"Wine\",\"Baked_potato\",\"Cream_cheese\",\"Pork_sausage\",\"Cranberry\",\"Lavender\",\"Pumpkin\",\"Corn\",\"Wood\",\"Red_kidney_bean\",\"Coconut_oil\",\"Red_bean\",\"Coffee\",\"Raspberry\",\"Mint\",\"Coffee\",\"Raspberry\",\"Leek\",\"Turmeric\",\"Wood\",\"Concord_grape\",\"Raisin\",\"Turmeric\",\"Bartlett_pear\",\"Radish\",\"Wine\",\"Coriander\",\"Mozzarella_cheese\",\"Quince\",\"Barley\",\"Turnip\",\"Sweet_potato\",\"Veal\",\"Cilantro\",\"Date\",\"Whole_grain_wheat_flour\",\"Mushroom\",\"Popcorn\",\"Currant\",\"Egg\",\"Kiwi\",\"Pimento\",\"Vegetable\",\"Pineapple\",\"Plum\",\"Kumquat\",\"Date\",\"Pistachio\",\"Whole_grain_wheat_flour\",\"Vegetable_oil\",\"Eel\",\"Mussel\",\"Dill\",\"Cucumber\",\"Vegetable\",\"Cured_pork\",\"Egg_noodle\",\"Pork_liver\",\"Elderberry\",\"Peppermint\",\"Veal\",\"Muscat_grape\",\"Egg_noodle\",\"Pork\",\"Lamb\",\"Cumin\",\"Vegetable_oil\",\"Bacon\",\"Porcini\",\"Peppermint_oil\",\"Wine\",\"Beer\",\"Beet\",\"Black_mustard_seed_oil\",\"Basil\",\"Apple\",\"Bay\",\"Apricot\",\"Tequila\",\"Swiss_cheese\",\"Anise_seed\",\"Avocado\",\"Berry\",\"Tomato_juice\",\"Artichoke\",\"Baked_potato\",\"Banana\",\"Anise\",\"Tamarind\",\"Beef\",\"Asparagus\",\"Beef_broth\",\"Armagnac\",\"Tea\",\"Watermelon\",\"Barley\",\"Bell_pepper\",\"Almond\",\"Tea\",\"Bean\",\"Bacon\",\"Black_bean\",\"Bitter_orange\",\"Lobster\",\"Sunflower_oil\",\"Papaya\",\"Ginger\",\"Goat_cheese\",\"Oyster\",\"Oregano\",\"Grape_juice\",\"Orange_peel\",\"Gin\",\"Orange_peel\",\"Green_tea\",\"Orange\",\"Gruyere_cheese\",\"Orange\",\"Ham\",\"Olive_oil\",\"Hazelnut\",\"Green_bell_pepper\",\"Gelatin\",\"Parsley\",\"Garlic\",\"Egg\",\"Pimento\",\"Endive\",\"Pepper\",\"Fennel\",\"Pear_brandy\",\"Pear\",\"Feta_cheese\",\"Fig\",\"Peanut_butter\",\"Fish\",\"Peach\",\"Frankfurter\",\"Peach\",\"Fruit\",\"Pea\",\"Gardenia\",\"Olive\",\"Herring\",\"Okra\",\"Octopus\",\"Lemon_juice\",\"Lemon_peel\",\"Meat\",\"Lemongrass\",\"Lettuce\",\"Maple_syrup\",\"Lilac_flower_oil\",\"Mango\",\"Lima_bean\",\"Mandarin\",\"Lime\",\"Malt\",\"Lime_juice\",\"Mace\",\"Macaroni\",\"Lime_peel_oil\",\"Macaroni\",\"Milk_fat\",\"Pineapple\",\"Lemon\",\"Mozzarella_cheese\",\"Hop\",\"Oatmeal\",\"Horseradish\",\"Oat\",\"Jasmine\",\"Nutmeg\",\"Juniper_berry\",\"Nut\",\"Nectarine\",\"Kale\",\"Kidney_bean\",\"Mustard\",\"Kohlrabi\",\"Lamb\",\"Lard\",\"Mung_bean\",\"Lavender\",\"Leaf\",\"Dill\",\"Currant\",\"Porcini\",\"Shallot\",\"Cardamom\",\"Carrot\",\"Cashew\",\"Cassava\",\"Cauliflower\",\"Cauliflower\",\"Scallion\",\"Cayenne\",\"Savory\",\"Celery\",\"Sauerkraut\",\"Celery_oil\",\"Cereal\",\"Champagne_wine\",\"Chayote\",\"Cheddar_cheese\",\"Caraway\",\"Rye_flour\",\"Sherry\",\"Cacao\",\"Black_tea\",\"Blackberry\",\"Blue_cheese\",\"Strawberry\",\"Starch\",\"Blueberry\",\"Bone_oil\",\"Bread\",\"Broccoli\",\"Brown_rice\",\"Brussels_sprout\",\"Butter\",\"Buttermilk\",\"Smoked_salmon\",\"Cabbage\",\"Smoke\",\"Cabernet_sauvignon_wine\",\"Cane_molasses\",\"Black_pepper\",\"Cheese\",\"Cherry_brandy\",\"Coriander\",\"Coriander\",\"Pumpkin\",\"Corn\",\"Provolone_cheese\",\"Cottage_cheese\",\"Potato_chip\",\"Cranberry\",\"Cream\",\"Port_wine\",\"Cream_cheese\",\"Port_wine\",\"Cucumber\",\"Pork_liver\",\"Cumin\",\"Pork\",\"Cumin\",\"Raisin\",\"Rum\",\"Cognac\",\"Coconut_oil\",\"Rum\",\"Chicken\",\"Chicken_broth\",\"Chicken_liver\",\"Root\",\"Chicory\",\"Chive\",\"Cider\",\"Cinnamon\",\"Citrus\",\"Roasted_beef\",\"Clam\",\"Roasted_almond\",\"Rice\",\"Clove\",\"Cocoa\",\"Coconut\",\"Rapeseed\",\"Lovage\",\"Alcohol\",\"Alcohol\",\"Alcohol\",\"Alcohol\",\"Alcohol\",\"Animal\",\"Animal\",\"Animal\",\"Animal\",\"Animal\",\"Animal produce\",\"Animal produce\",\"Animal produce\",\"Animal produce\",\"Animal produce\",\"Beverage\",\"Beverage\",\"Beverage\",\"Beverage\",\"Beverage\",\"Condiment\",\"Condiment\",\"Condiment\",\"Condiment\",\"Condiment\",\"Dairy product\",\"Dairy product\",\"Dairy product\",\"Dairy product\",\"Dairy product\",\"Edible oil\",\"Edible oil\",\"Edible oil\",\"Edible oil\",\"Edible oil\",\"Fish\",\"Fish\",\"Fish\",\"Fish\",\"Fish\",\"Fruit\",\"Fruit\",\"Fruit\",\"Fruit\",\"Fruit\",\"Fungus\",\"Fungus\",\"Fungus\",\"Fungus\",\"Fungus\",\"Grain\",\"Grain\",\"Grain\",\"Grain\",\"Grain\",\"Legume\",\"Legume\",\"Legume\",\"Legume\",\"Legume\",\"Meat\",\"Meat\",\"Meat\",\"Meat\",\"Meat\",\"Nut\",\"Nut\",\"Nut\",\"Nut\",\"Nut\",\"Others\",\"Others\",\"Others\",\"Others\",\"Others\",\"Plant\",\"Plant\",\"Plant\",\"Plant\",\"Plant\",\"Root vegetables\",\"Root vegetables\",\"Root vegetables\",\"Root vegetables\",\"Root vegetables\",\"Spice\",\"Spice\",\"Spice\",\"Spice\",\"Spice\",\"Spread\",\"Spread\",\"Spread\",\"Spread\",\"Spread\",\"Vegetable\",\"Vegetable\",\"Vegetable\",\"Vegetable\",\"Vegetable\",\"Africa\",\"Asia\",\"Europe\",\"North America\",\"South America\"],\"marker\":{\"colors\":[\"#66c2a5\",\"pink\",\"#66c2a5\",\"pink\",\"#f1a340\",\"pink\",\"#66c2a5\",\"lightgray\",\"pink\",\"#66c2a5\",\"lightgray\",\"#998ec3\",\"pink\",\"#998ec3\",\"lightgray\",\"pink\",\"lightgray\",\"#66c2a5\",\"pink\",\"#f1a340\",\"#66c2a5\",\"pink\",\"#f1a340\",\"pink\",\"lightgray\",\"#66c2a5\",\"#f1a340\",\"pink\",\"lightgray\",\"lightgray\",\"#66c2a5\",\"#f1a340\",\"pink\",\"lightgray\",\"#f1a340\",\"pink\",\"pink\",\"lightgray\",\"lightgray\",\"#f1a340\",\"pink\",\"#66c2a5\",\"#f1a340\",\"#f1a340\",\"#66c2a5\",\"pink\",\"lightgray\",\"#66c2a5\",\"lightgray\",\"#66c2a5\",\"lightgray\",\"#66c2a5\",\"pink\",\"lightgray\",\"lightgray\",\"#66c2a5\",\"lightgray\",\"lightgray\",\"#f1a340\",\"#66c2a5\",\"pink\",\"lightgray\",\"#66c2a5\",\"#f1a340\",\"lightgray\",\"#66c2a5\",\"pink\",\"#66c2a5\",\"#66c2a5\",\"lightgray\",\"#66c2a5\",\"#66c2a5\",\"lightgray\",\"#66c2a5\",\"pink\",\"lightgray\",\"lightgray\",\"pink\",\"pink\",\"lightgray\",\"#66c2a5\",\"lightgray\",\"pink\",\"#998ec3\",\"pink\",\"#998ec3\",\"lightgray\",\"#998ec3\",\"#f1a340\",\"#998ec3\",\"lightgray\",\"lightgray\",\"pink\",\"#998ec3\",\"pink\",\"lightgray\",\"#66c2a5\",\"#f1a340\",\"#66c2a5\",\"lightgray\",\"pink\",\"#998ec3\",\"#f1a340\",\"#998ec3\",\"#f1a340\",\"#998ec3\",\"pink\",\"#998ec3\",\"#66c2a5\",\"#66c2a5\",\"#f1a340\",\"#66c2a5\",\"pink\",\"#f1a340\",\"#66c2a5\",\"#998ec3\",\"#66c2a5\",\"#998ec3\",\"#66c2a5\",\"#998ec3\",\"#66c2a5\",\"pink\",\"lightgray\",\"#66c2a5\",\"lightgray\",\"#66c2a5\",\"#66c2a5\",\"#f1a340\",\"pink\",\"pink\",\"#66c2a5\",\"#f1a340\",\"pink\",\"pink\",\"#998ec3\",\"lightgray\",\"lightgray\",\"#f1a340\",\"#66c2a5\",\"lightgray\",\"#66c2a5\",\"lightgray\",\"#998ec3\",\"#66c2a5\",\"pink\",\"#66c2a5\",\"#66c2a5\",\"#66c2a5\",\"lightgray\",\"#998ec3\",\"#66c2a5\",\"#f1a340\",\"#f1a340\",\"#66c2a5\",\"pink\",\"#66c2a5\",\"lightgray\",\"#f1a340\",\"lightgray\",\"pink\",\"pink\",\"lightgray\",\"pink\",\"pink\",\"pink\",\"#f1a340\",\"#66c2a5\",\"#f1a340\",\"lightgray\",\"pink\",\"#f1a340\",\"#f1a340\",\"#998ec3\",\"#66c2a5\",\"#f1a340\",\"lightgray\",\"#f1a340\",\"#66c2a5\",\"#998ec3\",\"#66c2a5\",\"lightgray\",\"lightgray\",\"#998ec3\",\"#f1a340\",\"#66c2a5\",\"#66c2a5\",\"pink\",\"#998ec3\",\"#66c2a5\",\"#f1a340\",\"pink\",\"#66c2a5\",\"#f1a340\",\"#66c2a5\",\"lightgray\",\"#66c2a5\",\"lightgray\",\"pink\",\"#f1a340\",\"#f1a340\",\"#66c2a5\",\"lightgray\",\"pink\",\"#998ec3\",\"#66c2a5\",\"pink\",\"#998ec3\",\"#f1a340\",\"#66c2a5\",\"lightgray\",\"#66c2a5\",\"#66c2a5\",\"pink\",\"#66c2a5\",\"#f1a340\",\"#f1a340\",\"lightgray\",\"pink\",\"#998ec3\",\"lightgray\",\"#66c2a5\",\"#f1a340\",\"#66c2a5\",\"lightgray\",\"pink\",\"lightgray\",\"#f1a340\",\"#66c2a5\",\"lightgray\",\"#66c2a5\",\"#66c2a5\",\"#f1a340\",\"#66c2a5\",\"#998ec3\",\"#998ec3\",\"#998ec3\",\"pink\",\"pink\",\"#66c2a5\",\"lightgray\",\"pink\",\"pink\",\"pink\",\"lightgray\",\"#f1a340\",\"pink\",\"pink\",\"#66c2a5\",\"pink\",\"pink\",\"lightgray\",\"lightgray\",\"lightgray\",\"#66c2a5\",\"#f1a340\",\"lightgray\",\"#66c2a5\",\"lightgray\",\"lightgray\",\"#f1a340\",\"pink\",\"#998ec3\",\"#66c2a5\",\"pink\",\"lightgray\",\"pink\",\"#66c2a5\",\"pink\",\"lightgray\",\"#66c2a5\",\"#998ec3\",\"pink\",\"#66c2a5\",\"#998ec3\",\"#66c2a5\",\"pink\",\"lightgray\",\"#66c2a5\",\"#998ec3\",\"lightgray\",\"lightgray\",\"pink\",\"#66c2a5\",\"pink\",\"pink\",\"pink\",\"#f1a340\",\"pink\",\"lightgray\",\"lightgray\",\"pink\",\"lightgray\",\"#66c2a5\",\"#66c2a5\",\"#66c2a5\",\"pink\",\"pink\",\"#66c2a5\",\"#f1a340\",\"pink\",\"lightgray\",\"pink\",\"#66c2a5\",\"pink\",\"lightgray\",\"#998ec3\",\"lightgray\",\"#66c2a5\",\"pink\",\"#66c2a5\",\"lightgray\",\"#998ec3\",\"lightgray\",\"pink\",\"lightgray\",\"#66c2a5\",\"#66c2a5\",\"pink\",\"#998ec3\",\"lightgray\",\"pink\",\"#998ec3\",\"#66c2a5\",\"#66c2a5\",\"pink\",\"pink\",\"#998ec3\",\"#66c2a5\",\"#66c2a5\",\"pink\",\"#66c2a5\",\"pink\",\"lightgray\",\"#998ec3\",\"pink\",\"#998ec3\",\"#998ec3\",\"#66c2a5\",\"#998ec3\",\"#66c2a5\",\"pink\",\"#f1a340\",\"lightgray\",\"#66c2a5\",\"#998ec3\",\"lightgray\",\"pink\",\"#66c2a5\",\"lightgray\",\"#f1a340\",\"lightgray\",\"pink\",\"lightgray\",\"#f1a340\",\"#66c2a5\",\"#66c2a5\",\"#998ec3\",\"lightgray\",\"#66c2a5\",\"pink\",\"#66c2a5\",\"lightgray\",\"#66c2a5\",\"pink\",\"#66c2a5\",\"#998ec3\",\"#f1a340\",\"#998ec3\",\"#66c2a5\",\"pink\",\"pink\",\"#998ec3\",\"lightgray\",\"#66c2a5\",\"#f1a340\",\"pink\",\"#998ec3\",\"#66c2a5\",\"pink\",\"#998ec3\",\"#f1a340\",\"#f1a340\",\"#f1a340\",\"#998ec3\",\"#998ec3\",\"#998ec3\",\"#66c2a5\",\"#998ec3\",\"#66c2a5\",\"lightgray\",\"#66c2a5\",\"pink\",\"pink\",\"lightgray\",\"lightgray\",\"#66c2a5\",\"#998ec3\",\"pink\",\"pink\",\"lightgray\",\"pink\",\"#66c2a5\",\"#998ec3\",\"pink\",\"lightgray\",\"#f1a340\",\"pink\",\"lightgray\",\"#66c2a5\",\"#66c2a5\",\"lightgray\",\"#66c2a5\",\"#f1a340\",\"#66c2a5\",\"pink\",\"lightgray\",\"#998ec3\",\"pink\",\"#998ec3\",\"#66c2a5\",\"lightgray\",\"lightgray\",\"#f1a340\",\"pink\",\"lightgray\",\"#66c2a5\",\"#f1a340\",\"#66c2a5\",\"#f1a340\",\"#66c2a5\",\"#66c2a5\",\"pink\",\"#f1a340\",\"#66c2a5\",\"#66c2a5\",\"lightgray\",\"lightgray\",\"lightgray\",\"#998ec3\",\"lightgray\",\"#998ec3\",\"#66c2a5\",\"#998ec3\",\"#f1a340\",\"pink\",\"#998ec3\",\"#66c2a5\",\"#66c2a5\",\"#66c2a5\",\"pink\",\"#998ec3\",\"pink\",\"pink\",\"#66c2a5\",\"lightgray\",\"#f1a340\",\"lightgray\",\"pink\",\"#66c2a5\",\"#f1a340\",\"pink\",\"#66c2a5\",\"lightgray\",\"#66c2a5\",\"lightgray\",\"lightgray\",\"#f1a340\",\"lightgray\",\"#66c2a5\",\"#998ec3\",\"pink\",\"pink\",\"#f1a340\",\"pink\",\"#66c2a5\",\"lightgray\",\"#998ec3\",\"lightgray\",\"#998ec3\",\"#f1a340\",\"#998ec3\",\"#f1a340\",\"lightgray\",\"#66c2a5\",\"lightgray\",\"lightgray\",\"#f1a340\",\"lightgray\",\"lightgray\",\"pink\",\"pink\",\"#998ec3\",\"lightgray\",\"#f1a340\",\"pink\",\"#66c2a5\",\"#998ec3\",\"#f1a340\",\"#f1a340\",\"#66c2a5\",\"pink\",\"#66c2a5\",\"pink\",\"pink\",\"#66c2a5\",\"#998ec3\",\"#f1a340\",\"pink\",\"pink\",\"pink\",\"#998ec3\",\"lightgray\",\"lightgray\",\"#f1a340\",\"pink\",\"#66c2a5\",\"#66c2a5\",\"lightgray\",\"#f1a340\",\"lightgray\",\"lightgray\",\"pink\",\"pink\",\"lightgray\",\"#f1a340\",\"#66c2a5\",\"#66c2a5\",\"#f1a340\",\"#f1a340\",\"#66c2a5\",\"#998ec3\",\"lightgray\",\"#66c2a5\",\"#998ec3\",\"#998ec3\",\"lightgray\",\"#66c2a5\",\"#66c2a5\",\"#f1a340\",\"#f1a340\",\"#998ec3\",\"#f1a340\",\"#66c2a5\",\"#66c2a5\",\"#f1a340\",\"#998ec3\",\"#66c2a5\",\"pink\",\"pink\",\"#998ec3\",\"lightgray\",\"#998ec3\",\"pink\",\"#66c2a5\",\"#998ec3\",\"#998ec3\",\"#66c2a5\",\"#998ec3\",\"lightgray\",\"#66c2a5\",\"#66c2a5\",\"lightgray\",\"#66c2a5\",\"#998ec3\",\"pink\",\"lightgray\",\"lightgray\",\"#66c2a5\",\"#f1a340\",\"#66c2a5\",\"#998ec3\",\"#998ec3\",\"#66c2a5\",\"#f1a340\",\"#66c2a5\",\"lightgray\",\"#f1a340\",\"lightgray\",\"#66c2a5\",\"pink\",\"#66c2a5\",\"#66c2a5\",\"#66c2a5\",\"lightgray\",\"lightgray\",\"pink\",\"#998ec3\",\"pink\",\"#998ec3\",\"pink\",\"#998ec3\",\"pink\",\"#f1a340\",\"lightgray\",\"lightgray\",\"pink\",\"lightgray\",\"lightgray\",\"#66c2a5\",\"#f1a340\",\"#f1a340\",\"#f1a340\",\"#f1a340\",\"#66c2a5\",\"pink\",\"pink\",\"pink\",\"#f1a340\",\"pink\",\"pink\",\"#f1a340\",\"#f1a340\",\"#66c2a5\",\"#998ec3\",\"#66c2a5\",\"pink\",\"#66c2a5\",\"#66c2a5\",\"#998ec3\",\"lightgray\",\"pink\",\"#66c2a5\",\"pink\",\"#f1a340\",\"#f1a340\",\"pink\",\"#f1a340\",\"#66c2a5\",\"#f1a340\",\"#66c2a5\",\"lightgray\",\"#66c2a5\",\"#f1a340\",\"#f1a340\",\"#66c2a5\",\"#66c2a5\",\"pink\",\"lightgray\",\"#f1a340\",\"pink\",\"pink\",\"#f1a340\",\"pink\",\"lightgray\",\"lightgray\",\"lightgray\",\"lightgray\",\"#66c2a5\",\"#998ec3\",\"#f1a340\",\"#f1a340\",\"#66c2a5\",\"#66c2a5\",\"#f1a340\",\"#998ec3\",\"#f1a340\",\"lightgray\",\"#f1a340\",\"#66c2a5\",\"lightgray\",\"#66c2a5\",\"lightgray\",\"lightgray\",\"#f1a340\",\"pink\",\"#f1a340\",\"#66c2a5\",\"#998ec3\",\"pink\",\"pink\",\"lightgray\",\"pink\",\"#998ec3\",\"#66c2a5\",\"lightgray\",\"lightgray\",\"#998ec3\",\"#66c2a5\",\"pink\",\"#66c2a5\",\"#66c2a5\",\"#f1a340\",\"lightgray\",\"pink\",\"lightgray\",\"#f1a340\",\"#f1a340\",\"lightgray\",\"#f1a340\",\"#f1a340\",\"#998ec3\",\"#f1a340\",\"pink\",\"pink\",\"lightgray\",\"#f1a340\",\"#66c2a5\",\"pink\",\"#66c2a5\",\"#66c2a5\",\"#66c2a5\",\"#66c2a5\",\"lightgray\",\"pink\",\"pink\",\"#66c2a5\",\"lightgray\",\"#66c2a5\",\"pink\",\"#66c2a5\",\"lightgray\",\"#998ec3\",\"pink\",\"lightgray\",\"#66c2a5\",\"#66c2a5\",\"#998ec3\",\"#66c2a5\",\"#66c2a5\",\"#66c2a5\",\"#f1a340\",\"#66c2a5\",\"#66c2a5\",\"#f1a340\",\"#998ec3\",\"#66c2a5\",\"#998ec3\",\"#998ec3\",\"#66c2a5\",\"#f1a340\",\"pink\",\"lightgray\",\"#66c2a5\",\"#66c2a5\",\"#998ec3\",\"#66c2a5\",\"#f1a340\",\"#998ec3\",\"#f1a340\",\"#998ec3\",\"lightgray\",\"#f1a340\",\"#998ec3\",\"#f1a340\",\"#f1a340\",\"pink\",\"pink\",\"pink\",\"pink\",\"pink\",\"pink\",\"#66c2a5\",\"#66c2a5\",\"lightgray\",\"#f1a340\",\"#66c2a5\",\"lightgray\",\"#f1a340\",\"#f1a340\",\"#66c2a5\",\"#f1a340\",\"#66c2a5\",\"lightgray\",\"#998ec3\",\"#998ec3\",\"#66c2a5\",\"#66c2a5\",\"#f1a340\",\"#66c2a5\",\"#66c2a5\",\"#f1a340\",\"#66c2a5\",\"pink\",\"#66c2a5\",\"#66c2a5\",\"#f1a340\",\"#66c2a5\",\"lightgray\",\"#66c2a5\",\"pink\",\"#66c2a5\",\"#f1a340\",\"#998ec3\",\"#998ec3\",\"#f1a340\",\"lightgray\",\"pink\",\"lightgray\",\"lightgray\",\"#998ec3\",\"#66c2a5\",\"#66c2a5\",\"pink\",\"lightgray\",\"#f1a340\",\"pink\",\"#998ec3\",\"#998ec3\",\"lightgray\",\"#998ec3\",\"#66c2a5\",\"#66c2a5\",\"lightgray\",\"pink\",\"#f1a340\",\"#f1a340\",\"lightgray\",\"pink\",\"#66c2a5\",\"pink\",\"#f1a340\",\"lightgray\",\"#66c2a5\",\"pink\",\"#f1a340\",\"lightgray\",\"lightgray\",\"pink\",\"#66c2a5\",\"#f1a340\",\"pink\",\"lightgray\",\"lightgray\",\"pink\",\"#66c2a5\",\"lightgray\",\"#66c2a5\",\"#f1a340\",\"#998ec3\",\"lightgray\",\"#f1a340\",\"#f1a340\",\"lightgray\",\"pink\",\"pink\",\"pink\",\"pink\",\"pink\",\"lightgray\",\"#f1a340\",\"pink\",\"lightgray\",\"lightgray\",\"lightgray\",\"#66c2a5\",\"lightgray\",\"pink\",\"lightgray\",\"#66c2a5\",\"lightgray\",\"pink\",\"pink\",\"#66c2a5\",\"#66c2a5\",\"#66c2a5\",\"pink\",\"pink\",\"lightgray\",\"pink\",\"lightgray\",\"pink\",\"#f1a340\",\"pink\",\"pink\",\"pink\",\"#66c2a5\",\"#66c2a5\",\"#998ec3\",\"#66c2a5\",\"pink\",\"#f1a340\",\"pink\",\"lightgray\",\"pink\",\"#66c2a5\",\"#66c2a5\",\"#f1a340\",\"#66c2a5\",\"#998ec3\",\"pink\",\"#998ec3\",\"lightgray\",\"lightgray\",\"#998ec3\",\"#f1a340\",\"lightgray\",\"#f1a340\",\"#998ec3\",\"#f1a340\",\"#f1a340\",\"pink\",\"#66c2a5\",\"pink\",\"lightgray\",\"#f1a340\",\"pink\",\"#66c2a5\",\"lightgray\",\"pink\",\"pink\",\"#66c2a5\",\"#998ec3\",\"lightgray\",\"#998ec3\",\"lightgray\",\"#f1a340\",\"lightgray\",\"#66c2a5\",\"pink\",\"lightgray\",\"#f1a340\",\"#f1a340\",\"#66c2a5\",\"#f1a340\",\"#66c2a5\",\"pink\",\"#66c2a5\",\"lightgray\",\"pink\",\"lightgray\",\"#66c2a5\",\"#66c2a5\",\"pink\",\"#66c2a5\",\"#66c2a5\",\"#66c2a5\",\"#998ec3\",\"lightgray\",\"#998ec3\",\"#f1a340\",\"pink\",\"#66c2a5\",\"lightgray\",\"#66c2a5\",\"pink\",\"#66c2a5\",\"#66c2a5\",\"#66c2a5\",\"#f1a340\",\"#998ec3\",\"#f1a340\",\"#998ec3\",\"#66c2a5\",\"pink\",\"pink\",\"#998ec3\",\"#f1a340\",\"#66c2a5\",\"#66c2a5\",\"pink\",\"#998ec3\",\"pink\",\"pink\",\"#66c2a5\",\"pink\",\"#998ec3\",\"#f1a340\",\"lightgray\",\"#998ec3\",\"lightgray\",\"#f1a340\",\"#66c2a5\",\"lightgray\",\"pink\",\"pink\",\"pink\",\"pink\",\"pink\",\"#66c2a5\",\"#f1a340\",\"pink\",\"pink\",\"#f1a340\",\"pink\",\"#66c2a5\",\"#66c2a5\",\"lightgray\",\"#998ec3\",\"pink\",\"#66c2a5\",\"pink\",\"#66c2a5\",\"#998ec3\",\"pink\",\"#66c2a5\",\"#66c2a5\",\"#998ec3\",\"lightgray\",\"#66c2a5\",\"#998ec3\",\"lightgray\",\"#f1a340\",\"pink\",\"lightgray\",\"#f1a340\",\"pink\",\"lightgray\",\"pink\",\"#66c2a5\",\"lightgray\",\"#998ec3\",\"#66c2a5\",\"pink\",\"lightgray\",\"lightgray\",\"#998ec3\",\"lightgray\",\"pink\",\"#998ec3\",\"pink\",\"#998ec3\",\"#66c2a5\",\"lightgray\",\"#998ec3\",\"lightgray\",\"#998ec3\",\"#66c2a5\",\"lightgray\",\"lightgray\",\"#66c2a5\",\"lightgray\",\"#f1a340\",\"#998ec3\",\"#998ec3\",\"lightgray\",\"pink\",\"#f1a340\",\"#66c2a5\",\"#66c2a5\",\"lightgray\",\"#66c2a5\",\"#998ec3\",\"pink\",\"#66c2a5\",\"pink\",\"pink\",\"lightgray\",\"#f1a340\",\"#998ec3\",\"#66c2a5\",\"lightgray\",\"#66c2a5\",\"#66c2a5\",\"lightgray\",\"pink\",\"lightgray\",\"pink\",\"#f1a340\",\"#998ec3\",\"lightgray\",\"pink\",\"pink\",\"pink\",\"#f1a340\",\"#998ec3\",\"lightgray\",\"pink\",\"#66c2a5\",\"pink\",\"lightgray\",\"#66c2a5\",\"#66c2a5\",\"#f1a340\",\"#66c2a5\",\"#66c2a5\",\"pink\",\"#f1a340\",\"#66c2a5\",\"#66c2a5\",\"pink\",\"lightgray\",\"pink\",\"#998ec3\",\"lightgray\",\"lightgray\",\"#66c2a5\",\"#66c2a5\",\"#998ec3\",\"lightgray\",\"#f1a340\",\"pink\",\"#66c2a5\",\"lightgray\",\"#f1a340\",\"#66c2a5\",\"lightgray\",\"pink\",\"lightgray\",\"#66c2a5\",\"lightgray\",\"#f1a340\",\"#998ec3\",\"pink\",\"#998ec3\",\"#66c2a5\",\"#998ec3\",\"#f1a340\",\"pink\",\"#998ec3\",\"#998ec3\",\"lightgray\",\"lightgray\",\"#f1a340\",\"#66c2a5\",\"pink\",\"#66c2a5\",\"lightgray\",\"pink\",\"lightgray\",\"#66c2a5\",\"lightgray\",\"lightgray\",\"#998ec3\",\"#998ec3\",\"#f1a340\",\"pink\",\"pink\",\"#f1a340\",\"#998ec3\",\"lightgray\",\"lightgray\",\"lightgray\",\"#66c2a5\",\"#66c2a5\",\"#998ec3\",\"lightgray\",\"#66c2a5\",\"pink\",\"#f1a340\",\"#f1a340\",\"pink\",\"pink\",\"#998ec3\",\"#f1a340\",\"pink\",\"#66c2a5\",\"#f1a340\",\"#f1a340\",\"pink\",\"lightgray\",\"lightgray\",\"#998ec3\",\"#f1a340\",\"#998ec3\",\"#998ec3\",\"pink\",\"#f1a340\",\"pink\",\"pink\",\"pink\",\"#f1a340\",\"#66c2a5\",\"lightgray\",\"#998ec3\",\"#66c2a5\",\"#998ec3\",\"pink\",\"#f1a340\",\"#998ec3\",\"lightgray\",\"#f1a340\",\"#f1a340\",\"pink\",\"#998ec3\",\"pink\",\"lightgray\",\"lightgray\",\"pink\",\"#f1a340\",\"lightgray\",\"#66c2a5\",\"lightgray\",\"#66c2a5\",\"#f1a340\",\"pink\",\"#998ec3\",\"lightgray\",\"pink\",\"#66c2a5\",\"#66c2a5\",\"#66c2a5\",\"pink\",\"#998ec3\",\"pink\",\"lightgray\",\"#f1a340\",\"#998ec3\",\"#66c2a5\",\"lightgray\",\"pink\",\"lightgray\",\"#66c2a5\",\"lightgray\",\"pink\",\"lightgray\",\"#998ec3\",\"pink\",\"#66c2a5\",\"#66c2a5\",\"#66c2a5\",\"#f1a340\",\"#66c2a5\",\"lightgray\",\"#998ec3\",\"#f1a340\",\"lightgray\",\"pink\",\"lightgray\",\"#66c2a5\",\"lightgray\",\"#66c2a5\",\"#66c2a5\",\"lightgray\",\"#998ec3\",\"#998ec3\",\"lightgray\",\"lightgray\",\"pink\",\"pink\",\"#66c2a5\",\"pink\",\"#66c2a5\",\"#f1a340\",\"#66c2a5\",\"pink\",\"lightgray\",\"#f1a340\",\"#998ec3\",\"lightgray\",\"pink\",\"#66c2a5\",\"#66c2a5\",\"pink\",\"lightgray\",\"#998ec3\",\"pink\",\"#998ec3\",\"lightgray\",\"#66c2a5\",\"pink\",\"#66c2a5\",\"lightgray\",\"pink\",\"lightgray\",\"pink\",\"#66c2a5\",\"pink\",\"lightgray\",\"#66c2a5\",\"#66c2a5\",\"#998ec3\",\"#66c2a5\",\"pink\",\"lightgray\",\"#f1a340\",\"pink\",\"pink\",\"lightgray\",\"#f1a340\",\"#66c2a5\",\"#998ec3\",\"#66c2a5\",\"#66c2a5\",\"#66c2a5\",\"#66c2a5\",\"#f1a340\",\"#998ec3\",\"#66c2a5\",\"#66c2a5\",\"lightgray\",\"#66c2a5\",\"lightgray\",\"lightgray\",\"lightgray\",\"lightgray\",\"pink\",\"#66c2a5\",\"pink\",\"lightgray\",\"#998ec3\",\"lightgray\",\"lightgray\",\"#66c2a5\",\"lightgray\",\"#998ec3\",\"pink\",\"#66c2a5\",\"#66c2a5\",\"lightgray\",\"#66c2a5\",\"pink\",\"lightgray\",\"#66c2a5\",\"#66c2a5\",\"#998ec3\",\"#998ec3\",\"pink\",\"#66c2a5\",\"#998ec3\",\"#66c2a5\",\"#66c2a5\",\"#f1a340\",\"#f1a340\",\"#998ec3\",\"pink\",\"lightgray\",\"lightgray\",\"#998ec3\",\"lightgray\",\"#f1a340\",\"#998ec3\",\"#66c2a5\",\"#998ec3\",\"lightgray\",\"lightgray\",\"pink\",\"#f1a340\",\"lightgray\",\"pink\",\"lightgray\",\"#f1a340\",\"#f1a340\",\"pink\",\"#66c2a5\",\"#998ec3\",\"lightgray\",\"#f1a340\",\"pink\",\"#f1a340\",\"#66c2a5\",\"#998ec3\",\"#66c2a5\",\"#66c2a5\",\"pink\",\"#66c2a5\",\"#66c2a5\",\"#66c2a5\",\"#66c2a5\",\"#66c2a5\",\"#66c2a5\",\"#66c2a5\",\"lightgray\",\"#998ec3\",\"#66c2a5\",\"#66c2a5\",\"pink\",\"#66c2a5\",\"#66c2a5\",\"#66c2a5\",\"pink\",\"#f1a340\",\"pink\",\"pink\",\"#f1a340\",\"#f1a340\",\"pink\",\"lightgray\",\"#66c2a5\",\"lightgray\",\"lightgray\",\"lightgray\",\"#998ec3\",\"lightgray\",\"pink\",\"#66c2a5\",\"#998ec3\",\"#f1a340\",\"#66c2a5\",\"lightgray\",\"lightgray\",\"lightgray\",\"lightgray\",\"#66c2a5\",\"pink\",\"#998ec3\",\"lightgray\",\"lightgray\",\"#998ec3\",\"#f1a340\",\"#f1a340\",\"pink\",\"lightgray\",\"#998ec3\",\"lightgray\",\"#998ec3\",\"lightgray\",\"pink\",\"#f1a340\",\"pink\",\"pink\",\"lightgray\",\"pink\",\"#66c2a5\",\"#66c2a5\",\"#f1a340\",\"lightgray\",\"#66c2a5\",\"lightgray\",\"#66c2a5\",\"#f1a340\",\"pink\",\"pink\",\"lightgray\",\"#66c2a5\",\"lightgray\",\"lightgray\",\"#998ec3\",\"pink\",\"#f1a340\",\"#f1a340\",\"pink\",\"#f1a340\",\"lightgray\",\"lightgray\",\"pink\",\"#998ec3\",\"#66c2a5\",\"#66c2a5\",\"#f1a340\",\"#66c2a5\",\"#998ec3\",\"#66c2a5\",\"#f1a340\",\"lightgray\",\"pink\",\"#f1a340\",\"pink\",\"#66c2a5\",\"#f1a340\",\"#f1a340\",\"#f1a340\",\"pink\",\"#f1a340\",\"pink\",\"#998ec3\",\"#f1a340\",\"#998ec3\",\"#66c2a5\",\"pink\",\"pink\",\"#66c2a5\",\"lightgray\",\"pink\",\"lightgray\",\"lightgray\",\"#998ec3\",\"#998ec3\",\"pink\",\"pink\",\"#998ec3\",\"lightgray\",\"#66c2a5\",\"pink\",\"pink\",\"pink\",\"pink\",\"#66c2a5\",\"pink\",\"#f1a340\",\"lightgray\",\"pink\",\"#66c2a5\",\"#998ec3\",\"#f1a340\",\"lightgray\",\"pink\",\"#66c2a5\",\"#998ec3\",\"#f1a340\",\"lightgray\",\"pink\",\"#66c2a5\",\"#998ec3\",\"#f1a340\",\"lightgray\",\"pink\",\"#66c2a5\",\"#998ec3\",\"#f1a340\",\"lightgray\",\"pink\",\"#66c2a5\",\"#998ec3\",\"#f1a340\",\"lightgray\",\"pink\",\"#66c2a5\",\"#998ec3\",\"#f1a340\",\"lightgray\",\"pink\",\"#66c2a5\",\"#998ec3\",\"#f1a340\",\"lightgray\",\"pink\",\"#66c2a5\",\"#998ec3\",\"#f1a340\",\"lightgray\",\"pink\",\"#66c2a5\",\"#998ec3\",\"#f1a340\",\"lightgray\",\"pink\",\"#66c2a5\",\"#998ec3\",\"#f1a340\",\"lightgray\",\"pink\",\"#66c2a5\",\"#998ec3\",\"#f1a340\",\"lightgray\",\"pink\",\"#66c2a5\",\"#998ec3\",\"#f1a340\",\"lightgray\",\"pink\",\"#66c2a5\",\"#998ec3\",\"#f1a340\",\"lightgray\",\"pink\",\"#66c2a5\",\"#998ec3\",\"#f1a340\",\"lightgray\",\"pink\",\"#66c2a5\",\"#998ec3\",\"#f1a340\",\"lightgray\",\"pink\",\"#66c2a5\",\"#998ec3\",\"#f1a340\",\"lightgray\",\"pink\",\"#66c2a5\",\"#998ec3\",\"#f1a340\",\"lightgray\",\"pink\",\"#66c2a5\",\"#998ec3\",\"#f1a340\",\"lightgray\",\"pink\",\"#66c2a5\",\"#998ec3\",\"#f1a340\",\"lightgray\",\"pink\",\"#66c2a5\",\"#998ec3\",\"#f1a340\",\"lightgray\",\"pink\",\"#66c2a5\",\"#998ec3\"]},\"name\":\"\",\"parents\":[\"North America/Animal\",\"Europe/Dairy product\",\"North America/Fish\",\"Europe/Vegetable\",\"Africa/Alcohol\",\"Europe/Plant\",\"North America/Alcohol\",\"Asia/Condiment\",\"Europe/Vegetable\",\"North America/Dairy product\",\"Asia/Plant\",\"South America/Alcohol\",\"Europe/Fruit\",\"South America/Condiment\",\"Asia/Spice\",\"Europe/Vegetable\",\"Asia/Spice\",\"North America/Meat\",\"Europe/Plant\",\"Africa/Vegetable\",\"North America/Plant\",\"Europe/Plant\",\"Africa/Fish\",\"Europe/Dairy product\",\"Asia/Spice\",\"North America/Edible oil\",\"Africa/Fish\",\"Europe/Fruit\",\"Asia/Legume\",\"Asia/Plant\",\"North America/Plant\",\"Africa/Plant\",\"Europe/Nut\",\"Asia/Meat\",\"Africa/Dairy product\",\"Europe/Spread\",\"Europe/Animal\",\"Asia/Fruit\",\"Asia/Alcohol\",\"Africa/Fruit\",\"Europe/Fish\",\"North America/Plant\",\"Africa/Alcohol\",\"Africa/Grain\",\"North America/Meat\",\"Europe/Dairy product\",\"Asia/Edible oil\",\"North America/Nut\",\"Asia/Alcohol\",\"North America/Fruit\",\"Asia/Vegetable\",\"North America/Plant\",\"Europe/Plant\",\"Asia/Fruit\",\"Asia/Dairy product\",\"North America/Plant\",\"Asia/Plant\",\"Asia/Fruit\",\"Africa/Condiment\",\"North America/Grain\",\"Europe/Beverage\",\"Asia/Alcohol\",\"North America/Plant\",\"Africa/Plant\",\"Asia/Fruit\",\"North America/Grain\",\"Europe/Plant\",\"North America/Plant\",\"North America/Alcohol\",\"Asia/Plant\",\"North America/Spread\",\"North America/Spice\",\"Asia/Others\",\"North America/Plant\",\"Europe/Plant\",\"Asia/Dairy product\",\"Asia/Animal\",\"Europe/Plant\",\"Europe/Animal\",\"Asia/Beverage\",\"North America/Dairy product\",\"Asia/Plant\",\"Europe/Legume\",\"South America/Plant\",\"Europe/Dairy product\",\"South America/Meat\",\"Asia/Others\",\"South America/Spice\",\"Africa/Meat\",\"South America/Legume\",\"Asia/Beverage\",\"Asia/Fruit\",\"Europe/Alcohol\",\"South America/Fruit\",\"Europe/Fruit\",\"Asia/Dairy product\",\"North America/Condiment\",\"Africa/Grain\",\"North America/Animal\",\"Asia/Meat\",\"Europe/Fruit\",\"South America/Plant\",\"Africa/Grain\",\"South America/Plant\",\"Africa/Legume\",\"South America/Meat\",\"Europe/Dairy product\",\"South America/Fruit\",\"North America/Plant\",\"North America/Alcohol\",\"Africa/Animal produce\",\"North America/Spice\",\"Europe/Plant\",\"Africa/Dairy product\",\"North America/Edible oil\",\"South America/Edible oil\",\"North America/Animal produce\",\"South America/Plant\",\"North America/Plant\",\"South America/Vegetable\",\"North America/Others\",\"Europe/Fish\",\"Asia/Plant\",\"North America/Fruit\",\"Asia/Fruit\",\"North America/Others\",\"North America/Plant\",\"Africa/Meat\",\"Europe/Plant\",\"Europe/Meat\",\"North America/Fungus\",\"Africa/Dairy product\",\"Europe/Plant\",\"Europe/Meat\",\"South America/Fruit\",\"Asia/Plant\",\"Asia/Grain\",\"Africa/Fruit\",\"North America/Fruit\",\"Asia/Alcohol\",\"North America/Beverage\",\"Asia/Fish\",\"South America/Fungus\",\"North America/Plant\",\"Europe/Dairy product\",\"North America/Vegetable\",\"North America/Fungus\",\"North America/Fruit\",\"Asia/Legume\",\"South America/Meat\",\"North America/Meat\",\"Africa/Fruit\",\"Africa/Fungus\",\"North America/Others\",\"Europe/Plant\",\"North America/Alcohol\",\"Asia/Fruit\",\"Africa/Alcohol\",\"Asia/Fruit\",\"Europe/Fruit\",\"Europe/Fruit\",\"Asia/Plant\",\"Europe/Condiment\",\"Europe/Grain\",\"Europe/Plant\",\"Africa/Fruit\",\"North America/Animal produce\",\"Africa/Fruit\",\"Asia/Plant\",\"Europe/Dairy product\",\"Africa/Fruit\",\"Africa/Dairy product\",\"South America/Meat\",\"North America/Fruit\",\"Africa/Plant\",\"Asia/Spice\",\"Africa/Condiment\",\"North America/Meat\",\"South America/Dairy product\",\"North America/Grain\",\"Asia/Meat\",\"Asia/Legume\",\"South America/Plant\",\"Africa/Plant\",\"North America/Plant\",\"North America/Fruit\",\"Europe/Plant\",\"South America/Meat\",\"North America/Plant\",\"Africa/Plant\",\"Europe/Plant\",\"North America/Plant\",\"Africa/Legume\",\"North America/Vegetable\",\"Asia/Spice\",\"North America/Others\",\"Asia/Legume\",\"Europe/Fruit\",\"Africa/Nut\",\"Africa/Plant\",\"North America/Fruit\",\"Asia/Plant\",\"Europe/Fruit\",\"South America/Nut\",\"North America/Plant\",\"Europe/Fruit\",\"South America/Plant\",\"Africa/Plant\",\"North America/Plant\",\"Asia/Dairy product\",\"North America/Beverage\",\"North America/Spice\",\"Europe/Plant\",\"North America/Plant\",\"Africa/Fruit\",\"Africa/Plant\",\"Asia/Spice\",\"Europe/Plant\",\"South America/Plant\",\"Asia/Meat\",\"North America/Animal produce\",\"Africa/Plant\",\"North America/Plant\",\"Asia/Alcohol\",\"Europe/Others\",\"Asia/Nut\",\"Africa/Plant\",\"North America/Fruit\",\"Asia/Vegetable\",\"North America/Meat\",\"North America/Fruit\",\"Africa/Fruit\",\"North America/Beverage\",\"South America/Animal produce\",\"South America/Fruit\",\"South America/Fruit\",\"Europe/Meat\",\"Europe/Grain\",\"North America/Fruit\",\"Asia/Fruit\",\"Europe/Legume\",\"Europe/Fruit\",\"Europe/Beverage\",\"Asia/Plant\",\"Africa/Meat\",\"Europe/Fruit\",\"Europe/Plant\",\"North America/Meat\",\"Europe/Plant\",\"Europe/Condiment\",\"Asia/Plant\",\"Asia/Grain\",\"Asia/Plant\",\"North America/Dairy product\",\"Africa/Others\",\"Asia/Spice\",\"North America/Animal\",\"Asia/Fruit\",\"Asia/Fruit\",\"Africa/Edible oil\",\"Europe/Animal\",\"South America/Dairy product\",\"North America/Fish\",\"Europe/Others\",\"Asia/Fruit\",\"Europe/Plant\",\"North America/Fruit\",\"Europe/Plant\",\"Asia/Grain\",\"North America/Plant\",\"South America/Meat\",\"Europe/Vegetable\",\"North America/Plant\",\"South America/Others\",\"North America/Fruit\",\"Europe/Plant\",\"Asia/Meat\",\"North America/Dairy product\",\"South America/Fruit\",\"Asia/Grain\",\"Asia/Alcohol\",\"Europe/Plant\",\"North America/Dairy product\",\"Europe/Fruit\",\"Europe/Others\",\"Europe/Legume\",\"Africa/Condiment\",\"Europe/Plant\",\"Asia/Fruit\",\"Asia/Plant\",\"Europe/Fruit\",\"Asia/Plant\",\"North America/Vegetable\",\"North America/Alcohol\",\"North America/Meat\",\"Europe/Fish\",\"Europe/Fruit\",\"North America/Others\",\"Africa/Plant\",\"Europe/Dairy product\",\"Asia/Plant\",\"Europe/Legume\",\"North America/Condiment\",\"Europe/Spice\",\"Asia/Dairy product\",\"South America/Dairy product\",\"Asia/Alcohol\",\"North America/Fruit\",\"Europe/Fruit\",\"North America/Animal\",\"Asia/Fruit\",\"South America/Fruit\",\"Asia/Plant\",\"Europe/Plant\",\"Asia/Fish\",\"North America/Condiment\",\"North America/Grain\",\"Europe/Edible oil\",\"South America/Meat\",\"Asia/Plant\",\"Europe/Vegetable\",\"South America/Plant\",\"North America/Fish\",\"North America/Alcohol\",\"Europe/Fruit\",\"Europe/Fruit\",\"South America/Spice\",\"North America/Beverage\",\"North America/Plant\",\"Europe/Fruit\",\"North America/Plant\",\"Europe/Fruit\",\"Asia/Animal\",\"South America/Plant\",\"Europe/Condiment\",\"South America/Plant\",\"South America/Plant\",\"North America/Plant\",\"South America/Dairy product\",\"North America/Fungus\",\"Europe/Fruit\",\"Africa/Dairy product\",\"Asia/Spice\",\"North America/Dairy product\",\"South America/Spice\",\"Asia/Plant\",\"Europe/Plant\",\"North America/Others\",\"Asia/Condiment\",\"Africa/Others\",\"Asia/Plant\",\"Europe/Animal produce\",\"Asia/Dairy product\",\"Africa/Fruit\",\"North America/Plant\",\"North America/Plant\",\"South America/Edible oil\",\"Asia/Plant\",\"North America/Vegetable\",\"Europe/Plant\",\"North America/Plant\",\"Asia/Fungus\",\"North America/Fruit\",\"Europe/Spice\",\"North America/Vegetable\",\"South America/Meat\",\"Africa/Fruit\",\"South America/Plant\",\"North America/Dairy product\",\"Europe/Plant\",\"Europe/Legume\",\"South America/Animal produce\",\"Asia/Fish\",\"North America/Dairy product\",\"Africa/Spread\",\"Europe/Plant\",\"South America/Spread\",\"North America/Dairy product\",\"Europe/Plant\",\"South America/Alcohol\",\"Africa/Plant\",\"Africa/Vegetable\",\"Africa/Plant\",\"South America/Grain\",\"South America/Plant\",\"South America/Plant\",\"North America/Plant\",\"South America/Alcohol\",\"North America/Plant\",\"Asia/Alcohol\",\"North America/Animal\",\"Europe/Alcohol\",\"Europe/Plant\",\"Asia/Edible oil\",\"Asia/Grain\",\"North America/Dairy product\",\"South America/Fruit\",\"Europe/Alcohol\",\"Europe/Plant\",\"Asia/Fruit\",\"Europe/Edible oil\",\"North America/Plant\",\"South America/Root vegetables\",\"Europe/Spice\",\"Asia/Dairy product\",\"Africa/Grain\",\"Europe/Condiment\",\"Asia/Legume\",\"North America/Dairy product\",\"North America/Plant\",\"Asia/Plant\",\"North America/Nut\",\"Africa/Edible oil\",\"North America/Fruit\",\"Europe/Edible oil\",\"Asia/Plant\",\"South America/Plant\",\"Europe/Spice\",\"South America/Plant\",\"North America/Animal\",\"Asia/Plant\",\"Asia/Plant\",\"Africa/Condiment\",\"Europe/Fungus\",\"Asia/Plant\",\"North America/Vegetable\",\"Africa/Fish\",\"North America/Dairy product\",\"Africa/Meat\",\"North America/Spread\",\"North America/Meat\",\"Europe/Plant\",\"Africa/Dairy product\",\"North America/Alcohol\",\"North America/Plant\",\"Asia/Plant\",\"Asia/Plant\",\"Asia/Meat\",\"South America/Meat\",\"Asia/Vegetable\",\"South America/Fruit\",\"North America/Edible oil\",\"South America/Vegetable\",\"Africa/Nut\",\"Europe/Plant\",\"South America/Vegetable\",\"North America/Vegetable\",\"North America/Plant\",\"North America/Plant\",\"Europe/Fruit\",\"South America/Grain\",\"Europe/Alcohol\",\"Europe/Alcohol\",\"North America/Others\",\"Asia/Fruit\",\"Africa/Fungus\",\"Asia/Plant\",\"Europe/Dairy product\",\"North America/Plant\",\"Africa/Fruit\",\"Europe/Fruit\",\"North America/Fruit\",\"Asia/Fish\",\"North America/Spice\",\"Asia/Root vegetables\",\"Asia/Fruit\",\"Africa/Plant\",\"Asia/Plant\",\"North America/Plant\",\"South America/Plant\",\"Europe/Alcohol\",\"Europe/Spice\",\"Africa/Plant\",\"Europe/Plant\",\"North America/Plant\",\"Asia/Alcohol\",\"South America/Fruit\",\"Asia/Meat\",\"South America/Fruit\",\"Africa/Others\",\"South America/Fruit\",\"Africa/Meat\",\"Asia/Fish\",\"North America/Fish\",\"Asia/Legume\",\"Asia/Plant\",\"Africa/Plant\",\"Asia/Plant\",\"Asia/Plant\",\"Europe/Fruit\",\"Europe/Vegetable\",\"South America/Grain\",\"Asia/Legume\",\"Africa/Grain\",\"Europe/Plant\",\"North America/Plant\",\"South America/Animal\",\"Africa/Fish\",\"Africa/Alcohol\",\"North America/Plant\",\"Europe/Meat\",\"North America/Plant\",\"Europe/Alcohol\",\"Europe/Beverage\",\"North America/Fruit\",\"South America/Plant\",\"Africa/Plant\",\"Europe/Plant\",\"Europe/Meat\",\"Europe/Root vegetables\",\"South America/Spice\",\"Asia/Dairy product\",\"Asia/Alcohol\",\"Africa/Plant\",\"Europe/Spice\",\"North America/Legume\",\"North America/Fruit\",\"Asia/Plant\",\"Africa/Spice\",\"Asia/Dairy product\",\"Asia/Fruit\",\"Europe/Grain\",\"Europe/Others\",\"Asia/Meat\",\"Africa/Grain\",\"North America/Plant\",\"North America/Plant\",\"Africa/Fruit\",\"Africa/Plant\",\"North America/Alcohol\",\"South America/Others\",\"Asia/Vegetable\",\"North America/Vegetable\",\"South America/Plant\",\"South America/Others\",\"Asia/Animal\",\"North America/Plant\",\"North America/Dairy product\",\"Africa/Alcohol\",\"Africa/Fruit\",\"South America/Meat\",\"Africa/Edible oil\",\"North America/Vegetable\",\"North America/Vegetable\",\"Africa/Spice\",\"South America/Fruit\",\"North America/Legume\",\"Europe/Beverage\",\"Europe/Meat\",\"South America/Fish\",\"Asia/Meat\",\"South America/Plant\",\"Europe/Meat\",\"North America/Alcohol\",\"South America/Dairy product\",\"South America/Animal\",\"North America/Others\",\"South America/Plant\",\"Asia/Others\",\"North America/Fungus\",\"North America/Fruit\",\"Asia/Plant\",\"North America/Meat\",\"South America/Dairy product\",\"Europe/Dairy product\",\"Asia/Plant\",\"Asia/Fungus\",\"North America/Plant\",\"Africa/Fish\",\"North America/Animal\",\"South America/Plant\",\"South America/Dairy product\",\"North America/Plant\",\"Africa/Plant\",\"North America/Alcohol\",\"Asia/Dairy product\",\"Africa/Fruit\",\"Asia/Fruit\",\"North America/Grain\",\"Europe/Fruit\",\"North America/Vegetable\",\"North America/Grain\",\"North America/Vegetable\",\"Asia/Grain\",\"Asia/Alcohol\",\"Europe/Spice\",\"South America/Alcohol\",\"Europe/Grain\",\"South America/Fruit\",\"Europe/Plant\",\"South America/Plant\",\"Europe/Nut\",\"Africa/Dairy product\",\"Asia/Alcohol\",\"Asia/Fruit\",\"Europe/Legume\",\"Asia/Plant\",\"Asia/Grain\",\"North America/Plant\",\"Africa/Vegetable\",\"Africa/Condiment\",\"Africa/Root vegetables\",\"Africa/Legume\",\"North America/Root vegetables\",\"Europe/Dairy product\",\"Europe/Spice\",\"Europe/Meat\",\"Africa/Meat\",\"Europe/Plant\",\"Europe/Alcohol\",\"Africa/Plant\",\"Africa/Vegetable\",\"North America/Meat\",\"South America/Vegetable\",\"North America/Fungus\",\"Europe/Edible oil\",\"North America/Fruit\",\"North America/Plant\",\"South America/Condiment\",\"Asia/Plant\",\"Europe/Plant\",\"North America/Nut\",\"Europe/Vegetable\",\"Africa/Fruit\",\"Africa/Plant\",\"Europe/Plant\",\"Africa/Fungus\",\"North America/Fungus\",\"Africa/Vegetable\",\"North America/Plant\",\"Asia/Animal\",\"North America/Animal\",\"Africa/Others\",\"Africa/Plant\",\"North America/Others\",\"North America/Alcohol\",\"Europe/Dairy product\",\"Asia/Fish\",\"Africa/Spice\",\"Europe/Plant\",\"Europe/Meat\",\"Africa/Alcohol\",\"Europe/Plant\",\"Asia/Plant\",\"Asia/Dairy product\",\"Asia/Fruit\",\"Asia/Animal\",\"North America/Fish\",\"South America/Vegetable\",\"Africa/Alcohol\",\"Africa/Plant\",\"North America/Animal\",\"North America/Plant\",\"Africa/Plant\",\"South America/Vegetable\",\"Africa/Plant\",\"Asia/Edible oil\",\"Africa/Vegetable\",\"North America/Plant\",\"Asia/Spread\",\"North America/Plant\",\"Asia/Plant\",\"Asia/Edible oil\",\"Africa/Plant\",\"Europe/Plant\",\"Africa/Others\",\"North America/Plant\",\"South America/Vegetable\",\"Europe/Plant\",\"Europe/Spice\",\"Asia/Vegetable\",\"Europe/Dairy product\",\"South America/Fruit\",\"North America/Legume\",\"Asia/Fruit\",\"Asia/Condiment\",\"South America/Condiment\",\"North America/Fish\",\"Europe/Plant\",\"North America/Plant\",\"North America/Plant\",\"Africa/Root vegetables\",\"Asia/Meat\",\"Europe/Root vegetables\",\"Asia/Animal\",\"Africa/Grain\",\"Africa/Dairy product\",\"Asia/Animal produce\",\"Africa/Plant\",\"Africa/Plant\",\"South America/Plant\",\"Africa/Spice\",\"Europe/Meat\",\"Europe/Plant\",\"Asia/Plant\",\"Africa/Fruit\",\"North America/Fruit\",\"Europe/Dairy product\",\"North America/Grain\",\"North America/Plant\",\"North America/Alcohol\",\"North America/Fruit\",\"Asia/Fruit\",\"Europe/Plant\",\"Europe/Fruit\",\"North America/Spice\",\"Asia/Edible oil\",\"North America/Fruit\",\"Europe/Plant\",\"North America/Others\",\"Asia/Plant\",\"South America/Plant\",\"Europe/Plant\",\"Asia/Fruit\",\"North America/Grain\",\"North America/Fruit\",\"South America/Animal\",\"North America/Root vegetables\",\"North America/Vegetable\",\"North America/Plant\",\"Africa/Grain\",\"North America/Grain\",\"North America/Edible oil\",\"Africa/Fruit\",\"South America/Plant\",\"North America/Plant\",\"South America/Fruit\",\"South America/Dairy product\",\"North America/Animal produce\",\"Africa/Meat\",\"Europe/Plant\",\"Asia/Plant\",\"North America/Fruit\",\"North America/Plant\",\"South America/Meat\",\"North America/Plant\",\"Africa/Others\",\"South America/Plant\",\"Africa/Fruit\",\"South America/Dairy product\",\"Asia/Others\",\"Africa/Dairy product\",\"South America/Animal\",\"Africa/Animal\",\"Africa/Dairy product\",\"Europe/Grain\",\"Europe/Grain\",\"Europe/Plant\",\"Europe/Plant\",\"Europe/Fruit\",\"Europe/Plant\",\"North America/Beverage\",\"North America/Fish\",\"Asia/Edible oil\",\"Africa/Grain\",\"North America/Plant\",\"Asia/Vegetable\",\"Africa/Plant\",\"Africa/Nut\",\"North America/Alcohol\",\"Africa/Meat\",\"North America/Fruit\",\"Asia/Dairy product\",\"South America/Plant\",\"South America/Fruit\",\"North America/Fruit\",\"North America/Fruit\",\"Africa/Fruit\",\"North America/Fruit\",\"North America/Dairy product\",\"Africa/Vegetable\",\"North America/Spice\",\"Europe/Alcohol\",\"North America/Condiment\",\"North America/Plant\",\"Africa/Vegetable\",\"North America/Spice\",\"Asia/Fruit\",\"North America/Plant\",\"Europe/Fish\",\"North America/Plant\",\"Africa/Fruit\",\"South America/Dairy product\",\"South America/Plant\",\"Africa/Plant\",\"Asia/Fruit\",\"Europe/Fish\",\"Asia/Fruit\",\"Asia/Plant\",\"South America/Fruit\",\"North America/Plant\",\"North America/Spice\",\"Europe/Plant\",\"Asia/Condiment\",\"Africa/Fruit\",\"Europe/Plant\",\"South America/Vegetable\",\"South America/Dairy product\",\"Asia/Plant\",\"South America/Spread\",\"North America/Plant\",\"North America/Spice\",\"Asia/Vegetable\",\"Europe/Plant\",\"Africa/Plant\",\"Africa/Grain\",\"Asia/Plant\",\"Europe/Alcohol\",\"North America/Alcohol\",\"Europe/Edible oil\",\"Africa/Plant\",\"Asia/Edible oil\",\"North America/Alcohol\",\"Europe/Fruit\",\"Africa/Beverage\",\"Asia/Grain\",\"Asia/Plant\",\"Europe/Fish\",\"North America/Vegetable\",\"Africa/Animal\",\"Europe/Legume\",\"Asia/Plant\",\"Asia/Spice\",\"Europe/Plant\",\"North America/Beverage\",\"Asia/Meat\",\"North America/Plant\",\"Africa/Plant\",\"South America/Legume\",\"Asia/Animal produce\",\"Africa/Others\",\"Africa/Meat\",\"Asia/Others\",\"Europe/Alcohol\",\"Europe/Fruit\",\"Europe/Dairy product\",\"Europe/Meat\",\"Europe/Dairy product\",\"Asia/Plant\",\"Africa/Alcohol\",\"Europe/Alcohol\",\"Asia/Grain\",\"Asia/Edible oil\",\"Asia/Plant\",\"North America/Plant\",\"Asia/Spice\",\"Europe/Plant\",\"Asia/Condiment\",\"North America/Spice\",\"Asia/Plant\",\"Europe/Condiment\",\"Europe/Plant\",\"North America/Plant\",\"North America/Plant\",\"North America/Legume\",\"Europe/Plant\",\"Europe/Plant\",\"Asia/Plant\",\"Europe/Fruit\",\"Asia/Edible oil\",\"Europe/Vegetable\",\"Africa/Meat\",\"Europe/Plant\",\"Europe/Fruit\",\"Europe/Plant\",\"North America/Legume\",\"North America/Fruit\",\"South America/Plant\",\"North America/Plant\",\"Europe/Plant\",\"Africa/Animal\",\"Europe/Vegetable\",\"Asia/Animal produce\",\"Europe/Fruit\",\"North America/Fruit\",\"North America/Fruit\",\"Africa/Animal produce\",\"North America/Legume\",\"South America/Condiment\",\"Europe/Fruit\",\"South America/Plant\",\"Asia/Others\",\"Asia/Root vegetables\",\"South America/Dairy product\",\"Africa/Meat\",\"Asia/Plant\",\"Africa/Grain\",\"South America/Plant\",\"Africa/Fruit\",\"Africa/Legume\",\"Europe/Others\",\"North America/Fruit\",\"Europe/Condiment\",\"Asia/Spice\",\"Africa/Plant\",\"Europe/Vegetable\",\"North America/Plant\",\"Asia/Condiment\",\"Europe/Plant\",\"Europe/Animal produce\",\"North America/Edible oil\",\"South America/Vegetable\",\"Asia/Fish\",\"South America/Dairy product\",\"Asia/Fungus\",\"Africa/Plant\",\"Asia/Alcohol\",\"North America/Meat\",\"Europe/Alcohol\",\"Asia/Meat\",\"Africa/Fruit\",\"Africa/Plant\",\"North America/Plant\",\"Africa/Vegetable\",\"North America/Grain\",\"Europe/Plant\",\"North America/Plant\",\"Asia/Plant\",\"Europe/Animal\",\"Asia/Plant\",\"North America/Meat\",\"North America/Spice\",\"Europe/Fish\",\"North America/Fruit\",\"North America/Dairy product\",\"North America/Plant\",\"South America/Fruit\",\"Asia/Legume\",\"South America/Plant\",\"Africa/Meat\",\"Europe/Animal\",\"North America/Grain\",\"Asia/Fruit\",\"North America/Plant\",\"Europe/Vegetable\",\"North America/Meat\",\"North America/Animal\",\"North America/Fruit\",\"Africa/Meat\",\"South America/Condiment\",\"Africa/Plant\",\"South America/Legume\",\"North America/Fruit\",\"Europe/Others\",\"Europe/Plant\",\"South America/Alcohol\",\"Africa/Plant\",\"North America/Meat\",\"North America/Animal produce\",\"Europe/Legume\",\"South America/Meat\",\"Europe/Plant\",\"Europe/Fungus\",\"North America/Dairy product\",\"Europe/Plant\",\"South America/Fruit\",\"Africa/Dairy product\",\"Asia/Plant\",\"South America/Plant\",\"Asia/Plant\",\"Africa/Beverage\",\"North America/Plant\",\"Asia/Meat\",\"Europe/Fruit\",\"Europe/Others\",\"Europe/Fruit\",\"Europe/Spice\",\"Europe/Plant\",\"North America/Edible oil\",\"Africa/Plant\",\"Europe/Plant\",\"Europe/Edible oil\",\"Africa/Plant\",\"Europe/Grain\",\"North America/Plant\",\"North America/Plant\",\"Asia/Plant\",\"South America/Grain\",\"Europe/Plant\",\"North America/Condiment\",\"Europe/Grain\",\"North America/Plant\",\"South America/Fruit\",\"Europe/Dairy product\",\"North America/Vegetable\",\"North America/Plant\",\"South America/Dairy product\",\"Asia/Plant\",\"North America/Alcohol\",\"South America/Plant\",\"Asia/Animal\",\"Africa/Alcohol\",\"Europe/Plant\",\"Asia/Root vegetables\",\"Africa/Spice\",\"Europe/Dairy product\",\"Asia/Edible oil\",\"Europe/Beverage\",\"North America/Plant\",\"Asia/Plant\",\"South America/Fruit\",\"North America/Spread\",\"Europe/Animal produce\",\"Asia/Fruit\",\"Asia/Dairy product\",\"South America/Grain\",\"Asia/Fruit\",\"Europe/Plant\",\"South America/Plant\",\"Europe/Plant\",\"South America/Plant\",\"North America/Nut\",\"Asia/Plant\",\"South America/Alcohol\",\"Asia/Spread\",\"South America/Spice\",\"North America/Fish\",\"Asia/Plant\",\"Asia/Alcohol\",\"North America/Edible oil\",\"Asia/Fruit\",\"Africa/Fruit\",\"South America/Fungus\",\"South America/Plant\",\"Asia/Nut\",\"Europe/Plant\",\"Africa/Spice\",\"North America/Plant\",\"North America/Fungus\",\"Asia/Plant\",\"North America/Fish\",\"South America/Animal\",\"Europe/Animal\",\"North America/Dairy product\",\"Europe/Spread\",\"Europe/Vegetable\",\"Asia/Plant\",\"Africa/Legume\",\"South America/Fruit\",\"North America/Plant\",\"Asia/Plant\",\"North America/Plant\",\"North America/Dairy product\",\"Asia/Dairy product\",\"Europe/Fish\",\"Asia/Vegetable\",\"Europe/Others\",\"Africa/Plant\",\"South America/Animal\",\"Asia/Fruit\",\"Europe/Animal\",\"Europe/Alcohol\",\"Europe/Fungus\",\"Africa/Animal\",\"South America/Fruit\",\"Asia/Fungus\",\"Europe/Dairy product\",\"North America/Plant\",\"Europe/Alcohol\",\"Asia/Plant\",\"North America/Condiment\",\"North America/Dairy product\",\"Africa/Spice\",\"North America/Plant\",\"North America/Grain\",\"Europe/Alcohol\",\"Africa/Vegetable\",\"North America/Fruit\",\"North America/Fruit\",\"Europe/Nut\",\"Asia/Plant\",\"Europe/Meat\",\"South America/Nut\",\"Asia/Vegetable\",\"Asia/Plant\",\"North America/Fruit\",\"North America/Plant\",\"South America/Alcohol\",\"Asia/Fruit\",\"Africa/Plant\",\"Europe/Fruit\",\"North America/Plant\",\"Asia/Vegetable\",\"Africa/Condiment\",\"North America/Alcohol\",\"Asia/Vegetable\",\"Europe/Vegetable\",\"Asia/Plant\",\"North America/Plant\",\"Asia/Nut\",\"Africa/Legume\",\"South America/Fish\",\"Europe/Vegetable\",\"South America/Edible oil\",\"North America/Vegetable\",\"South America/Plant\",\"Africa/Condiment\",\"Europe/Plant\",\"South America/Plant\",\"South America/Condiment\",\"Asia/Condiment\",\"Asia/Plant\",\"Africa/Legume\",\"North America/Dairy product\",\"Europe/Plant\",\"North America/Condiment\",\"Asia/Dairy product\",\"Europe/Edible oil\",\"Asia/Plant\",\"North America/Spread\",\"Asia/Others\",\"Asia/Grain\",\"South America/Plant\",\"South America/Legume\",\"Africa/Grain\",\"Europe/Condiment\",\"Europe/Fruit\",\"Africa/Spice\",\"South America/Plant\",\"Asia/Plant\",\"Asia/Grain\",\"Asia/Fruit\",\"North America/Dairy product\",\"North America/Plant\",\"South America/Vegetable\",\"Asia/Fish\",\"North America/Grain\",\"Europe/Grain\",\"Africa/Vegetable\",\"Africa/Alcohol\",\"Europe/Meat\",\"Europe/Grain\",\"South America/Fruit\",\"Africa/Edible oil\",\"Europe/Nut\",\"North America/Alcohol\",\"Africa/Plant\",\"Africa/Grain\",\"Europe/Plant\",\"Asia/Grain\",\"Asia/Beverage\",\"South America/Grain\",\"Africa/Fruit\",\"South America/Grain\",\"South America/Vegetable\",\"Europe/Alcohol\",\"Africa/Dairy product\",\"Europe/Spice\",\"Europe/Plant\",\"Europe/Alcohol\",\"Africa/Fruit\",\"North America/Animal\",\"Asia/Alcohol\",\"South America/Fruit\",\"North America/Plant\",\"South America/Plant\",\"Europe/Plant\",\"Africa/Grain\",\"South America/Fruit\",\"Asia/Grain\",\"Africa/Fruit\",\"Africa/Alcohol\",\"Europe/Grain\",\"South America/Fruit\",\"Europe/Plant\",\"Asia/Plant\",\"Asia/Fruit\",\"Europe/Grain\",\"Africa/Plant\",\"Asia/Condiment\",\"North America/Others\",\"Asia/Dairy product\",\"North America/Alcohol\",\"Africa/Spice\",\"Europe/Dairy product\",\"South America/Animal\",\"Asia/Animal\",\"Europe/Alcohol\",\"North America/Others\",\"North America/Legume\",\"North America/Grain\",\"Europe/Fruit\",\"South America/Others\",\"Europe/Animal produce\",\"Asia/Dairy product\",\"Africa/Others\",\"South America/Spice\",\"North America/Spice\",\"Asia/Alcohol\",\"Europe/Others\",\"Asia/Dairy product\",\"North America/Meat\",\"Asia/Plant\",\"Europe/Plant\",\"Asia/Fruit\",\"South America/Grain\",\"Europe/Others\",\"North America/Legume\",\"North America/Edible oil\",\"North America/Legume\",\"Africa/Beverage\",\"North America/Fruit\",\"Asia/Plant\",\"South America/Beverage\",\"Africa/Fruit\",\"Asia/Plant\",\"Europe/Plant\",\"Asia/Others\",\"North America/Fruit\",\"Asia/Fruit\",\"North America/Plant\",\"North America/Plant\",\"Asia/Vegetable\",\"South America/Alcohol\",\"South America/Plant\",\"Asia/Dairy product\",\"Asia/Fruit\",\"Europe/Grain\",\"Europe/Root vegetables\",\"North America/Root vegetables\",\"Europe/Meat\",\"North America/Plant\",\"Africa/Fruit\",\"North America/Grain\",\"Europe/Fungus\",\"Asia/Grain\",\"Africa/Plant\",\"South America/Animal produce\",\"Asia/Fruit\",\"Europe/Spice\",\"North America/Vegetable\",\"North America/Fruit\",\"Europe/Fruit\",\"Asia/Plant\",\"South America/Fruit\",\"Europe/Fruit\",\"South America/Grain\",\"Asia/Edible oil\",\"North America/Fish\",\"Europe/Animal\",\"North America/Plant\",\"Asia/Plant\",\"Europe/Vegetable\",\"Asia/Meat\",\"Europe/Others\",\"North America/Animal produce\",\"Europe/Plant\",\"Asia/Plant\",\"North America/Meat\",\"North America/Fruit\",\"South America/Others\",\"North America/Meat\",\"Europe/Meat\",\"Asia/Plant\",\"Africa/Edible oil\",\"Europe/Meat\",\"Europe/Fungus\",\"Asia/Edible oil\",\"Africa/Alcohol\",\"North America/Alcohol\",\"South America/Plant\",\"North America/Edible oil\",\"North America/Plant\",\"North America/Fruit\",\"North America/Plant\",\"Africa/Fruit\",\"South America/Alcohol\",\"North America/Dairy product\",\"North America/Plant\",\"Asia/Fruit\",\"North America/Fruit\",\"Asia/Fruit\",\"Asia/Vegetable\",\"Asia/Others\",\"Asia/Fruit\",\"Europe/Plant\",\"North America/Plant\",\"Europe/Meat\",\"Asia/Vegetable\",\"South America/Others\",\"Asia/Alcohol\",\"Asia/Beverage\",\"North America/Fruit\",\"Asia/Grain\",\"South America/Spice\",\"Europe/Plant\",\"North America/Beverage\",\"North America/Legume\",\"Asia/Meat\",\"North America/Plant\",\"Europe/Plant\",\"Asia/Animal\",\"North America/Edible oil\",\"North America/Plant\",\"South America/Spice\",\"South America/Dairy product\",\"Europe/Animal\",\"North America/Plant\",\"South America/Fruit\",\"North America/Fruit\",\"North America/Alcohol\",\"Africa/Fruit\",\"Africa/Beverage\",\"South America/Fruit\",\"Europe/Dairy product\",\"Asia/Fruit\",\"Asia/Meat\",\"South America/Edible oil\",\"Asia/Nut\",\"Africa/Plant\",\"South America/Condiment\",\"North America/Plant\",\"South America/Plant\",\"Asia/Animal produce\",\"Asia/Spice\",\"Europe/Vegetable\",\"Africa/Spice\",\"Asia/Plant\",\"Europe/Alcohol\",\"Asia/Plant\",\"Africa/Dairy product\",\"Africa/Plant\",\"Europe/Spread\",\"North America/Fish\",\"South America/Plant\",\"Asia/Meat\",\"Africa/Plant\",\"Europe/Fruit\",\"Africa/Vegetable\",\"North America/Plant\",\"South America/Plant\",\"North America/Fish\",\"North America/Plant\",\"Europe/Animal\",\"North America/Condiment\",\"North America/Fruit\",\"North America/Meat\",\"North America/Plant\",\"North America/Vegetable\",\"North America/Condiment\",\"North America/Edible oil\",\"Asia/Fruit\",\"South America/Legume\",\"North America/Fruit\",\"North America/Fruit\",\"Europe/Grain\",\"North America/Fruit\",\"North America/Spice\",\"North America/Grain\",\"Europe/Edible oil\",\"Africa/Grain\",\"Europe/Dairy product\",\"Europe/Fruit\",\"Africa/Fruit\",\"Africa/Dairy product\",\"Europe/Plant\",\"Asia/Grain\",\"North America/Plant\",\"Asia/Plant\",\"Asia/Plant\",\"Asia/Spice\",\"South America/Fruit\",\"Asia/Fruit\",\"Europe/Fruit\",\"North America/Plant\",\"South America/Legume\",\"Africa/Condiment\",\"North America/Vegetable\",\"Asia/Meat\",\"Asia/Animal produce\",\"Asia/Legume\",\"Asia/Plant\",\"North America/Plant\",\"Europe/Plant\",\"South America/Plant\",\"Asia/Fungus\",\"Asia/Plant\",\"South America/Spice\",\"Africa/Fruit\",\"Africa/Nut\",\"Europe/Plant\",\"Asia/Vegetable\",\"South America/Vegetable\",\"Asia/Vegetable\",\"South America/Spice\",\"Asia/Others\",\"Europe/Plant\",\"Africa/Vegetable\",\"Europe/Edible oil\",\"Europe/Grain\",\"Asia/Alcohol\",\"Europe/Plant\",\"North America/Dairy product\",\"North America/Plant\",\"Africa/Others\",\"Asia/Alcohol\",\"North America/Plant\",\"Asia/Beverage\",\"North America/Fruit\",\"Africa/Dairy product\",\"Europe/Fruit\",\"Europe/Grain\",\"Asia/Plant\",\"North America/Edible oil\",\"Asia/Grain\",\"Asia/Plant\",\"South America/Grain\",\"Europe/Vegetable\",\"Africa/Spread\",\"Africa/Dairy product\",\"Europe/Fish\",\"Africa/Vegetable\",\"Asia/Others\",\"Asia/Alcohol\",\"Europe/Condiment\",\"South America/Spice\",\"North America/Dairy product\",\"North America/Alcohol\",\"Africa/Plant\",\"North America/Plant\",\"South America/Fruit\",\"North America/Grain\",\"Africa/Dairy product\",\"Asia/Dairy product\",\"Europe/Others\",\"Africa/Plant\",\"Europe/Dairy product\",\"North America/Alcohol\",\"Africa/Dairy product\",\"Africa/Alcohol\",\"Africa/Plant\",\"Europe/Animal produce\",\"Africa/Plant\",\"Europe/Meat\",\"South America/Plant\",\"Africa/Fruit\",\"South America/Alcohol\",\"North America/Alcohol\",\"Europe/Edible oil\",\"Europe/Alcohol\",\"North America/Meat\",\"Asia/Others\",\"Europe/Animal produce\",\"Asia/Plant\",\"Asia/Plant\",\"South America/Plant\",\"South America/Beverage\",\"Europe/Spice\",\"Europe/Plant\",\"South America/Meat\",\"Asia/Animal\",\"North America/Plant\",\"Europe/Grain\",\"Europe/Plant\",\"Europe/Fruit\",\"Europe/Fruit\",\"North America/Plant\",\"Europe/Plant\",\"Africa\",\"Asia\",\"Europe\",\"North America\",\"South America\",\"Africa\",\"Asia\",\"Europe\",\"North America\",\"South America\",\"Africa\",\"Asia\",\"Europe\",\"North America\",\"South America\",\"Africa\",\"Asia\",\"Europe\",\"North America\",\"South America\",\"Africa\",\"Asia\",\"Europe\",\"North America\",\"South America\",\"Africa\",\"Asia\",\"Europe\",\"North America\",\"South America\",\"Africa\",\"Asia\",\"Europe\",\"North America\",\"South America\",\"Africa\",\"Asia\",\"Europe\",\"North America\",\"South America\",\"Africa\",\"Asia\",\"Europe\",\"North America\",\"South America\",\"Africa\",\"Asia\",\"Europe\",\"North America\",\"South America\",\"Africa\",\"Asia\",\"Europe\",\"North America\",\"South America\",\"Africa\",\"Asia\",\"Europe\",\"North America\",\"South America\",\"Africa\",\"Asia\",\"Europe\",\"North America\",\"South America\",\"Africa\",\"Asia\",\"Europe\",\"North America\",\"South America\",\"Africa\",\"Asia\",\"Europe\",\"North America\",\"South America\",\"Africa\",\"Asia\",\"Europe\",\"North America\",\"South America\",\"Africa\",\"Asia\",\"Europe\",\"North America\",\"South America\",\"Africa\",\"Asia\",\"Europe\",\"North America\",\"South America\",\"Africa\",\"Asia\",\"Europe\",\"North America\",\"South America\",\"Africa\",\"Asia\",\"Europe\",\"North America\",\"South America\",\"\",\"\",\"\",\"\",\"\"],\"type\":\"sunburst\",\"values\":[0.0020182778873846295,0.02712731925783749,0.0001133863981676758,0.014075495841330775,0.0016666666666666668,0.09891234804862443,0.0002267727963353516,0.028748707342295763,0.0029430582213691627,0.00013606367780121098,0.3042399172699069,0.005813953488372093,0.0002559181062060141,0.055232558139534885,0.0022750775594622533,0.015866922584772868,0.013650465356773526,0.0007029956686395902,0.01471529110684581,0.005,0.008617366260743359,0.0007677543186180423,0.0016666666666666668,0.0090850927703135,0.09596690796277146,0.005646642628750254,0.006666666666666667,0.06269993602047345,0.015511892450879009,0.00020682523267838678,2.267727963353516e-05,0.011666666666666669,0.0029430582213691627,0.004343329886246122,0.05166666666666666,0.3797824696097249,0.0008957133717210493,0.00020682523267838678,0.002481902792140641,0.02666666666666667,0.0002559181062060141,0.007982402431004378,0.008333333333333333,0.04666666666666667,0.022631925074268092,0.006142034548944338,0.16504653567735264,0.0050116787990112715,0.00020682523267838678,4.535455926707032e-05,0.31830403309203725,0.015964804862008755,0.0006397952655150353,0.03412616339193381,0.003722854188210962,0.0005896092704719142,0.0014477766287487074,0.00703205791106515,0.03666666666666667,0.006032156382520353,0.0005118362124120282,0.00020682523267838678,0.016803864208449554,0.043333333333333335,0.0022750775594622533,0.07961992879334195,0.05169545745361484,0.0022223734040864463,4.535455926707032e-05,0.028748707342295763,0.000566931990838379,0.14093929292242102,0.059152016546018614,0.002902691793092501,0.015355086372360844,0.0045501551189245076,0.002068252326783868,0.0006397952655150353,0.00946896992962252,0.01944157187176836,0.006168220060321564,0.0004136504653567735,0.0029430582213691627,0.07267441860465118,0.0015355086372360845,0.0029069767441860465,0.001034126163391934,0.09302325581395347,0.0016666666666666668,0.0029069767441860465,0.007445708376421924,0.01344364012409514,0.00473448496481126,0.017441860465116282,0.031349968010236734,0.00020682523267838678,0.00020409551670181643,0.07666666666666666,0.008503979862575686,0.005170630816959669,0.0005118362124120282,0.005813953488372093,0.011666666666666669,0.0029069767441860465,0.005,0.0029069767441860465,0.05476647472808701,0.005813953488372093,0.015942127582375218,0.0016781186928816018,0.40166666666666667,0.004422069528539356,0.00012795905310300704,0.065,0.00015874095743474614,0.005813953488372093,0.00020409551670181643,0.034883720930232565,2.267727963353516e-05,0.0029069767441860465,0.00210898700591877,0.008829174664107486,0.03971044467425026,0.003583010182098556,0.007238883143743538,0.06143275052724675,0.0009297684649749416,0.03166666666666667,0.028662827895073576,0.09712092130518234,0.0019048914892169527,0.05166666666666666,0.003071017274472169,0.003838771593090211,0.008720930232558141,0.003722854188210962,0.0008273009307135469,0.02333333333333333,0.004807583282309454,0.010134436401240952,0.0007710275075401955,0.002068252326783868,0.02906976744186046,2.267727963353516e-05,0.0006397952655150353,0.006621765652992267,0.0008163820668072657,0.006667120212259336,0.002688728024819028,0.0872093023255814,0.008413270744041544,0.0016666666666666668,0.061666666666666675,0.0161235458194435,0.0002559181062060141,9.070911853414063e-05,0.16339193381592554,0.008333333333333333,0.00020682523267838678,0.013179782469609724,0.0015355086372360845,0.003516028955532575,0.07613563659628919,0.0007677543186180423,0.002303262955854127,0.006666666666666667,0.05190829308116198,0.013333333333333334,0.0004136504653567735,0.01253998720409469,0.005,0.265,0.008720930232558141,0.017007959725151373,0.0016666666666666668,0.1580144777662875,0.07833333333333334,0.038052475225072,0.14534883720930233,0.0049209696804771285,0.01344364012409514,0.00765253360910031,0.0029069767441860465,0.06,2.267727963353516e-05,0.011134544300065764,0.014075495841330775,0.011627906976744186,0.00013606367780121098,0.015,0.017146513115802942,0.0008163820668072657,0.03833333333333333,0.008277207066240334,0.11458117890382627,0.0001133863981676758,0.008686659772492245,0.002431222008957134,0.005,0.0016666666666666668,0.02319885706510647,0.00020682523267838678,0.0007677543186180423,0.0029069767441860465,0.02197428396489557,0.00038387715930902113,0.02325581395348837,0.006666666666666667,0.00020409551670181643,0.03350568769389865,4.535455926707032e-05,0.04331360410005216,0.0002559181062060141,0.016826541488083088,0.05,0.008333333333333333,0.1547052740434333,0.00012795905310300704,0.0436046511627907,0.00020682523267838678,0.0007256729482731253,0.0033333333333333327,0.00015874095743474614,0.0004136504653567735,0.00012795905310300704,0.0014477766287487074,0.01833333333333333,0.01911694673107014,0.02068252326783868,4.535455926707032e-05,0.00015874095743474614,0.008333333333333333,2.267727963353516e-05,0.0029069767441860465,0.005813953488372093,0.0029069767441860465,0.019961612284069098,0.0016634676903390913,0.032519218994489424,0.0004136504653567735,0.003966730646193218,0.006269993602047345,0.014331413947536788,0.010548086866597724,0.03166666666666667,0.015227127319257837,0.0033269353806781826,0.005986801823253282,0.06999360204734485,0.007677543186180422,0.05873836608066184,0.004136504653567736,0.00392967942088935,0.0032882055468625984,0.0033333333333333327,0.0022750775594622533,0.009819262081320723,0.027300930713547045,0.005584281282316443,0.0016666666666666668,0.0002559181062060141,0.008720930232558141,0.0009978003038755472,0.0031989763275751767,0.03412616339193381,0.0005118362124120282,0.0003174819148694924,0.008701215611004478,0.043433298862461216,0.015738032065673403,0.034883720930232565,0.005246321177223289,0.03285937818899245,0.008720930232558141,0.0004762228723042384,0.0002559181062060141,0.025439503619441573,0.0475996099507903,0.008720930232558141,0.07259565667011375,0.0008273009307135469,0.0005118362124120282,0.17325441640020864,0.01202815099168266,0.06474728087012156,0.003071017274472169,0.05,0.03736404350607805,0.008686659772492245,0.0452947259565667,0.011516314779270634,0.0022750775594622533,0.0015193777354468561,0.00015874095743474614,2.267727963353516e-05,0.0028150991682661546,0.005758157389635317,0.0013606367780121095,0.0016666666666666668,0.005246321177223289,0.0014477766287487074,0.010620601407549585,0.07102523981223212,0.052463211772232884,0.0452947259565667,0.02616279069767442,0.0006204756980351603,0.0019048914892169527,0.001919385796545105,0.002902691793092501,0.007859358841778697,0.020348837209302327,0.001861427094105481,0.03659628918746001,0.00020682523267838678,0.04471959543733134,0.0009978003038755472,0.1581573896353167,0.017441860465116282,0.005997931747673217,0.327319257837492,0.0029069767441860465,0.0005896092704719142,2.267727963353516e-05,0.0002559181062060141,0.0345489443378119,0.0436046511627907,0.0005896092704719142,0.00020409551670181643,0.0011516314779270633,0.04258793115177903,0.03147792706333973,0.0022750775594622533,0.16569767441860464,0.024440179142674344,0.008720930232558141,0.02616279069767442,0.006508379254824591,0.05813953488372092,0.002403791641154727,0.05182341650671785,0.0033333333333333327,0.17394002068252326,2.267727963353516e-05,0.11627906976744184,0.00020682523267838678,0.002687140115163148,0.005601288069483185,0.09245087900723888,0.0033333333333333327,0.0004136504653567735,0.3943698016634677,0.2324715615305067,0.03,0.015057713676667348,0.016327641336145317,0.0029069767441860465,0.00020682523267838678,0.002381114361521192,0.290722968650032,0.0006576411093725198,0.05356773526370217,0.0003174819148694924,0.002687140115163148,0.021203256457355376,0.07267441860465118,0.008333333333333333,0.0755813953488372,0.0004762228723042384,0.0010236724248240564,0.007037747920665387,0.020348837209302327,0.048190279214064116,0.024899653037621608,0.021666666666666667,0.0029430582213691627,0.0029069767441860465,0.010182098555457288,0.008573256557901471,0.020348837209302327,0.04,0.0033333333333333327,0.008333333333333333,0.11918604651162792,0.0029069767441860465,0.005813953488372093,0.0001133863981676758,0.005813953488372093,0.010091389436923144,0.007238883143743538,0.0050116787990112715,0.003710812539987204,0.0015355086372360845,0.0004136504653567735,0.04095139607032058,0.0071433430845635765,0.005813953488372093,0.00012795905310300704,0.00012795905310300704,0.002688728024819028,0.00012795905310300704,0.0005896092704719142,0.0029069767441860465,0.16596289187460012,0.008893485005170631,0.006666666666666667,0.03160588611644274,0.0008273009307135469,0.0007029956686395902,0.004490101367439962,0.03019648397104447,0.003537655622831485,0.0033333333333333327,0.06474363335374289,0.007165706973768394,0.0004136504653567735,0.020348837209302327,0.005246321177223289,0.02616279069767442,0.0006122865501054492,0.016546018614270942,0.0033092037228541877,0.16666666666666666,0.003582853486884197,0.0006204756980351603,0.018822142095834184,0.0016666666666666668,0.029208336167993287,0.005,0.3587772410821598,0.004852937841576525,0.0006397952655150353,0.0033333333333333327,0.011724153570537679,0.00020409551670181643,0.03350568769389865,0.004136504653567736,0.0012409513960703205,0.011627906976744186,0.01695966907962771,0.020348837209302327,0.19253010408871352,0.0029069767441860465,0.065,0.00038387715930902113,0.02325581395348837,0.0026078871578565435,0.0002948046352359571,6.803183890060549e-05,0.0014075495841330773,0.0029069767441860465,0.0017914267434420985,0.0017914267434420985,0.0006576411093725198,0.04426059979317477,0.075,0.0014477766287487074,0.01164427383237364,2.267727963353516e-05,0.02333333333333333,0.019193857965451054,0.010590289588860921,0.0008273009307135469,0.15538472004898293,0.002895553257497415,0.00020682523267838678,0.0016666666666666668,0.007238883143743538,0.0001133863981676758,0.0029069767441860465,0.003838771593090211,0.10287907869481766,0.0016666666666666668,0.00473448496481126,0.0512052974125224,0.00392967942088935,0.005813953488372093,0.00020682523267838678,0.38372093023255816,0.01,0.0029069767441860465,0.095,0.008066184074457083,0.008050434269904979,0.03474663908996898,0.02916235780765253,0.013333333333333334,0.06018614270941055,0.0004136504653567735,0.18259756877799105,0.003838771593090211,0.06686046511627906,0.011168562564632886,0.005,0.027767114523352527,0.013107467628183322,0.0029069767441860465,0.005,0.011666666666666669,4.535455926707032e-05,0.003838771593090211,0.0006122865501054492,0.001919385796545105,0.02034548944337812,9.070911853414063e-05,0.008720930232558141,0.0016666666666666668,0.02827895073576456,0.002303262955854127,0.0005118362124120282,0.005813953488372093,0.04405377456049638,0.0008273009307135469,0.0016666666666666668,0.003710812539987204,0.002993400911626641,2.267727963353516e-05,0.06370217166494313,0.12,0.04364012409513962,0.01861427094105481,0.002559181062060141,0.003071017274472169,0.0006204756980351603,0.035,4.535455926707032e-05,0.00040819103340363286,0.021666666666666667,0.061666666666666675,0.023788466335578386,0.09883720930232558,0.00392967942088935,0.003673719300632696,0.0029069767441860465,0.0029069767441860465,0.004963805584281282,0.0016554414132480667,0.0003174819148694924,0.013333333333333334,0.11833333333333332,0.10465116279069768,0.02333333333333333,0.0873302038687439,0.003764428419166837,0.07833333333333334,0.0029069767441860465,0.006825861169694082,0.002303262955854127,0.00012795905310300704,0.0029069767441860465,0.013650465356773526,0.07848837209302326,0.01625079974408189,0.0021996961244529108,0.0029069767441860465,0.0029069767441860465,0.06116062317164433,0.04941860465116279,0.0012409513960703205,0.05979998639363221,0.17087330203868745,0.054601861427094105,0.0020863097262852352,0.0029069767441860465,0.0017914267434420985,0.043433298862461216,0.0006204756980351603,0.0019956006077510944,0.006666666666666667,0.0002948046352359571,0.0029069767441860465,0.008720930232558141,2.267727963353516e-05,0.01,0.00018141823706828127,0.015511892450879009,0.0016666666666666668,0.0022750775594622533,0.36199741479012176,0.004606525911708253,0.010431548631426174,0.0016327641336145314,0.002789305394924825,0.0004136504653567735,0.0022750775594622533,0.0014075495841330773,0.0872093023255814,0.038899552143314135,0.020348837209302327,0.0016634676903390913,0.0029069767441860465,0.001919385796545105,0.008333333333333333,0.020889348500517064,0.018407445708376415,0.0020473448496481127,0.0033092037228541877,0.07921406411582213,0.0003174819148694924,0.005,0.008333333333333333,0.0016666666666666668,0.0033333333333333327,0.003174819148694923,0.2289187460012796,0.16468330134357007,0.00038387715930902113,0.0016666666666666668,0.0017914267434420985,0.00038387715930902113,0.008333333333333333,0.025,0.0037190738598997662,0.01453488372093023,0.0012926049391115042,0.1957773512476008,0.014422749846928363,0.009275007370115879,0.1482558139534884,0.009307135470527405,0.00012795905310300704,0.0467605506043495,0.003071017274472169,0.013333333333333334,0.03166666666666667,0.011388355726167629,0.0016666666666666668,0.012359117400276664,0.0033333333333333327,0.002267727963353516,0.031023784901758014,0.029503140803229244,0.0033333333333333327,0.07833333333333334,0.007664920516134884,0.014513458965462503,0.03877159309021113,0.001034126163391934,0.005,0.0007677543186180423,0.003838771593090211,0.0033333333333333327,0.0010236724248240564,0.0006204756980351603,0.001034126163391934,0.032885211995863486,0.0045501551189245076,0.007800984193936095,0.0029069767441860465,0.011666666666666669,0.0033333333333333327,0.005125065197178947,9.070911853414063e-05,0.0033333333333333327,0.09011627906976744,0.028333333333333325,0.005377456049638056,0.055,0.022518538676100416,0.0312306101344364,0.037689638750935436,0.014270941054808688,0.0157187176835574,0.006666666666666667,0.006525911708253359,0.0016666666666666668,0.009411071047917092,0.020348837209302327,0.03672424824056302,0.16596289187460012,0.0012409513960703205,0.00012795905310300704,0.0029069767441860465,0.008458625303308615,0.0004136504653567735,0.05853154084798345,0.0029069767441860465,2.267727963353516e-05,0.002431222008957134,0.0002267727963353516,0.03410662856883688,0.013333333333333334,0.03329886246122027,0.008061420345489444,0.0004136504653567735,0.0033333333333333327,0.015,0.00020682523267838678,0.006666666666666667,0.03333333333333333,0.01453488372093023,0.05666666666666665,0.02584772872680742,0.02751119641714652,0.0031023784901758012,0.011666666666666669,0.0010204775835090825,0.0010236724248240564,0.0015874095743474614,0.030115427353334695,0.010386194072159105,0.018686078418032968,0.004343329886246122,0.00818937939859245,0.01164427383237364,0.003424269224663809,0.00020682523267838678,0.029185658888359764,0.00012795905310300704,0.0022223734040864463,0.009720785935884178,0.0029069767441860465,0.05898912348048625,0.005170630816959669,0.0014967004558133206,0.02855069505862077,0.008720930232558141,0.0006122865501054492,0.3120847223167109,0.002335759802254121,0.0016666666666666668,0.049572533278907864,0.17352654375581106,0.011666666666666669,0.005813953488372093,4.535455926707032e-05,0.03197674418604651,0.02906976744186046,0.36281379685692905,0.043333333333333335,0.00012795905310300704,0.01964839710444674,0.006531056534458127,0.004331360410005216,0.005813953488372093,0.05222577499603148,0.0033333333333333327,0.08139534883720931,0.02,0.1482558139534884,0.005170630816959669,0.16666666666666666,0.0029069767441860465,0.008333333333333333,0.008333333333333333,0.0031989763275751767,0.09724888035828536,0.0007677543186180423,0.0272552783109405,0.0002559181062060141,0.05604606525911708,0.01265392203551262,0.0033789146653967392,0.0006204756980351603,0.0016666666666666668,6.803183890060549e-05,0.0016546018614270938,0.01,0.0033333333333333327,0.0004762228723042384,0.03333333333333333,0.0002267727963353516,0.0004136504653567735,0.06686046511627906,0.011627906976744186,0.00210898700591877,0.014785586321064925,0.013333333333333334,0.005986801823253282,0.0045127786470734975,0.011666666666666669,0.07925709231920539,0.0007677543186180423,0.02435539832641676,0.30412499716534,0.011666666666666669,0.00043086831303716807,0.008066184074457083,0.0005215774315713087,0.035188739603326934,0.0022223734040864463,0.0033333333333333327,0.1686046511627907,0.0029069767441860465,0.011666666666666669,0.04777662874870734,0.0008957133717210493,0.08148914167528439,0.00020682523267838678,0.0377906976744186,0.0001133863981676758,0.005964124543619748,0.00345489443378119,0.1340227507755946,0.005,0.0008957133717210493,0.005813953488372093,0.01453488372093023,0.0012409513960703205,0.22093023255813954,0.0017688278114157425,0.1032496541714856,0.0008273009307135469,0.013563659628918746,0.025,0.08,0.0012409513960703205,0.01253998720409469,0.002494500759688868,0.0015355086372360845,0.013333333333333334,0.002895553257497415,4.535455926707032e-05,0.0033269353806781826,0.005,0.006825232678386763,0.0016546018614270938,0.0015355086372360845,0.005964124543619748,0.0033333333333333327,0.04350607805502239,0.001861427094105481,0.11044467425025853,0.05182341650671785,0.01961584688300792,0.07631851085832471,0.02254121595573395,0.016666666666666666,0.02616279069767442,0.001034126163391934,0.035,0.10833333333333334,0.01158221302998966,0.0010236724248240564,0.01957773512476008,0.061676263595649386,0.00012795905310300704,0.06423544465770953,0.00020682523267838678,0.0016666666666666668,0.005246321177223289,0.003722854188210962,0.01799379524301965,0.06204756980351603,0.003991201215502189,0.14022750775594622,0.03608445297504798,0.04198552223371251,0.17481914869492254,0.002068252326783868,0.09238643634037108,0.007037747920665387,0.004059233054402794,9.070911853414063e-05,0.004104587613669864,0.0012795905310300705,0.0006397952655150353,0.044881075491209926,0.02712731925783749,0.0012409513960703205,0.022392834293026232,0.0016666666666666668,0.0002559181062060141,0.013179782469609724,0.002303262955854127,0.0024718234800553325,0.0002948046352359571,0.005813953488372093,0.00038551375377009775,0.008317338451695458,0.0016666666666666668,0.00038387715930902113,0.0004136504653567735,0.03710812539987205,0.05277002970723632,0.0005215774315713087,0.06666666666666668,0.007007279406762365,0.08139534883720931,0.04785668586052464,0.03197674418604651,0.0016546018614270938,0.0006204756980351603,0.09883720930232558,0.015,0.00020682523267838678,0.0033333333333333327,0.008720930232558141,0.006666666666666667,0.0033333333333333327,0.009341010876519514,0.01870875569766651,0.04158669225847729,0.011168562564632886,0.045,0.0017914267434420985,0.06213574619588634,0.008686659772492245,0.06833013435700576,0.0007677543186180423,0.017710955393790962,0.05232558139534884,0.007445708376421924,0.09593023255813954,0.059358841778697,0.005,0.004963805584281282,0.00018141823706828127,0.002559181062060141,0.1110651499482937,0.15666666666666668,0.008333333333333333,0.000272127355602422,0.013333333333333334,0.003333560106129669,0.015866922584772868,0.0015193777354468561,0.028335056876938988,0.0028150991682661546,0.001034126163391934,0.00015874095743474614,0.09633308388325736,0.00818937939859245,2.267727963353516e-05,0.2223053722475452,0.003242850987595528,0.09593023255813954,0.009927611168562564,0.04941860465116279,0.01,0.007421625079974408,0.06964192575458647,0.05563598759048604,0.00013606367780121098,0.0031989763275751767,0.015828741184207542,0.0009524457446084768,0.08277207066240334,0.013333333333333334,0.2267441860465116,0.006666666666666667,0.06686046511627906,0.002834659954191895,0.06845809341010876,0.0006397952655150353,0.0029069767441860465,0.0016666666666666668,0.08730752658911038,0.0008617366260743361,0.0049904030710172746,0.011627906976744186,0.002687140115163148,0.0016634676903390913,0.005374515273147833,0.0028150991682661546,0.034883720930232565,0.0016666666666666668,0.02295760082730093,0.01453488372093023,0.002688728024819028,0.02333333333333333,0.002834659954191895,0.0031023784901758012,0.0033269353806781826,0.0028150991682661546,0.007293666026871402,0.1621241202815099,0.009596928982725529,0.0019956006077510944,0.006666666666666667,0.0012795905310300705,0.00012795905310300704,0.03333333333333333,0.08227767114523353,0.0240605936911808,0.03950382112161825,0.013650465356773526,0.061046511627906974,0.01215611004478567,0.07426809079982766,0.005502239283429303,0.0011792185409438285,0.02906976744186046,0.0010236724248240564,0.0017461505317822074,0.0009297684649749416,0.09883720930232558,0.00020682523267838678,0.005873415425085606,0.017441860465116282,0.0014477766287487074,0.0033333333333333327,0.00012795905310300704,0.00951396070320579,0.13,0.010492642354446578,0.0006204756980351603,0.0002559181062060141,0.002358437081887657,0.0006204756980351603,0.0029069767441860465,2.267727963353516e-05,0.0008957133717210493,0.01964839710444674,0.006411582213029989,0.02616279069767442,0.0004136504653567735,0.018682021753039027,0.020348837209302327,0.00780550223928343,0.005813953488372093,0.0017461505317822074,0.0033092037228541877,0.008720930232558141,0.3530506721820062,0.0029069767441860465,0.0016100868539809965,0.01158221302998966,0.002688728024819028,0.03544458806721545,0.0655635987590486,0.025,0.011627906976744186,0.005813953488372093,0.0062047569803516025,0.02405630198336532,0.08166666666666668,0.0002494500759688868,0.05936911808059505,0.0022750775594622533,0.0012245731002108989,0.008720930232558141,0.00601407549584133,0.015488581989704516,0.00038387715930902113,0.0690978886756238,0.0062047569803516025,0.0016666666666666668,0.0029069767441860465,0.015035036397033812,0.0004136504653567735,0.0039004920969680475,0.017348118919654397,0.023371251292657703,0.00012795905310300704,0.015925542916235786,0.009596928982725529,0.0016666666666666668,0.0377906976744186,0.0033092037228541877,0.02802303262955854,0.0006397952655150353,0.05732565579014715,0.011666666666666669,0.020348837209302327,0.004343329886246122,0.0007677543186180423,0.007982402431004378,0.011388355726167629,0.00020682523267838678,0.1360183232419439,2.267727963353516e-05,0.005,0.02081774270358528,0.0006122865501054492,0.026999360204734486,0.0033333333333333327,0.02963920448103045,0.0009751230242420119,0.05079974408189378,0.008686659772492245,0.0006397952655150353,0.03197674418604651,0.023371251292657703,0.0012409513960703205,0.00852665714220922,2.267727963353516e-05,0.055232558139534885,0.0006204756980351603,0.2433333333333333,0.016634676903390915,0.00285733723382543,0.001861427094105481,0.01833333333333333,0.038052475225072,0.002068252326783868,0.007037747920665387,0.09720785935884177,2.267727963353516e-05,0.04901758014477766,0.011666666666666669,0.0377906976744186,0.006397952655150353,0.11627906976744184,0.0018822142095834184,0.02325581395348837,0.145,0.018426103646833013,0.0436046511627907,0.02616279069767442,0.14415718717683554,0.031644260599793174,0.006666666666666667,0.05923305440279384,0.007933461292386436,0.14112071115948932,0.00765253360910031,0.004606525911708253,0.002895553257497415,0.017075991564051974,0.0004136504653567735,0.013857290589451914,0.008720930232558141,0.005813953488372093,0.016666666666666666,0.13294945617402432,0.0163787587971849,0.03666666666666667,0.0029069767441860465,0.0006204756980351603,0.001034126163391934,0.009720785935884178,0.0004989001519377736,4.535455926707032e-05,0.4680232558139535,0.0006204756980351603,0.006485701975191056,0.0010236724248240564,0.3083333333333333,0.005,0.02034548944337812,0.006142034548944338,0.008720930232558141,0.12,0.005630198336532309,0.0027439508356577546,0.02,0.01,0.0002559181062060141,0.0062047569803516025,0.0008273009307135469,0.2761627906976744,0.03333333333333333,0.005813953488372093,0.0029069767441860465,0.04069097888675624,0.0016666666666666668,0.04312220089571337,0.0021753039027511195,0.0007677543186180423,0.0016666666666666668,0.008277207066240334,0.03784901758014478,0.005813953488372093,0.00013606367780121098,0.2267441860465116,0.00012795905310300704,0.39166666666666666,0.017441860465116282,0.34146845915201657,0.0033333333333333327,0.02333333333333333,0.3777351247600768,0.02906976744186046,0.02098528470889316,0.05129265770423992,0.0140641158221303,0.010364683301343571,0.04,0.06845915201654602,0.002948046352359571,0.001861427094105481,0.017892373630859243,0.18333333333333326,0.006781829814459373,0.0029069767441860465,0.012616339193381593,0.01599488163787588,0.0011792185409438285,0.0004535455926707032,0.003923169376601583,0.018170185540627,0.06395348837209303,0.05783749200255917,0.16773526370217168,0.08333333333333333,0.07848837209302326,0.15810599360500716,0.01944157187176836,0.00012795905310300704,0.05294725956566701,0.02326688890400708,0.01923474663908997,0.0029430582213691627,0.013857290589451914,0.10755813953488373,0.00038387715930902113,0.0008617366260743361,0.000272127355602422,0.0007483502279066603,0.02,0.013515658661586957,0.029576008273009307,0.005813953488372093,0.01,0.005584281282316443,0.01727447216890595,0.00020682523267838678,0.00018141823706828127,0.03971044467425026,0.020885774542485882,0.00034015919450302743,0.004963805584281282,0.02906976744186046,0.01453488372093023,0.015098241985522232,0.0008273009307135469,0.003966730646193218,0.004222648752399232,0.009365716488650021,0.005758157389635317,0.039707916638320066,0.005,0.012948726670748577,0.05579014715291107,0.002688728024819028,0.0033333333333333327,0.23837209302325585,0.002688728024819028,0.005758157389635317,0.03292741002789305,0.027915731228881784,0.006525911708253359,0.0004136504653567735,0.008720930232558141,0.00473448496481126,0.01453488372093023,0.20889348500517066,0.0004535455926707032,0.003710812539987204,0.01836859650316348,0.04074457083764218,0.019321817018554063,0.00392967942088935,0.005630198336532309,6.803183890060549e-05,0.00012795905310300704,0.00392967942088935,0.003265528267229064,2.267727963353516e-05,0.0029069767441860465,0.037508220513867166,0.007165706973768394,0.08521199586349534,0.19833333333333333,0.038003838771593086,0.0021753039027511195,0.0004136504653567735,0.013333333333333334,0.005487901671315509,0.008720930232558141,0.00036283647413656265,0.06950586207678527,0.04109123069596572,0.023516338979975963,0.008333333333333333,0.005813953488372093,0.008821461777445177,0.0012926049391115042,0.00703205791106515,0.0032882055468625984,0.004136504653567736,0.005997931747673217,0.00020682523267838678,0.017786970010341262,0.004350607805502239,0.02900424065129148,0.0818937939859245,0.007859358841778697,0.011627906976744186,0.00020682523267838678,0.001861427094105481,0.001972923328117559,0.003722854188210962,0.13372093023255813,0.04235444657709533,0.0018595369299498831,0.03285937818899245,0.03453981385729059,0.008118466108805587,0.0033269353806781826,0.00392967942088935,9.070911853414063e-05,0.0009751230242420119,0.01453488372093023,0.0029069767441860465,0.0029430582213691627,0.05438011656121732,0.020348837209302327,0.010295484953624964,0.0013152822187450393,0.011666666666666669,0.0016666666666666668,0.034883720930232565,0.002687140115163148,0.03536711478800414,0.024612202688728026,0.4796511627906977,0.004343329886246122,0.061666666666666675,0.008720930232558141,0.0959702474091208,0.4796511627906977,0.3536711478800414,0.005584281282316443,0.0029430582213691627,0.22,0.010341261633919338,0.00038387715930902113,0.00765253360910031,0.013333333333333334,0.0016666666666666668,0.014203454894433781,0.03601152005805384,0.0029069767441860465,0.00020682523267838678,0.01,0.00780550223928343,0.01833333333333333,0.00020409551670181643,0.09883720930232558,4.535455926707032e-05,0.0016327641336145314,0.00012795905310300704,0.08628704900560129,0.012903372111481506,0.017166700682586116,0.002358437081887657,0.020636324466516996,0.008413270744041544,2.267727963353516e-05,0.01344364012409514,0.005813953488372093,0.004784906002675919,0.0181191464271946,0.0011516314779270633,0.0260561942989319,0.0021543415651858397,0.05794044946368234,0.0016634676903390913,0.045,0.02328854766474728,0.029174664107485607,0.05333333333333334,0.03166666666666667,0.00012795905310300704,0.0014477766287487074,0.006961924847495296,0.02357807652533609,0.0004136504653567735,0.046742502585315406,0.0029069767441860465,0.01902792140641158,0.0007677543186180423,0.0017688278114157425,0.011627906976744186,0.09666666666666666,6.803183890060549e-05,0.007238883143743538,0.056670113753877975,0.0008273009307135469,0.0006204756980351603,6.803183890060549e-05,0.021625079974408188,0.01453488372093023,0.001034126163391934,0.018407445708376415,0.005813953488372093,0.07,0.0016666666666666668,0.00038387715930902113,0.007445708376421924,0.0029069767441860465,0.07094105480868666,0.2790697674418605,0.0022750775594622533,0.06973768394113884,0.005,0.015866922584772868,0.004606525911708253,0.001034126163391934,0.0016634676903390913,0.05084246093838583,0.0043086831303716785,0.0016666666666666668,0.01902792140641158,0.000566931990838379,0.0012409513960703205,0.002948046352359571,0.0033333333333333327,0.01957773512476008,0.04081893793985925,0.00951396070320579,0.0008163820668072657,0.07300930713547052,0.016546018614270942,0.0029069767441860465,0.0011516314779270633,0.4033333333333333,0.03166666666666667,0.0029430582213691627,0.02666666666666667,0.009927611168562564,0.0004136504653567735,0.12859884836852206,0.17732558139534885,0.05732816291357689,0.0004989001519377736,0.011666666666666669,0.02653241717123614,0.0029069767441860465,0.08259065242533506,0.0033333333333333327,0.0031023784901758012,0.0006397952655150353,0.021666666666666667,0.2037108125399872,0.0009297684649749416,0.08333333333333333,0.0016666666666666668,0.016666666666666666,0.00012795905310300704,0.02666666666666667,0.028918746001279583,0.125,0.045,0.005813953488372093,0.0006803183890060549,0.0002559181062060141,0.011132437619961612,0.09265936458262466,0.06639089968976215,0.0011516314779270633,0.0014477766287487074,0.0014477766287487074,0.01453488372093023,0.011627906976744186,0.09635316698656428,0.0020473448496481127,0.0029069767441860465,0.008273009307135471,4.535455926707032e-05,0.049904030710172735,0.0002559181062060141,0.08777991042866283,0.0345489443378119,6.803183890060549e-05,0.0028150991682661546,0.10666666666666665,0.13567735263702171,0.14843250159948815,0.14150622491325943,0.22674418604651167,0.025000000000000005,0.07156153050672183,0.061676263595649386,0.07302084041998323,0.06686046511627908,0.4683333333333334,0.4119958634953465,0.45515035188739605,0.4165816268680409,0.2616279069767442,0.049999999999999996,0.030816959669079633,0.03774792066538708,0.03555797446538314,0.01744186046511628,0.6,0.5770423991726991,0.5353806781829815,0.5864117740435858,0.5494186046511628,0.8083333333333331,0.7114788004136505,0.7740243122200897,0.7451754087579653,0.9098837209302326,0.3466666666666667,0.4194415718717684,0.3852847088931542,0.42857790779418103,0.6046511627906976,0.021666666666666667,0.06845915201654602,0.06078055022392834,0.06029888654556999,0.04069767441860465,0.8466666666666669,0.9013443640124097,0.9056941778630841,0.8492414449962584,0.9127906976744191,0.13833333333333334,0.11892450879007238,0.12053742802303263,0.13794589201079438,0.04069767441860465,0.7350000000000002,0.6955532574974147,0.7278310940499041,0.7453341497154,0.683139534883721,0.06999999999999999,0.09203722854188212,0.07818298144593729,0.06678458852076105,0.11918604651162791,0.39166666666666666,0.3586349534643227,0.35636596289187467,0.36385695172007165,0.3750000000000001,0.075,0.0610134436401241,0.06129238643634036,0.05705603555797446,0.03488372093023256,0.145,0.15925542916235785,0.16813819577735123,0.16257341769281355,0.18895348837209303,1.1533333333333335,1.5997931747673206,1.525527831094049,1.4678549561194634,2.066860465116278,0.015000000000000001,0.013029989658738365,0.012795905310300705,0.013152822187450394,0.0029069767441860465,0.9166666666666665,1.029576008273009,0.9723608445297504,0.9677982629203801,0.9505813953488372,0.425,0.3842812823164426,0.3943698016634677,0.3764428419166837,0.2238372093023256,0.495,0.5040330920372286,0.5060780550223929,0.544730934077148,0.6889534883720931,7.833333333333335,8.343950361944154,8.287651951375551,8.239902941243153,8.965116279069747]}],                        {\"legend\":{\"tracegroupgap\":0},\"template\":{\"data\":{\"bar\":[{\"error_x\":{\"color\":\"#2a3f5f\"},\"error_y\":{\"color\":\"#2a3f5f\"},\"marker\":{\"line\":{\"color\":\"#E5ECF6\",\"width\":0.5},\"pattern\":{\"fillmode\":\"overlay\",\"size\":10,\"solidity\":0.2}},\"type\":\"bar\"}],\"barpolar\":[{\"marker\":{\"line\":{\"color\":\"#E5ECF6\",\"width\":0.5},\"pattern\":{\"fillmode\":\"overlay\",\"size\":10,\"solidity\":0.2}},\"type\":\"barpolar\"}],\"carpet\":[{\"aaxis\":{\"endlinecolor\":\"#2a3f5f\",\"gridcolor\":\"white\",\"linecolor\":\"white\",\"minorgridcolor\":\"white\",\"startlinecolor\":\"#2a3f5f\"},\"baxis\":{\"endlinecolor\":\"#2a3f5f\",\"gridcolor\":\"white\",\"linecolor\":\"white\",\"minorgridcolor\":\"white\",\"startlinecolor\":\"#2a3f5f\"},\"type\":\"carpet\"}],\"choropleth\":[{\"colorbar\":{\"outlinewidth\":0,\"ticks\":\"\"},\"type\":\"choropleth\"}],\"contour\":[{\"colorbar\":{\"outlinewidth\":0,\"ticks\":\"\"},\"colorscale\":[[0.0,\"#0d0887\"],[0.1111111111111111,\"#46039f\"],[0.2222222222222222,\"#7201a8\"],[0.3333333333333333,\"#9c179e\"],[0.4444444444444444,\"#bd3786\"],[0.5555555555555556,\"#d8576b\"],[0.6666666666666666,\"#ed7953\"],[0.7777777777777778,\"#fb9f3a\"],[0.8888888888888888,\"#fdca26\"],[1.0,\"#f0f921\"]],\"type\":\"contour\"}],\"contourcarpet\":[{\"colorbar\":{\"outlinewidth\":0,\"ticks\":\"\"},\"type\":\"contourcarpet\"}],\"heatmap\":[{\"colorbar\":{\"outlinewidth\":0,\"ticks\":\"\"},\"colorscale\":[[0.0,\"#0d0887\"],[0.1111111111111111,\"#46039f\"],[0.2222222222222222,\"#7201a8\"],[0.3333333333333333,\"#9c179e\"],[0.4444444444444444,\"#bd3786\"],[0.5555555555555556,\"#d8576b\"],[0.6666666666666666,\"#ed7953\"],[0.7777777777777778,\"#fb9f3a\"],[0.8888888888888888,\"#fdca26\"],[1.0,\"#f0f921\"]],\"type\":\"heatmap\"}],\"heatmapgl\":[{\"colorbar\":{\"outlinewidth\":0,\"ticks\":\"\"},\"colorscale\":[[0.0,\"#0d0887\"],[0.1111111111111111,\"#46039f\"],[0.2222222222222222,\"#7201a8\"],[0.3333333333333333,\"#9c179e\"],[0.4444444444444444,\"#bd3786\"],[0.5555555555555556,\"#d8576b\"],[0.6666666666666666,\"#ed7953\"],[0.7777777777777778,\"#fb9f3a\"],[0.8888888888888888,\"#fdca26\"],[1.0,\"#f0f921\"]],\"type\":\"heatmapgl\"}],\"histogram\":[{\"marker\":{\"pattern\":{\"fillmode\":\"overlay\",\"size\":10,\"solidity\":0.2}},\"type\":\"histogram\"}],\"histogram2d\":[{\"colorbar\":{\"outlinewidth\":0,\"ticks\":\"\"},\"colorscale\":[[0.0,\"#0d0887\"],[0.1111111111111111,\"#46039f\"],[0.2222222222222222,\"#7201a8\"],[0.3333333333333333,\"#9c179e\"],[0.4444444444444444,\"#bd3786\"],[0.5555555555555556,\"#d8576b\"],[0.6666666666666666,\"#ed7953\"],[0.7777777777777778,\"#fb9f3a\"],[0.8888888888888888,\"#fdca26\"],[1.0,\"#f0f921\"]],\"type\":\"histogram2d\"}],\"histogram2dcontour\":[{\"colorbar\":{\"outlinewidth\":0,\"ticks\":\"\"},\"colorscale\":[[0.0,\"#0d0887\"],[0.1111111111111111,\"#46039f\"],[0.2222222222222222,\"#7201a8\"],[0.3333333333333333,\"#9c179e\"],[0.4444444444444444,\"#bd3786\"],[0.5555555555555556,\"#d8576b\"],[0.6666666666666666,\"#ed7953\"],[0.7777777777777778,\"#fb9f3a\"],[0.8888888888888888,\"#fdca26\"],[1.0,\"#f0f921\"]],\"type\":\"histogram2dcontour\"}],\"mesh3d\":[{\"colorbar\":{\"outlinewidth\":0,\"ticks\":\"\"},\"type\":\"mesh3d\"}],\"parcoords\":[{\"line\":{\"colorbar\":{\"outlinewidth\":0,\"ticks\":\"\"}},\"type\":\"parcoords\"}],\"pie\":[{\"automargin\":true,\"type\":\"pie\"}],\"scatter\":[{\"marker\":{\"colorbar\":{\"outlinewidth\":0,\"ticks\":\"\"}},\"type\":\"scatter\"}],\"scatter3d\":[{\"line\":{\"colorbar\":{\"outlinewidth\":0,\"ticks\":\"\"}},\"marker\":{\"colorbar\":{\"outlinewidth\":0,\"ticks\":\"\"}},\"type\":\"scatter3d\"}],\"scattercarpet\":[{\"marker\":{\"colorbar\":{\"outlinewidth\":0,\"ticks\":\"\"}},\"type\":\"scattercarpet\"}],\"scattergeo\":[{\"marker\":{\"colorbar\":{\"outlinewidth\":0,\"ticks\":\"\"}},\"type\":\"scattergeo\"}],\"scattergl\":[{\"marker\":{\"colorbar\":{\"outlinewidth\":0,\"ticks\":\"\"}},\"type\":\"scattergl\"}],\"scattermapbox\":[{\"marker\":{\"colorbar\":{\"outlinewidth\":0,\"ticks\":\"\"}},\"type\":\"scattermapbox\"}],\"scatterpolar\":[{\"marker\":{\"colorbar\":{\"outlinewidth\":0,\"ticks\":\"\"}},\"type\":\"scatterpolar\"}],\"scatterpolargl\":[{\"marker\":{\"colorbar\":{\"outlinewidth\":0,\"ticks\":\"\"}},\"type\":\"scatterpolargl\"}],\"scatterternary\":[{\"marker\":{\"colorbar\":{\"outlinewidth\":0,\"ticks\":\"\"}},\"type\":\"scatterternary\"}],\"surface\":[{\"colorbar\":{\"outlinewidth\":0,\"ticks\":\"\"},\"colorscale\":[[0.0,\"#0d0887\"],[0.1111111111111111,\"#46039f\"],[0.2222222222222222,\"#7201a8\"],[0.3333333333333333,\"#9c179e\"],[0.4444444444444444,\"#bd3786\"],[0.5555555555555556,\"#d8576b\"],[0.6666666666666666,\"#ed7953\"],[0.7777777777777778,\"#fb9f3a\"],[0.8888888888888888,\"#fdca26\"],[1.0,\"#f0f921\"]],\"type\":\"surface\"}],\"table\":[{\"cells\":{\"fill\":{\"color\":\"#EBF0F8\"},\"line\":{\"color\":\"white\"}},\"header\":{\"fill\":{\"color\":\"#C8D4E3\"},\"line\":{\"color\":\"white\"}},\"type\":\"table\"}]},\"layout\":{\"annotationdefaults\":{\"arrowcolor\":\"#2a3f5f\",\"arrowhead\":0,\"arrowwidth\":1},\"autotypenumbers\":\"strict\",\"coloraxis\":{\"colorbar\":{\"outlinewidth\":0,\"ticks\":\"\"}},\"colorscale\":{\"diverging\":[[0,\"#8e0152\"],[0.1,\"#c51b7d\"],[0.2,\"#de77ae\"],[0.3,\"#f1b6da\"],[0.4,\"#fde0ef\"],[0.5,\"#f7f7f7\"],[0.6,\"#e6f5d0\"],[0.7,\"#b8e186\"],[0.8,\"#7fbc41\"],[0.9,\"#4d9221\"],[1,\"#276419\"]],\"sequential\":[[0.0,\"#0d0887\"],[0.1111111111111111,\"#46039f\"],[0.2222222222222222,\"#7201a8\"],[0.3333333333333333,\"#9c179e\"],[0.4444444444444444,\"#bd3786\"],[0.5555555555555556,\"#d8576b\"],[0.6666666666666666,\"#ed7953\"],[0.7777777777777778,\"#fb9f3a\"],[0.8888888888888888,\"#fdca26\"],[1.0,\"#f0f921\"]],\"sequentialminus\":[[0.0,\"#0d0887\"],[0.1111111111111111,\"#46039f\"],[0.2222222222222222,\"#7201a8\"],[0.3333333333333333,\"#9c179e\"],[0.4444444444444444,\"#bd3786\"],[0.5555555555555556,\"#d8576b\"],[0.6666666666666666,\"#ed7953\"],[0.7777777777777778,\"#fb9f3a\"],[0.8888888888888888,\"#fdca26\"],[1.0,\"#f0f921\"]]},\"colorway\":[\"#636efa\",\"#EF553B\",\"#00cc96\",\"#ab63fa\",\"#FFA15A\",\"#19d3f3\",\"#FF6692\",\"#B6E880\",\"#FF97FF\",\"#FECB52\"],\"font\":{\"color\":\"#2a3f5f\"},\"geo\":{\"bgcolor\":\"white\",\"lakecolor\":\"white\",\"landcolor\":\"#E5ECF6\",\"showlakes\":true,\"showland\":true,\"subunitcolor\":\"white\"},\"hoverlabel\":{\"align\":\"left\"},\"hovermode\":\"closest\",\"mapbox\":{\"style\":\"light\"},\"paper_bgcolor\":\"white\",\"plot_bgcolor\":\"#E5ECF6\",\"polar\":{\"angularaxis\":{\"gridcolor\":\"white\",\"linecolor\":\"white\",\"ticks\":\"\"},\"bgcolor\":\"#E5ECF6\",\"radialaxis\":{\"gridcolor\":\"white\",\"linecolor\":\"white\",\"ticks\":\"\"}},\"scene\":{\"xaxis\":{\"backgroundcolor\":\"#E5ECF6\",\"gridcolor\":\"white\",\"gridwidth\":2,\"linecolor\":\"white\",\"showbackground\":true,\"ticks\":\"\",\"zerolinecolor\":\"white\"},\"yaxis\":{\"backgroundcolor\":\"#E5ECF6\",\"gridcolor\":\"white\",\"gridwidth\":2,\"linecolor\":\"white\",\"showbackground\":true,\"ticks\":\"\",\"zerolinecolor\":\"white\"},\"zaxis\":{\"backgroundcolor\":\"#E5ECF6\",\"gridcolor\":\"white\",\"gridwidth\":2,\"linecolor\":\"white\",\"showbackground\":true,\"ticks\":\"\",\"zerolinecolor\":\"white\"}},\"shapedefaults\":{\"line\":{\"color\":\"#2a3f5f\"}},\"ternary\":{\"aaxis\":{\"gridcolor\":\"white\",\"linecolor\":\"white\",\"ticks\":\"\"},\"baxis\":{\"gridcolor\":\"white\",\"linecolor\":\"white\",\"ticks\":\"\"},\"bgcolor\":\"#E5ECF6\",\"caxis\":{\"gridcolor\":\"white\",\"linecolor\":\"white\",\"ticks\":\"\"}},\"title\":{\"x\":0.05},\"xaxis\":{\"automargin\":true,\"gridcolor\":\"white\",\"linecolor\":\"white\",\"ticks\":\"\",\"title\":{\"standoff\":15},\"zerolinecolor\":\"white\",\"zerolinewidth\":2},\"yaxis\":{\"automargin\":true,\"gridcolor\":\"white\",\"linecolor\":\"white\",\"ticks\":\"\",\"title\":{\"standoff\":15},\"zerolinecolor\":\"white\",\"zerolinewidth\":2}}},\"title\":{\"text\":\"Ingredient count per recipe for each continent\"}},                        {\"responsive\": true}                    ).then(function(){\n",
              "                            \n",
              "var gd = document.getElementById('9a26f5f8-a58b-429e-9053-d7418a8adbeb');\n",
              "var x = new MutationObserver(function (mutations, observer) {{\n",
              "        var display = window.getComputedStyle(gd).display;\n",
              "        if (!display || display === 'none') {{\n",
              "            console.log([gd, 'removed!']);\n",
              "            Plotly.purge(gd);\n",
              "            observer.disconnect();\n",
              "        }}\n",
              "}});\n",
              "\n",
              "// Listen for the removal of the full notebook cells\n",
              "var notebookContainer = gd.closest('#notebook-container');\n",
              "if (notebookContainer) {{\n",
              "    x.observe(notebookContainer, {childList: true});\n",
              "}}\n",
              "\n",
              "// Listen for the clearing of the current output cell\n",
              "var outputEl = gd.closest('.output');\n",
              "if (outputEl) {{\n",
              "    x.observe(outputEl, {childList: true});\n",
              "}}\n",
              "\n",
              "                        })                };                            </script>        </div>\n",
              "</body>\n",
              "</html>"
            ]
          },
          "metadata": {}
        }
      ]
    },
    {
      "cell_type": "markdown",
      "metadata": {
        "id": "Wvr5kBqQQu1q"
      },
      "source": [
        "#### Notably, every dish contains about 8 ingredients."
      ]
    },
    {
      "cell_type": "code",
      "metadata": {
        "id": "c5kufmPhQu1q"
      },
      "source": [
        "avgI = sunDF2.groupby('continent')[['prevalence']].sum().reset_index()"
      ],
      "execution_count": null,
      "outputs": []
    },
    {
      "cell_type": "code",
      "metadata": {
        "colab": {
          "base_uri": "https://localhost:8080/",
          "height": 323
        },
        "id": "JzaFwtk3Qu1q",
        "outputId": "c540eaea-6c62-4589-d1a0-a8836b25a01b"
      },
      "source": [
        "figure(figsize=(8, 4), dpi=80)\n",
        "plt.bar(data = avgI, x ='continent', height='prevalence',color=(0.5, 0.5, 0.5, 0.6))\n",
        "plt.axhline(avgI.prevalence.mean() ,color='r',  ls='--',  label='Average no. of ingredients per dish')\n",
        "plt.xlabel('continent')\n",
        "plt.ylabel('no. of ingredients per dish')\n",
        "plt.title('No. of ingredients per dish')\n",
        "plt.legend(loc='center left', bbox_to_anchor=(1, 0.5))\n",
        "plt.show()"
      ],
      "execution_count": null,
      "outputs": [
        {
          "output_type": "display_data",
          "data": {
            "image/png": "[encoded data removed]",
            "text/plain": [
              "<Figure size 640x320 with 1 Axes>"
            ]
          },
          "metadata": {
            "needs_background": "light"
          }
        }
      ]
    },
    {
      "cell_type": "markdown",
      "metadata": {
        "id": "IAPq_t8aqyyo"
      },
      "source": [
        "**Creating and running the ML Models**"
      ]
    },
    {
      "cell_type": "code",
      "metadata": {
        "id": "NVDoHVLzZ3fK"
      },
      "source": [
        "# Creating the Features and Target\n",
        "\n",
        "y = refined_df.Cuisine\n",
        "x = refined_df.drop(['Cuisine', 'Continent'], axis=1)"
      ],
      "execution_count": null,
      "outputs": []
    },
    {
      "cell_type": "code",
      "metadata": {
        "id": "eHClCsbQZ4jn"
      },
      "source": [
        "from collections import Counter\n",
        "from imblearn.over_sampling import RandomOverSampler"
      ],
      "execution_count": null,
      "outputs": []
    },
    {
      "cell_type": "code",
      "metadata": {
        "id": "jMX2ksJEZ4qk"
      },
      "source": [
        "# Creating an instance of the RandomOverSampler class to be used to oversample the minority classes.\n",
        "oversampler = RandomOverSampler(random_state=0)"
      ],
      "execution_count": null,
      "outputs": []
    },
    {
      "cell_type": "code",
      "metadata": {
        "colab": {
          "base_uri": "https://localhost:8080/"
        },
        "id": "XA7mP730rnV-",
        "outputId": "c632846e-80c5-4007-9585-7ca0e58203ab"
      },
      "source": [
        "X_over, y_over = oversampler.fit_resample(x, y)"
      ],
      "execution_count": null,
      "outputs": [
        {
          "output_type": "stream",
          "name": "stderr",
          "text": [
            "/usr/local/lib/python3.7/dist-packages/sklearn/utils/deprecation.py:87: FutureWarning:\n",
            "\n",
            "Function safe_indexing is deprecated; safe_indexing is deprecated in version 0.22 and will be removed in version 0.24.\n",
            "\n"
          ]
        }
      ]
    },
    {
      "cell_type": "code",
      "metadata": {
        "colab": {
          "base_uri": "https://localhost:8080/"
        },
        "id": "HP6tDXd7rndT",
        "outputId": "0199312f-79dd-4dd4-e49a-5e5a9e637073"
      },
      "source": [
        "print('Before oversampling: \\n', Counter(y))"
      ],
      "execution_count": null,
      "outputs": [
        {
          "output_type": "stream",
          "name": "stdout",
          "text": [
            "Before oversampling: \n",
            " Counter({'American': 3250, 'Italian': 3250, 'Mexican': 2390, 'French': 1264, 'Asian': 1193, 'East_asian': 951, 'Korean': 799, 'Canadian': 774, 'Indian': 598, 'Western': 450, 'Chinese': 442, 'Southern_soulfood': 346, 'Portuguese': 341, 'Jewish': 320, 'Japanese': 320, 'Thai': 289, 'German': 289, 'Mediterranean': 289, 'Uk_ireland': 282, 'Scandinavian': 250, 'Central_southamerican': 241, 'Greek': 225, 'African': 215, 'Scottish': 204, 'Caribbean': 183, 'Cajun_creole': 146, 'Moroccan': 137, 'Southwestern': 108, 'South-america': 103, 'Vietnamese': 95, 'Irish': 86, 'Spanish': 75})\n"
          ]
        }
      ]
    },
    {
      "cell_type": "code",
      "metadata": {
        "colab": {
          "base_uri": "https://localhost:8080/"
        },
        "id": "Ab9JQy5zrnkK",
        "outputId": "e5bb1b0c-ea0c-4edb-ef26-30d66ec69d65"
      },
      "source": [
        "print('After oversampling: \\n', Counter(y_over))"
      ],
      "execution_count": null,
      "outputs": [
        {
          "output_type": "stream",
          "name": "stdout",
          "text": [
            "After oversampling: \n",
            " Counter({'Vietnamese': 3250, 'Indian': 3250, 'Portuguese': 3250, 'Jewish': 3250, 'French': 3250, 'Central_southamerican': 3250, 'Cajun_creole': 3250, 'Thai': 3250, 'Scandinavian': 3250, 'Greek': 3250, 'American': 3250, 'African': 3250, 'Italian': 3250, 'Irish': 3250, 'Mexican': 3250, 'Chinese': 3250, 'German': 3250, 'Mediterranean': 3250, 'Japanese': 3250, 'Moroccan': 3250, 'Southern_soulfood': 3250, 'Scottish': 3250, 'Asian': 3250, 'Southwestern': 3250, 'East_asian': 3250, 'Western': 3250, 'Korean': 3250, 'Canadian': 3250, 'Caribbean': 3250, 'Uk_ireland': 3250, 'South-america': 3250, 'Spanish': 3250})\n"
          ]
        }
      ]
    },
    {
      "cell_type": "code",
      "metadata": {
        "id": "dpoJHigUrnqT"
      },
      "source": [
        "from sklearn.model_selection import train_test_split\n",
        "from sklearn.metrics import accuracy_score, recall_score, precision_score, f1_score"
      ],
      "execution_count": null,
      "outputs": []
    },
    {
      "cell_type": "code",
      "metadata": {
        "id": "C4JS7tPsrnz-"
      },
      "source": [
        "# Creating the trianing set and test set\n",
        "\n",
        "X_train, X_test, y_train, y_test = train_test_split(X_over, y_over, test_size=0.2, random_state=10)"
      ],
      "execution_count": null,
      "outputs": []
    },
    {
      "cell_type": "code",
      "metadata": {
        "colab": {
          "base_uri": "https://localhost:8080/"
        },
        "id": "NNchlJDJrn6M",
        "outputId": "69bdec5e-5f13-465a-eff7-ff551b00ed28"
      },
      "source": [
        "df_encoded = refined_df.copy()\n",
        "\n",
        "new_dic = dict(zip(refined_df.Cuisine.unique(), range(len(refined_df.Cuisine.unique()))))\n",
        "for i in refined_df.Cuisine.unique():\n",
        "  df_encoded.replace(to_replace=i, value=new_dic.get(i), inplace=True)\n",
        "\n",
        "df_encoded.Cuisine.unique()"
      ],
      "execution_count": null,
      "outputs": [
        {
          "output_type": "execute_result",
          "data": {
            "text/plain": [
              "array([ 0,  1,  2,  3,  4,  5,  6,  7,  8,  9, 10, 11, 12, 13, 14, 15, 16,\n",
              "       17, 18, 19, 20, 21, 22, 23, 24, 25, 26, 27, 28, 29, 30, 31])"
            ]
          },
          "metadata": {},
          "execution_count": 78
        }
      ]
    },
    {
      "cell_type": "code",
      "metadata": {
        "id": "rb370DkNr4TJ"
      },
      "source": [
        "y_r = df_encoded.Cuisine\n",
        "x_r = df_encoded.drop('Cuisine', axis=1)"
      ],
      "execution_count": null,
      "outputs": []
    },
    {
      "cell_type": "code",
      "metadata": {
        "colab": {
          "base_uri": "https://localhost:8080/"
        },
        "id": "q5bUcVD9r4gm",
        "outputId": "795a106c-ebe3-454c-a5a5-ac8b617cd2fc"
      },
      "source": [
        "print(Counter(y_r))\n",
        "x_rover, y_rover = oversampler.fit_resample(x_r, y_r)\n",
        "\n",
        "print(Counter(y_rover))"
      ],
      "execution_count": null,
      "outputs": [
        {
          "output_type": "stream",
          "name": "stdout",
          "text": [
            "Counter({10: 3250, 12: 3250, 14: 2390, 4: 1264, 22: 1193, 24: 951, 26: 799, 27: 774, 1: 598, 25: 450, 15: 442, 20: 346, 2: 341, 3: 320, 18: 320, 7: 289, 16: 289, 17: 289, 29: 282, 8: 250, 5: 241, 9: 225, 11: 215, 21: 204, 28: 183, 6: 146, 19: 137, 23: 108, 30: 103, 0: 95, 13: 86, 31: 75})\n"
          ]
        },
        {
          "output_type": "stream",
          "name": "stderr",
          "text": [
            "/usr/local/lib/python3.7/dist-packages/sklearn/utils/deprecation.py:87: FutureWarning:\n",
            "\n",
            "Function safe_indexing is deprecated; safe_indexing is deprecated in version 0.22 and will be removed in version 0.24.\n",
            "\n"
          ]
        },
        {
          "output_type": "stream",
          "name": "stdout",
          "text": [
            "Counter({0: 3250, 1: 3250, 2: 3250, 3: 3250, 4: 3250, 5: 3250, 6: 3250, 7: 3250, 8: 3250, 9: 3250, 10: 3250, 11: 3250, 12: 3250, 13: 3250, 14: 3250, 15: 3250, 16: 3250, 17: 3250, 18: 3250, 19: 3250, 20: 3250, 21: 3250, 22: 3250, 23: 3250, 24: 3250, 25: 3250, 26: 3250, 27: 3250, 28: 3250, 29: 3250, 30: 3250, 31: 3250})\n"
          ]
        }
      ]
    },
    {
      "cell_type": "code",
      "metadata": {
        "id": "B5AHidjAsF9x"
      },
      "source": [
        "X_rtrain, X_rtest, y_rtrain, y_rtest = train_test_split(x_rover, y_rover, test_size=0.2, random_state=1)"
      ],
      "execution_count": null,
      "outputs": []
    },
    {
      "cell_type": "code",
      "metadata": {
        "id": "9dPZoSaJsGKq"
      },
      "source": [
        "from sklearn.ensemble import ExtraTreesClassifier"
      ],
      "execution_count": null,
      "outputs": []
    },
    {
      "cell_type": "code",
      "metadata": {
        "id": "vlwu2PZssGYC"
      },
      "source": [
        "# Creating the instance of the ExtraTreesClassifer\n",
        "\n",
        "xt = ExtraTreesClassifier(n_estimators=200, criterion='gini', random_state=5)"
      ],
      "execution_count": null,
      "outputs": []
    },
    {
      "cell_type": "code",
      "metadata": {
        "colab": {
          "base_uri": "https://localhost:8080/"
        },
        "id": "vI9oGs04wrT1",
        "outputId": "af2f6cfd-1b97-4f00-91ee-4c1e9b70fc2e"
      },
      "source": [
        "y_rtrain"
      ],
      "execution_count": null,
      "outputs": [
        {
          "output_type": "execute_result",
          "data": {
            "text/plain": [
              "array([ 0, 17, 14, ..., 10, 22, 30])"
            ]
          },
          "metadata": {},
          "execution_count": 84
        }
      ]
    },
    {
      "cell_type": "code",
      "metadata": {
        "colab": {
          "base_uri": "https://localhost:8080/"
        },
        "id": "4wS-gWEKsGfW",
        "outputId": "c2729725-f586-4bd8-afbe-6613064e1fa7"
      },
      "source": [
        "xt.fit(X_train, y_train)"
      ],
      "execution_count": null,
      "outputs": [
        {
          "output_type": "execute_result",
          "data": {
            "text/plain": [
              "ExtraTreesClassifier(bootstrap=False, ccp_alpha=0.0, class_weight=None,\n",
              "                     criterion='gini', max_depth=None, max_features='auto',\n",
              "                     max_leaf_nodes=None, max_samples=None,\n",
              "                     min_impurity_decrease=0.0, min_impurity_split=None,\n",
              "                     min_samples_leaf=1, min_samples_split=2,\n",
              "                     min_weight_fraction_leaf=0.0, n_estimators=200,\n",
              "                     n_jobs=None, oob_score=False, random_state=5, verbose=0,\n",
              "                     warm_start=False)"
            ]
          },
          "metadata": {},
          "execution_count": 85
        }
      ]
    },
    {
      "cell_type": "code",
      "metadata": {
        "id": "3pMv1wggvPqi"
      },
      "source": [
        "y_xtpred = xt.predict(X_test)\n",
        "y_txtpred = xt.predict(X_train)"
      ],
      "execution_count": null,
      "outputs": []
    },
    {
      "cell_type": "code",
      "metadata": {
        "colab": {
          "base_uri": "https://localhost:8080/"
        },
        "id": "cjnSHd9CvP1Z",
        "outputId": "61135b27-2d38-40a7-90ba-75f8ff8f4813"
      },
      "source": [
        "print('%s %.2f%%' % ('Test set:', accuracy_score(y_xtpred, y_test) * 100 ))\n",
        "print('%s %.2f%%' % ('Training set:', accuracy_score(y_txtpred, y_train) * 100))"
      ],
      "execution_count": null,
      "outputs": [
        {
          "output_type": "stream",
          "name": "stdout",
          "text": [
            "Test set: 88.56%\n",
            "Training set: 92.92%\n"
          ]
        }
      ]
    },
    {
      "cell_type": "code",
      "metadata": {
        "colab": {
          "base_uri": "https://localhost:8080/"
        },
        "id": "33X8JfmsvQNj",
        "outputId": "72c55bd3-98e3-4816-bc6f-9b7e088a0a17"
      },
      "source": [
        "print('% s %.3f' % ('f1_score is:', f1_score(y_xtpred, y_test, average='weighted')))"
      ],
      "execution_count": null,
      "outputs": [
        {
          "output_type": "stream",
          "name": "stdout",
          "text": [
            "f1_score is: 0.890\n"
          ]
        }
      ]
    },
    {
      "cell_type": "code",
      "metadata": {
        "colab": {
          "base_uri": "https://localhost:8080/"
        },
        "id": "3LqAmORCvVoI",
        "outputId": "d9a6ba02-fa03-41b9-e457-b45d99ab3c5e"
      },
      "source": [
        "print('%s %.3f' % ('Precision score is:', precision_score(y_xtpred, y_test, average='weighted')))"
      ],
      "execution_count": null,
      "outputs": [
        {
          "output_type": "stream",
          "name": "stdout",
          "text": [
            "Precision score is: 0.899\n"
          ]
        }
      ]
    },
    {
      "cell_type": "code",
      "metadata": {
        "colab": {
          "base_uri": "https://localhost:8080/"
        },
        "id": "_5ODqbsWvV3W",
        "outputId": "0a36bdc8-87da-48e9-facd-28311a6172f5"
      },
      "source": [
        "print('%s %.3f' % ('Recall score is:', recall_score(y_xtpred, y_test, average='weighted')))"
      ],
      "execution_count": null,
      "outputs": [
        {
          "output_type": "stream",
          "name": "stdout",
          "text": [
            "Recall score is: 0.886\n"
          ]
        }
      ]
    }
  ]
}